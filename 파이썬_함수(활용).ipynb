{
  "nbformat": 4,
  "nbformat_minor": 0,
  "metadata": {
    "colab": {
      "name": "파이썬-함수(활용).ipynb",
      "provenance": [],
      "authorship_tag": "ABX9TyOV7QoVsT1Ywt92P4VsXNOU",
      "include_colab_link": true
    },
    "kernelspec": {
      "name": "python3",
      "display_name": "Python 3"
    },
    "language_info": {
      "name": "python"
    }
  },
  "cells": [
    {
      "cell_type": "markdown",
      "metadata": {
        "id": "view-in-github",
        "colab_type": "text"
      },
      "source": [
        "<a href=\"https://colab.research.google.com/github/hyunjung930/sesac-web/blob/main/%ED%8C%8C%EC%9D%B4%EC%8D%AC_%ED%95%A8%EC%88%98(%ED%99%9C%EC%9A%A9).ipynb\" target=\"_parent\"><img src=\"https://colab.research.google.com/assets/colab-badge.svg\" alt=\"Open In Colab\"/></a>"
      ]
    },
    {
      "cell_type": "markdown",
      "source": [
        "# 함수를 활용했을 때의 장점"
      ],
      "metadata": {
        "id": "iJLDqKt-NHGk"
      }
    },
    {
      "cell_type": "markdown",
      "source": [
        "n개의 정수를 입력받아 합계와 평균을 출력하자."
      ],
      "metadata": {
        "id": "8vn5bQs5NODQ"
      }
    },
    {
      "cell_type": "code",
      "source": [
        "#함수를 이용해서 만들기\n",
        "#n개의 정수를 입력받아서 반환해주는, n을 입력인자로 주기\n",
        "n = int(input(\"입력 받을 정수 개수: \"))\n",
        "\n",
        "numbers=[]\n",
        "for i in range(1, n+1): \n",
        "  number = int(input(f\"{i+1}번째 : \"))\n",
        "  numbers.append(number)\n",
        "\n",
        "s = 0\n",
        "for number in numbers:\n",
        "  s+=number\n",
        "\n",
        "print(f\"합계:{s} 평균: {s/len(numbers):.2f}\" )\n"
      ],
      "metadata": {
        "colab": {
          "base_uri": "https://localhost:8080/"
        },
        "id": "fKJVRgXbNKdg",
        "outputId": "9d0d46db-0961-4153-9535-b3b78aca4744"
      },
      "execution_count": 27,
      "outputs": [
        {
          "output_type": "stream",
          "name": "stdout",
          "text": [
            "입력 받을 정수 개수: 3\n",
            "2번째 : 10\n",
            "3번째 : 20\n",
            "4번째 : 34\n",
            "합계:64 평균: 21.33\n"
          ]
        }
      ]
    },
    {
      "cell_type": "code",
      "source": [
        "def input_numbers(n):\n",
        "  numbers=[]\n",
        "  for i in range(n):\n",
        "    number = int(input(f\"{i+1}번째 : \"))\n",
        "    numbers.append(number)\n",
        "    return numbers"
      ],
      "metadata": {
        "id": "rX7Jp-AaOJdW"
      },
      "execution_count": 28,
      "outputs": []
    },
    {
      "cell_type": "code",
      "source": [
        "#합계를 구하는 함수\n",
        "def get_sum(numbers):\n",
        "  s = 0\n",
        "  for number in numbers:\n",
        "    s+=number\n",
        "  return s"
      ],
      "metadata": {
        "id": "u1M6_VRPOgjT"
      },
      "execution_count": 29,
      "outputs": []
    },
    {
      "cell_type": "code",
      "source": [
        "#함수를 활용한다\n",
        "n = int(input(\"입력 받을 정수 개수 : \"))\n",
        "numbers=input_numbers(n)\n",
        "s = get_sum(numbers)\n",
        "print(f\"합계:{s} 평균:{s/len(numbers):.2f}\")"
      ],
      "metadata": {
        "colab": {
          "base_uri": "https://localhost:8080/"
        },
        "id": "sbZqm9EmOpuh",
        "outputId": "661a1f7c-2bfb-4c95-cd42-2735ef4376ad"
      },
      "execution_count": 31,
      "outputs": [
        {
          "output_type": "stream",
          "name": "stdout",
          "text": [
            "입력 받을 정수 개수 : 3\n",
            "1번째 : 10\n",
            "합계:10 평균:10.00\n"
          ]
        }
      ]
    },
    {
      "cell_type": "markdown",
      "source": [
        "#팁\n",
        "\n",
        "하드 코딩과 소프트 코딩"
      ],
      "metadata": {
        "id": "vkz3qcraPxMu"
      }
    },
    {
      "cell_type": "code",
      "source": [
        "# 파이를 3.14로 하드 코딩\n",
        "def get_circle_area(radius): # 원의 넓이 구하기\n",
        "  return 3.14*radius**2"
      ],
      "metadata": {
        "id": "s7olP2RnP9Tp"
      },
      "execution_count": 36,
      "outputs": []
    },
    {
      "cell_type": "code",
      "source": [
        "print(get_circle_area(1))"
      ],
      "metadata": {
        "colab": {
          "base_uri": "https://localhost:8080/"
        },
        "id": "_MUKsgryQM1d",
        "outputId": "0e6357b8-79b4-463f-f02f-a12ac3248c1a"
      },
      "execution_count": 37,
      "outputs": [
        {
          "output_type": "stream",
          "name": "stdout",
          "text": [
            "3.14\n"
          ]
        }
      ]
    },
    {
      "cell_type": "code",
      "source": [
        "# 상수를 이용한 소프트코딩\n",
        "PI = 3.14\n",
        "def get_circle_area2(radius): # 원의 넓이 구하기\n",
        "  return PI*radius**2"
      ],
      "metadata": {
        "id": "SbnhZiL9QbdQ"
      },
      "execution_count": 39,
      "outputs": []
    },
    {
      "cell_type": "code",
      "source": [
        "print(get_circle_area2(1))"
      ],
      "metadata": {
        "colab": {
          "base_uri": "https://localhost:8080/"
        },
        "id": "Ycxbw5POQkHp",
        "outputId": "5d2af964-ad43-4286-ffeb-c52e9c3a504e"
      },
      "execution_count": 40,
      "outputs": [
        {
          "output_type": "stream",
          "name": "stdout",
          "text": [
            "3.14\n"
          ]
        }
      ]
    },
    {
      "cell_type": "code",
      "source": [
        "# 구문이 있다면 html로 작성하여 출력\n",
        "s1 =\"hello\"\n",
        "s2 =\"yahoo\"\n",
        "print(\"<p>\",s1,\"<p>\")\n",
        "print(\"<p>\",s2,\"<p>\")"
      ],
      "metadata": {
        "colab": {
          "base_uri": "https://localhost:8080/"
        },
        "id": "tIvUlejMRQcJ",
        "outputId": "a91050b8-43b6-4f0a-ea9b-8523d02f8b7e"
      },
      "execution_count": 41,
      "outputs": [
        {
          "output_type": "stream",
          "name": "stdout",
          "text": [
            "<p> hello <p>\n",
            "<p> yahoo <p>\n"
          ]
        }
      ]
    },
    {
      "cell_type": "code",
      "source": [
        "def make_ptag(s):\n",
        "  return str.format(\"<p>{0}<p>\",s)\n",
        "print(make_ptag(s1))\n",
        "print(make_ptag(s2))"
      ],
      "metadata": {
        "colab": {
          "base_uri": "https://localhost:8080/"
        },
        "id": "kifdjYeVRgKO",
        "outputId": "ba7637f0-0fb9-4ffa-fb6a-2d141cfcb65c"
      },
      "execution_count": 42,
      "outputs": [
        {
          "output_type": "stream",
          "name": "stdout",
          "text": [
            "<p>hello<p>\n",
            "<p>yahoo<p>\n"
          ]
        }
      ]
    },
    {
      "cell_type": "markdown",
      "source": [
        "# 재귀함수\n",
        "\n",
        "자기 자신을 호출하여 문제를 해결하는 함수\n",
        "\n",
        "1 1 2 3 5 8 13...\n",
        "\n",
        "F(1) = F(2) = 1\n",
        "\n",
        "F(n) = F(n-1)+F(n-2)\n",
        "단, n은 자연수"
      ],
      "metadata": {
        "id": "soykxuff8m0-"
      }
    },
    {
      "cell_type": "code",
      "source": [
        "cnt = 0\n",
        "def fibonacci(n):   # 재귀함수를 만들 때 탈출 조건을 명시해라\n",
        "  global cnt # 앞으로 이 함수에서 cnt는 함수 외부에 있는 전역 변수 cnt를 의미합니다.\n",
        "  cnt +=1 # 이 함수가 몇번 호출하는지 카운팅\n",
        "  if(n<0):\n",
        "    return 0\n",
        "  if(n==1) or (n==2):\n",
        "   return 1\n",
        "  return fibonacci(n-1)+fibonacci(n-2)"
      ],
      "metadata": {
        "id": "yFxeEWst9XPk"
      },
      "execution_count": 13,
      "outputs": []
    },
    {
      "cell_type": "code",
      "source": [
        "fibonacci(40)\n",
        "print(cnt)"
      ],
      "metadata": {
        "colab": {
          "base_uri": "https://localhost:8080/"
        },
        "id": "wOGT5q58C7KG",
        "outputId": "ae952a54-7bb3-40a7-a9d0-6fcebe617505"
      },
      "execution_count": 14,
      "outputs": [
        {
          "output_type": "stream",
          "name": "stdout",
          "text": [
            "204668309\n"
          ]
        }
      ]
    },
    {
      "cell_type": "code",
      "source": [
        "re = fibonacci(3)\n",
        "print(f\"fibonacci({3}):{re}\")\n",
        "re = fibonacci(0)\n",
        "print(f\"fibonacci({0}):{re}\")\n",
        "\n",
        "for i in range(1, 20):\n",
        "  re = fibonacci(i)\n",
        "  print(re, end=' ')"
      ],
      "metadata": {
        "colab": {
          "base_uri": "https://localhost:8080/"
        },
        "id": "taB9Agef9exS",
        "outputId": "76555835-2ef3-4122-fa2e-7c6b0adba51f"
      },
      "execution_count": 6,
      "outputs": [
        {
          "output_type": "stream",
          "name": "stdout",
          "text": [
            "fibonacci(3):2\n",
            "fibonacci(0):0\n",
            "1 1 2 3 5 8 13 21 34 55 89 144 233 377 610 987 1597 2584 4181 "
          ]
        }
      ]
    },
    {
      "cell_type": "markdown",
      "source": [
        "# 하노이 타워\n",
        "\n",
        "n개의 돌을 A에서 C로 옮기시오(B를 이용)\n",
        "\n",
        "1번에 1개의 돌을 옮길 수 있다.\n",
        "\n",
        "큰 돌위에 작은 돌을 올릴 수 있다."
      ],
      "metadata": {
        "id": "4nm8xd0YAVX2"
      }
    },
    {
      "cell_type": "code",
      "source": [
        "def hanoi(a,b,c,n):\n",
        "  if n==0:\n",
        "    return\n",
        "  hanoi(a,c,b,n-1) # A에 있는 n-1개의 돌을 B로 옮겨라(C이용)\n",
        "  print(f'{a} ->{c}') # A에 있는 1개의 돌을 C로 옮겨라\n",
        "  hanoi(b,a,c,n-1) #B에 있는 n-1개의 돌을 C로 옮겨라(A이용)"
      ],
      "metadata": {
        "id": "FTTo1li5Agow"
      },
      "execution_count": 8,
      "outputs": []
    },
    {
      "cell_type": "code",
      "source": [
        "hanoi('a','b','c',3)"
      ],
      "metadata": {
        "colab": {
          "base_uri": "https://localhost:8080/"
        },
        "id": "05DHyKT8BCQx",
        "outputId": "dd01472f-5d20-4a81-a4cd-3c29cc6cc081"
      },
      "execution_count": 10,
      "outputs": [
        {
          "output_type": "stream",
          "name": "stdout",
          "text": [
            "a ->c\n",
            "a ->b\n",
            "c ->b\n",
            "a ->c\n",
            "b ->a\n",
            "b ->c\n",
            "a ->c\n"
          ]
        }
      ]
    },
    {
      "cell_type": "markdown",
      "source": [
        "#동적 프로그래밍(Dnaymic Programming)\n",
        "\n",
        "경험한 정보를 이용하여 문제를 해결하는 최적화 기법"
      ],
      "metadata": {
        "id": "kpKUXr4kD_fs"
      }
    },
    {
      "cell_type": "code",
      "source": [
        "cnt2 = 0\n",
        "answer = [0,1,1]\n",
        "def fibonacci2(n):\n",
        "  global cnt2\n",
        "  cnt2 +=1\n",
        "  if len(answer) > n:\n",
        "    return answer[n]\n",
        "  re = fibonacci2(n-1) + fibonacci2(n-2)\n",
        "  answer.append(re)\n",
        "  return re"
      ],
      "metadata": {
        "id": "WGX7rMzUEIwG"
      },
      "execution_count": 21,
      "outputs": []
    },
    {
      "cell_type": "code",
      "source": [
        "answer = [0,1,1]\n",
        "def fibonacci2(n):\n",
        "  global cnt2\n",
        "  cnt2 +=1\n",
        "  if len(answer) > n:\n",
        "    return answer[n]\n",
        "  re = fibonacci2(n-1) + fibonacci2(n-2)\n",
        "  answer.append(re)\n",
        "  return re"
      ],
      "metadata": {
        "id": "G-8BYUXzLkj3"
      },
      "execution_count": null,
      "outputs": []
    },
    {
      "cell_type": "code",
      "source": [
        "#fibonacci2(40)\n",
        "#print(cnt2)"
      ],
      "metadata": {
        "colab": {
          "base_uri": "https://localhost:8080/"
        },
        "id": "FSQpOgnmF2i8",
        "outputId": "575466d0-3110-4ae1-f66f-309eb88ad83c"
      },
      "execution_count": 22,
      "outputs": [
        {
          "output_type": "stream",
          "name": "stdout",
          "text": [
            "77\n"
          ]
        }
      ]
    },
    {
      "cell_type": "code",
      "source": [
        "for i in range(1,20):\n",
        "  re = fibonacci2(i)\n",
        "  print(re, end=' ')"
      ],
      "metadata": {
        "colab": {
          "base_uri": "https://localhost:8080/"
        },
        "id": "rRNjM8SpFelw",
        "outputId": "ee438224-b6cb-41ca-8e45-5c0381e76c29"
      },
      "execution_count": 20,
      "outputs": [
        {
          "output_type": "stream",
          "name": "stdout",
          "text": [
            "1 1 2 3 5 8 13 21 34 55 89 144 233 377 610 987 1597 2584 4181 "
          ]
        }
      ]
    },
    {
      "cell_type": "code",
      "source": [
        "import time\n",
        "def test_case(n):\n",
        "  print(\"test case: \",n)\n",
        "  start = time.time()\n",
        "  fibonacci(n)\n",
        "  end = time.time()\n",
        "  print(\"fibonacci:\",end-start)\n",
        "  start2 =time.time()\n",
        "  fibonacci2(n)\n",
        "  end2 = time.time()\n",
        "  print(\"fibonacci2:\", end2-start2)\n",
        "  print()"
      ],
      "metadata": {
        "id": "CGG5_FFsMEnP"
      },
      "execution_count": 23,
      "outputs": []
    },
    {
      "cell_type": "code",
      "source": [
        "for i in range(1,30):\n",
        "  test_case(i)"
      ],
      "metadata": {
        "colab": {
          "base_uri": "https://localhost:8080/"
        },
        "id": "7zNC97krME30",
        "outputId": "0ffe0bb9-960e-443f-fba3-4c5fd97dde81"
      },
      "execution_count": 25,
      "outputs": [
        {
          "output_type": "stream",
          "name": "stdout",
          "text": [
            "test case:  1\n",
            "fibonacci: 2.6226043701171875e-06\n",
            "fibonacci2: 3.5762786865234375e-06\n",
            "\n",
            "test case:  2\n",
            "fibonacci: 2.1457672119140625e-06\n",
            "fibonacci2: 1.430511474609375e-06\n",
            "\n",
            "test case:  3\n",
            "fibonacci: 3.0994415283203125e-06\n",
            "fibonacci2: 1.430511474609375e-06\n",
            "\n",
            "test case:  4\n",
            "fibonacci: 4.0531158447265625e-06\n",
            "fibonacci2: 1.6689300537109375e-06\n",
            "\n",
            "test case:  5\n",
            "fibonacci: 5.245208740234375e-06\n",
            "fibonacci2: 9.5367431640625e-07\n",
            "\n",
            "test case:  6\n",
            "fibonacci: 1.0967254638671875e-05\n",
            "fibonacci2: 2.86102294921875e-06\n",
            "\n",
            "test case:  7\n",
            "fibonacci: 1.2636184692382812e-05\n",
            "fibonacci2: 1.9073486328125e-06\n",
            "\n",
            "test case:  8\n",
            "fibonacci: 2.193450927734375e-05\n",
            "fibonacci2: 1.430511474609375e-06\n",
            "\n",
            "test case:  9\n",
            "fibonacci: 3.4809112548828125e-05\n",
            "fibonacci2: 1.430511474609375e-06\n",
            "\n",
            "test case:  10\n",
            "fibonacci: 5.435943603515625e-05\n",
            "fibonacci2: 1.1920928955078125e-06\n",
            "\n",
            "test case:  11\n",
            "fibonacci: 7.915496826171875e-05\n",
            "fibonacci2: 1.1920928955078125e-06\n",
            "\n",
            "test case:  12\n",
            "fibonacci: 0.00010418891906738281\n",
            "fibonacci2: 1.1920928955078125e-06\n",
            "\n",
            "test case:  13\n",
            "fibonacci: 0.0001685619354248047\n",
            "fibonacci2: 1.430511474609375e-06\n",
            "\n",
            "test case:  14\n",
            "fibonacci: 0.00022602081298828125\n",
            "fibonacci2: 1.1920928955078125e-06\n",
            "\n",
            "test case:  15\n",
            "fibonacci: 0.00033736228942871094\n",
            "fibonacci2: 1.1920928955078125e-06\n",
            "\n",
            "test case:  16\n",
            "fibonacci: 0.0006654262542724609\n",
            "fibonacci2: 3.337860107421875e-06\n",
            "\n",
            "test case:  17\n",
            "fibonacci: 0.0010180473327636719\n",
            "fibonacci2: 2.384185791015625e-06\n",
            "\n",
            "test case:  18\n",
            "fibonacci: 0.0022521018981933594\n",
            "fibonacci2: 2.86102294921875e-06\n",
            "\n",
            "test case:  19\n",
            "fibonacci: 0.00462794303894043\n",
            "fibonacci2: 2.86102294921875e-06\n",
            "\n",
            "test case:  20\n",
            "fibonacci: 0.0034847259521484375\n",
            "fibonacci2: 3.0994415283203125e-06\n",
            "\n",
            "test case:  21\n",
            "fibonacci: 0.006850004196166992\n",
            "fibonacci2: 2.384185791015625e-06\n",
            "\n",
            "test case:  22\n",
            "fibonacci: 0.012136220932006836\n",
            "fibonacci2: 2.6226043701171875e-06\n",
            "\n",
            "test case:  23\n",
            "fibonacci: 0.01948690414428711\n",
            "fibonacci2: 3.5762786865234375e-06\n",
            "\n",
            "test case:  24\n",
            "fibonacci: 0.04400992393493652\n",
            "fibonacci2: 4.0531158447265625e-06\n",
            "\n",
            "test case:  25\n",
            "fibonacci: 0.04061317443847656\n",
            "fibonacci2: 4.291534423828125e-06\n",
            "\n",
            "test case:  26\n",
            "fibonacci: 0.07895970344543457\n",
            "fibonacci2: 4.5299530029296875e-06\n",
            "\n",
            "test case:  27\n",
            "fibonacci: 0.11337614059448242\n",
            "fibonacci2: 5.4836273193359375e-06\n",
            "\n",
            "test case:  28\n",
            "fibonacci: 0.16593098640441895\n",
            "fibonacci2: 2.384185791015625e-06\n",
            "\n",
            "test case:  29\n",
            "fibonacci: 0.27262425422668457\n",
            "fibonacci2: 3.337860107421875e-06\n",
            "\n"
          ]
        }
      ]
    }
  ]
}