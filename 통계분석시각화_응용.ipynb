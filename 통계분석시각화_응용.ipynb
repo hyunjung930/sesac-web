{
  "nbformat": 4,
  "nbformat_minor": 0,
  "metadata": {
    "colab": {
      "name": "통계분석시각화-응용.ipynb",
      "provenance": [],
      "collapsed_sections": [],
      "mount_file_id": "18R2NMLEgXzL6ehmHII-aJVXktf9H-B0L",
      "authorship_tag": "ABX9TyMN9xqa/k0EvWy3dv5oS0Zg",
      "include_colab_link": true
    },
    "kernelspec": {
      "name": "python3",
      "display_name": "Python 3"
    },
    "language_info": {
      "name": "python"
    }
  },
  "cells": [
    {
      "cell_type": "markdown",
      "metadata": {
        "id": "view-in-github",
        "colab_type": "text"
      },
      "source": [
        "<a href=\"https://colab.research.google.com/github/hyunjung930/sesac-web/blob/main/%ED%86%B5%EA%B3%84%EB%B6%84%EC%84%9D%EC%8B%9C%EA%B0%81%ED%99%94_%EC%9D%91%EC%9A%A9.ipynb\" target=\"_parent\"><img src=\"https://colab.research.google.com/assets/colab-badge.svg\" alt=\"Open In Colab\"/></a>"
      ]
    },
    {
      "cell_type": "markdown",
      "source": [
        "파이참 설치 및 모듈 설치 방법\n",
        "json"
      ],
      "metadata": {
        "id": "fRCRlCblJNuy"
      }
    },
    {
      "cell_type": "code",
      "execution_count": 26,
      "metadata": {
        "id": "QbrUSK6nFOVs"
      },
      "outputs": [],
      "source": [
        "import urllib.request"
      ]
    },
    {
      "cell_type": "code",
      "source": [
        "url = 'https://dapi.kakao.com/v3/search/book' #OpenAPI 서비스 제공URL\n",
        "target_param = \"target=title\" #전달 인자\n",
        "page_param = \"page=2\"         #전달 인자\n",
        "query_in = input(\"검색 질의:\")\n",
        "query_param = \"query=\"+urllib.parse.quote(query_in) #utf-8로 인코딩, 전달인자\n",
        "\n",
        "query_str = url+'?'+target_param+'&'+query_param+'&'+page_param #쿼리문자열\n",
        "\n",
        "print(query_str)\n",
        "\n",
        "request = urllib.request.Request(query_str) #서비스 요청에 사용할 개체를 생성\n",
        "request.add_header(\"Authorization\",\"KakaoAK 본인키\") #자신이 발급받은 키로 수정\n",
        "response = urllib.request.urlopen(request) #웹 서버에 요청\n",
        "res = response.read().decode('utf-8')\n",
        "print(res)"
      ],
      "metadata": {
        "colab": {
          "base_uri": "https://localhost:8080/",
          "height": 0
        },
        "id": "JKeXeDvWJYk-",
        "outputId": "60dd3969-fda3-4513-bc31-8f3459139bd9"
      },
      "execution_count": 27,
      "outputs": [
        {
          "output_type": "stream",
          "name": "stdout",
          "text": [
            "검색 질의:파이썬\n",
            "https://dapi.kakao.com/v3/search/book?target=title&query=%ED%8C%8C%EC%9D%B4%EC%8D%AC&page=2\n",
            "{\"documents\":[{\"authors\":[\"김명호\"],\"contents\":\"전 세계적으로 유명한 구글(Google)이 자신의 많은 서비스를 파이썬으로 제공하고 있습니다. 이것은 구글의 뛰어난 서비스를 개인의 비즈니스에 쉽게 이용할 수 있다는 의미입니다. 이러한 발전에 맞춰 파이썬 문법의 기초를 쉽게 이해할 수 있도록 이 책에서는 친절한 도해와 함께 코딩 개념을 설명합니다. 파이썬을 처음 배우는 학생부터 비전공자, 코딩 실력을 높이려는 직장인까지 기본 문법부터 예제를 통한 활용 실력을 높여 파이썬 프로그래밍을 마스터할 수 있습니다\",\"datetime\":\"2019-05-25T00:00:00.000+09:00\",\"isbn\":\"1186179368 9791186179369\",\"price\":18000,\"publisher\":\"에듀웨이\",\"sale_price\":16200,\"status\":\"정상판매\",\"thumbnail\":\"https://search1.kakaocdn.net/thumb/R120x174.q85/?fname=http%3A%2F%2Ft1.daumcdn.net%2Flbook%2Fimage%2F4943717%3Ftimestamp%3D20220216194127\",\"title\":\"파이썬(한 권으로 끝내는)\",\"translators\":[],\"url\":\"https://search.daum.net/search?w=bookpage\\u0026bookId=4943717\\u0026q=%ED%8C%8C%EC%9D%B4%EC%8D%AC%28%ED%95%9C+%EA%B6%8C%EC%9C%BC%EB%A1%9C+%EB%81%9D%EB%82%B4%EB%8A%94%29\"},{\"authors\":[\"정동균\"],\"contents\":\"초등 고학년부터 대학생, 어르신까지 ‘코딩할 줄 아는 사람’이 되도록 도와주는 책! 먼저 읽은 공대생 2명이 “대학교 1학년 때 이 책 봤으면 훨씬 좋았겠다!”라고 외친 바로 그 책! IT 분야 베스트셀러 《Do it! 첫 코딩》이 파이썬 버전으로 출간 되었습니다. ‘공대생도 놀란 책’에 걸맞은 147가지 비유와 그림으로 디지털 시대에 알아야 할 프로그래밍의 56가지 핵심 개념을 배워 보세요. 첫 번째 책 《Do it! 첫 코딩》 자바 버전보다 80쪽\",\"datetime\":\"2021-01-15T00:00:00.000+09:00\",\"isbn\":\"1163032158 9791163032151\",\"price\":18000,\"publisher\":\"이지스퍼블리싱\",\"sale_price\":16200,\"status\":\"정상판매\",\"thumbnail\":\"https://search1.kakaocdn.net/thumb/R120x174.q85/?fname=http%3A%2F%2Ft1.daumcdn.net%2Flbook%2Fimage%2F5557612%3Ftimestamp%3D20220228155454\",\"title\":\"Do it! 첫 코딩 with 파이썬\",\"translators\":[],\"url\":\"https://search.daum.net/search?w=bookpage\\u0026bookId=5557612\\u0026q=Do+it%21+%EC%B2%AB+%EC%BD%94%EB%94%A9+with+%ED%8C%8C%EC%9D%B4%EC%8D%AC\"},{\"authors\":[\"우재남\"],\"contents\":\"일단 따라하면 바로 이해되는 파이썬 프로그래밍 파이썬을 처음 접하는 독자를 대상으로 일대일 수업처럼 자세히 설명한 책입니다. 꼭 알아야 할 핵심 개념은 기본 예제로 최대한 쉽게 설명했으며, 중요한 내용은 응용 예제, 퀴즈, 셀프 스터디, 예제 모음으로 한번 더 복습할 수 있습니다. 일단 코드를 입력하고 실행하다 보면 어느새 파이썬 프로그래밍과 친숙해져 있을 것입니다! ※ 본 도서는 대학 강의용 교재로 개발되었으므로 연습문제 해답은 제공하지 않습니다\",\"datetime\":\"2022-01-03T00:00:00.000+09:00\",\"isbn\":\"1156645743 9791156645740\",\"price\":25000,\"publisher\":\"한빛아카데미\",\"sale_price\":24250,\"status\":\"정상판매\",\"thumbnail\":\"https://search1.kakaocdn.net/thumb/R120x174.q85/?fname=http%3A%2F%2Ft1.daumcdn.net%2Flbook%2Fimage%2F5924837%3Ftimestamp%3D20220228162831\",\"title\":\"파이썬 for Beginner(3판)\",\"translators\":[],\"url\":\"https://search.daum.net/search?w=bookpage\\u0026bookId=5924837\\u0026q=%ED%8C%8C%EC%9D%B4%EC%8D%AC+for+Beginner%283%ED%8C%90%29\"},{\"authors\":[\"장문철\"],\"contents\":\"파이썬 기초 문법 떼고 자동화, 크롤링, 이미지처리, 데이터분석, 웹페이지, GUI 프로그램, 게임, 인공지능 관련 40개 프로그램 직접 파이썬 코딩하며 만들어 본다.  이 책은 파이썬 기초 문법을 익힌 후 총 40개의 주제별 프로그램을 직접 코딩하며 만들어볼 수 있도록 구성하였다.\",\"datetime\":\"2022-02-28T00:00:00.000+09:00\",\"isbn\":\"1185553932 9791185553931\",\"price\":18800,\"publisher\":\"앤써북\",\"sale_price\":16920,\"status\":\"정상판매\",\"thumbnail\":\"https://search1.kakaocdn.net/thumb/R120x174.q85/?fname=http%3A%2F%2Ft1.daumcdn.net%2Flbook%2Fimage%2F6010915%3Ftimestamp%3D20220228162140\",\"title\":\"파이썬과 40개의 작품들(만들면서 배우는)\",\"translators\":[],\"url\":\"https://search.daum.net/search?w=bookpage\\u0026bookId=6010915\\u0026q=%ED%8C%8C%EC%9D%B4%EC%8D%AC%EA%B3%BC+40%EA%B0%9C%EC%9D%98+%EC%9E%91%ED%92%88%EB%93%A4%28%EB%A7%8C%EB%93%A4%EB%A9%B4%EC%84%9C+%EB%B0%B0%EC%9A%B0%EB%8A%94%29\"},{\"authors\":[\"박상언\",\"강주영\",\"정석찬\"],\"contents\":\"텍스트 마이닝에는 자연어 처리, 통계, 딥러닝 기법에 대해 많은 지식이 필요하지만, 이론적인 내용에 얽매이다 보면 정작 구현은 너무 먼 이야기가 되어 버리기 쉽다.  이 책에서는 실무에 바로 적용할 수 있는 실전적인 예제를 중심으로 텍스트 마이닝을 설명한다. 특히 초보자를 위해 텍스트 전처리 과정의 개념과 다양하고 상세한 활용방법을 기초부터 설명한다. 문서 분류와 감성 분석 같은 텍스트 마이닝 작업을 대상으로 다양한 머신러닝 기법을 사용하는 예\",\"datetime\":\"2022-02-18T00:00:00.000+09:00\",\"isbn\":\"1158393008 9791158393007\",\"price\":28000,\"publisher\":\"위키북스\",\"sale_price\":25200,\"status\":\"정상판매\",\"thumbnail\":\"https://search1.kakaocdn.net/thumb/R120x174.q85/?fname=http%3A%2F%2Ft1.daumcdn.net%2Flbook%2Fimage%2F5983927%3Ftimestamp%3D20220228161854\",\"title\":\"파이썬 텍스트 마이닝 완벽 가이드(위키북스 데이터 사이언스 시리즈 77)\",\"translators\":[],\"url\":\"https://search.daum.net/search?w=bookpage\\u0026bookId=5983927\\u0026q=%ED%8C%8C%EC%9D%B4%EC%8D%AC+%ED%85%8D%EC%8A%A4%ED%8A%B8+%EB%A7%88%EC%9D%B4%EB%8B%9D+%EC%99%84%EB%B2%BD+%EA%B0%80%EC%9D%B4%EB%93%9C%28%EC%9C%84%ED%82%A4%EB%B6%81%EC%8A%A4+%EB%8D%B0%EC%9D%B4%ED%84%B0+%EC%82%AC%EC%9D%B4%EC%96%B8%EC%8A%A4+%EC%8B%9C%EB%A6%AC%EC%A6%88+77%29\"},{\"authors\":[\"유대표\",\"조대표\"],\"contents\":\"판다스의 문법을 사용하면 파이썬 기초 문법만을 사용하는 것보다 코드를 더욱 파이썬스럽게 (Pythonic) 작성할 수 있습니다. 다만 데이터의 특성에 따라 사용하는 판다스 기능과 전처리의 방식 이 크게 달라지기 때문에 많은 연습이 필요합니다. 독자 입장에서 본인들이 관심 있는 데이터로 판다 스를 공부할 때 가장 재미있고 빠르게 판다스를 배울 수 있다고 저자들은 확신합니다. 그래서 본 도 서는 많은 직장인들이 관심 있는 금융 데이터로 판다스의 문법을\",\"datetime\":\"2022-03-02T00:00:00.000+09:00\",\"isbn\":\"1196608822 9791196608828\",\"price\":30000,\"publisher\":\"파이스탁\",\"sale_price\":27000,\"status\":\"정상판매\",\"thumbnail\":\"https://search1.kakaocdn.net/thumb/R120x174.q85/?fname=http%3A%2F%2Ft1.daumcdn.net%2Flbook%2Fimage%2F6013800%3Ftimestamp%3D20220228164416\",\"title\":\"금융 데이터 분석을 위한 파이썬 판다스\",\"translators\":[],\"url\":\"https://search.daum.net/search?w=bookpage\\u0026bookId=6013800\\u0026q=%EA%B8%88%EC%9C%B5+%EB%8D%B0%EC%9D%B4%ED%84%B0+%EB%B6%84%EC%84%9D%EC%9D%84+%EC%9C%84%ED%95%9C+%ED%8C%8C%EC%9D%B4%EC%8D%AC+%ED%8C%90%EB%8B%A4%EC%8A%A4\"},{\"authors\":[\"김영천\",\"류문형\",\"안일열\"],\"contents\":\"▶ 이 책은 Python(파이썬)을 다룬 이론서입니다. Python(파이썬)의 기초적이고 전반적인 내용을 학습할 수 있습니다.\",\"datetime\":\"2020-02-25T00:00:00.000+09:00\",\"isbn\":\"8970187995 9788970187990\",\"price\":25000,\"publisher\":\"기한재\",\"sale_price\":22500,\"status\":\"정상판매\",\"thumbnail\":\"https://search1.kakaocdn.net/thumb/R120x174.q85/?fname=http%3A%2F%2Ft1.daumcdn.net%2Flbook%2Fimage%2F5261509%3Ftimestamp%3D20220216173227\",\"title\":\"파이썬\",\"translators\":[],\"url\":\"https://search.daum.net/search?w=bookpage\\u0026bookId=5261509\\u0026q=%ED%8C%8C%EC%9D%B4%EC%8D%AC\"},{\"authors\":[\"한선관\",\"김태령\"],\"contents\":\"이 책은 지금까지 경험하지 못한 코딩 교육의 진수를 보여준다. “코딩 교육이 가야 할 방향은 컴퓨팅 사고력을 높이는 것이다.”라고 이 책의 저자들이 말하듯, “디지털 시대에 적합한 창의력과 문제해결력을 기르기 위한 코딩의 기초부터 응용까지 컴퓨터 코드를 작성하는 것은 물론이고, 알고리즘 학습을 통한 컴퓨팅 사고력을 완전 정복한다.\",\"datetime\":\"2019-02-28T00:00:00.000+09:00\",\"isbn\":\"8970509720 9788970509723\",\"price\":29000,\"publisher\":\"생능출판\",\"sale_price\":26100,\"status\":\"정상판매\",\"thumbnail\":\"https://search1.kakaocdn.net/thumb/R120x174.q85/?fname=http%3A%2F%2Ft1.daumcdn.net%2Flbook%2Fimage%2F4888715%3Ftimestamp%3D20220206162841\",\"title\":\"파이썬(컴퓨팅 사고를 위한)\",\"translators\":[],\"url\":\"https://search.daum.net/search?w=bookpage\\u0026bookId=4888715\\u0026q=%ED%8C%8C%EC%9D%B4%EC%8D%AC%28%EC%BB%B4%ED%93%A8%ED%8C%85+%EC%82%AC%EA%B3%A0%EB%A5%BC+%EC%9C%84%ED%95%9C%29\"},{\"authors\":[\"GIL’s LAB\"],\"contents\":\"《손에 잡히는 퀀트 투자 with 파이썬》은 파이썬과 데이터 분석이 익숙하지 않은 분들도 퀀트 투자 전략을 검증하고 수립할 수 있도록 GIL's LAB(https://gils-lab.tistory.com/)에서 다룬 내용을 체계적으로 정리했습니다. 이 책을 읽고 나면 파이썬과 데이터 분석이 처음인 독자도 퀀트 전략을 검증하고 수립할 수 있으리라 자신합니다.\",\"datetime\":\"2022-02-22T00:00:00.000+09:00\",\"isbn\":\"115839313X 9791158393137\",\"price\":32000,\"publisher\":\"위키북스\",\"sale_price\":28800,\"status\":\"정상판매\",\"thumbnail\":\"https://search1.kakaocdn.net/thumb/R120x174.q85/?fname=http%3A%2F%2Ft1.daumcdn.net%2Flbook%2Fimage%2F5983375%3Ftimestamp%3D20220228155424\",\"title\":\"손에 잡히는 퀀트 투자 with 파이썬(위키북스 데이터 사이언스 시리즈 78)\",\"translators\":[],\"url\":\"https://search.daum.net/search?w=bookpage\\u0026bookId=5983375\\u0026q=%EC%86%90%EC%97%90+%EC%9E%A1%ED%9E%88%EB%8A%94+%ED%80%80%ED%8A%B8+%ED%88%AC%EC%9E%90+with+%ED%8C%8C%EC%9D%B4%EC%8D%AC%28%EC%9C%84%ED%82%A4%EB%B6%81%EC%8A%A4+%EB%8D%B0%EC%9D%B4%ED%84%B0+%EC%82%AC%EC%9D%B4%EC%96%B8%EC%8A%A4+%EC%8B%9C%EB%A6%AC%EC%A6%88+78%29\"},{\"authors\":[\"최용\"],\"contents\":\"『파이썬(Python) 3』은 쉽고 강력한 프로그래밍 언어인 파이썬에 대한 책이다. 파이썬의 기초, 시쿨리, 안드로이드 환경에서의 파이썬 스크립팅, 파이썬을 사용한 문자열 다루기, 다양한 파이썬 패키지의 소개와 다루는 법, 자이썬 등을 다룬다.\",\"datetime\":\"2014-02-12T00:00:00.000+09:00\",\"isbn\":\"1185578005 9791185578002\",\"price\":25000,\"publisher\":\"인피니티북스\",\"sale_price\":22500,\"status\":\"정상판매\",\"thumbnail\":\"https://search1.kakaocdn.net/thumb/R120x174.q85/?fname=http%3A%2F%2Ft1.daumcdn.net%2Flbook%2Fimage%2F1618094%3Ftimestamp%3D20220302183952\",\"title\":\"파이썬(Python) 3(예제 중심의)\",\"translators\":[],\"url\":\"https://search.daum.net/search?w=bookpage\\u0026bookId=1618094\\u0026q=%ED%8C%8C%EC%9D%B4%EC%8D%AC%28Python%29+3%28%EC%98%88%EC%A0%9C+%EC%A4%91%EC%8B%AC%EC%9D%98%29\"}],\"meta\":{\"is_end\":false,\"pageable_count\":1000,\"total_count\":3037}}\n"
          ]
        }
      ]
    },
    {
      "cell_type": "code",
      "source": [
        "import json\n",
        "jd = json.loads(res)\n",
        "print(jd)"
      ],
      "metadata": {
        "colab": {
          "base_uri": "https://localhost:8080/",
          "height": 0
        },
        "id": "apczPswJKd1G",
        "outputId": "8331eb31-7546-4653-eb87-5f69c84347b2"
      },
      "execution_count": 28,
      "outputs": [
        {
          "output_type": "stream",
          "name": "stdout",
          "text": [
            "{'documents': [{'authors': ['김명호'], 'contents': '전 세계적으로 유명한 구글(Google)이 자신의 많은 서비스를 파이썬으로 제공하고 있습니다. 이것은 구글의 뛰어난 서비스를 개인의 비즈니스에 쉽게 이용할 수 있다는 의미입니다. 이러한 발전에 맞춰 파이썬 문법의 기초를 쉽게 이해할 수 있도록 이 책에서는 친절한 도해와 함께 코딩 개념을 설명합니다. 파이썬을 처음 배우는 학생부터 비전공자, 코딩 실력을 높이려는 직장인까지 기본 문법부터 예제를 통한 활용 실력을 높여 파이썬 프로그래밍을 마스터할 수 있습니다', 'datetime': '2019-05-25T00:00:00.000+09:00', 'isbn': '1186179368 9791186179369', 'price': 18000, 'publisher': '에듀웨이', 'sale_price': 16200, 'status': '정상판매', 'thumbnail': 'https://search1.kakaocdn.net/thumb/R120x174.q85/?fname=http%3A%2F%2Ft1.daumcdn.net%2Flbook%2Fimage%2F4943717%3Ftimestamp%3D20220216194127', 'title': '파이썬(한 권으로 끝내는)', 'translators': [], 'url': 'https://search.daum.net/search?w=bookpage&bookId=4943717&q=%ED%8C%8C%EC%9D%B4%EC%8D%AC%28%ED%95%9C+%EA%B6%8C%EC%9C%BC%EB%A1%9C+%EB%81%9D%EB%82%B4%EB%8A%94%29'}, {'authors': ['정동균'], 'contents': '초등 고학년부터 대학생, 어르신까지 ‘코딩할 줄 아는 사람’이 되도록 도와주는 책! 먼저 읽은 공대생 2명이 “대학교 1학년 때 이 책 봤으면 훨씬 좋았겠다!”라고 외친 바로 그 책! IT 분야 베스트셀러 《Do it! 첫 코딩》이 파이썬 버전으로 출간 되었습니다. ‘공대생도 놀란 책’에 걸맞은 147가지 비유와 그림으로 디지털 시대에 알아야 할 프로그래밍의 56가지 핵심 개념을 배워 보세요. 첫 번째 책 《Do it! 첫 코딩》 자바 버전보다 80쪽', 'datetime': '2021-01-15T00:00:00.000+09:00', 'isbn': '1163032158 9791163032151', 'price': 18000, 'publisher': '이지스퍼블리싱', 'sale_price': 16200, 'status': '정상판매', 'thumbnail': 'https://search1.kakaocdn.net/thumb/R120x174.q85/?fname=http%3A%2F%2Ft1.daumcdn.net%2Flbook%2Fimage%2F5557612%3Ftimestamp%3D20220228155454', 'title': 'Do it! 첫 코딩 with 파이썬', 'translators': [], 'url': 'https://search.daum.net/search?w=bookpage&bookId=5557612&q=Do+it%21+%EC%B2%AB+%EC%BD%94%EB%94%A9+with+%ED%8C%8C%EC%9D%B4%EC%8D%AC'}, {'authors': ['우재남'], 'contents': '일단 따라하면 바로 이해되는 파이썬 프로그래밍 파이썬을 처음 접하는 독자를 대상으로 일대일 수업처럼 자세히 설명한 책입니다. 꼭 알아야 할 핵심 개념은 기본 예제로 최대한 쉽게 설명했으며, 중요한 내용은 응용 예제, 퀴즈, 셀프 스터디, 예제 모음으로 한번 더 복습할 수 있습니다. 일단 코드를 입력하고 실행하다 보면 어느새 파이썬 프로그래밍과 친숙해져 있을 것입니다! ※ 본 도서는 대학 강의용 교재로 개발되었으므로 연습문제 해답은 제공하지 않습니다', 'datetime': '2022-01-03T00:00:00.000+09:00', 'isbn': '1156645743 9791156645740', 'price': 25000, 'publisher': '한빛아카데미', 'sale_price': 24250, 'status': '정상판매', 'thumbnail': 'https://search1.kakaocdn.net/thumb/R120x174.q85/?fname=http%3A%2F%2Ft1.daumcdn.net%2Flbook%2Fimage%2F5924837%3Ftimestamp%3D20220228162831', 'title': '파이썬 for Beginner(3판)', 'translators': [], 'url': 'https://search.daum.net/search?w=bookpage&bookId=5924837&q=%ED%8C%8C%EC%9D%B4%EC%8D%AC+for+Beginner%283%ED%8C%90%29'}, {'authors': ['장문철'], 'contents': '파이썬 기초 문법 떼고 자동화, 크롤링, 이미지처리, 데이터분석, 웹페이지, GUI 프로그램, 게임, 인공지능 관련 40개 프로그램 직접 파이썬 코딩하며 만들어 본다.  이 책은 파이썬 기초 문법을 익힌 후 총 40개의 주제별 프로그램을 직접 코딩하며 만들어볼 수 있도록 구성하였다.', 'datetime': '2022-02-28T00:00:00.000+09:00', 'isbn': '1185553932 9791185553931', 'price': 18800, 'publisher': '앤써북', 'sale_price': 16920, 'status': '정상판매', 'thumbnail': 'https://search1.kakaocdn.net/thumb/R120x174.q85/?fname=http%3A%2F%2Ft1.daumcdn.net%2Flbook%2Fimage%2F6010915%3Ftimestamp%3D20220228162140', 'title': '파이썬과 40개의 작품들(만들면서 배우는)', 'translators': [], 'url': 'https://search.daum.net/search?w=bookpage&bookId=6010915&q=%ED%8C%8C%EC%9D%B4%EC%8D%AC%EA%B3%BC+40%EA%B0%9C%EC%9D%98+%EC%9E%91%ED%92%88%EB%93%A4%28%EB%A7%8C%EB%93%A4%EB%A9%B4%EC%84%9C+%EB%B0%B0%EC%9A%B0%EB%8A%94%29'}, {'authors': ['박상언', '강주영', '정석찬'], 'contents': '텍스트 마이닝에는 자연어 처리, 통계, 딥러닝 기법에 대해 많은 지식이 필요하지만, 이론적인 내용에 얽매이다 보면 정작 구현은 너무 먼 이야기가 되어 버리기 쉽다.  이 책에서는 실무에 바로 적용할 수 있는 실전적인 예제를 중심으로 텍스트 마이닝을 설명한다. 특히 초보자를 위해 텍스트 전처리 과정의 개념과 다양하고 상세한 활용방법을 기초부터 설명한다. 문서 분류와 감성 분석 같은 텍스트 마이닝 작업을 대상으로 다양한 머신러닝 기법을 사용하는 예', 'datetime': '2022-02-18T00:00:00.000+09:00', 'isbn': '1158393008 9791158393007', 'price': 28000, 'publisher': '위키북스', 'sale_price': 25200, 'status': '정상판매', 'thumbnail': 'https://search1.kakaocdn.net/thumb/R120x174.q85/?fname=http%3A%2F%2Ft1.daumcdn.net%2Flbook%2Fimage%2F5983927%3Ftimestamp%3D20220228161854', 'title': '파이썬 텍스트 마이닝 완벽 가이드(위키북스 데이터 사이언스 시리즈 77)', 'translators': [], 'url': 'https://search.daum.net/search?w=bookpage&bookId=5983927&q=%ED%8C%8C%EC%9D%B4%EC%8D%AC+%ED%85%8D%EC%8A%A4%ED%8A%B8+%EB%A7%88%EC%9D%B4%EB%8B%9D+%EC%99%84%EB%B2%BD+%EA%B0%80%EC%9D%B4%EB%93%9C%28%EC%9C%84%ED%82%A4%EB%B6%81%EC%8A%A4+%EB%8D%B0%EC%9D%B4%ED%84%B0+%EC%82%AC%EC%9D%B4%EC%96%B8%EC%8A%A4+%EC%8B%9C%EB%A6%AC%EC%A6%88+77%29'}, {'authors': ['유대표', '조대표'], 'contents': '판다스의 문법을 사용하면 파이썬 기초 문법만을 사용하는 것보다 코드를 더욱 파이썬스럽게 (Pythonic) 작성할 수 있습니다. 다만 데이터의 특성에 따라 사용하는 판다스 기능과 전처리의 방식 이 크게 달라지기 때문에 많은 연습이 필요합니다. 독자 입장에서 본인들이 관심 있는 데이터로 판다 스를 공부할 때 가장 재미있고 빠르게 판다스를 배울 수 있다고 저자들은 확신합니다. 그래서 본 도 서는 많은 직장인들이 관심 있는 금융 데이터로 판다스의 문법을', 'datetime': '2022-03-02T00:00:00.000+09:00', 'isbn': '1196608822 9791196608828', 'price': 30000, 'publisher': '파이스탁', 'sale_price': 27000, 'status': '정상판매', 'thumbnail': 'https://search1.kakaocdn.net/thumb/R120x174.q85/?fname=http%3A%2F%2Ft1.daumcdn.net%2Flbook%2Fimage%2F6013800%3Ftimestamp%3D20220228164416', 'title': '금융 데이터 분석을 위한 파이썬 판다스', 'translators': [], 'url': 'https://search.daum.net/search?w=bookpage&bookId=6013800&q=%EA%B8%88%EC%9C%B5+%EB%8D%B0%EC%9D%B4%ED%84%B0+%EB%B6%84%EC%84%9D%EC%9D%84+%EC%9C%84%ED%95%9C+%ED%8C%8C%EC%9D%B4%EC%8D%AC+%ED%8C%90%EB%8B%A4%EC%8A%A4'}, {'authors': ['김영천', '류문형', '안일열'], 'contents': '▶ 이 책은 Python(파이썬)을 다룬 이론서입니다. Python(파이썬)의 기초적이고 전반적인 내용을 학습할 수 있습니다.', 'datetime': '2020-02-25T00:00:00.000+09:00', 'isbn': '8970187995 9788970187990', 'price': 25000, 'publisher': '기한재', 'sale_price': 22500, 'status': '정상판매', 'thumbnail': 'https://search1.kakaocdn.net/thumb/R120x174.q85/?fname=http%3A%2F%2Ft1.daumcdn.net%2Flbook%2Fimage%2F5261509%3Ftimestamp%3D20220216173227', 'title': '파이썬', 'translators': [], 'url': 'https://search.daum.net/search?w=bookpage&bookId=5261509&q=%ED%8C%8C%EC%9D%B4%EC%8D%AC'}, {'authors': ['한선관', '김태령'], 'contents': '이 책은 지금까지 경험하지 못한 코딩 교육의 진수를 보여준다. “코딩 교육이 가야 할 방향은 컴퓨팅 사고력을 높이는 것이다.”라고 이 책의 저자들이 말하듯, “디지털 시대에 적합한 창의력과 문제해결력을 기르기 위한 코딩의 기초부터 응용까지 컴퓨터 코드를 작성하는 것은 물론이고, 알고리즘 학습을 통한 컴퓨팅 사고력을 완전 정복한다.', 'datetime': '2019-02-28T00:00:00.000+09:00', 'isbn': '8970509720 9788970509723', 'price': 29000, 'publisher': '생능출판', 'sale_price': 26100, 'status': '정상판매', 'thumbnail': 'https://search1.kakaocdn.net/thumb/R120x174.q85/?fname=http%3A%2F%2Ft1.daumcdn.net%2Flbook%2Fimage%2F4888715%3Ftimestamp%3D20220206162841', 'title': '파이썬(컴퓨팅 사고를 위한)', 'translators': [], 'url': 'https://search.daum.net/search?w=bookpage&bookId=4888715&q=%ED%8C%8C%EC%9D%B4%EC%8D%AC%28%EC%BB%B4%ED%93%A8%ED%8C%85+%EC%82%AC%EA%B3%A0%EB%A5%BC+%EC%9C%84%ED%95%9C%29'}, {'authors': ['GIL’s LAB'], 'contents': \"《손에 잡히는 퀀트 투자 with 파이썬》은 파이썬과 데이터 분석이 익숙하지 않은 분들도 퀀트 투자 전략을 검증하고 수립할 수 있도록 GIL's LAB(https://gils-lab.tistory.com/)에서 다룬 내용을 체계적으로 정리했습니다. 이 책을 읽고 나면 파이썬과 데이터 분석이 처음인 독자도 퀀트 전략을 검증하고 수립할 수 있으리라 자신합니다.\", 'datetime': '2022-02-22T00:00:00.000+09:00', 'isbn': '115839313X 9791158393137', 'price': 32000, 'publisher': '위키북스', 'sale_price': 28800, 'status': '정상판매', 'thumbnail': 'https://search1.kakaocdn.net/thumb/R120x174.q85/?fname=http%3A%2F%2Ft1.daumcdn.net%2Flbook%2Fimage%2F5983375%3Ftimestamp%3D20220228155424', 'title': '손에 잡히는 퀀트 투자 with 파이썬(위키북스 데이터 사이언스 시리즈 78)', 'translators': [], 'url': 'https://search.daum.net/search?w=bookpage&bookId=5983375&q=%EC%86%90%EC%97%90+%EC%9E%A1%ED%9E%88%EB%8A%94+%ED%80%80%ED%8A%B8+%ED%88%AC%EC%9E%90+with+%ED%8C%8C%EC%9D%B4%EC%8D%AC%28%EC%9C%84%ED%82%A4%EB%B6%81%EC%8A%A4+%EB%8D%B0%EC%9D%B4%ED%84%B0+%EC%82%AC%EC%9D%B4%EC%96%B8%EC%8A%A4+%EC%8B%9C%EB%A6%AC%EC%A6%88+78%29'}, {'authors': ['최용'], 'contents': '『파이썬(Python) 3』은 쉽고 강력한 프로그래밍 언어인 파이썬에 대한 책이다. 파이썬의 기초, 시쿨리, 안드로이드 환경에서의 파이썬 스크립팅, 파이썬을 사용한 문자열 다루기, 다양한 파이썬 패키지의 소개와 다루는 법, 자이썬 등을 다룬다.', 'datetime': '2014-02-12T00:00:00.000+09:00', 'isbn': '1185578005 9791185578002', 'price': 25000, 'publisher': '인피니티북스', 'sale_price': 22500, 'status': '정상판매', 'thumbnail': 'https://search1.kakaocdn.net/thumb/R120x174.q85/?fname=http%3A%2F%2Ft1.daumcdn.net%2Flbook%2Fimage%2F1618094%3Ftimestamp%3D20220302183952', 'title': '파이썬(Python) 3(예제 중심의)', 'translators': [], 'url': 'https://search.daum.net/search?w=bookpage&bookId=1618094&q=%ED%8C%8C%EC%9D%B4%EC%8D%AC%28Python%29+3%28%EC%98%88%EC%A0%9C+%EC%A4%91%EC%8B%AC%EC%9D%98%29'}], 'meta': {'is_end': False, 'pageable_count': 1000, 'total_count': 3037}}\n"
          ]
        }
      ]
    },
    {
      "cell_type": "code",
      "source": [
        "import pandas as pd\n",
        "df = pd.json_normalize(jd['documents'])\n",
        "df.info()"
      ],
      "metadata": {
        "colab": {
          "base_uri": "https://localhost:8080/",
          "height": 0
        },
        "id": "1-eOXoyRKlF_",
        "outputId": "5b4023b5-4456-4ff2-d862-d2a434dd8830"
      },
      "execution_count": 29,
      "outputs": [
        {
          "output_type": "stream",
          "name": "stdout",
          "text": [
            "<class 'pandas.core.frame.DataFrame'>\n",
            "RangeIndex: 10 entries, 0 to 9\n",
            "Data columns (total 12 columns):\n",
            " #   Column       Non-Null Count  Dtype \n",
            "---  ------       --------------  ----- \n",
            " 0   authors      10 non-null     object\n",
            " 1   contents     10 non-null     object\n",
            " 2   datetime     10 non-null     object\n",
            " 3   isbn         10 non-null     object\n",
            " 4   price        10 non-null     int64 \n",
            " 5   publisher    10 non-null     object\n",
            " 6   sale_price   10 non-null     int64 \n",
            " 7   status       10 non-null     object\n",
            " 8   thumbnail    10 non-null     object\n",
            " 9   title        10 non-null     object\n",
            " 10  translators  10 non-null     object\n",
            " 11  url          10 non-null     object\n",
            "dtypes: int64(2), object(10)\n",
            "memory usage: 1.1+ KB\n"
          ]
        }
      ]
    },
    {
      "cell_type": "code",
      "source": [
        "# xml 형식\n",
        "import  urllib.request\n",
        "url = 'https://openapi.naver.com/v1/search/book.xml' # xml파일로\n",
        "query_in = input(\"검색 질의:\")\n",
        "query_param = \"query=\"+urllib.parse.quote(query_in) # utf-8로 인코딩\n",
        "\n",
        "query_str = url +'?'+query_param\n",
        "\n",
        "print(query_str)\n",
        "\n",
        "request = urllib.request.Request(query_str) # 서비스 요청에 사용할 개체를 생성\n",
        "request.add_header('X-Naver-Client-Id','본인 id')\n",
        "request.add_header('X-Naver-Client-Secret','본인 Secret')\n",
        "\n",
        "\n",
        "response = urllib.request.urlopen(request)\n",
        "res = response.read().decode('utf-8') # utf-8 형식으로 불러옴 \n",
        "print(res)"
      ],
      "metadata": {
        "colab": {
          "base_uri": "https://localhost:8080/",
          "height": 0
        },
        "id": "3nZNrJQyLu5e",
        "outputId": "daf576ee-264a-45eb-8dd4-7b0a183c46a6"
      },
      "execution_count": 30,
      "outputs": [
        {
          "output_type": "stream",
          "name": "stdout",
          "text": [
            "검색 질의:파이썬\n",
            "https://openapi.naver.com/v1/search/book.xml?query=%ED%8C%8C%EC%9D%B4%EC%8D%AC\n",
            "<?xml version=\"1.0\" encoding=\"UTF-8\"?><rss version=\"2.0\"><channel><title>Naver Open API - book ::'파이썬'</title><link>https://search.naver.com</link><description>Naver Search Result</description><lastBuildDate>Thu, 03 Mar 2022 10:51:39 +0900</lastBuildDate><total>1509</total><start>1</start><display>10</display><item><title>혼자 공부하는 &lt;b&gt;파이썬&lt;/b&gt; (&lt;b&gt;파이썬&lt;/b&gt; 최신 버전 반영)</title><link>http://book.naver.com/bookdb/book_detail.php?bid=15028688</link><image>https://bookthumb-phinf.pstatic.net/cover/150/286/15028688.jpg?type=m1&amp;udate=20220129</image><author>윤인성</author><price>18000</price><discount>16200</discount><publisher>한빛미디어</publisher><pubdate>20190610</pubdate><isbn>1162241888 9791162241882</isbn><description>1:1 과외하듯 배우는 &lt;b&gt;파이썬&lt;/b&gt; 프로그래밍 자습서(&lt;b&gt;파이썬&lt;/b&gt; 최신 버전 반영)\n",
            "27명의 베타리더 검증으로, ‘함께 만든’ 입문자 맞춤형 도서\n",
            "\n",
            "이 책은 독학으로 프로그래밍 언어를 처음 배우려는 입문자가, 혹은 &lt;b&gt;파이썬&lt;/b&gt;을 배우려는 입문자가 ‘꼭 필요한 내용을 제대로’ 학습할 수 있도록 구성했다. ‘무엇을’... </description></item><item><title>혼자 공부하는 첫 프로그래밍 with &lt;b&gt;파이썬&lt;/b&gt; (1:1 과외하듯 배우는 왕초보 코딩 입문서)</title><link>http://book.naver.com/bookdb/book_detail.php?bid=16385280</link><image>https://bookthumb-phinf.pstatic.net/cover/163/852/16385280.jpg?type=m1&amp;udate=20211207</image><author>문현일</author><price>17000</price><discount>15300</discount><publisher>한빛미디어</publisher><pubdate>20200630</pubdate><isbn>1162243031 9791162243039</isbn><description>비전공자도 ‘혼공’ 할 수 있다!\n",
            "1:1 과외하듯 배우는 왕초보 코딩 입문서\n",
            "\n",
            "유튜브 강의! 그림으로 보여주는 ‘눈코딩’ 예제! 프로그램 설치 없이 온라인 실습! 부록 용어 노트! 이 모든 것을 제공하기에 비전공자도 프로그래밍을 독학할 수 있습니다. 이 책은 비전공자가 시중에 나온 프로그래밍 책을 이해할 수... </description></item><item><title>Do it! 점프 투 &lt;b&gt;파이썬&lt;/b&gt;</title><link>http://book.naver.com/bookdb/book_detail.php?bid=15052904</link><image>https://bookthumb-phinf.pstatic.net/cover/150/529/15052904.jpg?type=m1&amp;udate=20200910</image><author>박응용</author><price>18800</price><discount>16900</discount><publisher>이지스퍼블리싱</publisher><pubdate>20190620</pubdate><isbn>1163030910 9791163030911</isbn><description>&lt;b&gt;파이썬&lt;/b&gt; 4년 연속 베스트셀러 1위!\n",
            "《DO IT! 점프 투 &lt;b&gt;파이썬&lt;/b&gt;》 전면 개정판 출시!문과생도 중고등학생도 직장인도 프로그래밍에 눈뜨게 만든 바로 그 책이... 점프 투 &lt;b&gt;파이썬&lt;/b&gt;》으로 출간되었던 이 책은 약 4년 동안의 피드백을 반영하여 초보자가 더 빠르게 입문하고, 더 깊이 있게 공부할 수 있도록 개정되었다.... </description></item><item><title>이것이 취업을 위한 코딩 테스트다 with &lt;b&gt;파이썬&lt;/b&gt; (취업과 이직을 결정하는 알고리즘 인터뷰 완벽 가이드)</title><link>http://book.naver.com/bookdb/book_detail.php?bid=16439154</link><image>https://bookthumb-phinf.pstatic.net/cover/164/391/16439154.jpg?type=m1&amp;udate=20200928</image><author>나동빈</author><price>34000</price><discount>30600</discount><publisher>한빛미디어</publisher><pubdate>20200805</pubdate><isbn>1162243074 9791162243077</isbn><description>8가지 핵심 알고리즘 이론을 쉽게 설명하고, 관련 실전 문제를 풀이했다. 출제 유형 분석, 이론 설명, 기출문제 풀이까지! 어떤 코딩 테스트도 이 책 한 권으로 대비할 수 있을 것이다. 코딩 테스트에서 주로 선택하는 &lt;b&gt;파이썬&lt;/b&gt;을 기반으로 설명되어 있으며, &lt;b&gt;파이썬&lt;/b&gt; 코드 외에도 C/C++, 자바 코드를 추가로 제공한다.</description></item><item><title>&lt;b&gt;파이썬&lt;/b&gt; 알고리즘 인터뷰 (95가지 알고리즘 문제 풀이로 완성하는 코딩 테스트)</title><link>http://book.naver.com/bookdb/book_detail.php?bid=16406247</link><image>https://bookthumb-phinf.pstatic.net/cover/164/062/16406247.jpg?type=m1&amp;udate=20220114</image><author>박상길</author><price>38000</price><discount>34200</discount><publisher>책만</publisher><pubdate>20200715</pubdate><isbn>1189909170 9791189909178</isbn><description>물론, &lt;b&gt;파이썬&lt;/b&gt;으로 구현하는 코드 풀이를 통해 성능 최적화 기법, &lt;b&gt;파이썬&lt;/b&gt;의 핵심 문법과 다양한 실용 테크닉까지 배울 수 있는, 초보 개발자와 숙련 개발자... 이 책은 현업과 실무에 유용한 주요 알고리즘 이론을 깊숙이 이해하고, &lt;b&gt;파이썬&lt;/b&gt;의 핵심 기능과 문법까지 상세하게 이해할 수 있는 취업용 코딩 테스트를... </description></item><item><title>모두의 &lt;b&gt;파이썬&lt;/b&gt; (20일 만에 배우는 프로그래밍 기초)</title><link>http://book.naver.com/bookdb/book_detail.php?bid=14126163</link><image>https://bookthumb-phinf.pstatic.net/cover/141/261/14126163.jpg?type=m1&amp;udate=20210210</image><author>이승찬</author><price>12000</price><discount>10800</discount><publisher>길벗</publisher><pubdate>20181009</pubdate><isbn>1160505853 9791160505856</isbn><description>&lt;b&gt;파이썬&lt;/b&gt; 분야 &amp; 어린이 코딩 교육 분야\n",
            "2년 연속 베스트셀러! 개정판 출간!\n",
            "즐겁게 시작하는 나의 첫 프로그래밍!\n",
            "프로그래밍을 한 번도 해본 적이 없어도 괜찮다. &lt;b&gt;파이썬&lt;/b&gt;이 무엇인지 몰라도 상관 없다.... 어느새 &lt;b&gt;파이썬&lt;/b&gt; 프로그램으로 멋진 그림을 그리고, 계산을 하고, 간단한 게임을 만들고, 수학 문제를... </description></item><item><title>웹 크롤링 &amp; 데이터 분석 with &lt;b&gt;파이썬&lt;/b&gt;</title><link>http://book.naver.com/bookdb/book_detail.php?bid=21413549</link><image>https://bookthumb-phinf.pstatic.net/cover/214/135/21413549.jpg?type=m1&amp;udate=20220112</image><author>장철원</author><price>20000</price><discount>18000</discount><publisher>인사이트</publisher><pubdate>20220124</pubdate><isbn>8966263399 9788966263394</isbn><description>그동안 &lt;b&gt;파이썬&lt;/b&gt;이라는 언어와 크롤링의 난해한 코드로 고개를 떨구던 독자에게, 크롤링 기술은 누구나 쉽게 배울 수 있다는 것을 알려주는 책입니다.세... &lt;b&gt;파이썬&lt;/b&gt;을 전혀 모른다고요? 크롤링 학습에 꼭 필요한 내용 중심으로 공부하도록 안배하였습니다.크롤링은 물론 데이터 분석까지더 나아가 이 책에서는... </description></item><item><title>&lt;b&gt;파이썬&lt;/b&gt;을 이용한 비트코인 자동매매</title><link>http://book.naver.com/bookdb/book_detail.php?bid=18214660</link><image>https://bookthumb-phinf.pstatic.net/cover/182/146/18214660.jpg?type=m1&amp;udate=20210316</image><author>유대표|조대표</author><price>27000</price><discount>24300</discount><publisher>파이스탁</publisher><pubdate>20210322</pubdate><isbn>1196608814 9791196608811</isbn><description>이 책은 최근 인기 있는 프로그래밍 언어인 &lt;b&gt;파이썬&lt;/b&gt;을 사용하여 국내 3대 거래소(코빗, 빗썸, 업비트)... 프로그래밍 경험이 없는 일반인을 대상으로 &lt;b&gt;파이썬&lt;/b&gt; 기초 문법부터 시작하여 24시간 실시간 자동... 있어 &lt;b&gt;파이썬&lt;/b&gt;을 처음 배우는 분들이 유익하고 재미있게 프로그래밍을 배울 수 있도록 합니다. 책에서... </description></item><item><title>&lt;b&gt;파이썬&lt;/b&gt; 머신러닝 완벽 가이드 (다양한 캐글 예제와 함께 기초 알고리즘부터 최신 기법까지 배우는)</title><link>http://book.naver.com/bookdb/book_detail.php?bid=16238302</link><image>https://bookthumb-phinf.pstatic.net/cover/162/383/16238302.jpg?type=m1&amp;udate=20200423</image><author>권철민</author><price>38000</price><discount>34200</discount><publisher>위키북스</publisher><pubdate>20200207</pubdate><isbn>1158391927 9791158391928</isbn><description>자세한 이론 설명과 &lt;b&gt;파이썬&lt;/b&gt; 실습을 통해 머신러닝을 완벽하게 배울 수 있습니다!《&lt;b&gt;파이썬&lt;/b&gt; 머신러닝 완벽 가이드》는 이론 위주의 머신러닝 책에서 탈피해 다양한 실전 예제를 직접 구현해 보면서 머신러닝을 체득할 수 있도록 만들었습니다.  캐글과 UCI 머신러닝 리포지토리에서 난이도가 있는 실습... </description></item><item><title>쉽게 따라 만드는 &lt;b&gt;파이썬&lt;/b&gt; 주식 자동매매 시스템 (증권사 API 사용, 매매전략 구현, 실전 투자 전환까지!)</title><link>http://book.naver.com/bookdb/book_detail.php?bid=21119890</link><image>https://bookthumb-phinf.pstatic.net/cover/211/198/21119890.jpg?type=m1&amp;udate=20211207</image><author>박준성</author><price>28000</price><discount>25200</discount><publisher>길벗</publisher><pubdate>20211014</pubdate><isbn>1165217163 9791165217167</isbn><description>개발 환경 구축부터 실전 투자 전환까지\n",
            "&lt;b&gt;파이썬&lt;/b&gt;으로 나만의 주식 자동매매 시스템을 만든다!\n",
            "\n",
            "이 책은 &lt;b&gt;파이썬&lt;/b&gt;을 이용하여 주식 자동매매 시스템을 만드는... 개발 환경을 구축하고, 프로젝트를 만드는 데 필요한 기초 &lt;b&gt;파이썬&lt;/b&gt; 문법은 물론 증권 데이터를 주고받기 위해 키움증권 API를 사용하는 방법과 웹... </description></item></channel></rss>\n"
          ]
        }
      ]
    },
    {
      "cell_type": "code",
      "source": [
        "df = pd.read_xml(res,xpath=\".//item\")\n",
        "df"
      ],
      "metadata": {
        "colab": {
          "base_uri": "https://localhost:8080/",
          "height": 1000
        },
        "id": "AnEW01i1MUfe",
        "outputId": "e3248bc7-39ec-450a-b47f-b34f88c4fceb"
      },
      "execution_count": 31,
      "outputs": [
        {
          "output_type": "execute_result",
          "data": {
            "text/html": [
              "\n",
              "  <div id=\"df-7528668c-7389-4e2c-8940-0d05ce7268c7\">\n",
              "    <div class=\"colab-df-container\">\n",
              "      <div>\n",
              "<style scoped>\n",
              "    .dataframe tbody tr th:only-of-type {\n",
              "        vertical-align: middle;\n",
              "    }\n",
              "\n",
              "    .dataframe tbody tr th {\n",
              "        vertical-align: top;\n",
              "    }\n",
              "\n",
              "    .dataframe thead th {\n",
              "        text-align: right;\n",
              "    }\n",
              "</style>\n",
              "<table border=\"1\" class=\"dataframe\">\n",
              "  <thead>\n",
              "    <tr style=\"text-align: right;\">\n",
              "      <th></th>\n",
              "      <th>title</th>\n",
              "      <th>link</th>\n",
              "      <th>image</th>\n",
              "      <th>author</th>\n",
              "      <th>price</th>\n",
              "      <th>discount</th>\n",
              "      <th>publisher</th>\n",
              "      <th>pubdate</th>\n",
              "      <th>isbn</th>\n",
              "      <th>description</th>\n",
              "    </tr>\n",
              "  </thead>\n",
              "  <tbody>\n",
              "    <tr>\n",
              "      <th>0</th>\n",
              "      <td>혼자 공부하는 &lt;b&gt;파이썬&lt;/b&gt; (&lt;b&gt;파이썬&lt;/b&gt; 최신 버전 반영)</td>\n",
              "      <td>http://book.naver.com/bookdb/book_detail.php?b...</td>\n",
              "      <td>https://bookthumb-phinf.pstatic.net/cover/150/...</td>\n",
              "      <td>윤인성</td>\n",
              "      <td>18000</td>\n",
              "      <td>16200</td>\n",
              "      <td>한빛미디어</td>\n",
              "      <td>20190610</td>\n",
              "      <td>1162241888 9791162241882</td>\n",
              "      <td>1:1 과외하듯 배우는 &lt;b&gt;파이썬&lt;/b&gt; 프로그래밍 자습서(&lt;b&gt;파이썬&lt;/b&gt; 최...</td>\n",
              "    </tr>\n",
              "    <tr>\n",
              "      <th>1</th>\n",
              "      <td>혼자 공부하는 첫 프로그래밍 with &lt;b&gt;파이썬&lt;/b&gt; (1:1 과외하듯 배우는 ...</td>\n",
              "      <td>http://book.naver.com/bookdb/book_detail.php?b...</td>\n",
              "      <td>https://bookthumb-phinf.pstatic.net/cover/163/...</td>\n",
              "      <td>문현일</td>\n",
              "      <td>17000</td>\n",
              "      <td>15300</td>\n",
              "      <td>한빛미디어</td>\n",
              "      <td>20200630</td>\n",
              "      <td>1162243031 9791162243039</td>\n",
              "      <td>비전공자도 ‘혼공’ 할 수 있다!\\n1:1 과외하듯 배우는 왕초보 코딩 입문서\\n\\...</td>\n",
              "    </tr>\n",
              "    <tr>\n",
              "      <th>2</th>\n",
              "      <td>Do it! 점프 투 &lt;b&gt;파이썬&lt;/b&gt;</td>\n",
              "      <td>http://book.naver.com/bookdb/book_detail.php?b...</td>\n",
              "      <td>https://bookthumb-phinf.pstatic.net/cover/150/...</td>\n",
              "      <td>박응용</td>\n",
              "      <td>18800</td>\n",
              "      <td>16900</td>\n",
              "      <td>이지스퍼블리싱</td>\n",
              "      <td>20190620</td>\n",
              "      <td>1163030910 9791163030911</td>\n",
              "      <td>&lt;b&gt;파이썬&lt;/b&gt; 4년 연속 베스트셀러 1위!\\n《DO IT! 점프 투 &lt;b&gt;파이...</td>\n",
              "    </tr>\n",
              "    <tr>\n",
              "      <th>3</th>\n",
              "      <td>이것이 취업을 위한 코딩 테스트다 with &lt;b&gt;파이썬&lt;/b&gt; (취업과 이직을 결정...</td>\n",
              "      <td>http://book.naver.com/bookdb/book_detail.php?b...</td>\n",
              "      <td>https://bookthumb-phinf.pstatic.net/cover/164/...</td>\n",
              "      <td>나동빈</td>\n",
              "      <td>34000</td>\n",
              "      <td>30600</td>\n",
              "      <td>한빛미디어</td>\n",
              "      <td>20200805</td>\n",
              "      <td>1162243074 9791162243077</td>\n",
              "      <td>8가지 핵심 알고리즘 이론을 쉽게 설명하고, 관련 실전 문제를 풀이했다. 출제 유형...</td>\n",
              "    </tr>\n",
              "    <tr>\n",
              "      <th>4</th>\n",
              "      <td>&lt;b&gt;파이썬&lt;/b&gt; 알고리즘 인터뷰 (95가지 알고리즘 문제 풀이로 완성하는 코딩 ...</td>\n",
              "      <td>http://book.naver.com/bookdb/book_detail.php?b...</td>\n",
              "      <td>https://bookthumb-phinf.pstatic.net/cover/164/...</td>\n",
              "      <td>박상길</td>\n",
              "      <td>38000</td>\n",
              "      <td>34200</td>\n",
              "      <td>책만</td>\n",
              "      <td>20200715</td>\n",
              "      <td>1189909170 9791189909178</td>\n",
              "      <td>물론, &lt;b&gt;파이썬&lt;/b&gt;으로 구현하는 코드 풀이를 통해 성능 최적화 기법, &lt;b&gt;...</td>\n",
              "    </tr>\n",
              "    <tr>\n",
              "      <th>5</th>\n",
              "      <td>모두의 &lt;b&gt;파이썬&lt;/b&gt; (20일 만에 배우는 프로그래밍 기초)</td>\n",
              "      <td>http://book.naver.com/bookdb/book_detail.php?b...</td>\n",
              "      <td>https://bookthumb-phinf.pstatic.net/cover/141/...</td>\n",
              "      <td>이승찬</td>\n",
              "      <td>12000</td>\n",
              "      <td>10800</td>\n",
              "      <td>길벗</td>\n",
              "      <td>20181009</td>\n",
              "      <td>1160505853 9791160505856</td>\n",
              "      <td>&lt;b&gt;파이썬&lt;/b&gt; 분야 &amp; 어린이 코딩 교육 분야\\n2년 연속 베스트셀러! 개정판...</td>\n",
              "    </tr>\n",
              "    <tr>\n",
              "      <th>6</th>\n",
              "      <td>웹 크롤링 &amp; 데이터 분석 with &lt;b&gt;파이썬&lt;/b&gt;</td>\n",
              "      <td>http://book.naver.com/bookdb/book_detail.php?b...</td>\n",
              "      <td>https://bookthumb-phinf.pstatic.net/cover/214/...</td>\n",
              "      <td>장철원</td>\n",
              "      <td>20000</td>\n",
              "      <td>18000</td>\n",
              "      <td>인사이트</td>\n",
              "      <td>20220124</td>\n",
              "      <td>8966263399 9788966263394</td>\n",
              "      <td>그동안 &lt;b&gt;파이썬&lt;/b&gt;이라는 언어와 크롤링의 난해한 코드로 고개를 떨구던 독자에...</td>\n",
              "    </tr>\n",
              "    <tr>\n",
              "      <th>7</th>\n",
              "      <td>&lt;b&gt;파이썬&lt;/b&gt;을 이용한 비트코인 자동매매</td>\n",
              "      <td>http://book.naver.com/bookdb/book_detail.php?b...</td>\n",
              "      <td>https://bookthumb-phinf.pstatic.net/cover/182/...</td>\n",
              "      <td>유대표|조대표</td>\n",
              "      <td>27000</td>\n",
              "      <td>24300</td>\n",
              "      <td>파이스탁</td>\n",
              "      <td>20210322</td>\n",
              "      <td>1196608814 9791196608811</td>\n",
              "      <td>이 책은 최근 인기 있는 프로그래밍 언어인 &lt;b&gt;파이썬&lt;/b&gt;을 사용하여 국내 3대...</td>\n",
              "    </tr>\n",
              "    <tr>\n",
              "      <th>8</th>\n",
              "      <td>&lt;b&gt;파이썬&lt;/b&gt; 머신러닝 완벽 가이드 (다양한 캐글 예제와 함께 기초 알고리즘부...</td>\n",
              "      <td>http://book.naver.com/bookdb/book_detail.php?b...</td>\n",
              "      <td>https://bookthumb-phinf.pstatic.net/cover/162/...</td>\n",
              "      <td>권철민</td>\n",
              "      <td>38000</td>\n",
              "      <td>34200</td>\n",
              "      <td>위키북스</td>\n",
              "      <td>20200207</td>\n",
              "      <td>1158391927 9791158391928</td>\n",
              "      <td>자세한 이론 설명과 &lt;b&gt;파이썬&lt;/b&gt; 실습을 통해 머신러닝을 완벽하게 배울 수 있...</td>\n",
              "    </tr>\n",
              "    <tr>\n",
              "      <th>9</th>\n",
              "      <td>쉽게 따라 만드는 &lt;b&gt;파이썬&lt;/b&gt; 주식 자동매매 시스템 (증권사 API 사용, ...</td>\n",
              "      <td>http://book.naver.com/bookdb/book_detail.php?b...</td>\n",
              "      <td>https://bookthumb-phinf.pstatic.net/cover/211/...</td>\n",
              "      <td>박준성</td>\n",
              "      <td>28000</td>\n",
              "      <td>25200</td>\n",
              "      <td>길벗</td>\n",
              "      <td>20211014</td>\n",
              "      <td>1165217163 9791165217167</td>\n",
              "      <td>개발 환경 구축부터 실전 투자 전환까지\\n&lt;b&gt;파이썬&lt;/b&gt;으로 나만의 주식 자동매...</td>\n",
              "    </tr>\n",
              "  </tbody>\n",
              "</table>\n",
              "</div>\n",
              "      <button class=\"colab-df-convert\" onclick=\"convertToInteractive('df-7528668c-7389-4e2c-8940-0d05ce7268c7')\"\n",
              "              title=\"Convert this dataframe to an interactive table.\"\n",
              "              style=\"display:none;\">\n",
              "        \n",
              "  <svg xmlns=\"http://www.w3.org/2000/svg\" height=\"24px\"viewBox=\"0 0 24 24\"\n",
              "       width=\"24px\">\n",
              "    <path d=\"M0 0h24v24H0V0z\" fill=\"none\"/>\n",
              "    <path d=\"M18.56 5.44l.94 2.06.94-2.06 2.06-.94-2.06-.94-.94-2.06-.94 2.06-2.06.94zm-11 1L8.5 8.5l.94-2.06 2.06-.94-2.06-.94L8.5 2.5l-.94 2.06-2.06.94zm10 10l.94 2.06.94-2.06 2.06-.94-2.06-.94-.94-2.06-.94 2.06-2.06.94z\"/><path d=\"M17.41 7.96l-1.37-1.37c-.4-.4-.92-.59-1.43-.59-.52 0-1.04.2-1.43.59L10.3 9.45l-7.72 7.72c-.78.78-.78 2.05 0 2.83L4 21.41c.39.39.9.59 1.41.59.51 0 1.02-.2 1.41-.59l7.78-7.78 2.81-2.81c.8-.78.8-2.07 0-2.86zM5.41 20L4 18.59l7.72-7.72 1.47 1.35L5.41 20z\"/>\n",
              "  </svg>\n",
              "      </button>\n",
              "      \n",
              "  <style>\n",
              "    .colab-df-container {\n",
              "      display:flex;\n",
              "      flex-wrap:wrap;\n",
              "      gap: 12px;\n",
              "    }\n",
              "\n",
              "    .colab-df-convert {\n",
              "      background-color: #E8F0FE;\n",
              "      border: none;\n",
              "      border-radius: 50%;\n",
              "      cursor: pointer;\n",
              "      display: none;\n",
              "      fill: #1967D2;\n",
              "      height: 32px;\n",
              "      padding: 0 0 0 0;\n",
              "      width: 32px;\n",
              "    }\n",
              "\n",
              "    .colab-df-convert:hover {\n",
              "      background-color: #E2EBFA;\n",
              "      box-shadow: 0px 1px 2px rgba(60, 64, 67, 0.3), 0px 1px 3px 1px rgba(60, 64, 67, 0.15);\n",
              "      fill: #174EA6;\n",
              "    }\n",
              "\n",
              "    [theme=dark] .colab-df-convert {\n",
              "      background-color: #3B4455;\n",
              "      fill: #D2E3FC;\n",
              "    }\n",
              "\n",
              "    [theme=dark] .colab-df-convert:hover {\n",
              "      background-color: #434B5C;\n",
              "      box-shadow: 0px 1px 3px 1px rgba(0, 0, 0, 0.15);\n",
              "      filter: drop-shadow(0px 1px 2px rgba(0, 0, 0, 0.3));\n",
              "      fill: #FFFFFF;\n",
              "    }\n",
              "  </style>\n",
              "\n",
              "      <script>\n",
              "        const buttonEl =\n",
              "          document.querySelector('#df-7528668c-7389-4e2c-8940-0d05ce7268c7 button.colab-df-convert');\n",
              "        buttonEl.style.display =\n",
              "          google.colab.kernel.accessAllowed ? 'block' : 'none';\n",
              "\n",
              "        async function convertToInteractive(key) {\n",
              "          const element = document.querySelector('#df-7528668c-7389-4e2c-8940-0d05ce7268c7');\n",
              "          const dataTable =\n",
              "            await google.colab.kernel.invokeFunction('convertToInteractive',\n",
              "                                                     [key], {});\n",
              "          if (!dataTable) return;\n",
              "\n",
              "          const docLinkHtml = 'Like what you see? Visit the ' +\n",
              "            '<a target=\"_blank\" href=https://colab.research.google.com/notebooks/data_table.ipynb>data table notebook</a>'\n",
              "            + ' to learn more about interactive tables.';\n",
              "          element.innerHTML = '';\n",
              "          dataTable['output_type'] = 'display_data';\n",
              "          await google.colab.output.renderOutput(dataTable, element);\n",
              "          const docLink = document.createElement('div');\n",
              "          docLink.innerHTML = docLinkHtml;\n",
              "          element.appendChild(docLink);\n",
              "        }\n",
              "      </script>\n",
              "    </div>\n",
              "  </div>\n",
              "  "
            ],
            "text/plain": [
              "                                               title  ...                                        description\n",
              "0           혼자 공부하는 <b>파이썬</b> (<b>파이썬</b> 최신 버전 반영)  ...  1:1 과외하듯 배우는 <b>파이썬</b> 프로그래밍 자습서(<b>파이썬</b> 최...\n",
              "1  혼자 공부하는 첫 프로그래밍 with <b>파이썬</b> (1:1 과외하듯 배우는 ...  ...  비전공자도 ‘혼공’ 할 수 있다!\\n1:1 과외하듯 배우는 왕초보 코딩 입문서\\n\\...\n",
              "2                             Do it! 점프 투 <b>파이썬</b>  ...  <b>파이썬</b> 4년 연속 베스트셀러 1위!\\n《DO IT! 점프 투 <b>파이...\n",
              "3  이것이 취업을 위한 코딩 테스트다 with <b>파이썬</b> (취업과 이직을 결정...  ...  8가지 핵심 알고리즘 이론을 쉽게 설명하고, 관련 실전 문제를 풀이했다. 출제 유형...\n",
              "4  <b>파이썬</b> 알고리즘 인터뷰 (95가지 알고리즘 문제 풀이로 완성하는 코딩 ...  ...  물론, <b>파이썬</b>으로 구현하는 코드 풀이를 통해 성능 최적화 기법, <b>...\n",
              "5               모두의 <b>파이썬</b> (20일 만에 배우는 프로그래밍 기초)  ...  <b>파이썬</b> 분야 & 어린이 코딩 교육 분야\\n2년 연속 베스트셀러! 개정판...\n",
              "6                     웹 크롤링 & 데이터 분석 with <b>파이썬</b>  ...  그동안 <b>파이썬</b>이라는 언어와 크롤링의 난해한 코드로 고개를 떨구던 독자에...\n",
              "7                          <b>파이썬</b>을 이용한 비트코인 자동매매  ...  이 책은 최근 인기 있는 프로그래밍 언어인 <b>파이썬</b>을 사용하여 국내 3대...\n",
              "8  <b>파이썬</b> 머신러닝 완벽 가이드 (다양한 캐글 예제와 함께 기초 알고리즘부...  ...  자세한 이론 설명과 <b>파이썬</b> 실습을 통해 머신러닝을 완벽하게 배울 수 있...\n",
              "9  쉽게 따라 만드는 <b>파이썬</b> 주식 자동매매 시스템 (증권사 API 사용, ...  ...  개발 환경 구축부터 실전 투자 전환까지\\n<b>파이썬</b>으로 나만의 주식 자동매...\n",
              "\n",
              "[10 rows x 10 columns]"
            ]
          },
          "metadata": {},
          "execution_count": 31
        }
      ]
    },
    {
      "cell_type": "code",
      "source": [
        "import matplotlib.pyplot as plt\n",
        "df.price.plot()\n",
        "plt.show()"
      ],
      "metadata": {
        "colab": {
          "base_uri": "https://localhost:8080/",
          "height": 265
        },
        "id": "ZxNh9RmIMZAe",
        "outputId": "a8b84cd6-6e4a-432f-bfa5-7ce0c7d41f87"
      },
      "execution_count": 32,
      "outputs": [
        {
          "output_type": "display_data",
          "data": {
            "image/png": "[encoded data removed]",
            "text/plain": [
              "<Figure size 432x288 with 1 Axes>"
            ]
          },
          "metadata": {
            "needs_background": "light"
          }
        }
      ]
    },
    {
      "cell_type": "code",
      "source": [
        "df.description[0]"
      ],
      "metadata": {
        "colab": {
          "base_uri": "https://localhost:8080/",
          "height": 72
        },
        "id": "Qk_YufuONRwl",
        "outputId": "9dfb1672-2cef-4bd1-eac8-0c8de854159a"
      },
      "execution_count": 33,
      "outputs": [
        {
          "output_type": "execute_result",
          "data": {
            "application/vnd.google.colaboratory.intrinsic+json": {
              "type": "string"
            },
            "text/plain": [
              "'1:1 과외하듯 배우는 <b>파이썬</b> 프로그래밍 자습서(<b>파이썬</b> 최신 버전 반영)\\n27명의 베타리더 검증으로, ‘함께 만든’ 입문자 맞춤형 도서\\n\\n이 책은 독학으로 프로그래밍 언어를 처음 배우려는 입문자가, 혹은 <b>파이썬</b>을 배우려는 입문자가 ‘꼭 필요한 내용을 제대로’ 학습할 수 있도록 구성했다. ‘무엇을’...'"
            ]
          },
          "metadata": {},
          "execution_count": 33
        }
      ]
    },
    {
      "cell_type": "code",
      "source": [
        "des_str = df.description[0]\n",
        "des_str"
      ],
      "metadata": {
        "colab": {
          "base_uri": "https://localhost:8080/",
          "height": 72
        },
        "id": "mFnJESWpN5I6",
        "outputId": "76932cf2-5cb3-4ea0-9c02-abbf1b50972c"
      },
      "execution_count": 34,
      "outputs": [
        {
          "output_type": "execute_result",
          "data": {
            "application/vnd.google.colaboratory.intrinsic+json": {
              "type": "string"
            },
            "text/plain": [
              "'1:1 과외하듯 배우는 <b>파이썬</b> 프로그래밍 자습서(<b>파이썬</b> 최신 버전 반영)\\n27명의 베타리더 검증으로, ‘함께 만든’ 입문자 맞춤형 도서\\n\\n이 책은 독학으로 프로그래밍 언어를 처음 배우려는 입문자가, 혹은 <b>파이썬</b>을 배우려는 입문자가 ‘꼭 필요한 내용을 제대로’ 학습할 수 있도록 구성했다. ‘무엇을’...'"
            ]
          },
          "metadata": {},
          "execution_count": 34
        }
      ]
    },
    {
      "cell_type": "code",
      "source": [
        "demo_str = \"abc 123 cae$ asd# cr\"\n",
        "target_str = \"\"\n",
        "for ch in demo_str:\n",
        "  if ch.isalnum() or ch.isspace():\n",
        "    target_str = target_str+ch\n",
        "print(target_str)\n",
        "target_str = \"\".join(char for char in demo_str if (char.isalnum() or char.isspace()))\n",
        "print(target_str)"
      ],
      "metadata": {
        "colab": {
          "base_uri": "https://localhost:8080/",
          "height": 0
        },
        "id": "ocF40dwlOBtd",
        "outputId": "38d906b9-e981-4448-e26a-1cace9b3fb82"
      },
      "execution_count": 35,
      "outputs": [
        {
          "output_type": "stream",
          "name": "stdout",
          "text": [
            "abc 123 cae asd cr\n",
            "abc 123 cae asd cr\n"
          ]
        }
      ]
    },
    {
      "cell_type": "code",
      "source": [
        "filter_str = \"\".join(char for char in des_str if (char.isalnum() or char.isspace() and char != '...'))\n",
        "print(filter_str)\n",
        "words = filter_str.split(' ')\n",
        "s = pd.Series(words)\n",
        "s.value_counts()"
      ],
      "metadata": {
        "colab": {
          "base_uri": "https://localhost:8080/",
          "height": 0
        },
        "id": "U97Xf3IoPm3V",
        "outputId": "f506d094-e7d1-4c0f-cd27-3e221f7ba914"
      },
      "execution_count": 36,
      "outputs": [
        {
          "output_type": "stream",
          "name": "stdout",
          "text": [
            "11 과외하듯 배우는 b파이썬b 프로그래밍 자습서b파이썬b 최신 버전 반영\n",
            "27명의 베타리더 검증으로 함께 만든 입문자 맞춤형 도서\n",
            "\n",
            "이 책은 독학으로 프로그래밍 언어를 처음 배우려는 입문자가 혹은 b파이썬b을 배우려는 입문자가 꼭 필요한 내용을 제대로 학습할 수 있도록 구성했다 무엇을\n"
          ]
        },
        {
          "output_type": "execute_result",
          "data": {
            "text/plain": [
              "배우려는        2\n",
              "프로그래밍       2\n",
              "입문자가        2\n",
              "11          1\n",
              "필요한         1\n",
              "처음          1\n",
              "혹은          1\n",
              "b파이썬b을      1\n",
              "꼭           1\n",
              "내용을         1\n",
              "독학으로        1\n",
              "제대로         1\n",
              "학습할         1\n",
              "수           1\n",
              "있도록         1\n",
              "구성했다        1\n",
              "언어를         1\n",
              "책은          1\n",
              "과외하듯        1\n",
              "도서\\n\\n이     1\n",
              "맞춤형         1\n",
              "입문자         1\n",
              "만든          1\n",
              "함께          1\n",
              "검증으로        1\n",
              "베타리더        1\n",
              "반영\\n27명의    1\n",
              "버전          1\n",
              "최신          1\n",
              "자습서b파이썬b    1\n",
              "b파이썬b       1\n",
              "배우는         1\n",
              "무엇을         1\n",
              "dtype: int64"
            ]
          },
          "metadata": {},
          "execution_count": 36
        }
      ]
    },
    {
      "cell_type": "code",
      "source": [
        "#리눅스 명령 sudo\n",
        "#한글 폰트 설치\n",
        "!sudo apt-get install -y fonts-nanum\n",
        "!sudo fc-cache -fv\n",
        "!rm ~/.cache/matplotlib -rf"
      ],
      "metadata": {
        "colab": {
          "base_uri": "https://localhost:8080/",
          "height": 0
        },
        "id": "6pAuaGZSXeCv",
        "outputId": "d6567f4c-067b-4bd4-9692-936c0cd79c4b"
      },
      "execution_count": 18,
      "outputs": [
        {
          "output_type": "stream",
          "name": "stdout",
          "text": [
            "Reading package lists... Done\n",
            "Building dependency tree       \n",
            "Reading state information... Done\n",
            "The following package was automatically installed and is no longer required:\n",
            "  libnvidia-common-470\n",
            "Use 'sudo apt autoremove' to remove it.\n",
            "The following NEW packages will be installed:\n",
            "  fonts-nanum\n",
            "0 upgraded, 1 newly installed, 0 to remove and 39 not upgraded.\n",
            "Need to get 9,604 kB of archives.\n",
            "After this operation, 29.5 MB of additional disk space will be used.\n",
            "Get:1 http://archive.ubuntu.com/ubuntu bionic/universe amd64 fonts-nanum all 20170925-1 [9,604 kB]\n",
            "Fetched 9,604 kB in 1s (8,310 kB/s)\n",
            "debconf: unable to initialize frontend: Dialog\n",
            "debconf: (No usable dialog-like program is installed, so the dialog based frontend cannot be used. at /usr/share/perl5/Debconf/FrontEnd/Dialog.pm line 76, <> line 1.)\n",
            "debconf: falling back to frontend: Readline\n",
            "debconf: unable to initialize frontend: Readline\n",
            "debconf: (This frontend requires a controlling tty.)\n",
            "debconf: falling back to frontend: Teletype\n",
            "dpkg-preconfigure: unable to re-open stdin: \n",
            "Selecting previously unselected package fonts-nanum.\n",
            "(Reading database ... 155320 files and directories currently installed.)\n",
            "Preparing to unpack .../fonts-nanum_20170925-1_all.deb ...\n",
            "Unpacking fonts-nanum (20170925-1) ...\n",
            "Setting up fonts-nanum (20170925-1) ...\n",
            "Processing triggers for fontconfig (2.12.6-0ubuntu2) ...\n",
            "/usr/share/fonts: caching, new cache contents: 0 fonts, 1 dirs\n",
            "/usr/share/fonts/truetype: caching, new cache contents: 0 fonts, 3 dirs\n",
            "/usr/share/fonts/truetype/humor-sans: caching, new cache contents: 1 fonts, 0 dirs\n",
            "/usr/share/fonts/truetype/liberation: caching, new cache contents: 16 fonts, 0 dirs\n",
            "/usr/share/fonts/truetype/nanum: caching, new cache contents: 10 fonts, 0 dirs\n",
            "/usr/local/share/fonts: caching, new cache contents: 0 fonts, 0 dirs\n",
            "/root/.local/share/fonts: skipping, no such directory\n",
            "/root/.fonts: skipping, no such directory\n",
            "/var/cache/fontconfig: cleaning cache directory\n",
            "/root/.cache/fontconfig: not cleaning non-existent cache directory\n",
            "/root/.fontconfig: not cleaning non-existent cache directory\n",
            "fc-cache: succeeded\n"
          ]
        }
      ]
    },
    {
      "cell_type": "code",
      "source": [
        "from  wordcloud import WordCloud"
      ],
      "metadata": {
        "id": "-4ne5WYUXYEQ"
      },
      "execution_count": 20,
      "outputs": []
    },
    {
      "cell_type": "code",
      "source": [
        "src = \"\"\"\n",
        "      python interpreter language python python feature love is\n",
        "      wonderful python interpreter language all language is hard\n",
        "\"\"\""
      ],
      "metadata": {
        "id": "yS8zgHdeXa3b"
      },
      "execution_count": 21,
      "outputs": []
    },
    {
      "cell_type": "code",
      "source": [
        "import matplotlib.font_manager as fm\n",
        "sf = fm.findSystemFonts()\n",
        "[f for f in sf if 'Nanum' in f]"
      ],
      "metadata": {
        "colab": {
          "base_uri": "https://localhost:8080/",
          "height": 0
        },
        "id": "uGmXetf2Xhkm",
        "outputId": "fec436f1-2f02-4018-8dcd-ad34b3ea1dc5"
      },
      "execution_count": 22,
      "outputs": [
        {
          "output_type": "execute_result",
          "data": {
            "text/plain": [
              "['/usr/share/fonts/truetype/nanum/NanumBarunGothic.ttf',\n",
              " '/usr/share/fonts/truetype/nanum/NanumSquareR.ttf',\n",
              " '/usr/share/fonts/truetype/nanum/NanumSquareB.ttf',\n",
              " '/usr/share/fonts/truetype/nanum/NanumMyeongjo.ttf',\n",
              " '/usr/share/fonts/truetype/nanum/NanumSquareRoundR.ttf',\n",
              " '/usr/share/fonts/truetype/nanum/NanumSquareRoundB.ttf',\n",
              " '/usr/share/fonts/truetype/nanum/NanumBarunGothicBold.ttf',\n",
              " '/usr/share/fonts/truetype/nanum/NanumMyeongjoBold.ttf',\n",
              " '/usr/share/fonts/truetype/nanum/NanumGothic.ttf',\n",
              " '/usr/share/fonts/truetype/nanum/NanumGothicBold.ttf']"
            ]
          },
          "metadata": {},
          "execution_count": 22
        }
      ]
    },
    {
      "cell_type": "code",
      "source": [
        "wc = WordCloud('/usr/share/fonts/truetype/nanum/NanumBarunGothic.ttf')\n",
        "wc.generate(filter_str)\n",
        "plt.figure()\n",
        "plt.imshow(wc)\n",
        "plt.axis('off')\n",
        "plt.show()\n",
        "wc.words_ #빈도수가 가장 많은 걸 1"
      ],
      "metadata": {
        "colab": {
          "base_uri": "https://localhost:8080/",
          "height": 767
        },
        "id": "V1EdtQPeXfvA",
        "outputId": "0050e9c1-ee56-4e27-8d56-b807766e3c81"
      },
      "execution_count": 37,
      "outputs": [
        {
          "output_type": "display_data",
          "data": {
            "image/png": "[encoded data removed]",
            "text/plain": [
              "<Figure size 432x288 with 1 Axes>"
            ]
          },
          "metadata": {
            "needs_background": "light"
          }
        },
        {
          "output_type": "execute_result",
          "data": {
            "text/plain": [
              "{'27명의': 0.5,\n",
              " 'b파이썬b': 0.5,\n",
              " 'b파이썬b을': 0.5,\n",
              " '검증으로': 0.5,\n",
              " '과외하듯': 0.5,\n",
              " '구성했다': 0.5,\n",
              " '내용을': 0.5,\n",
              " '도서': 0.5,\n",
              " '독학으로': 0.5,\n",
              " '만든': 0.5,\n",
              " '맞춤형': 0.5,\n",
              " '무엇을': 0.5,\n",
              " '반영': 0.5,\n",
              " '배우는': 0.5,\n",
              " '배우려는': 1.0,\n",
              " '버전': 0.5,\n",
              " '베타리더': 0.5,\n",
              " '언어를': 0.5,\n",
              " '입문자': 0.5,\n",
              " '입문자가': 1.0,\n",
              " '있도록': 0.5,\n",
              " '자습서b파이썬b': 0.5,\n",
              " '제대로': 0.5,\n",
              " '책은': 0.5,\n",
              " '처음': 0.5,\n",
              " '최신': 0.5,\n",
              " '프로그래밍': 1.0,\n",
              " '필요한': 0.5,\n",
              " '학습할': 0.5,\n",
              " '함께': 0.5,\n",
              " '혹은': 0.5}"
            ]
          },
          "metadata": {},
          "execution_count": 37
        }
      ]
    },
    {
      "cell_type": "code",
      "source": [
        "wc = WordCloud(font_path = '')\n",
        "wc.generate(src)\n",
        "plt.figure()\n",
        "plt.imshow(wc)\n",
        "plt.axis('off')\n",
        "plt.show()\n",
        "wc.words_ #빈도수가 가장 많은 걸 1"
      ],
      "metadata": {
        "id": "DxqERdc2XnHW"
      },
      "execution_count": null,
      "outputs": []
    },
    {
      "cell_type": "code",
      "source": [
        "# 기존의 웹(인증 키x)들어가서 크롤링함.\n",
        "# 웹스크랩핑: 웹에서 원하는 부분만 꺼내서 가져오기 \n",
        "from bs4 import BeautifulSoup\n",
        "url = 'https://ehpub.co.kr'\n",
        "\n",
        "response = urllib.request.urlopen(url) #웹 서버에 요청\n",
        "res = response.read().decode('utf-8')\n",
        "\n",
        "bre = BeautifulSoup(res,'html.parser')\n",
        "\n",
        "print(bre.body.text)\n",
        "\n",
        "wc = WordCloud(font_path = '/usr/share/fonts/truetype/nanum/NanumBarunGothic.ttf')\n",
        "wc.generate(bre.body.text)\n",
        "plt.figure()\n",
        "plt.imshow(wc)\n",
        "plt.axis('off')\n",
        "plt.show()\n",
        "wc.words_"
      ],
      "metadata": {
        "colab": {
          "base_uri": "https://localhost:8080/",
          "height": 1000
        },
        "id": "mriKCIz7elCj",
        "outputId": "b6cdca01-6ae2-4692-eb51-659cb70c5ee7"
      },
      "execution_count": 42,
      "outputs": [
        {
          "output_type": "stream",
          "name": "stdout",
          "text": [
            "\n",
            "Skip to content\n",
            "\n",
            "\n",
            "언제나 휴일 \n",
            "\n",
            "\n",
            "언제나 휴일 프로그래머홈\n",
            "프로그래밍 언어\n",
            "\n",
            "언제나 C언어\n",
            "C언어 표준 라이브러리 함수 가이드\n",
            "디딤돌 C언어\n",
            "Escort C#\n",
            "미래실험실 Python\n",
            "디딤돌 C++\n",
            "Java 입문\n",
            "디딤돌 Java 언어 Part2 활용\n",
            "구글 Go 하자\n",
            "HTML5\n",
            "\n",
            "\n",
            "프로그램 소스\n",
            "\n",
            "코딩테스트 python\n",
            "C언어 소스\n",
            "C++ 소스\n",
            "C# 소스\n",
            "Windows Form with C# [실습]\n",
            "네트워크 프로그래밍 C#\n",
            "안드로이드 소스\n",
            "OpenCV 파이썬 Colab\n",
            "\n",
            "\n",
            "빅데이터\n",
            "\n",
            "빅데이터 python\n",
            "데이터분석 with R\n",
            "데이터분석 with C#\n",
            "머신 러닝\n",
            "머신러닝 with C#, ML.NET\n",
            "빅데이터를 활용하라.\n",
            "엑셀로 배우는 데이터분석\n",
            "\n",
            "\n",
            "프로젝트 만들기\n",
            "\n",
            "테트리스\n",
            "원격 제어 프로그램\n",
            "Wafer 코팅 시뮬레이션\n",
            "네트워크 패킷 분석기\n",
            "미디 분석 프로그램\n",
            "웹 검색 엔진 만들기 with C#\n",
            "파이썬으로 지역 검색 및 지도에 표시\n",
            "\n",
            "\n",
            "알고리즘 자료구조\n",
            "\n",
            "디딤돌 알고리즘 C언어\n",
            "알고리즘 자료구조 with C언어\n",
            "알고리즘 자료구조 with C++\n",
            "\n",
            "\n",
            "프로그래밍 기술\n",
            "\n",
            "Escort GoF의 디자인 패턴 C#\n",
            "Windows Forms 응용 with C#\n",
            "언제나 WPF\n",
            "MSSQL과 ADO.NET\n",
            "XML.NET\n",
            "S/W접근성 기술, UI 자동화\n",
            "TCP IP 프로토콜 분석 with 와이어샤크\n",
            "TCP/IP 소켓 프로그래밍 with 윈도우즈\n",
            "TCP/IP 프로토콜\n",
            "개발 공정 가이드\n",
            "Windows API\n",
            "리눅스(유닉스) 시스템 프로그래밍\n",
            "언휴의 리눅스 쉘 프로그래밍\n",
            "\n",
            "\n",
            "유틸 및 정보처리\n",
            "\n",
            "설치 및 서비스 가입\n",
            "워드 프레스\n",
            "[정보처리기사 필기] 계산기 구조\n",
            "[정보처리기사 필기] 데이터 통신\n",
            "[정보처리기사 필기] 데이터베이스\n",
            "[정보처리기사 필기] 소프트웨어 공학\n",
            "[정보처리기사 필기] 운영체제\n",
            "\n",
            "\n",
            "동영상 강의\n",
            "\n",
            "[동강] 디딤돌 C언어\n",
            "[동영] Escort C#\n",
            "[동강] 언제나 C언어 예제\n",
            "[동강] 실습으로 다지는 C#\n",
            "[동강] 소프트웨어 설계 C#\n",
            "[동강] UI 자동화\n",
            "[동강] 디딤돌 C++\n",
            "\n",
            "\n",
            "공지 및 Q&A\n",
            "\n",
            "공지 사항\n",
            "프로그래밍 Q&A\n",
            "언제나 휴일 유튜브\n",
            "\n",
            "\n",
            " \n",
            "\n",
            "\n",
            "facebook\n",
            "\n",
            "\n",
            "\n",
            "\n",
            "\n",
            "youtube\n",
            "\n",
            "\n",
            "\n",
            "\n",
            "\n",
            "email\n",
            "\n",
            "\n",
            " \n",
            "\n",
            "\n",
            "\n",
            "\n",
            "\n",
            "언제나 휴일\n",
            "\n",
            "\n",
            "\n",
            "\n",
            "오늘도 즐거운 하루입니다.\n",
            "\n",
            "\n",
            "\n",
            "\n",
            "프로그래밍 언어\n",
            "빅데이터\n",
            "프로그래밍 기술\n",
            "\n",
            "\n",
            "\n",
            "언제나 C언어\n",
            "C언어 표준 라이브러리 함수 가이드\n",
            " 디딤돌  C언어\n",
            "디딤돌 C++\n",
            "자료구조와 알고리즘 with C언어\n",
            "디딤돌 알고리즘 C언어\n",
            "자료구조와 알고리즘 with C++\n",
            "Escort C#\n",
            "미래실험실 pYTHON\n",
            "Java 언어 Part1\n",
            "Java 언어 Part2 활용\n",
            "구글 Go 하자.\n",
            "HTML5\n",
            "\n",
            "\n",
            "빅데이터 with python\n",
            "빅데이터를 활용하라.\n",
            "데이터분석 with R\n",
            "데이터 분석 with C#\n",
            "머신 러닝\n",
            "머신러닝 with C#,ML.NET\n",
            "엑셀로 배우는 데이터분석\n",
            "\n",
            "\n",
            "언제나 WPF\n",
            "Escort GoF의 디자인 패턴 C#\n",
            "S/W 접근성 기술, UI 자동화\n",
            "Windows Forms 응용 with C#\n",
            "MS SQL과 ADO.NET\n",
            "XML.NET\n",
            "TCP/IP 프로토콜\n",
            "TCP/IP 프로토콜 분석 with 와이어샤크\n",
            "TCP/IP 소켓 프로그래밍 with 윈도우즈\n",
            "Windows API\n",
            "리눅스(유닉스) 시스템 프로그래밍\n",
            "언휴의 리눅스 쉘 프로그래밍\n",
            "프로젝트 개발 공정 가이드\n",
            "\n",
            "\n",
            "\n",
            "프로그래밍 소스\n",
            "프로젝트\n",
            "유틸/정보처리/기타\n",
            "\n",
            "\n",
            "\n",
            "코딩테스트 python\n",
            "C언어 예제\n",
            "C++ 예제\n",
            "안드로이드\n",
            " C#소스\n",
            "OpenCV 파이썬 Colab\n",
            "Windows Forms [C#] 실습\n",
            "네트워크 프로그래밍 [C#]\n",
            " \n",
            "\n",
            "\n",
            "테트리스\n",
            "원격 제어 프로그램\n",
            "Wafer 코팅 시뮬레이션\n",
            "네트워크 패킷 분석기\n",
            "미디 분석 프로그램\n",
            "웹 검색 엔진 만들기 with C#\n",
            "파이썬 지역 검색 및 지도\n",
            "\n",
            "\n",
            "설치 및 서비스 가입\n",
            "워드프레스\n",
            "데이터베이스\n",
            "계산기 구조\n",
            "운영체제\n",
            "소프트웨어 공학\n",
            "데이터 통신\n",
            "\n",
            "\n",
            "\n",
            "\n",
            "방문 후기나 궁금한 사항은 언제나 휴일 Q&A 카페를 이용하시기 바랍니다.\n",
            " \n",
            "\n",
            "\n",
            "\n",
            "\n",
            "\n",
            "\n",
            "\n",
            "\n",
            "\t\t\t언제나 휴일\t\t\n",
            "\n",
            "언제나 휴일 프로그래머 \n",
            "\n",
            "            언제나 휴일 사이트의 모든 글은 언제나 휴일 출판사의 소유입니다.\n",
            "무단 배포 및 상업적 사용을 불허합니다. 출처를 밝힌 후에 퍼가기(링크)는 가능합니다.        \n",
            "\n",
            "\n",
            "\n",
            "\n",
            "\n",
            "/* <![CDATA[ */\n",
            "var kboard_settings = {\"post_url\":\"https:\\/\\/ehpub.co.kr\\/wp-admin\\/admin-post.php\",\"alax_url\":\"https:\\/\\/ehpub.co.kr\\/wp-admin\\/admin-ajax.php\",\"plugin_url\":\"https:\\/\\/ehpub.co.kr\\/wp-content\\/plugins\\/kboard\",\"media_group\":\"622020654edf5\"};\n",
            "var kboard_localize_strings = {\"kboard_add_media\":\"KBoard \\ubbf8\\ub514\\uc5b4 \\ucd94\\uac00\",\"next\":\"\\ub2e4\\uc74c\",\"prev\":\"\\uc774\\uc804\",\"please_enter_the_title\":\"\\uc81c\\ubaa9\\uc744 \\uc785\\ub825\\ud574\\uc8fc\\uc138\\uc694.\",\"please_enter_the_author\":\"\\uc791\\uc131\\uc790\\ub97c \\uc785\\ub825\\ud574\\uc8fc\\uc138\\uc694.\",\"please_enter_the_password\":\"\\ube44\\ubc00\\ubc88\\ud638\\ub97c \\uc785\\ub825\\ud574\\uc8fc\\uc138\\uc694.\",\"please_enter_the_CAPTCHA\":\"\\uc606\\uc5d0 \\ubcf4\\uc774\\ub294 \\ubcf4\\uc548\\ucf54\\ub4dc\\ub97c \\uc785\\ub825\\ud574\\uc8fc\\uc138\\uc694.\",\"you_have_already_voted\":\"\\uc774\\ubbf8 \\ud22c\\ud45c\\ud588\\uc2b5\\ub2c8\\ub2e4.\",\"please_wait\":\"\\uc7a0\\uc2dc\\ub9cc \\uae30\\ub2e4\\ub824\\uc8fc\\uc138\\uc694.\",\"newest\":\"\\ucd5c\\uc2e0\\uc21c\",\"best\":\"\\uc778\\uae30\\uc21c\",\"updated\":\"\\uc5c5\\ub370\\uc774\\ud2b8\\uc21c\"};\n",
            "/* ]]> */\n",
            "\n",
            "\n",
            "\n",
            "\n"
          ]
        },
        {
          "output_type": "display_data",
          "data": {
            "image/png": "[encoded data removed]",
            "text/plain": [
              "<Figure size 432x288 with 1 Axes>"
            ]
          },
          "metadata": {
            "needs_background": "light"
          }
        },
        {
          "output_type": "execute_result",
          "data": {
            "text/plain": [
              "{'622020654edf5': 0.07142857142857142,\n",
              " 'ADO': 0.14285714285714285,\n",
              " 'API': 0.14285714285714285,\n",
              " 'CDATA': 0.07142857142857142,\n",
              " 'Colab': 0.14285714285714285,\n",
              " 'C언어': 1.0,\n",
              " 'Escort': 0.35714285714285715,\n",
              " 'Go': 0.14285714285714285,\n",
              " 'GoF의': 0.14285714285714285,\n",
              " 'HTML5': 0.14285714285714285,\n",
              " 'IP 프로토콜': 0.2857142857142857,\n",
              " 'Java': 0.2857142857142857,\n",
              " 'ML': 0.14285714285714285,\n",
              " 'MS': 0.07142857142857142,\n",
              " 'MSSQL과': 0.07142857142857142,\n",
              " 'NET': 0.42857142857142855,\n",
              " 'OpenCV': 0.14285714285714285,\n",
              " 'Part1': 0.07142857142857142,\n",
              " 'Part2': 0.14285714285714285,\n",
              " 'SQL과': 0.07142857142857142,\n",
              " 'Skip': 0.07142857142857142,\n",
              " 'TCP IP': 0.42857142857142855,\n",
              " 'UI 자동화': 0.21428571428571427,\n",
              " 'WPF': 0.14285714285714285,\n",
              " 'Wafer': 0.14285714285714285,\n",
              " 'Windows': 0.14285714285714285,\n",
              " 'Windows Form': 0.2857142857142857,\n",
              " 'W접근성': 0.07142857142857142,\n",
              " 'XML': 0.14285714285714285,\n",
              " 'admin': 0.2857142857142857,\n",
              " 'ajax': 0.07142857142857142,\n",
              " 'alax_url': 0.07142857142857142,\n",
              " 'co kr': 0.21428571428571427,\n",
              " 'content': 0.14285714285714285,\n",
              " 'ehpub co': 0.21428571428571427,\n",
              " 'email': 0.07142857142857142,\n",
              " 'facebook': 0.07142857142857142,\n",
              " 'https ehpub': 0.21428571428571427,\n",
              " 'kboard': 0.14285714285714285,\n",
              " 'kboard_add_media': 0.07142857142857142,\n",
              " 'kboard_localize_strings': 0.07142857142857142,\n",
              " 'kboard_settings': 0.07142857142857142,\n",
              " 'kr wp': 0.21428571428571427,\n",
              " 'media_group': 0.07142857142857142,\n",
              " 'next': 0.07142857142857142,\n",
              " 'php': 0.14285714285714285,\n",
              " 'please_enter_the_author': 0.07142857142857142,\n",
              " 'please_enter_the_title': 0.07142857142857142,\n",
              " 'plugin_url': 0.07142857142857142,\n",
              " 'plugins': 0.07142857142857142,\n",
              " 'post': 0.07142857142857142,\n",
              " 'post_url': 0.07142857142857142,\n",
              " 'prev': 0.07142857142857142,\n",
              " 'python': 0.42857142857142855,\n",
              " 'uac00': 0.07142857142857142,\n",
              " 'uae30': 0.14285714285714285,\n",
              " 'ub2e4': 0.21428571428571427,\n",
              " 'ub514': 0.07142857142857142,\n",
              " 'ub825 ud574': 0.2857142857142857,\n",
              " 'ub97c uc785': 0.21428571428571427,\n",
              " 'ubaa9': 0.07142857142857142,\n",
              " 'ubbf8': 0.14285714285714285,\n",
              " 'ubcf4': 0.14285714285714285,\n",
              " 'uc138 uc694': 0.35714285714285715,\n",
              " 'uc21c': 0.21428571428571427,\n",
              " 'uc5b4': 0.07142857142857142,\n",
              " 'uc744': 0.07142857142857142,\n",
              " 'uc74c': 0.07142857142857142,\n",
              " 'uc774': 0.2857142857142857,\n",
              " 'uc785 ub825': 0.2857142857142857,\n",
              " 'uc791': 0.07142857142857142,\n",
              " 'uc804': 0.07142857142857142,\n",
              " 'uc81c': 0.07142857142857142,\n",
              " 'uc8fc uc138': 0.35714285714285715,\n",
              " 'ucd94': 0.07142857142857142,\n",
              " 'ud574 uc8fc': 0.2857142857142857,\n",
              " 'var': 0.14285714285714285,\n",
              " 'youtube': 0.07142857142857142,\n",
              " '가능합니다': 0.07142857142857142,\n",
              " '가이드': 0.2857142857142857,\n",
              " '가입': 0.14285714285714285,\n",
              " '강의': 0.07142857142857142,\n",
              " '개발': 0.14285714285714285,\n",
              " '검색': 0.2857142857142857,\n",
              " '계산기': 0.14285714285714285,\n",
              " '공정': 0.14285714285714285,\n",
              " '공지': 0.14285714285714285,\n",
              " '공학': 0.14285714285714285,\n",
              " '구글': 0.14285714285714285,\n",
              " '구조': 0.14285714285714285,\n",
              " '궁금한': 0.07142857142857142,\n",
              " '글은': 0.07142857142857142,\n",
              " '기술': 0.2857142857142857,\n",
              " '기타': 0.07142857142857142,\n",
              " '네트워크': 0.2857142857142857,\n",
              " '다지는': 0.07142857142857142,\n",
              " '데이터': 0.21428571428571427,\n",
              " '데이터베이스': 0.14285714285714285,\n",
              " '데이터분석': 0.35714285714285715,\n",
              " '동강': 0.42857142857142855,\n",
              " '동영': 0.07142857142857142,\n",
              " '동영상': 0.07142857142857142,\n",
              " '디딤돌': 0.6428571428571429,\n",
              " '디자인': 0.14285714285714285,\n",
              " '라이브러리': 0.14285714285714285,\n",
              " '러닝': 0.14285714285714285,\n",
              " '리눅스': 0.2857142857142857,\n",
              " '링크': 0.07142857142857142,\n",
              " '만들기': 0.21428571428571427,\n",
              " '머신': 0.14285714285714285,\n",
              " '머신러닝': 0.14285714285714285,\n",
              " '모든': 0.07142857142857142,\n",
              " '무단': 0.07142857142857142,\n",
              " '미디': 0.14285714285714285,\n",
              " '미래실험실': 0.14285714285714285,\n",
              " '바랍니다': 0.07142857142857142,\n",
              " '밝힌': 0.07142857142857142,\n",
              " '방문': 0.07142857142857142,\n",
              " '배우는': 0.14285714285714285,\n",
              " '배포': 0.07142857142857142,\n",
              " '분석': 0.35714285714285715,\n",
              " '분석기': 0.14285714285714285,\n",
              " '불허합니다': 0.07142857142857142,\n",
              " '빅데이터': 0.2857142857142857,\n",
              " '빅데이터를': 0.14285714285714285,\n",
              " '사용을': 0.07142857142857142,\n",
              " '사이트의': 0.07142857142857142,\n",
              " '사항': 0.07142857142857142,\n",
              " '사항은': 0.07142857142857142,\n",
              " '상업적': 0.07142857142857142,\n",
              " '서비스': 0.14285714285714285,\n",
              " '설계': 0.07142857142857142,\n",
              " '설치': 0.14285714285714285,\n",
              " '소스': 0.5,\n",
              " '소유입니다': 0.07142857142857142,\n",
              " '소켓': 0.14285714285714285,\n",
              " '소프트웨어': 0.21428571428571427,\n",
              " '시뮬레이션': 0.14285714285714285,\n",
              " '시스템': 0.14285714285714285,\n",
              " '실습': 0.14285714285714285,\n",
              " '실습으로': 0.07142857142857142,\n",
              " '안드로이드': 0.14285714285714285,\n",
              " '알고리즘': 0.5,\n",
              " '언어': 0.35714285714285715,\n",
              " '언제나': 0.35714285714285715,\n",
              " '언제나 휴일': 0.6428571428571429,\n",
              " '언휴의': 0.14285714285714285,\n",
              " '엑셀로': 0.14285714285714285,\n",
              " '엔진': 0.14285714285714285,\n",
              " '예제': 0.21428571428571427,\n",
              " '오늘도': 0.07142857142857142,\n",
              " '와이어샤크': 0.14285714285714285,\n",
              " '운영체제': 0.14285714285714285,\n",
              " '워드': 0.07142857142857142,\n",
              " '워드프레스': 0.07142857142857142,\n",
              " '원격': 0.14285714285714285,\n",
              " '윈도우즈': 0.14285714285714285,\n",
              " '유닉스': 0.14285714285714285,\n",
              " '유튜브': 0.07142857142857142,\n",
              " '유틸': 0.14285714285714285,\n",
              " '응용': 0.14285714285714285,\n",
              " '이용하시기': 0.07142857142857142,\n",
              " '입문': 0.07142857142857142,\n",
              " '자료구조': 0.21428571428571427,\n",
              " '자료구조와': 0.14285714285714285,\n",
              " '접근성': 0.07142857142857142,\n",
              " '정보처리': 0.14285714285714285,\n",
              " '정보처리기사 필기': 0.35714285714285715,\n",
              " '제어': 0.14285714285714285,\n",
              " '즐거운': 0.07142857142857142,\n",
              " '지도': 0.07142857142857142,\n",
              " '지도에': 0.07142857142857142,\n",
              " '지역': 0.14285714285714285,\n",
              " '출처를': 0.07142857142857142,\n",
              " '출판사의': 0.07142857142857142,\n",
              " '카페를': 0.07142857142857142,\n",
              " '코딩테스트': 0.14285714285714285,\n",
              " '코팅': 0.14285714285714285,\n",
              " '테트리스': 0.14285714285714285,\n",
              " '통신': 0.14285714285714285,\n",
              " '파이썬': 0.21428571428571427,\n",
              " '파이썬으로': 0.07142857142857142,\n",
              " '패킷': 0.14285714285714285,\n",
              " '패턴': 0.14285714285714285,\n",
              " '퍼가기': 0.07142857142857142,\n",
              " '표시': 0.07142857142857142,\n",
              " '표준': 0.14285714285714285,\n",
              " '프레스': 0.07142857142857142,\n",
              " '프로그래머': 0.07142857142857142,\n",
              " '프로그래머홈': 0.07142857142857142,\n",
              " '프로그래밍': 1.0,\n",
              " '프로그램': 0.35714285714285715,\n",
              " '프로젝트': 0.21428571428571427,\n",
              " '하루입니다': 0.07142857142857142,\n",
              " '하자': 0.14285714285714285,\n",
              " '함수': 0.14285714285714285,\n",
              " '활용': 0.14285714285714285,\n",
              " '활용하라': 0.14285714285714285,\n",
              " '후기나': 0.07142857142857142,\n",
              " '후에': 0.07142857142857142}"
            ]
          },
          "metadata": {},
          "execution_count": 42
        }
      ]
    },
    {
      "cell_type": "markdown",
      "source": [
        "train_titanic.csv 파일의 내용을 분석 실습\n"
      ],
      "metadata": {
        "id": "0OfRNwwUZXTW"
      }
    },
    {
      "cell_type": "code",
      "source": [
        "import pandas as pd\n"
      ],
      "metadata": {
        "id": "s5UGDH9XjDyV"
      },
      "execution_count": 53,
      "outputs": []
    },
    {
      "cell_type": "code",
      "source": [
        "path ='/content/drive/MyDrive/module/train_titanic.csv'\n",
        "df= pd.read_csv(path)\n",
        "df"
      ],
      "metadata": {
        "colab": {
          "base_uri": "https://localhost:8080/",
          "height": 520
        },
        "id": "y6EdDoKLaNjC",
        "outputId": "a2b50ebb-22f6-4aee-9c75-4756e0dbcf46"
      },
      "execution_count": 54,
      "outputs": [
        {
          "output_type": "execute_result",
          "data": {
            "text/html": [
              "\n",
              "  <div id=\"df-7d8b1432-e94c-400e-abf1-79c65dfe9fd0\">\n",
              "    <div class=\"colab-df-container\">\n",
              "      <div>\n",
              "<style scoped>\n",
              "    .dataframe tbody tr th:only-of-type {\n",
              "        vertical-align: middle;\n",
              "    }\n",
              "\n",
              "    .dataframe tbody tr th {\n",
              "        vertical-align: top;\n",
              "    }\n",
              "\n",
              "    .dataframe thead th {\n",
              "        text-align: right;\n",
              "    }\n",
              "</style>\n",
              "<table border=\"1\" class=\"dataframe\">\n",
              "  <thead>\n",
              "    <tr style=\"text-align: right;\">\n",
              "      <th></th>\n",
              "      <th>PassengerId</th>\n",
              "      <th>Survived</th>\n",
              "      <th>Pclass</th>\n",
              "      <th>Name</th>\n",
              "      <th>Sex</th>\n",
              "      <th>Age</th>\n",
              "      <th>SibSp</th>\n",
              "      <th>Parch</th>\n",
              "      <th>Ticket</th>\n",
              "      <th>Fare</th>\n",
              "      <th>Cabin</th>\n",
              "      <th>Embarked</th>\n",
              "    </tr>\n",
              "  </thead>\n",
              "  <tbody>\n",
              "    <tr>\n",
              "      <th>0</th>\n",
              "      <td>1</td>\n",
              "      <td>0</td>\n",
              "      <td>3</td>\n",
              "      <td>Braund, Mr. Owen Harris</td>\n",
              "      <td>male</td>\n",
              "      <td>22.0</td>\n",
              "      <td>1</td>\n",
              "      <td>0</td>\n",
              "      <td>A/5 21171</td>\n",
              "      <td>7.2500</td>\n",
              "      <td>NaN</td>\n",
              "      <td>S</td>\n",
              "    </tr>\n",
              "    <tr>\n",
              "      <th>1</th>\n",
              "      <td>2</td>\n",
              "      <td>1</td>\n",
              "      <td>1</td>\n",
              "      <td>Cumings, Mrs. John Bradley (Florence Briggs Th...</td>\n",
              "      <td>female</td>\n",
              "      <td>38.0</td>\n",
              "      <td>1</td>\n",
              "      <td>0</td>\n",
              "      <td>PC 17599</td>\n",
              "      <td>71.2833</td>\n",
              "      <td>C85</td>\n",
              "      <td>C</td>\n",
              "    </tr>\n",
              "    <tr>\n",
              "      <th>2</th>\n",
              "      <td>3</td>\n",
              "      <td>1</td>\n",
              "      <td>3</td>\n",
              "      <td>Heikkinen, Miss. Laina</td>\n",
              "      <td>female</td>\n",
              "      <td>26.0</td>\n",
              "      <td>0</td>\n",
              "      <td>0</td>\n",
              "      <td>STON/O2. 3101282</td>\n",
              "      <td>7.9250</td>\n",
              "      <td>NaN</td>\n",
              "      <td>S</td>\n",
              "    </tr>\n",
              "    <tr>\n",
              "      <th>3</th>\n",
              "      <td>4</td>\n",
              "      <td>1</td>\n",
              "      <td>1</td>\n",
              "      <td>Futrelle, Mrs. Jacques Heath (Lily May Peel)</td>\n",
              "      <td>female</td>\n",
              "      <td>35.0</td>\n",
              "      <td>1</td>\n",
              "      <td>0</td>\n",
              "      <td>113803</td>\n",
              "      <td>53.1000</td>\n",
              "      <td>C123</td>\n",
              "      <td>S</td>\n",
              "    </tr>\n",
              "    <tr>\n",
              "      <th>4</th>\n",
              "      <td>5</td>\n",
              "      <td>0</td>\n",
              "      <td>3</td>\n",
              "      <td>Allen, Mr. William Henry</td>\n",
              "      <td>male</td>\n",
              "      <td>35.0</td>\n",
              "      <td>0</td>\n",
              "      <td>0</td>\n",
              "      <td>373450</td>\n",
              "      <td>8.0500</td>\n",
              "      <td>NaN</td>\n",
              "      <td>S</td>\n",
              "    </tr>\n",
              "    <tr>\n",
              "      <th>...</th>\n",
              "      <td>...</td>\n",
              "      <td>...</td>\n",
              "      <td>...</td>\n",
              "      <td>...</td>\n",
              "      <td>...</td>\n",
              "      <td>...</td>\n",
              "      <td>...</td>\n",
              "      <td>...</td>\n",
              "      <td>...</td>\n",
              "      <td>...</td>\n",
              "      <td>...</td>\n",
              "      <td>...</td>\n",
              "    </tr>\n",
              "    <tr>\n",
              "      <th>886</th>\n",
              "      <td>887</td>\n",
              "      <td>0</td>\n",
              "      <td>2</td>\n",
              "      <td>Montvila, Rev. Juozas</td>\n",
              "      <td>male</td>\n",
              "      <td>27.0</td>\n",
              "      <td>0</td>\n",
              "      <td>0</td>\n",
              "      <td>211536</td>\n",
              "      <td>13.0000</td>\n",
              "      <td>NaN</td>\n",
              "      <td>S</td>\n",
              "    </tr>\n",
              "    <tr>\n",
              "      <th>887</th>\n",
              "      <td>888</td>\n",
              "      <td>1</td>\n",
              "      <td>1</td>\n",
              "      <td>Graham, Miss. Margaret Edith</td>\n",
              "      <td>female</td>\n",
              "      <td>19.0</td>\n",
              "      <td>0</td>\n",
              "      <td>0</td>\n",
              "      <td>112053</td>\n",
              "      <td>30.0000</td>\n",
              "      <td>B42</td>\n",
              "      <td>S</td>\n",
              "    </tr>\n",
              "    <tr>\n",
              "      <th>888</th>\n",
              "      <td>889</td>\n",
              "      <td>0</td>\n",
              "      <td>3</td>\n",
              "      <td>Johnston, Miss. Catherine Helen \"Carrie\"</td>\n",
              "      <td>female</td>\n",
              "      <td>NaN</td>\n",
              "      <td>1</td>\n",
              "      <td>2</td>\n",
              "      <td>W./C. 6607</td>\n",
              "      <td>23.4500</td>\n",
              "      <td>NaN</td>\n",
              "      <td>S</td>\n",
              "    </tr>\n",
              "    <tr>\n",
              "      <th>889</th>\n",
              "      <td>890</td>\n",
              "      <td>1</td>\n",
              "      <td>1</td>\n",
              "      <td>Behr, Mr. Karl Howell</td>\n",
              "      <td>male</td>\n",
              "      <td>26.0</td>\n",
              "      <td>0</td>\n",
              "      <td>0</td>\n",
              "      <td>111369</td>\n",
              "      <td>30.0000</td>\n",
              "      <td>C148</td>\n",
              "      <td>C</td>\n",
              "    </tr>\n",
              "    <tr>\n",
              "      <th>890</th>\n",
              "      <td>891</td>\n",
              "      <td>0</td>\n",
              "      <td>3</td>\n",
              "      <td>Dooley, Mr. Patrick</td>\n",
              "      <td>male</td>\n",
              "      <td>32.0</td>\n",
              "      <td>0</td>\n",
              "      <td>0</td>\n",
              "      <td>370376</td>\n",
              "      <td>7.7500</td>\n",
              "      <td>NaN</td>\n",
              "      <td>Q</td>\n",
              "    </tr>\n",
              "  </tbody>\n",
              "</table>\n",
              "<p>891 rows × 12 columns</p>\n",
              "</div>\n",
              "      <button class=\"colab-df-convert\" onclick=\"convertToInteractive('df-7d8b1432-e94c-400e-abf1-79c65dfe9fd0')\"\n",
              "              title=\"Convert this dataframe to an interactive table.\"\n",
              "              style=\"display:none;\">\n",
              "        \n",
              "  <svg xmlns=\"http://www.w3.org/2000/svg\" height=\"24px\"viewBox=\"0 0 24 24\"\n",
              "       width=\"24px\">\n",
              "    <path d=\"M0 0h24v24H0V0z\" fill=\"none\"/>\n",
              "    <path d=\"M18.56 5.44l.94 2.06.94-2.06 2.06-.94-2.06-.94-.94-2.06-.94 2.06-2.06.94zm-11 1L8.5 8.5l.94-2.06 2.06-.94-2.06-.94L8.5 2.5l-.94 2.06-2.06.94zm10 10l.94 2.06.94-2.06 2.06-.94-2.06-.94-.94-2.06-.94 2.06-2.06.94z\"/><path d=\"M17.41 7.96l-1.37-1.37c-.4-.4-.92-.59-1.43-.59-.52 0-1.04.2-1.43.59L10.3 9.45l-7.72 7.72c-.78.78-.78 2.05 0 2.83L4 21.41c.39.39.9.59 1.41.59.51 0 1.02-.2 1.41-.59l7.78-7.78 2.81-2.81c.8-.78.8-2.07 0-2.86zM5.41 20L4 18.59l7.72-7.72 1.47 1.35L5.41 20z\"/>\n",
              "  </svg>\n",
              "      </button>\n",
              "      \n",
              "  <style>\n",
              "    .colab-df-container {\n",
              "      display:flex;\n",
              "      flex-wrap:wrap;\n",
              "      gap: 12px;\n",
              "    }\n",
              "\n",
              "    .colab-df-convert {\n",
              "      background-color: #E8F0FE;\n",
              "      border: none;\n",
              "      border-radius: 50%;\n",
              "      cursor: pointer;\n",
              "      display: none;\n",
              "      fill: #1967D2;\n",
              "      height: 32px;\n",
              "      padding: 0 0 0 0;\n",
              "      width: 32px;\n",
              "    }\n",
              "\n",
              "    .colab-df-convert:hover {\n",
              "      background-color: #E2EBFA;\n",
              "      box-shadow: 0px 1px 2px rgba(60, 64, 67, 0.3), 0px 1px 3px 1px rgba(60, 64, 67, 0.15);\n",
              "      fill: #174EA6;\n",
              "    }\n",
              "\n",
              "    [theme=dark] .colab-df-convert {\n",
              "      background-color: #3B4455;\n",
              "      fill: #D2E3FC;\n",
              "    }\n",
              "\n",
              "    [theme=dark] .colab-df-convert:hover {\n",
              "      background-color: #434B5C;\n",
              "      box-shadow: 0px 1px 3px 1px rgba(0, 0, 0, 0.15);\n",
              "      filter: drop-shadow(0px 1px 2px rgba(0, 0, 0, 0.3));\n",
              "      fill: #FFFFFF;\n",
              "    }\n",
              "  </style>\n",
              "\n",
              "      <script>\n",
              "        const buttonEl =\n",
              "          document.querySelector('#df-7d8b1432-e94c-400e-abf1-79c65dfe9fd0 button.colab-df-convert');\n",
              "        buttonEl.style.display =\n",
              "          google.colab.kernel.accessAllowed ? 'block' : 'none';\n",
              "\n",
              "        async function convertToInteractive(key) {\n",
              "          const element = document.querySelector('#df-7d8b1432-e94c-400e-abf1-79c65dfe9fd0');\n",
              "          const dataTable =\n",
              "            await google.colab.kernel.invokeFunction('convertToInteractive',\n",
              "                                                     [key], {});\n",
              "          if (!dataTable) return;\n",
              "\n",
              "          const docLinkHtml = 'Like what you see? Visit the ' +\n",
              "            '<a target=\"_blank\" href=https://colab.research.google.com/notebooks/data_table.ipynb>data table notebook</a>'\n",
              "            + ' to learn more about interactive tables.';\n",
              "          element.innerHTML = '';\n",
              "          dataTable['output_type'] = 'display_data';\n",
              "          await google.colab.output.renderOutput(dataTable, element);\n",
              "          const docLink = document.createElement('div');\n",
              "          docLink.innerHTML = docLinkHtml;\n",
              "          element.appendChild(docLink);\n",
              "        }\n",
              "      </script>\n",
              "    </div>\n",
              "  </div>\n",
              "  "
            ],
            "text/plain": [
              "     PassengerId  Survived  Pclass  ...     Fare Cabin  Embarked\n",
              "0              1         0       3  ...   7.2500   NaN         S\n",
              "1              2         1       1  ...  71.2833   C85         C\n",
              "2              3         1       3  ...   7.9250   NaN         S\n",
              "3              4         1       1  ...  53.1000  C123         S\n",
              "4              5         0       3  ...   8.0500   NaN         S\n",
              "..           ...       ...     ...  ...      ...   ...       ...\n",
              "886          887         0       2  ...  13.0000   NaN         S\n",
              "887          888         1       1  ...  30.0000   B42         S\n",
              "888          889         0       3  ...  23.4500   NaN         S\n",
              "889          890         1       1  ...  30.0000  C148         C\n",
              "890          891         0       3  ...   7.7500   NaN         Q\n",
              "\n",
              "[891 rows x 12 columns]"
            ]
          },
          "metadata": {},
          "execution_count": 54
        }
      ]
    },
    {
      "cell_type": "markdown",
      "source": [
        "1. 주어진 자료의 인원, 생존자, 사망자는 몇 명인가?"
      ],
      "metadata": {
        "id": "pRidn2KjaJnh"
      }
    },
    {
      "cell_type": "code",
      "source": [
        "sur_data = df['Survived']\n",
        "svc = sur_data.value_counts() # 1 생존자 0 사망자\n",
        "\n",
        "print(f\"인원: {sur_data.count()} 사망자 수:{svc.values[0]} 생존자 수: {svc.values[1]}\")"
      ],
      "metadata": {
        "colab": {
          "base_uri": "https://localhost:8080/",
          "height": 0
        },
        "id": "lDEeQ_FzgwxI",
        "outputId": "cd83bb8d-5e95-4859-8ceb-932bf1ba93c1"
      },
      "execution_count": 66,
      "outputs": [
        {
          "output_type": "stream",
          "name": "stdout",
          "text": [
            "인원: 891 사망자 수:549 생존자 수: 342\n"
          ]
        }
      ]
    },
    {
      "cell_type": "markdown",
      "source": [
        "2. 생존자와 사망자를 Pie 그래프로 나타내고 생존자와 사망자의 퍼센트를 소수점 2자리까지 나타내시오.\n"
      ],
      "metadata": {
        "id": "hyjMITfXZa5N"
      }
    },
    {
      "cell_type": "code",
      "source": [
        "labels=[\"dead\", \"alive\"]\n",
        "plt.pie(svc,labels = labels,autopct=\"%.2f\")\n",
        "plt.show()"
      ],
      "metadata": {
        "colab": {
          "base_uri": "https://localhost:8080/",
          "height": 248
        },
        "id": "mX9oBRPekSTw",
        "outputId": "836c6362-7a56-4f56-a81a-42b74854243b"
      },
      "execution_count": 61,
      "outputs": [
        {
          "output_type": "display_data",
          "data": {
            "image/png": "[encoded data removed]",
            "text/plain": [
              "<Figure size 432x288 with 1 Axes>"
            ]
          },
          "metadata": {}
        }
      ]
    },
    {
      "cell_type": "markdown",
      "source": [
        "3. 결측데이터가 있는 컬럼들을 조사하시오.\n"
      ],
      "metadata": {
        "id": "wBclJ2uYZbNb"
      }
    },
    {
      "cell_type": "code",
      "source": [
        "df.info()"
      ],
      "metadata": {
        "colab": {
          "base_uri": "https://localhost:8080/",
          "height": 0
        },
        "id": "vNHgwSRWl6NK",
        "outputId": "b5e61893-3990-4686-d821-6acaf674d29a"
      },
      "execution_count": 67,
      "outputs": [
        {
          "output_type": "stream",
          "name": "stdout",
          "text": [
            "<class 'pandas.core.frame.DataFrame'>\n",
            "RangeIndex: 891 entries, 0 to 890\n",
            "Data columns (total 12 columns):\n",
            " #   Column       Non-Null Count  Dtype  \n",
            "---  ------       --------------  -----  \n",
            " 0   PassengerId  891 non-null    int64  \n",
            " 1   Survived     891 non-null    int64  \n",
            " 2   Pclass       891 non-null    int64  \n",
            " 3   Name         891 non-null    object \n",
            " 4   Sex          891 non-null    object \n",
            " 5   Age          714 non-null    float64\n",
            " 6   SibSp        891 non-null    int64  \n",
            " 7   Parch        891 non-null    int64  \n",
            " 8   Ticket       891 non-null    object \n",
            " 9   Fare         891 non-null    float64\n",
            " 10  Cabin        204 non-null    object \n",
            " 11  Embarked     889 non-null    object \n",
            "dtypes: float64(2), int64(5), object(5)\n",
            "memory usage: 83.7+ KB\n"
          ]
        }
      ]
    },
    {
      "cell_type": "code",
      "source": [
        "df['Age'].isnull().value_counts()"
      ],
      "metadata": {
        "colab": {
          "base_uri": "https://localhost:8080/",
          "height": 0
        },
        "id": "6UTzICy8mBzl",
        "outputId": "cff63808-decc-4b73-f09a-b90d85de715e"
      },
      "execution_count": 63,
      "outputs": [
        {
          "output_type": "execute_result",
          "data": {
            "text/plain": [
              "False    714\n",
              "True     177\n",
              "Name: Age, dtype: int64"
            ]
          },
          "metadata": {},
          "execution_count": 63
        }
      ]
    },
    {
      "cell_type": "code",
      "source": [
        "df['Cabin'].isnull().value_counts()"
      ],
      "metadata": {
        "colab": {
          "base_uri": "https://localhost:8080/",
          "height": 0
        },
        "id": "QcaibF93mBuo",
        "outputId": "ac9e84ab-a3f7-43a7-ee51-1af0525e0668"
      },
      "execution_count": 64,
      "outputs": [
        {
          "output_type": "execute_result",
          "data": {
            "text/plain": [
              "True     687\n",
              "False    204\n",
              "Name: Cabin, dtype: int64"
            ]
          },
          "metadata": {},
          "execution_count": 64
        }
      ]
    },
    {
      "cell_type": "code",
      "source": [
        "df['Embarked'].isnull().value_counts()"
      ],
      "metadata": {
        "colab": {
          "base_uri": "https://localhost:8080/",
          "height": 0
        },
        "id": "W9uCMQT2mOnI",
        "outputId": "f47cf62e-747f-4dcb-a066-63ffad32c1c7"
      },
      "execution_count": 65,
      "outputs": [
        {
          "output_type": "execute_result",
          "data": {
            "text/plain": [
              "False    889\n",
              "True       2\n",
              "Name: Embarked, dtype: int64"
            ]
          },
          "metadata": {},
          "execution_count": 65
        }
      ]
    },
    {
      "cell_type": "markdown",
      "source": [
        "4. Pclass의 종류별로 분포를 Pie 그래프로 나타내시오.\n"
      ],
      "metadata": {
        "id": "CAdSqElHZbgA"
      }
    },
    {
      "cell_type": "code",
      "source": [
        "pcl_data = df['Pclass']\n",
        "pcl = pcl_data.value_counts()\n",
        "\n",
        "labels=[\"1\",\"2\",\"3\"]\n",
        "plt.pie(pcl,labels=labels,autopct=\"%.2f\")\n",
        "plt.show()"
      ],
      "metadata": {
        "colab": {
          "base_uri": "https://localhost:8080/",
          "height": 248
        },
        "id": "Mi7SiKksmb5P",
        "outputId": "f53b6388-c8c6-42bc-a92f-505bddd49f68"
      },
      "execution_count": 69,
      "outputs": [
        {
          "output_type": "display_data",
          "data": {
            "image/png": "[encoded data removed]",
            "text/plain": [
              "<Figure size 432x288 with 1 Axes>"
            ]
          },
          "metadata": {}
        }
      ]
    },
    {
      "cell_type": "code",
      "source": [
        "#풀이\n",
        "dcv = df.Pclass.value_counts().sort_index()  #df['Pclass']\n",
        "plt.pie(dcv.values,labels = ['1','2','3'],autopct=\"%.2f%%\", explode=[0.02,0.02,0.02]) #%하나가 출력됨\n",
        "plt.title(\"Pclass\")\n",
        "plt.show"
      ],
      "metadata": {
        "colab": {
          "base_uri": "https://localhost:8080/",
          "height": 282
        },
        "id": "QxcLnWdwpfy1",
        "outputId": "2c303095-0722-46a7-f710-05242ef81f78"
      },
      "execution_count": 75,
      "outputs": [
        {
          "output_type": "execute_result",
          "data": {
            "text/plain": [
              "<function matplotlib.pyplot.show>"
            ]
          },
          "metadata": {},
          "execution_count": 75
        },
        {
          "output_type": "display_data",
          "data": {
            "image/png": "[encoded data removed]",
            "text/plain": [
              "<Figure size 432x288 with 1 Axes>"
            ]
          },
          "metadata": {}
        }
      ]
    },
    {
      "cell_type": "markdown",
      "source": [
        "5. Pclass의 종류별로 생존자와 사망자를 하나의 막대그래프로 나타내시오.(아래:생존자, 위:사망자)\n"
      ],
      "metadata": {
        "id": "Qg8eyf_jZbtF"
      }
    },
    {
      "cell_type": "code",
      "source": [
        "#풀이\n",
        "import numpy as np\n",
        "pdata = df.Pclass\n",
        "cn = len(pdata.unique())\n",
        "pc_alive_arr = np.zeros(cn)\n",
        "pc_dead_arr = np.zeros(cn)\n",
        "for index in range(len(pdata)):\n",
        "  pi = pdata[index]-1  #Pclass는 1,2,3인데 이를 0,1,2로 변환\n",
        "  if sur_data[index]==0: #죽은 승객일 때\n",
        "    pc_dead_arr[pi]+=1\n",
        "  else:\n",
        "    pc_alive_arr[pi]+=1\n",
        "pc_alive_arr, pc_dead_arr\n",
        "\n",
        "labels = ['1','2','3']\n",
        "plt.bar(labels,pc_alive_arr)\n",
        "plt.bar(labels,pc_dead_arr,bottom=pc_alive_arr)\n",
        "for i in range(cn):\n",
        "  plt.annotate(str(pc_alive_arr[i]),(-0.1+i,40))\n",
        "  plt.annotate(str(pc_dead_arr[i]),(-0.1+i,pc_alive_arr[i]+30))\n",
        "plt.show()"
      ],
      "metadata": {
        "colab": {
          "base_uri": "https://localhost:8080/",
          "height": 265
        },
        "id": "wcv4E2asqjYD",
        "outputId": "ff48a071-23e0-4050-9d62-acbdf666d0d2"
      },
      "execution_count": 85,
      "outputs": [
        {
          "output_type": "display_data",
          "data": {
            "image/png": "[encoded data removed]",
            "text/plain": [
              "<Figure size 432x288 with 1 Axes>"
            ]
          },
          "metadata": {
            "needs_background": "light"
          }
        }
      ]
    },
    {
      "cell_type": "markdown",
      "source": [
        "6. Name 컬럼에 탑승자를 부르는 호칭을 Mr, Mrs, Miss, Master, Dr, ETC로 나누어 분포를 파이 그래프로 나타내시오.\n"
      ],
      "metadata": {
        "id": "OiWDk3pSZb5-"
      }
    },
    {
      "cell_type": "code",
      "source": [
        "df.Name"
      ],
      "metadata": {
        "colab": {
          "base_uri": "https://localhost:8080/",
          "height": 0
        },
        "id": "FAW45gm21BQ4",
        "outputId": "ba8d7ead-63c9-45c5-b824-8f5d88637a22"
      },
      "execution_count": 87,
      "outputs": [
        {
          "output_type": "execute_result",
          "data": {
            "text/plain": [
              "0                                Braund, Mr. Owen Harris\n",
              "1      Cumings, Mrs. John Bradley (Florence Briggs Th...\n",
              "2                                 Heikkinen, Miss. Laina\n",
              "3           Futrelle, Mrs. Jacques Heath (Lily May Peel)\n",
              "4                               Allen, Mr. William Henry\n",
              "                             ...                        \n",
              "886                                Montvila, Rev. Juozas\n",
              "887                         Graham, Miss. Margaret Edith\n",
              "888             Johnston, Miss. Catherine Helen \"Carrie\"\n",
              "889                                Behr, Mr. Karl Howell\n",
              "890                                  Dooley, Mr. Patrick\n",
              "Name: Name, Length: 891, dtype: object"
            ]
          },
          "metadata": {},
          "execution_count": 87
        }
      ]
    },
    {
      "cell_type": "code",
      "source": [
        "# 풀이\n",
        "# 호칭 나누기 \n",
        "names_values =['Mr','Mrs','Miss','Master','Dr','ETC']\n",
        "def get_name_index(name):\n",
        "  first,second = name.split(',') # ','를 기준으로 분리\n",
        "  foos = second.split('.') # '.'을 기준으로 분리\n",
        "  tn =foos[0].replace(' ','') # 공백 삭제 \n",
        "  for index,nv in enumerate(names_values):\n",
        "    if nv == tn:\n",
        "      return index\n",
        "  return 5 #index시 5(names_values가 6개로)\n",
        "\n",
        "n_cnts = np.zeros(6)\n",
        "for i,name in enumerate(df.Name):\n",
        "  ni = get_name_index(name)\n",
        "  n_cnts[ni]+=1\n",
        "\n",
        "plt.pie(n_cnts,labels=names_values, autopct=\"%.2f %%\")\n",
        "plt.title(\"Name\")\n",
        "plt.show()\n"
      ],
      "metadata": {
        "colab": {
          "base_uri": "https://localhost:8080/",
          "height": 264
        },
        "id": "ESQO_iXBxKaQ",
        "outputId": "a8a1a45c-f280-4c82-b4c1-0032c7c32997"
      },
      "execution_count": 93,
      "outputs": [
        {
          "output_type": "display_data",
          "data": {
            "image/png": "[encoded data removed]",
            "text/plain": [
              "<Figure size 432x288 with 1 Axes>"
            ]
          },
          "metadata": {}
        }
      ]
    },
    {
      "cell_type": "markdown",
      "source": [
        "7. 앞에서 구분한 호칭에 따른 생존자와 사망자를 하나의 막대그래프로 나타내시오.(아래:생존자, 위:사망자)\n"
      ],
      "metadata": {
        "id": "JBw0WcCoZcIn"
      }
    },
    {
      "cell_type": "code",
      "source": [
        "pn_alive_arr = np.zeros(6)\n",
        "pn_dead_arr = np.zeros(6)\n",
        "for i,name in enumerate(df.Name):\n",
        "  ni = get_name_index(name)\n",
        "  if sur_data[i]==0:\n",
        "    pn_dead_arr[ni]+=1\n",
        "  else:\n",
        "    pn_alive_arr[ni]+=1\n",
        "plt.bar(names_values, pn_alive_arr)\n",
        "plt.bar(names_values, pn_dead_arr, bottom = pn_alive_arr)\n",
        "for i in range(6):\n",
        "  plt.annotate(str(pn_alive_arr[i]),(-0.1+i,40))\n",
        "  if pn_alive_arr[i]<40:\n",
        "    plt.annotate(str(pn_dead_arr[i]),(-0.1+i, pn_alive_arr[i]+80))\n",
        "  else:\n",
        "    plt.annotate(str(pn_dead_arr[i]),(-0.1+i, pn_alive_arr[i]+80))\n",
        "plt.show()"
      ],
      "metadata": {
        "colab": {
          "base_uri": "https://localhost:8080/",
          "height": 265
        },
        "id": "qNre_2e93zpK",
        "outputId": "c0a54d97-eb02-47fd-d791-175940a0a901"
      },
      "execution_count": 98,
      "outputs": [
        {
          "output_type": "display_data",
          "data": {
            "image/png": "[encoded data removed]",
            "text/plain": [
              "<Figure size 432x288 with 1 Axes>"
            ]
          },
          "metadata": {
            "needs_background": "light"
          }
        }
      ]
    },
    {
      "cell_type": "markdown",
      "source": [
        "8. 성별로 분포를 파이 그래프로 나타내시오.\n"
      ],
      "metadata": {
        "id": "FSzXHK_LZcfm"
      }
    },
    {
      "cell_type": "code",
      "source": [
        "dcv = df.Sex.value_counts().sort_index()  #df['Pclass']\n",
        "plt.pie(dcv.values,labels = ['female','male'],autopct=\"%.1f%%\", explode=[0.02,0.02]) #%하나가 출력됨\n",
        "plt.title(\"Sex\")\n",
        "plt.show()"
      ],
      "metadata": {
        "colab": {
          "base_uri": "https://localhost:8080/",
          "height": 264
        },
        "id": "olpWH5KvOedB",
        "outputId": "7158ccab-0d8b-4af8-c8e0-951d0a4b6ef9"
      },
      "execution_count": 102,
      "outputs": [
        {
          "output_type": "display_data",
          "data": {
            "image/png": "[encoded data removed]",
            "text/plain": [
              "<Figure size 432x288 with 1 Axes>"
            ]
          },
          "metadata": {}
        }
      ]
    },
    {
      "cell_type": "code",
      "source": [
        "#풀이\n",
        "df.Sex.value_counts"
      ],
      "metadata": {
        "colab": {
          "base_uri": "https://localhost:8080/",
          "height": 0
        },
        "id": "4yl0O_ieS4Ho",
        "outputId": "56688f0c-66a2-4372-f488-723ef6168614"
      },
      "execution_count": 108,
      "outputs": [
        {
          "output_type": "execute_result",
          "data": {
            "text/plain": [
              "<bound method IndexOpsMixin.value_counts of 0        male\n",
              "1      female\n",
              "2      female\n",
              "3      female\n",
              "4        male\n",
              "        ...  \n",
              "886      male\n",
              "887    female\n",
              "888    female\n",
              "889      male\n",
              "890      male\n",
              "Name: Sex, Length: 891, dtype: object>"
            ]
          },
          "metadata": {},
          "execution_count": 108
        }
      ]
    },
    {
      "cell_type": "code",
      "source": [
        "#풀이\n",
        "print(type(df.Sex[0]))"
      ],
      "metadata": {
        "colab": {
          "base_uri": "https://localhost:8080/",
          "height": 0
        },
        "id": "4JRQDWLmR9p8",
        "outputId": "0db57cb0-7817-450c-bbc9-7728434657cb"
      },
      "execution_count": 105,
      "outputs": [
        {
          "output_type": "stream",
          "name": "stdout",
          "text": [
            "<class 'str'>\n"
          ]
        }
      ]
    },
    {
      "cell_type": "code",
      "source": [
        "#풀이\n",
        "sex_values =['female','male']\n",
        "def get_sex_index(sex):\n",
        "  if sex == 'female':\n",
        "    return 0\n",
        "  return 1\n",
        "\n",
        "s_cnts = np.zeros(2) #데이터 종류 2개(성별은 f,m)\n",
        "for i,sex in enumerate(df.Sex):\n",
        "  si = get_sex_index(sex)\n",
        "  s_cnts[si]+=1\n",
        "\n",
        "plt.pie(s_cnts,labels=sex_values, autopct=\"%.2f %%\")\n",
        "plt.title(\"Sex\")\n",
        "plt.show()\n"
      ],
      "metadata": {
        "colab": {
          "base_uri": "https://localhost:8080/",
          "height": 264
        },
        "id": "OloxJqhVR5Fe",
        "outputId": "36506fbf-a5d2-4da9-9f52-78ed75135253"
      },
      "execution_count": 107,
      "outputs": [
        {
          "output_type": "display_data",
          "data": {
            "image/png": "[encoded data removed]",
            "text/plain": [
              "<Figure size 432x288 with 1 Axes>"
            ]
          },
          "metadata": {}
        }
      ]
    },
    {
      "cell_type": "markdown",
      "source": [
        "9. 성별에 따른 생존자와 사망자를 하나의 막대그래프로 나타내시오.(아래:생존자, 위:사망자)\n"
      ],
      "metadata": {
        "id": "FW6F1aysZcsW"
      }
    },
    {
      "cell_type": "code",
      "source": [
        "#풀이\n",
        "import numpy as np\n",
        "sdata = df.Sex\n",
        "sn = len(sdata.unique())\n",
        "ps_alive_arr = np.zeros(cn)\n",
        "ps_dead_arr = np.zeros(cn)\n",
        "\n",
        "for index in range(len(pdata)):\n",
        "  if sdata[index] =='female':\n",
        "    si = 0\n",
        "  else:\n",
        "    si = 1\n",
        "  if sur_data[index]==0: #죽은 승객일 때\n",
        "    ps_dead_arr[si]+=1\n",
        "  else: #생존 승객일 때\n",
        "    ps_alive_arr[si]+=1\n",
        "\n",
        "# 그래프(막대)\n",
        "labels = ['female','male']\n",
        "plt.bar(labels,ps_alive_arr)\n",
        "plt.bar(labels,ps_dead_arr,bottom=ps_alive_arr)\n",
        "for i in range(cn):\n",
        "  plt.annotate(str(ps_alive_arr[i]),(-0.1+i,40))\n",
        "  plt.annotate(str(ps_dead_arr[i]),(-0.1+i,ps_alive_arr[i]+30))\n",
        "plt.show()"
      ],
      "metadata": {
        "colab": {
          "base_uri": "https://localhost:8080/",
          "height": 267
        },
        "id": "kAylHbI0P7gC",
        "outputId": "2cd61b7a-f46a-4320-e25f-b384bffaa8ab"
      },
      "execution_count": 112,
      "outputs": [
        {
          "output_type": "display_data",
          "data": {
            "image/png": "[encoded data removed]",
            "text/plain": [
              "<Figure size 432x288 with 1 Axes>"
            ]
          },
          "metadata": {
            "needs_background": "light"
          }
        }
      ]
    },
    {
      "cell_type": "markdown",
      "source": [
        "10. 나이를 5살 범위로 17단계로(0 ~ 5, 5 ~ 10,...,80~85)로 나누어 분포를 조사하여 파이 그래프로 나타내시오.(결측값은 평균나이로 처리하시오.)\n"
      ],
      "metadata": {
        "id": "c4aRnxEbZc_Q"
      }
    },
    {
      "cell_type": "code",
      "source": [
        "#풀이\n",
        "#df.Age.isnull().value_counts() -->결측치 177개\n",
        "# 결측데이터를 평균 나이 처리\n",
        "mv = df.Age.mean()   #평균\n",
        "ad = df.Age.fillna(mv)   #결측치를 수정\n",
        "ad.isnull().value_counts()  #확인"
      ],
      "metadata": {
        "colab": {
          "base_uri": "https://localhost:8080/",
          "height": 0
        },
        "id": "L9OR9bjsUakB",
        "outputId": "57560592-6f46-459f-c532-c851291c23c1"
      },
      "execution_count": 117,
      "outputs": [
        {
          "output_type": "execute_result",
          "data": {
            "text/plain": [
              "False    891\n",
              "Name: Age, dtype: int64"
            ]
          },
          "metadata": {},
          "execution_count": 117
        }
      ]
    },
    {
      "cell_type": "code",
      "source": [
        "n, bins, patches = plt.hist(ad,bins = [0,5,10,15,20,25,30,35,40,45,50,55,60,65,70,75,80,85])\n",
        "plt.show()\n",
        "#n #도수값 해당\n",
        "bins"
      ],
      "metadata": {
        "colab": {
          "base_uri": "https://localhost:8080/",
          "height": 302
        },
        "id": "OwLTbJh1f7Y_",
        "outputId": "fc541e80-237a-48ab-fdb6-7f798cf44733"
      },
      "execution_count": 121,
      "outputs": [
        {
          "output_type": "display_data",
          "data": {
            "image/png": "[encoded data removed]",
            "text/plain": [
              "<Figure size 432x288 with 1 Axes>"
            ]
          },
          "metadata": {
            "needs_background": "light"
          }
        },
        {
          "output_type": "execute_result",
          "data": {
            "text/plain": [
              "array([ 0,  5, 10, 15, 20, 25, 30, 35, 40, 45, 50, 55, 60, 65, 70, 75, 80,\n",
              "       85])"
            ]
          },
          "metadata": {},
          "execution_count": 121
        }
      ]
    },
    {
      "cell_type": "code",
      "source": [
        "#풀이\n",
        "age_values = np.zeros(17)\n",
        "for i,age in enumerate(ad):\n",
        "  ai = age//5 #0~4.9999 5로 나누면 몫 0\n",
        "  ai = int(ai)\n",
        "  age_values[ai]+=1\n",
        "age_values\n",
        "  "
      ],
      "metadata": {
        "colab": {
          "base_uri": "https://localhost:8080/",
          "height": 0
        },
        "id": "t-RZ2mWfg6QD",
        "outputId": "30a45fb0-01c2-47c9-e3e1-8361fa5396f8"
      },
      "execution_count": 122,
      "outputs": [
        {
          "output_type": "execute_result",
          "data": {
            "text/plain": [
              "array([ 40.,  22.,  16.,  86., 114., 283.,  95.,  72.,  48.,  41.,  32.,\n",
              "        16.,  15.,   4.,   6.,   0.,   1.])"
            ]
          },
          "metadata": {},
          "execution_count": 122
        }
      ]
    },
    {
      "cell_type": "code",
      "source": [
        "plt.pie(age_values,labels=[ '0','5','10','15','20','25','30','35','40','45','50','55','60','65','70','75','80'], autopct=\"%.2f %%\")\n",
        "plt.show()"
      ],
      "metadata": {
        "colab": {
          "base_uri": "https://localhost:8080/",
          "height": 248
        },
        "id": "FBPn8SLMiDEh",
        "outputId": "9cc40236-6c7c-4603-f1d6-f40772211776"
      },
      "execution_count": 125,
      "outputs": [
        {
          "output_type": "display_data",
          "data": {
            "image/png": "[encoded data removed]",
            "text/plain": [
              "<Figure size 432x288 with 1 Axes>"
            ]
          },
          "metadata": {}
        }
      ]
    },
    {
      "cell_type": "markdown",
      "source": [
        "11. 나이를 구분한 단계에 따른 생존자와 사망자를 하나의 막대그래프로 나타내시오.(아래:생존자, 위:사망자)\n"
      ],
      "metadata": {
        "id": "218dOGGkZdMX"
      }
    },
    {
      "cell_type": "code",
      "source": [
        "ps_alive_arr = np.zeros(17)\n",
        "ps_dead_arr = np.zeros(17)\n",
        "for index in range(len(ad)):\n",
        "  ai = ad[index]//5\n",
        "  ai = int(ai)\n",
        "  \n",
        "  if sur_data[index]==0: #죽은 승객일 때\n",
        "    ps_dead_arr[ai]+=1\n",
        "  else: #생존 승객일 때\n",
        "    ps_alive_arr[ai]+=1\n",
        "\n",
        "labels=['0','5','10','15','20','25','30','35','40','45','50','55','60','65','70','75','80']\n",
        "plt.bar(labels,ps_alive_arr)\n",
        "plt.bar(labels,ps_dead_arr,bottom=ps_alive_arr)\n",
        "plt.show()\n",
        "# 타이타닉을 탄 나이별 인원 수(5단위)\n",
        "for i in range(17):\n",
        "  print(f\"{i*5:02d}  ~ {(i+1)*5:-02d}:  {age_values[i]:03.0f}\")\n"
      ],
      "metadata": {
        "colab": {
          "base_uri": "https://localhost:8080/",
          "height": 577
        },
        "id": "NPxNqGLei2BY",
        "outputId": "3e8818c4-071e-4b93-dfbc-d419d121e6be"
      },
      "execution_count": 126,
      "outputs": [
        {
          "output_type": "display_data",
          "data": {
            "image/png": "[encoded data removed]",
            "text/plain": [
              "<Figure size 432x288 with 1 Axes>"
            ]
          },
          "metadata": {
            "needs_background": "light"
          }
        },
        {
          "output_type": "stream",
          "name": "stdout",
          "text": [
            "00  ~ 05:  040\n",
            "05  ~ 10:  022\n",
            "10  ~ 15:  016\n",
            "15  ~ 20:  086\n",
            "20  ~ 25:  114\n",
            "25  ~ 30:  283\n",
            "30  ~ 35:  095\n",
            "35  ~ 40:  072\n",
            "40  ~ 45:  048\n",
            "45  ~ 50:  041\n",
            "50  ~ 55:  032\n",
            "55  ~ 60:  016\n",
            "60  ~ 65:  015\n",
            "65  ~ 70:  004\n",
            "70  ~ 75:  006\n",
            "75  ~ 80:  000\n",
            "80  ~ 85:  001\n"
          ]
        }
      ]
    },
    {
      "cell_type": "markdown",
      "source": [
        "12. SibSp(형제 자매) 컬럼의 값의 종류에 따른 분포를 조사하여 파이 그래프로 나타내시오.\n"
      ],
      "metadata": {
        "id": "dGV00RBhZdZh"
      }
    },
    {
      "cell_type": "code",
      "source": [
        "df.SibSp.value_counts()\n",
        "#df.SibSp.isnull().value_counts() null값 확인"
      ],
      "metadata": {
        "colab": {
          "base_uri": "https://localhost:8080/",
          "height": 0
        },
        "id": "-X8eORpbpGZe",
        "outputId": "920184d7-5874-4274-c426-e414cf5a512c"
      },
      "execution_count": 133,
      "outputs": [
        {
          "output_type": "execute_result",
          "data": {
            "text/plain": [
              "0    608\n",
              "1    209\n",
              "2     28\n",
              "4     18\n",
              "3     16\n",
              "8      7\n",
              "5      5\n",
              "Name: SibSp, dtype: int64"
            ]
          },
          "metadata": {},
          "execution_count": 133
        }
      ]
    },
    {
      "cell_type": "code",
      "source": [
        "#vc = value count\n",
        "svc = df.SibSp.value_counts().sort_index()\n",
        "plt.pie(svc.values,labels = svc.index,autopct=\"%.1f%%\") \n",
        "plt.title(\"SibSp\")\n",
        "plt.show()"
      ],
      "metadata": {
        "colab": {
          "base_uri": "https://localhost:8080/",
          "height": 264
        },
        "id": "IFb2K_URoOO1",
        "outputId": "bab75abd-8155-44a7-cf94-e843eb641891"
      },
      "execution_count": 136,
      "outputs": [
        {
          "output_type": "display_data",
          "data": {
            "image/png": "[encoded data removed]",
            "text/plain": [
              "<Figure size 432x288 with 1 Axes>"
            ]
          },
          "metadata": {}
        }
      ]
    },
    {
      "cell_type": "markdown",
      "source": [
        "13. 값에 따른 생존자와 사망자를 하나의 막대그래프로 나타내시오.(아래:생존자, 위:사망자)\n"
      ],
      "metadata": {
        "id": "ZeSE3VXZZdnP"
      }
    },
    {
      "cell_type": "code",
      "source": [
        "sdata = df.SibSp\n",
        "sn = 9 #형제자매 수를 인덱스로 사용하기 위해서 0-8까지 9개를 사용\n",
        "sc_alive_arr = np.zeros(sn)\n",
        "sc_dead_arr = np.zeros(sn)\n",
        "for index in range(len(sdata)):\n",
        "  si = sdata[index] #형제자매수를얻어온다\n",
        "  if sur_data[index]==0:\n",
        "    sc_dead_arr[si]+=1\n",
        "  else:\n",
        "    sc_alive_arr[si]+=1\n",
        "  \n",
        "labels=[str(i) for i in range(9)]\n",
        "plt.bar(labels,sc_alive_arr)\n",
        "plt.bar(labels,sc_dead_arr,bottom=sc_alive_arr)\n",
        "for i in range(sn):\n",
        "  plt.annotate(str(sc_alive_arr[i]),(-0.2+i, 40))\n",
        "  if sc_alive_arr[i]<40:\n",
        "    plt.annotate(str(sc_dead_arr[i]),(-0.2+i, sc_alive_arr[i]+80))\n",
        "  else:\n",
        "    plt.annotate(str(sc_dead_arr[i]),(-0.2+i, sc_alive_arr[i]+30))\n",
        "plt.show()"
      ],
      "metadata": {
        "colab": {
          "base_uri": "https://localhost:8080/",
          "height": 265
        },
        "id": "rjcZ2un0ul7v",
        "outputId": "82dee7d1-cac3-44a1-9109-bd5b164772fe"
      },
      "execution_count": 143,
      "outputs": [
        {
          "output_type": "display_data",
          "data": {
            "image/png": "[encoded data removed]",
            "text/plain": [
              "<Figure size 432x288 with 1 Axes>"
            ]
          },
          "metadata": {
            "needs_background": "light"
          }
        }
      ]
    },
    {
      "cell_type": "markdown",
      "source": [
        "14. Parch 컬럼의 값의 종류에 따른 분포를 조사하여 파이 그래프로 나타내시오.\n"
      ],
      "metadata": {
        "id": "6urqeKIZZd4n"
      }
    },
    {
      "cell_type": "markdown",
      "source": [
        "15. 값에 따른 생존자와 사망자를 하나의 막대그래프로 나타내시오.(아래:생존자, 위:사망자)\n"
      ],
      "metadata": {
        "id": "WiGmTJ-GZusY"
      }
    },
    {
      "cell_type": "markdown",
      "source": [
        "16. 승선한 항구(Embarked 컬럼)에 따른 분포를 조사하여 파이 그래프로 나타내시오.(결측값은 'N'으로 마킹하시오.)\n"
      ],
      "metadata": {
        "id": "BghbpXaUZu4e"
      }
    },
    {
      "cell_type": "markdown",
      "source": [
        "\n",
        "17. 값에 따른 생존자와 사망자를 하나의 막대그래프로 나타내시오.(아래:생존자, 위:사망자)"
      ],
      "metadata": {
        "id": "OXw0fwlcZvE9"
      }
    }
  ]
}