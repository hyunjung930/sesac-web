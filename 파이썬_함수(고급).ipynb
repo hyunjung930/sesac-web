{
  "nbformat": 4,
  "nbformat_minor": 0,
  "metadata": {
    "colab": {
      "name": "파이썬 -함수(고급).ipynb",
      "provenance": [],
      "authorship_tag": "ABX9TyPK7Mube1yvkCzGiJwO6I8E",
      "include_colab_link": true
    },
    "kernelspec": {
      "name": "python3",
      "display_name": "Python 3"
    },
    "language_info": {
      "name": "python"
    }
  },
  "cells": [
    {
      "cell_type": "markdown",
      "metadata": {
        "id": "view-in-github",
        "colab_type": "text"
      },
      "source": [
        "<a href=\"https://colab.research.google.com/github/hyunjung930/sesac-web/blob/main/%ED%8C%8C%EC%9D%B4%EC%8D%AC_%ED%95%A8%EC%88%98(%EA%B3%A0%EA%B8%89).ipynb\" target=\"_parent\"><img src=\"https://colab.research.google.com/assets/colab-badge.svg\" alt=\"Open In Colab\"/></a>"
      ]
    },
    {
      "cell_type": "code",
      "execution_count": null,
      "metadata": {
        "id": "LMbMZyNFSlhE"
      },
      "outputs": [],
      "source": [
        ""
      ]
    },
    {
      "cell_type": "markdown",
      "source": [
        "# 튜플\n",
        " 여러개의 요소로 구성한 컬렉션\n",
        "\n",
        " 요소의 값을 변경할 수 없다."
      ],
      "metadata": {
        "id": "vSmZyYF3S1g7"
      }
    },
    {
      "cell_type": "code",
      "source": [
        "t1 = (1,2,3)\n",
        "print(type(t1))"
      ],
      "metadata": {
        "colab": {
          "base_uri": "https://localhost:8080/"
        },
        "id": "AtSYZCp4S6GG",
        "outputId": "f68119a0-8829-49b4-ee1a-adb09a402cdb"
      },
      "execution_count": 1,
      "outputs": [
        {
          "output_type": "stream",
          "name": "stdout",
          "text": [
            "<class 'tuple'>\n"
          ]
        }
      ]
    },
    {
      "cell_type": "code",
      "source": [
        "print(t1[0])"
      ],
      "metadata": {
        "colab": {
          "base_uri": "https://localhost:8080/"
        },
        "id": "Q9jUJeZ7TRAn",
        "outputId": "b0d02d95-1a9d-426e-94dd-c1c914bbc02d"
      },
      "execution_count": 3,
      "outputs": [
        {
          "output_type": "stream",
          "name": "stdout",
          "text": [
            "1\n"
          ]
        }
      ]
    },
    {
      "cell_type": "code",
      "source": [
        "a,b = (2,3)\n",
        "print(a,b)"
      ],
      "metadata": {
        "colab": {
          "base_uri": "https://localhost:8080/"
        },
        "id": "ebeiDvFlYMhu",
        "outputId": "e1cad4e3-4eba-4ab8-9ce9-5dc71d4c62cf"
      },
      "execution_count": 8,
      "outputs": [
        {
          "output_type": "stream",
          "name": "stdout",
          "text": [
            "2 3\n"
          ]
        }
      ]
    },
    {
      "cell_type": "code",
      "source": [
        "t = 1,2,3,4  # 내부적으로 tuple로 만들어줌\n",
        "print(type(t))"
      ],
      "metadata": {
        "colab": {
          "base_uri": "https://localhost:8080/"
        },
        "id": "HsgIDDD_YWVx",
        "outputId": "a4f07800-77b5-4dcb-a9a7-9dedb6efe177"
      },
      "execution_count": 9,
      "outputs": [
        {
          "output_type": "stream",
          "name": "stdout",
          "text": [
            "<class 'tuple'>\n"
          ]
        }
      ]
    },
    {
      "cell_type": "code",
      "source": [
        "a,b,c = 1,2,3\n",
        "print(type(a))"
      ],
      "metadata": {
        "colab": {
          "base_uri": "https://localhost:8080/"
        },
        "id": "JxnFRs38Ym5I",
        "outputId": "6db5aa15-4b57-4abf-c0e4-da4f30c753ae"
      },
      "execution_count": 10,
      "outputs": [
        {
          "output_type": "stream",
          "name": "stdout",
          "text": [
            "<class 'int'>\n"
          ]
        }
      ]
    },
    {
      "cell_type": "code",
      "source": [
        "a=2\n",
        "b=3\n",
        "print(a,b)\n",
        "a,b = b,a\n",
        "print(a,b)"
      ],
      "metadata": {
        "id": "p_K0O4xkZEqL"
      },
      "execution_count": null,
      "outputs": []
    },
    {
      "cell_type": "code",
      "source": [
        "#t1[0]=7 tuple은 요소의 값을 변경할 수 없다."
      ],
      "metadata": {
        "id": "5GcKkKoITDyR"
      },
      "execution_count": null,
      "outputs": []
    },
    {
      "cell_type": "code",
      "source": [
        "def get_sum_average(numbers): # 여러개의 값을 도출\n",
        "  s = 0\n",
        "  for number in numbers:\n",
        "    s+=number\n",
        "  return s, s/len(numbers)"
      ],
      "metadata": {
        "id": "iJxioCuSTbO5"
      },
      "execution_count": 6,
      "outputs": []
    },
    {
      "cell_type": "code",
      "source": [
        "s,aver = get_sum_average([1,2,3,4,5,6])\n",
        "print(f\"합계:{s} 평균:{aver:.2f}\")\n"
      ],
      "metadata": {
        "colab": {
          "base_uri": "https://localhost:8080/"
        },
        "id": "CbujHQsCTtAH",
        "outputId": "2d19857a-4060-44ad-f076-d93e4815f80e"
      },
      "execution_count": 5,
      "outputs": [
        {
          "output_type": "stream",
          "name": "stdout",
          "text": [
            "합계:21 평균:3.50\n"
          ]
        }
      ]
    },
    {
      "cell_type": "code",
      "source": [
        "re = get_sum_average([1,2,3,4,5,6])\n",
        "print(re)"
      ],
      "metadata": {
        "colab": {
          "base_uri": "https://localhost:8080/"
        },
        "id": "4n9k9cyIT8dY",
        "outputId": "209c9d08-9b08-4dee-847b-ed09809fed3a"
      },
      "execution_count": 7,
      "outputs": [
        {
          "output_type": "stream",
          "name": "stdout",
          "text": [
            "(21, 3.5)\n"
          ]
        }
      ]
    },
    {
      "cell_type": "markdown",
      "source": [
        "# 람다"
      ],
      "metadata": {
        "id": "kPPi9XrEaWul"
      }
    },
    {
      "cell_type": "code",
      "source": [
        "def square(x):\n",
        "  return x*x"
      ],
      "metadata": {
        "id": "5d7m8tcwaYOC"
      },
      "execution_count": 11,
      "outputs": []
    },
    {
      "cell_type": "code",
      "source": [
        "sq = lambda x:x*x"
      ],
      "metadata": {
        "id": "daWTFYxeaqwT"
      },
      "execution_count": 12,
      "outputs": []
    },
    {
      "cell_type": "code",
      "source": [
        "def foo(x):\n",
        "  print(f\"foo({x})\")\n",
        "  return 2*x"
      ],
      "metadata": {
        "id": "pUNbp826a1Qa"
      },
      "execution_count": 13,
      "outputs": []
    },
    {
      "cell_type": "code",
      "source": [
        "re = map(foo,[1,2,3,4])  # 함수와  리스트를 mapping 시켜주는 역할 \n",
        "for e in re: \n",
        " print(e) #리턴한 값의 목록으로 반환"
      ],
      "metadata": {
        "colab": {
          "base_uri": "https://localhost:8080/"
        },
        "id": "6f7Wns0ta9uG",
        "outputId": "5e2ec360-94f1-4cbd-a664-3e1dc99ab337"
      },
      "execution_count": 15,
      "outputs": [
        {
          "output_type": "stream",
          "name": "stdout",
          "text": [
            "foo(1)\n",
            "2\n",
            "foo(2)\n",
            "4\n",
            "foo(3)\n",
            "6\n",
            "foo(4)\n",
            "8\n"
          ]
        }
      ]
    },
    {
      "cell_type": "code",
      "source": [
        "re = map (sq,[1,2,3,4])\n",
        "for e in re:\n",
        "  print(e)"
      ],
      "metadata": {
        "colab": {
          "base_uri": "https://localhost:8080/"
        },
        "id": "e5dgtRRzbim7",
        "outputId": "d34ee176-390a-4a1f-ade9-87ece4ecf3c5"
      },
      "execution_count": 16,
      "outputs": [
        {
          "output_type": "stream",
          "name": "stdout",
          "text": [
            "1\n",
            "4\n",
            "9\n",
            "16\n"
          ]
        }
      ]
    },
    {
      "cell_type": "code",
      "source": [
        "re = map (lambda x:x+2,[1,2,3,4])\n",
        "for e in re:\n",
        "  print(e)"
      ],
      "metadata": {
        "colab": {
          "base_uri": "https://localhost:8080/"
        },
        "id": "SDhbFEW4cFrq",
        "outputId": "28c73aa2-97be-44c8-92e2-44920d3aba61"
      },
      "execution_count": 17,
      "outputs": [
        {
          "output_type": "stream",
          "name": "stdout",
          "text": [
            "3\n",
            "4\n",
            "5\n",
            "6\n"
          ]
        }
      ]
    },
    {
      "cell_type": "code",
      "source": [
        "def is_odd(x):\n",
        "  return x%2 ==1"
      ],
      "metadata": {
        "id": "WivUSt-tcLHd"
      },
      "execution_count": 18,
      "outputs": []
    },
    {
      "cell_type": "code",
      "source": [
        "re =filter(is_odd,[1,2,3,4,5,6,7,8,9,10,23,4,23,11])\n",
        "for e in re:\n",
        "  print(e)"
      ],
      "metadata": {
        "colab": {
          "base_uri": "https://localhost:8080/"
        },
        "id": "qJDEU80DcPCG",
        "outputId": "1ce6263c-fe2b-45f1-fce6-3d4b603e5eed"
      },
      "execution_count": 19,
      "outputs": [
        {
          "output_type": "stream",
          "name": "stdout",
          "text": [
            "1\n",
            "3\n",
            "5\n",
            "7\n",
            "9\n",
            "23\n",
            "23\n",
            "11\n"
          ]
        }
      ]
    },
    {
      "cell_type": "code",
      "source": [
        "re =filter(lambda x:x%2==1,[1,2,3,4,5,6,7,8,9,10,23,4,23,11])\n",
        "for e in re:\n",
        "  print(e)"
      ],
      "metadata": {
        "colab": {
          "base_uri": "https://localhost:8080/"
        },
        "id": "dAYWJqFcccyD",
        "outputId": "650acaa7-7b0f-4764-d6bf-255766e92332"
      },
      "execution_count": 20,
      "outputs": [
        {
          "output_type": "stream",
          "name": "stdout",
          "text": [
            "1\n",
            "3\n",
            "5\n",
            "7\n",
            "9\n",
            "23\n",
            "23\n",
            "11\n"
          ]
        }
      ]
    }
  ]
}