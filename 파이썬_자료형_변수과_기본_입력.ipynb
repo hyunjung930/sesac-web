{
  "nbformat": 4,
  "nbformat_minor": 0,
  "metadata": {
    "colab": {
      "name": "파이썬-자료형-변수과 기본 입력",
      "provenance": [],
      "authorship_tag": "ABX9TyNtLqB5+q5uwDGvF1YKRPkl",
      "include_colab_link": true
    },
    "kernelspec": {
      "name": "python3",
      "display_name": "Python 3"
    },
    "language_info": {
      "name": "python"
    }
  },
  "cells": [
    {
      "cell_type": "markdown",
      "metadata": {
        "id": "view-in-github",
        "colab_type": "text"
      },
      "source": [
        "<a href=\"https://colab.research.google.com/github/hyunjung930/sesac-web/blob/main/%ED%8C%8C%EC%9D%B4%EC%8D%AC_%EC%9E%90%EB%A3%8C%ED%98%95_%EB%B3%80%EC%88%98%EA%B3%BC_%EA%B8%B0%EB%B3%B8_%EC%9E%85%EB%A0%A5.ipynb\" target=\"_parent\"><img src=\"https://colab.research.google.com/assets/colab-badge.svg\" alt=\"Open In Colab\"/></a>"
      ]
    },
    {
      "cell_type": "markdown",
      "source": [
        "# 변수"
      ],
      "metadata": {
        "id": "srfyjiL2jzTv"
      }
    },
    {
      "cell_type": "code",
      "source": [
        "korea = 90\n",
        "math = 85\n",
        "sum = korea + math\n",
        "print(\"국어: \",korea,\"수학: \", math, \"합계: \", sum)"
      ],
      "metadata": {
        "colab": {
          "base_uri": "https://localhost:8080/"
        },
        "id": "l9Osam55kSlw",
        "outputId": "5c222e39-6f3e-4e24-db52-a1b5a08b6873"
      },
      "execution_count": 1,
      "outputs": [
        {
          "output_type": "stream",
          "name": "stdout",
          "text": [
            "국어:  90 수학:  85 합계:  175\n"
          ]
        }
      ]
    },
    {
      "cell_type": "markdown",
      "source": [
        "# 기본 입력 input"
      ],
      "metadata": {
        "id": "gkKz0kNalRfA"
      }
    },
    {
      "cell_type": "code",
      "source": [
        "korea = input(\"국어 점수: \")\n",
        "math = input(\"수학 점수: \")\n",
        "print(\"국어:\",korea, \"수학:\",math,\"합계:\",korea +math)"
      ],
      "metadata": {
        "colab": {
          "base_uri": "https://localhost:8080/"
        },
        "id": "hToE3zkSlUCm",
        "outputId": "bda5a42e-cfd6-4422-89aa-02f733fae4c7"
      },
      "execution_count": 3,
      "outputs": [
        {
          "output_type": "stream",
          "name": "stdout",
          "text": [
            "국어 점수: 100\n",
            "수학 점수: 95\n",
            "국어: 100 수학: 95 합계: 10095\n"
          ]
        }
      ]
    },
    {
      "cell_type": "code",
      "source": [
        "print(type(korea),type(math))"
      ],
      "metadata": {
        "colab": {
          "base_uri": "https://localhost:8080/"
        },
        "id": "7jJYgjbilxil",
        "outputId": "d6191984-f372-4cbf-87ed-cb680159ce70"
      },
      "execution_count": 4,
      "outputs": [
        {
          "output_type": "stream",
          "name": "stdout",
          "text": [
            "<class 'str'> <class 'str'>\n"
          ]
        }
      ]
    },
    {
      "cell_type": "code",
      "source": [
        "korea = int(korea)\n",
        "math = int(math)\n",
        "print(\"국어:\",korea, \"수학:\",math,\"합계:\",korea +math)"
      ],
      "metadata": {
        "colab": {
          "base_uri": "https://localhost:8080/"
        },
        "id": "7nvadhZkmBW8",
        "outputId": "80164d2e-fe55-4975-de06-332f686605cc"
      },
      "execution_count": 5,
      "outputs": [
        {
          "output_type": "stream",
          "name": "stdout",
          "text": [
            "국어: 100 수학: 95 합계: 195\n"
          ]
        }
      ]
    },
    {
      "cell_type": "code",
      "source": [
        "korea = int(input(\"국어 점수:\"))\n",
        "math = int(input(\"수학 점수:\"))\n",
        "print(\"국어: \",korea, \"수학: \", math, \"합계:\",korea+math)"
      ],
      "metadata": {
        "colab": {
          "base_uri": "https://localhost:8080/"
        },
        "id": "LvqAlP2lmPTa",
        "outputId": "4d06827d-52a5-47f0-e9a4-8b2b5f8b984a"
      },
      "execution_count": 6,
      "outputs": [
        {
          "output_type": "stream",
          "name": "stdout",
          "text": [
            "국어 점수:95\n",
            "수학 점수:100\n",
            "국어:  95 수학:  100 합계: 195\n"
          ]
        }
      ]
    },
    {
      "cell_type": "code",
      "source": [
        "fstr1 =\"12.34\"\n",
        "fstr2 = \"3.14\"\n",
        "f1 = float(fstr1)\n",
        "f2 = float(fstr2)\n",
        "print(\"f1:\",f1,\"f2:\",f2,\"f1*f2:\",f1*f2)"
      ],
      "metadata": {
        "colab": {
          "base_uri": "https://localhost:8080/"
        },
        "id": "7Hy1st83mpR-",
        "outputId": "a9ef327a-6a66-4749-edce-f7ebaf623988"
      },
      "execution_count": 7,
      "outputs": [
        {
          "output_type": "stream",
          "name": "stdout",
          "text": [
            "f1: 12.34 f2: 3.14 f1*f2: 38.7476\n"
          ]
        }
      ]
    },
    {
      "cell_type": "code",
      "source": [
        "k_str = str(korea)\n",
        "print(\"k_str:\",k_str, \"type:\",type(k_str))"
      ],
      "metadata": {
        "colab": {
          "base_uri": "https://localhost:8080/"
        },
        "id": "_qoIsV8DnBa6",
        "outputId": "4fc9aa80-763c-48c8-b4e8-cec4516499fc"
      },
      "execution_count": 8,
      "outputs": [
        {
          "output_type": "stream",
          "name": "stdout",
          "text": [
            "k_str: 95 type: <class 'str'>\n"
          ]
        }
      ]
    }
  ]
}