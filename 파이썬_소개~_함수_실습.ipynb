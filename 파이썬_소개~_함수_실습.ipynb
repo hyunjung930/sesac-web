{
  "nbformat": 4,
  "nbformat_minor": 0,
  "metadata": {
    "colab": {
      "name": "파이썬 - 소개~ 함수 실습.ipynb",
      "provenance": [],
      "mount_file_id": "1NC59dvTiwNiP5a663q-0uKqCv1UNQYZn",
      "authorship_tag": "ABX9TyNj3i0AT7i7QgYBshrUPNYv",
      "include_colab_link": true
    },
    "kernelspec": {
      "name": "python3",
      "display_name": "Python 3"
    },
    "language_info": {
      "name": "python"
    }
  },
  "cells": [
    {
      "cell_type": "markdown",
      "metadata": {
        "id": "view-in-github",
        "colab_type": "text"
      },
      "source": [
        "<a href=\"https://colab.research.google.com/github/hyunjung930/sesac-web/blob/main/%ED%8C%8C%EC%9D%B4%EC%8D%AC_%EC%86%8C%EA%B0%9C~_%ED%95%A8%EC%88%98_%EC%8B%A4%EC%8A%B5.ipynb\" target=\"_parent\"><img src=\"https://colab.research.google.com/assets/colab-badge.svg\" alt=\"Open In Colab\"/></a>"
      ]
    },
    {
      "cell_type": "markdown",
      "source": [
        "회원 관리 프로그램을 작성하시오.\n",
        "\n",
        "프로그램은 메뉴선택에 의해 동작하는 콘솔 응용입니다.\n",
        "\n",
        "1. 회원 데이터 추가\n",
        "\n",
        "  회원 아이디를 입력받는다.\n",
        "  \n",
        "  이미 존재하면 기능 종료\n",
        "  이름, 이메일, 나이, 키를 입력받는다.\n",
        "\n",
        "\n",
        "2. 회원 데이터 삭제\n",
        "  회원 아이디를 입력 받는다.\n",
        "  아이디가 존재하지 않으면 없다고 출력하고 기능 종료\n",
        "  존재하면 삭제하고 삭제하였다고 출력\n",
        "\n",
        "3. 회원 데이터 검색\n",
        "  회원 아이디를 입력 받는다.\n",
        "  아이디가 존재하지 않으면 없다고 출력하고 기능 종료\n",
        "  존재하면 삭제하고 삭제하였다고 출력\n",
        "\n",
        "4. 전체 회원 데이터 정보 출력\n",
        "  아이디 순으로 전체 회원 정보 출력\n",
        "\n",
        "0. 프로그램 종료\n",
        "\n",
        "프로그램 종료시 회원 정보를 members.파일로 기록\n",
        "프로그램 시작 시 members.csv 파일에 정보를 로딩"
      ],
      "metadata": {
        "id": "ljYqOMaLJZAt"
      }
    },
    {
      "cell_type": "code",
      "source": [
        "# 회원 프로그램 파일 로드  \n",
        "members = {} #id가 primary key처럼 \n",
        "def load(fname):\n",
        "  try:\n",
        "    fs = open(fname,'r')\n",
        "  except:\n",
        "    print(\"처음 사용하시군요. Welcome ~\")\n",
        "    return\n",
        "  all = fs.read()\n",
        "  fs.close()\n",
        "  k_datas=all.split('\\n')\n",
        "  for i in range(1,len(k_datas)):\n",
        "    k_data =k_datas[i]\n",
        "    kds = k_data.split(',')\n",
        "    if(len(kds)!=5):\n",
        "      break\n",
        "    data = []\n",
        "    # print(len(kds)) 제대로 나오는지 보려고 test\n",
        "    for i in range(1,5): # 1은 skip\n",
        "      data.append(kds[i])\n",
        "    members[kds[0]] = data"
      ],
      "metadata": {
        "id": "AQ5lMYwoLA6e"
      },
      "execution_count": 26,
      "outputs": []
    },
    {
      "cell_type": "code",
      "source": [
        "def save(fname):\n",
        "  fs = open(fname,'w')\n",
        "  fs.write(\"아이디,이름,이메일,나이,키\\n\") # header를 데이터 추가로 들어갔음.\n",
        "  for _, (id,data) in enumerate(members.items()): # _ : 인자를 이름에 넣지 않겠다. 두번째 전달받는 애들만 받겠다.  \n",
        "    fs.write(f\"{id},{data[0]},{data[1]},{data[2]},{data[3]}\\n\")\n",
        "  fs.close()"
      ],
      "metadata": {
        "id": "AVUq4y8pLJAp"
      },
      "execution_count": 27,
      "outputs": []
    },
    {
      "cell_type": "code",
      "source": [
        "# 회원 추가\n",
        "def add_member():\n",
        "  print(\"add\")\n",
        "  id = input(\"추가할 회원 아이디 : \") #회원 아이디를 입력받는다.\n",
        "  if id in members: #이미 존재하면 \n",
        "    print(\"이미 존재하는 아이디입니다.\")\n",
        "    return #기능 종료\n",
        "  data=[]\n",
        "  data.append(input(\"이름 : \"))\n",
        "  data.append(input(\"이메일 : \"))  \n",
        "  try:\n",
        "    data.append(int(input(\"나이 : \")))\n",
        "  except:\n",
        "    print(\"잘못 입력하여 나이를 0으로 설정합니다.\")\n",
        "    data.append(0)\n",
        "  try:\n",
        "    data.append(float(input(\"키 : \")))\n",
        "  except:\n",
        "    print(\"잘못 입력하여 나이를 0으로 설정합니다.\")\n",
        "    data.append(0)\n",
        "  members[id] = data"
      ],
      "metadata": {
        "id": "z9YEePanLk11"
      },
      "execution_count": 28,
      "outputs": []
    },
    {
      "cell_type": "code",
      "source": [
        "# 회원 삭제\n",
        "def remove_member():\n",
        "  id = input(\"삭제할 회원 아이디 : \") #회원 아이디를 입력받는다.\n",
        "  if id not in members: #이미 존재하면 \n",
        "    print(\"존재하지 않는 아이디입니다.\")\n",
        "    return #기능 종료\n",
        "  del members[id]\n",
        "  print(\"삭제하였습니다.\")"
      ],
      "metadata": {
        "id": "-otM0xixLpoT"
      },
      "execution_count": 29,
      "outputs": []
    },
    {
      "cell_type": "code",
      "source": [
        "# 회원 검색\n",
        "def find_member():\n",
        "  id = input(\"검색할 회원 아이디 : \") #회원 아이디를 입력받는다.\n",
        "  if id not in members: #이미 존재하면 \n",
        "    print(\"존재하지 않는 아이디입니다.\")\n",
        "    return #기능 종료\n",
        "  del members[id]"
      ],
      "metadata": {
        "id": "u6cN54WJLsIT"
      },
      "execution_count": 30,
      "outputs": []
    },
    {
      "cell_type": "code",
      "source": [
        "# 회원 모두 보기\n",
        "def view_members():\n",
        "  print(\"view_members\")\n",
        "  print(members)"
      ],
      "metadata": {
        "id": "dmtRz6ouLtzB"
      },
      "execution_count": 31,
      "outputs": []
    },
    {
      "cell_type": "code",
      "source": [
        "def select_menu():\n",
        "  print(\"회원 관리 프로그램...\")\n",
        "  print(\"1: 회원 데이터 추가\")\n",
        "  print(\"2: 회원 데이터 삭제\")\n",
        "  print(\"3: 회원 데이터 검색\")\n",
        "  print(\"4: 전체 회원 데이터 보기\")\n",
        "  print(\"0: 프로그램 종료\")\n",
        "  try:\n",
        "    key = int(input(\"선택: \"))\n",
        "  except:\n",
        "    key = 5 \n",
        "  return key"
      ],
      "metadata": {
        "id": "kbDDkrt0MdDv"
      },
      "execution_count": 32,
      "outputs": []
    },
    {
      "cell_type": "code",
      "source": [
        "# input 출력 함수\n",
        "fname='/content/drive/MyDrive/python/members.csv'\n",
        "load(fname)\n",
        "while True:\n",
        "  key = select_menu()\n",
        "  if key == 0:\n",
        "    print(\"프로그램을 종료합니다.\")\n",
        "    break\n",
        "  if key == 1:\n",
        "    add_member()\n",
        "  elif key == 2:\n",
        "    remove_member()\n",
        "  elif key == 3:\n",
        "    find_member()\n",
        "  elif key == 4:\n",
        "    view_members()\n",
        "  else:\n",
        "    print(\"잘못 선택하였습니다.\")\n",
        "save(fname)"
      ],
      "metadata": {
        "colab": {
          "base_uri": "https://localhost:8080/"
        },
        "id": "0C7TthNGLvtV",
        "outputId": "d38178d8-47ee-4f6d-a6ed-8e1c97f8b69f"
      },
      "execution_count": 33,
      "outputs": [
        {
          "output_type": "stream",
          "name": "stdout",
          "text": [
            "처음 사용하시군요. Welcome ~\n",
            "회원 관리 프로그램...\n",
            "1: 회원 데이터 추가\n",
            "2: 회원 데이터 삭제\n",
            "3: 회원 데이터 검색\n",
            "4: 전체 회원 데이터 보기\n",
            "0: 프로그램 종료\n",
            "선택: 4\n",
            "view_members\n",
            "{}\n",
            "회원 관리 프로그램...\n",
            "1: 회원 데이터 추가\n",
            "2: 회원 데이터 삭제\n",
            "3: 회원 데이터 검색\n",
            "4: 전체 회원 데이터 보기\n",
            "0: 프로그램 종료\n",
            "선택: 1\n",
            "add\n",
            "추가할 회원 아이디 : aaa\n",
            "이름 : 홍길동\n",
            "이메일 : gildpng@naver.com\n",
            "나이 : 1\n",
            "키 : 140\n",
            "회원 관리 프로그램...\n",
            "1: 회원 데이터 추가\n",
            "2: 회원 데이터 삭제\n",
            "3: 회원 데이터 검색\n",
            "4: 전체 회원 데이터 보기\n",
            "0: 프로그램 종료\n",
            "선택: 4\n",
            "view_members\n",
            "{'aaa': ['홍길동', 'gildpng@naver.com', 1, 140.0]}\n",
            "회원 관리 프로그램...\n",
            "1: 회원 데이터 추가\n",
            "2: 회원 데이터 삭제\n",
            "3: 회원 데이터 검색\n",
            "4: 전체 회원 데이터 보기\n",
            "0: 프로그램 종료\n",
            "선택: 1\n",
            "add\n",
            "추가할 회원 아이디 : bbb\n",
            "이름 : 제갈길동\n",
            "이메일 : jegal@naver.com\n",
            "나이 : 15\n",
            "키 : 180\n",
            "회원 관리 프로그램...\n",
            "1: 회원 데이터 추가\n",
            "2: 회원 데이터 삭제\n",
            "3: 회원 데이터 검색\n",
            "4: 전체 회원 데이터 보기\n",
            "0: 프로그램 종료\n",
            "선택: 1\n",
            "add\n",
            "추가할 회원 아이디 : ccc\n",
            "이름 : 독고길동\n",
            "이메일 : doggo@naver.com\n",
            "나이 : 22\n",
            "키 : 180\n",
            "회원 관리 프로그램...\n",
            "1: 회원 데이터 추가\n",
            "2: 회원 데이터 삭제\n",
            "3: 회원 데이터 검색\n",
            "4: 전체 회원 데이터 보기\n",
            "0: 프로그램 종료\n",
            "선택: 4\n",
            "view_members\n",
            "{'aaa': ['홍길동', 'gildpng@naver.com', 1, 140.0], 'bbb': ['제갈길동', 'jegal@naver.com', 15, 180.0], 'ccc': ['독고길동', 'doggo@naver.com', 22, 180.0]}\n",
            "회원 관리 프로그램...\n",
            "1: 회원 데이터 추가\n",
            "2: 회원 데이터 삭제\n",
            "3: 회원 데이터 검색\n",
            "4: 전체 회원 데이터 보기\n",
            "0: 프로그램 종료\n",
            "선택: 0\n",
            "프로그램을 종료합니다.\n"
          ]
        }
      ]
    }
  ]
}