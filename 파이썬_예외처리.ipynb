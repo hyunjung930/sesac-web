{
  "nbformat": 4,
  "nbformat_minor": 0,
  "metadata": {
    "colab": {
      "name": "파이썬 - 예외처리.ipynb",
      "provenance": [],
      "authorship_tag": "ABX9TyN2uCJxZz4BtasDWPwtMrwZ",
      "include_colab_link": true
    },
    "kernelspec": {
      "name": "python3",
      "display_name": "Python 3"
    },
    "language_info": {
      "name": "python"
    }
  },
  "cells": [
    {
      "cell_type": "markdown",
      "metadata": {
        "id": "view-in-github",
        "colab_type": "text"
      },
      "source": [
        "<a href=\"https://colab.research.google.com/github/hyunjung930/sesac-web/blob/main/%ED%8C%8C%EC%9D%B4%EC%8D%AC_%EC%98%88%EC%99%B8%EC%B2%98%EB%A6%AC.ipynb\" target=\"_parent\"><img src=\"https://colab.research.google.com/assets/colab-badge.svg\" alt=\"Open In Colab\"/></a>"
      ]
    },
    {
      "cell_type": "markdown",
      "source": [
        "구문 오류: \n",
        "코드의 문법적 잘못에 의해 발생하는 오류\n",
        "\n",
        "런타임 오류: \n",
        "실행 시점에 발생하는 오류"
      ],
      "metadata": {
        "id": "boxjO6xCBWSq"
      }
    },
    {
      "cell_type": "code",
      "source": [
        "# 구문 오류 예시\n",
        "print(\"Hello)"
      ],
      "metadata": {
        "colab": {
          "base_uri": "https://localhost:8080/",
          "height": 137
        },
        "id": "JTfSzZ13BsN7",
        "outputId": "196af8ff-6f69-4d35-df1d-94587645bf9c"
      },
      "execution_count": 4,
      "outputs": [
        {
          "output_type": "error",
          "ename": "SyntaxError",
          "evalue": "ignored",
          "traceback": [
            "\u001b[0;36m  File \u001b[0;32m\"<ipython-input-4-014eb0a63d10>\"\u001b[0;36m, line \u001b[0;32m2\u001b[0m\n\u001b[0;31m    print(\"Hello)\u001b[0m\n\u001b[0m                 ^\u001b[0m\n\u001b[0;31mSyntaxError\u001b[0m\u001b[0;31m:\u001b[0m EOL while scanning string literal\n"
          ]
        }
      ]
    },
    {
      "cell_type": "code",
      "source": [
        "num1 = int(input(\"정수 : \"))\n",
        "num2 = int(input(\"정수 : \"))\n",
        "print(num1/num2)"
      ],
      "metadata": {
        "colab": {
          "base_uri": "https://localhost:8080/",
          "height": 248
        },
        "id": "wAGHtmmIB_pQ",
        "outputId": "62b0f2fa-8dea-44b6-c082-a3e37c713936"
      },
      "execution_count": 6,
      "outputs": [
        {
          "name": "stdout",
          "output_type": "stream",
          "text": [
            "정수 : 3\n",
            "정수 : 0\n"
          ]
        },
        {
          "output_type": "error",
          "ename": "ZeroDivisionError",
          "evalue": "ignored",
          "traceback": [
            "\u001b[0;31m---------------------------------------------------------------------------\u001b[0m",
            "\u001b[0;31mZeroDivisionError\u001b[0m                         Traceback (most recent call last)",
            "\u001b[0;32m<ipython-input-6-358e60d11a1b>\u001b[0m in \u001b[0;36m<module>\u001b[0;34m()\u001b[0m\n\u001b[1;32m      1\u001b[0m \u001b[0mnum1\u001b[0m \u001b[0;34m=\u001b[0m \u001b[0mint\u001b[0m\u001b[0;34m(\u001b[0m\u001b[0minput\u001b[0m\u001b[0;34m(\u001b[0m\u001b[0;34m\"정수 : \"\u001b[0m\u001b[0;34m)\u001b[0m\u001b[0;34m)\u001b[0m\u001b[0;34m\u001b[0m\u001b[0;34m\u001b[0m\u001b[0m\n\u001b[1;32m      2\u001b[0m \u001b[0mnum2\u001b[0m \u001b[0;34m=\u001b[0m \u001b[0mint\u001b[0m\u001b[0;34m(\u001b[0m\u001b[0minput\u001b[0m\u001b[0;34m(\u001b[0m\u001b[0;34m\"정수 : \"\u001b[0m\u001b[0;34m)\u001b[0m\u001b[0;34m)\u001b[0m\u001b[0;34m\u001b[0m\u001b[0;34m\u001b[0m\u001b[0m\n\u001b[0;32m----> 3\u001b[0;31m \u001b[0mprint\u001b[0m\u001b[0;34m(\u001b[0m\u001b[0mnum1\u001b[0m\u001b[0;34m/\u001b[0m\u001b[0mnum2\u001b[0m\u001b[0;34m)\u001b[0m\u001b[0;34m\u001b[0m\u001b[0;34m\u001b[0m\u001b[0m\n\u001b[0m",
            "\u001b[0;31mZeroDivisionError\u001b[0m: division by zero"
          ]
        }
      ]
    },
    {
      "cell_type": "markdown",
      "source": [
        "예외를 확인하여 원하는 형태로 처리하기"
      ],
      "metadata": {
        "id": "_aNJpVS8CP1o"
      }
    },
    {
      "cell_type": "code",
      "source": [
        "num1 = int(input(\"정수 : \"))\n",
        "num2 = int(input(\"정수 : \"))\n",
        "try:\n",
        " print(num1/num2)\n",
        "except:\n",
        "  print(\"제갈윤선\")\n",
        "else:\n",
        "  print(\"남궁신혜\")\n",
        "finally:\n",
        " print(\"왕왕있어요\")\n"
      ],
      "metadata": {
        "colab": {
          "base_uri": "https://localhost:8080/"
        },
        "id": "3Ft6PUxlCcjz",
        "outputId": "b80f339e-95a3-4ea8-c553-512e09e38e0d"
      },
      "execution_count": 14,
      "outputs": [
        {
          "output_type": "stream",
          "name": "stdout",
          "text": [
            "정수 : 2\n",
            "정수 : 3\n",
            "0.6666666666666666\n",
            "남궁신혜\n",
            "왕왕있어요\n"
          ]
        }
      ]
    },
    {
      "cell_type": "markdown",
      "source": [
        "#예외 개체 사용"
      ],
      "metadata": {
        "id": "e9uF13AYF_WJ"
      }
    },
    {
      "cell_type": "code",
      "source": [
        "try:\n",
        "  num1 = int(input(\"정수 : \"))\n",
        "  num2 = int(input(\"정수 : \"))\n",
        "  print(num1/num2)\n",
        "  ls = [1,2,3]\n",
        "  n = int(input(\"1~3 중에 고르세요.\"))\n",
        "  print(ls[n-1])\n",
        "except ValueError as ex:\n",
        "  print(\"입력한 값은 문제가 있네요\",ex)\n",
        "  print(\"값을 잘못 전달하였습니다.\")\n",
        "except ZeroDivisionError:\n",
        "  print(\"젯수가 0이네요\")\n",
        "except Exception:\n",
        "  print(\"어딘가 문제가 있네요.\")\n",
        "else:\n",
        "  print(\"쉬는시간입니다.\")\n",
        "\n"
      ],
      "metadata": {
        "colab": {
          "base_uri": "https://localhost:8080/"
        },
        "id": "a1C6PzqHGBrR",
        "outputId": "57a576d0-7210-45ba-9878-48bdb66d5a19"
      },
      "execution_count": 20,
      "outputs": [
        {
          "output_type": "stream",
          "name": "stdout",
          "text": [
            "정수 : 3\n",
            "정수 : 2\n",
            "1.5\n",
            "1~3 중에 고르세요.4\n",
            "어딘가 문제가 있네요.\n"
          ]
        }
      ]
    },
    {
      "cell_type": "markdown",
      "source": [
        "# 예외를 발생시키기"
      ],
      "metadata": {
        "id": "-ihle1ygIC5_"
      }
    },
    {
      "cell_type": "code",
      "source": [
        "def getsum(start,end,step =1):\n",
        "  if start > end:\n",
        "   raise ValueError # 예외를 발생시킨다.\n",
        "  s = 0\n",
        "  for i in range(start,end+1,step):\n",
        "    s+=i\n",
        "  return s"
      ],
      "metadata": {
        "id": "ZUV7pp_2IGlO"
      },
      "execution_count": 22,
      "outputs": []
    },
    {
      "cell_type": "code",
      "source": [
        "try:\n",
        "  print(getsum(2,10))\n",
        "  print(getsum(10,2))\n",
        "except:\n",
        "  print(\"예외발생\")"
      ],
      "metadata": {
        "colab": {
          "base_uri": "https://localhost:8080/"
        },
        "id": "pag1nSqjIg_q",
        "outputId": "9d795e70-0adf-48ae-c477-4d92c086da8d"
      },
      "execution_count": 24,
      "outputs": [
        {
          "output_type": "stream",
          "name": "stdout",
          "text": [
            "54\n",
            "예외발생\n"
          ]
        }
      ]
    }
  ]
}