{
  "nbformat": 4,
  "nbformat_minor": 0,
  "metadata": {
    "colab": {
      "name": "파이썬 조건문 - if else elif.ipynb",
      "provenance": [],
      "authorship_tag": "ABX9TyOUHwtqVY5kOb5vP6wYJCD/",
      "include_colab_link": true
    },
    "kernelspec": {
      "name": "python3",
      "display_name": "Python 3"
    },
    "language_info": {
      "name": "python"
    }
  },
  "cells": [
    {
      "cell_type": "markdown",
      "metadata": {
        "id": "view-in-github",
        "colab_type": "text"
      },
      "source": [
        "<a href=\"https://colab.research.google.com/github/hyunjung930/sesac-web/blob/main/%ED%8C%8C%EC%9D%B4%EC%8D%AC_%EC%A1%B0%EA%B1%B4%EB%AC%B8_if_else_elif.ipynb\" target=\"_parent\"><img src=\"https://colab.research.google.com/assets/colab-badge.svg\" alt=\"Open In Colab\"/></a>"
      ]
    },
    {
      "cell_type": "markdown",
      "source": [
        "# if else\n",
        "if 조건:\n",
        "\n",
        ".... 조건이 참일 때 수행할 구문\n",
        "\n",
        "else:\n",
        "\n",
        ".... 조건이 거짓일 때 수행할 구문\n",
        "\n"
      ],
      "metadata": {
        "id": "RAOEsnVFstNA"
      }
    },
    {
      "cell_type": "code",
      "source": [
        "num = int(input(\"정수: \"))\n",
        "if num%2==0:\n",
        "   print(\"짝수\")\n",
        "else:\n",
        "  print(\"홀수\")\n",
        "print(\"...\")\n"
      ],
      "metadata": {
        "colab": {
          "base_uri": "https://localhost:8080/"
        },
        "id": "uqwMFJPbs0sf",
        "outputId": "77ad316d-686e-40a5-95b7-5b70cbc9af7b"
      },
      "execution_count": 1,
      "outputs": [
        {
          "output_type": "stream",
          "name": "stdout",
          "text": [
            "정수: 44\n",
            "짝수\n",
            "...\n"
          ]
        }
      ]
    },
    {
      "cell_type": "markdown",
      "source": [
        "# if elif else\n",
        "if 조건1:\n",
        "\n",
        "... 조건1이 참일 때 수행할 구문\n",
        "\n",
        "elif 조건2:\n",
        "\n",
        "...조건 2가 참일 때 수행할 구문\n",
        "\n",
        ".\n",
        ".\n",
        ".\n",
        "else:\n",
        "\n",
        "... 모든 조건이 거짓일 때 수행할 구문"
      ],
      "metadata": {
        "id": "ZWG6mYbItX99"
      }
    },
    {
      "cell_type": "code",
      "source": [
        "score = int(input(\"국어점수:\"))\n",
        "if score>=90:\n",
        "  print(\"A\")\n",
        "elif score>=80:\n",
        "  print(\"B\")\n",
        "elif score>=70:\n",
        "  print(\"C\")\n",
        "elif score>=60:\n",
        " print(\"D\")\n",
        "else:\n",
        "  print(\"F\")\n",
        "print(\"....\")"
      ],
      "metadata": {
        "colab": {
          "base_uri": "https://localhost:8080/"
        },
        "id": "7HVwjvSItXct",
        "outputId": "0fa4677d-c19e-424d-e23c-bcdfab4f9731"
      },
      "execution_count": 3,
      "outputs": [
        {
          "output_type": "stream",
          "name": "stdout",
          "text": [
            "국어점수:85\n",
            "B\n",
            "....\n"
          ]
        }
      ]
    }
  ]
}