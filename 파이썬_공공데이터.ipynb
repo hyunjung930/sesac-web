{
  "nbformat": 4,
  "nbformat_minor": 0,
  "metadata": {
    "colab": {
      "name": "파이썬 - 공공데이터.ipynb",
      "provenance": [],
      "authorship_tag": "ABX9TyNhdhTe0v0wNDDDKCgCa3KT",
      "include_colab_link": true
    },
    "kernelspec": {
      "name": "python3",
      "display_name": "Python 3"
    },
    "language_info": {
      "name": "python"
    }
  },
  "cells": [
    {
      "cell_type": "markdown",
      "metadata": {
        "id": "view-in-github",
        "colab_type": "text"
      },
      "source": [
        "<a href=\"https://colab.research.google.com/github/hyunjung930/sesac-web/blob/main/%ED%8C%8C%EC%9D%B4%EC%8D%AC_%EA%B3%B5%EA%B3%B5%EB%8D%B0%EC%9D%B4%ED%84%B0.ipynb\" target=\"_parent\"><img src=\"https://colab.research.google.com/assets/colab-badge.svg\" alt=\"Open In Colab\"/></a>"
      ]
    },
    {
      "cell_type": "code",
      "source": [
        "from bs4 import BeautifulSoup # html 파일을 찾아 볼 수 있게 만들어 주는 것."
      ],
      "metadata": {
        "id": "DCUkUAZjTzjr"
      },
      "execution_count": 1,
      "outputs": []
    },
    {
      "cell_type": "code",
      "execution_count": 4,
      "metadata": {
        "colab": {
          "base_uri": "https://localhost:8080/"
        },
        "id": "3jH1Ka_JSuD2",
        "outputId": "a9a914b8-07b6-44be-8d49-7b09403811c7"
      },
      "outputs": [
        {
          "output_type": "stream",
          "name": "stdout",
          "text": [
            "검색 질의:장미\n",
            "http://openapi.nature.go.kr/openapi/service/rest/PlantService/plntIlstrSearch?servicekey=jPceZn%2Bi%2Fusu4criCJc%2BWL4kQJuYO4lyUzg5heF0M6dGXUGF5AHJnzDxsE5dNS4%2F5O508uPL1lLRs0mbwCcEXg%3D%3D&st=1&query=%EC%9E%A5%EB%AF%B8\n",
            "<?xml version=\"1.0\" encoding=\"UTF-8\" standalone=\"yes\"?><response><header><resultCode>00</resultCode><resultMsg>NORMAL SERVICE.</resultMsg></header><body><items><item><cprtCtnt>본 데이터에 대한 모든 저작권리는 국립수목원 또는 원저작자에게 있습니다.</cprtCtnt><detailYn>Y</detailYn><familyKorNm>가래과</familyKorNm><familyNm>Potamogetonaceae</familyNm><frstRgstnDtm> </frstRgstnDtm><genusKorNm>가래속</genusKorNm><genusNm>Potamogeton</genusNm><imgUrl>http://www.nature.go.kr/fileUpload/plants/basic/Potamogetonaceae/Potamogeton/12211/12211_4.JPG</imgUrl><lastUpdtDtm>2020-04-09 14:36:59</lastUpdtDtm><notRcmmGnrlNm>좀가래</notRcmmGnrlNm><plantGnrlNm>가는가래</plantGnrlNm><plantPilbkNo>31460</plantPilbkNo><plantSpecsScnm>Potamogeton cristatus Regel &amp; Maack</plantSpecsScnm><snnmScnm> </snnmScnm></item><item><cprtCtnt>본 데이터에 대한 모든 저작권리는 국립수목원 또는 원저작자에게 있습니다.</cprtCtnt><detailYn>Y</detailYn><familyKorNm>콩과</familyKorNm><familyNm>Fabaceae</familyNm><frstRgstnDtm> </frstRgstnDtm><genusKorNm>나비나물속</genusKorNm><genusNm>Vicia</genusNm><imgUrl>http://www.nature.go.kr/fileUpload/plants/basic/Leguminosae/Vicia/21950/1.JPG</imgUrl><lastUpdtDtm> </lastUpdtDtm><notRcmmGnrlNm> </notRcmmGnrlNm><plantGnrlNm>가는갈퀴</plantGnrlNm><plantPilbkNo>37747</plantPilbkNo><plantSpecsScnm>Vicia angustifolia L. var. minor (Bertol.) Ohwi</plantSpecsScnm><snnmScnm> </snnmScnm></item><item><cprtCtnt>본 데이터에 대한 모든 저작권리는 국립수목원 또는 원저작자에게 있습니다.</cprtCtnt><detailYn>Y</detailYn><familyKorNm>벼과</familyKorNm><familyNm>Poaceae</familyNm><frstRgstnDtm> </frstRgstnDtm><genusKorNm>갯보리속</genusKorNm><genusNm>Elymus</genusNm><imgUrl>http://www.nature.go.kr/fileUpload/plants/basic/Gramineae/Agropyron/14216/14216_7.jpg</imgUrl><lastUpdtDtm>2020-02-24 13:50:40</lastUpdtDtm><notRcmmGnrlNm>가는잎털개밀,가는잎개밀</notRcmmGnrlNm><plantGnrlNm>가는개밀</plantGnrlNm><plantPilbkNo>25312</plantPilbkNo><plantSpecsScnm>Elymus ciliaris (Trin. ex Bunge) Tzvelev var. hackelianus (Honda) G.Zhu &amp; S.L.Chen</plantSpecsScnm><snnmScnm>Agropyron ciliare var. hackelianum (Honda) Ohwi</snnmScnm></item><item><cprtCtnt>본 데이터에 대한 모든 저작권리는 국립수목원 또는 원저작자에게 있습니다.</cprtCtnt><detailYn>Y</detailYn><familyKorNm>곡정초과</familyKorNm><familyNm>Eriocaulaceae</familyNm><frstRgstnDtm> </frstRgstnDtm><genusKorNm>곡정초속</genusKorNm><genusNm>Eriocaulon</genusNm><imgUrl>NONE</imgUrl><lastUpdtDtm>2007-12-17 00:00:00</lastUpdtDtm><notRcmmGnrlNm>가는잎별수염풀,개수염,가는잎고위까람,강아지수염,가는곡정초,가는잎곡정초</notRcmmGnrlNm><plantGnrlNm>가는개수염</plantGnrlNm><plantPilbkNo>34589</plantPilbkNo><plantSpecsScnm>Eriocaulon tenuissimum Nakai</plantSpecsScnm><snnmScnm>Eriocaulon miquelianum var. tenuissimum (Nakai) Satake</snnmScnm></item><item><cprtCtnt>본 데이터에 대한 모든 저작권리는 국립수목원 또는 원저작자에게 있습니다.</cprtCtnt><detailYn>Y</detailYn><familyKorNm>마디풀과</familyKorNm><familyNm>Polygonaceae</familyNm><frstRgstnDtm> </frstRgstnDtm><genusKorNm>여뀌속</genusKorNm><genusNm>Persicaria</genusNm><imgUrl>http://www.nature.go.kr/fileUpload/plants/basic/Polygonaceae/Persicaria/1447/1.JPG</imgUrl><lastUpdtDtm>2020-12-02 09:53:52</lastUpdtDtm><notRcmmGnrlNm>붉은대동여뀌</notRcmmGnrlNm><plantGnrlNm>가는개여뀌</plantGnrlNm><plantPilbkNo>35998</plantPilbkNo><plantSpecsScnm>Persicaria trigonocarpa (Makino) Nakai</plantSpecsScnm><snnmScnm>Persicaria erecto-minor var. trigonocarpa (Makino) H.Hara ex I.Ito</snnmScnm></item><item><cprtCtnt>본 데이터에 대한 모든 저작권리는 국립수목원 또는 원저작자에게 있습니다.</cprtCtnt><detailYn>Y</detailYn><familyKorNm>명아주과</familyKorNm><familyNm>Chenopodiaceae</familyNm><frstRgstnDtm> </frstRgstnDtm><genusKorNm>갯는쟁이속</genusKorNm><genusNm>Atriplex</genusNm><imgUrl>http://www.nature.go.kr/fileUpload/plants/basic/Chenopodiaceae/Atriplex/15464/1.JPG</imgUrl><lastUpdtDtm> </lastUpdtDtm><notRcmmGnrlNm>가는갯능쟁이,좁은잎갯는쟁이</notRcmmGnrlNm><plantGnrlNm>가는갯는쟁이</plantGnrlNm><plantPilbkNo>41770</plantPilbkNo><plantSpecsScnm>Atriplex gmelinii C.A.Mey. ex Bong.</plantSpecsScnm><snnmScnm>Atriplex littoralis var. japonica Koidz.</snnmScnm></item><item><cprtCtnt>본 데이터에 대한 모든 저작권리는 국립수목원 또는 원저작자에게 있습니다.</cprtCtnt><detailYn>Y</detailYn><familyKorNm>꿀풀과</familyKorNm><familyNm>Lamiaceae</familyNm><frstRgstnDtm> </frstRgstnDtm><genusKorNm>골무꽃속</genusKorNm><genusNm>Scutellaria</genusNm><imgUrl>http://www.nature.go.kr/fileUpload/plants/basic/Labiatae/Scutellaria/18309/18309_1.jpg</imgUrl><lastUpdtDtm>2020-02-24 13:54:48</lastUpdtDtm><notRcmmGnrlNm>레게리고무꽃,가는잎골무꽃,레켈리골무꽃</notRcmmGnrlNm><plantGnrlNm>가는골무꽃</plantGnrlNm><plantPilbkNo>32627</plantPilbkNo><plantSpecsScnm>Scutellaria regeliana Nakai</plantSpecsScnm><snnmScnm>Scutellaria angustifolia (Regel) Kom.</snnmScnm></item><item><cprtCtnt>본 데이터에 대한 모든 저작권리는 국립수목원 또는 원저작자에게 있습니다.</cprtCtnt><detailYn>Y</detailYn><familyKorNm>양귀비과</familyKorNm><familyNm>Papaveraceae</familyNm><frstRgstnDtm> </frstRgstnDtm><genusKorNm>현호색속</genusKorNm><genusNm>Corydalis</genusNm><imgUrl>NONE</imgUrl><lastUpdtDtm>2020-02-24 14:05:05</lastUpdtDtm><notRcmmGnrlNm> </notRcmmGnrlNm><plantGnrlNm>가는괴불주머니</plantGnrlNm><plantPilbkNo>36403</plantPilbkNo><plantSpecsScnm>Corydalis raddeana Regel</plantSpecsScnm><snnmScnm>Corydalis ochotensis f. raddeana (Regel) Nakai</snnmScnm></item><item><cprtCtnt>본 데이터에 대한 모든 저작권리는 국립수목원 또는 원저작자에게 있습니다.</cprtCtnt><detailYn>Y</detailYn><familyKorNm>국화과</familyKorNm><familyNm>Asteraceae</familyNm><frstRgstnDtm> </frstRgstnDtm><genusKorNm>금불초속</genusKorNm><genusNm>Inula</genusNm><imgUrl>http://www.nature.go.kr/fileUpload/plants/basic/Compositae/Inula/9831/1.JPG</imgUrl><lastUpdtDtm>2020-02-24 14:09:05</lastUpdtDtm><notRcmmGnrlNm>좁은잎금불초,가는잎금불초</notRcmmGnrlNm><plantGnrlNm>가는금불초</plantGnrlNm><plantPilbkNo>27350</plantPilbkNo><plantSpecsScnm>Inula britannica var. linariifolia (Turcz.) Regel</plantSpecsScnm><snnmScnm>Inula britannica subsp. linariaefolia (Turcz.) Kitam.</snnmScnm></item><item><cprtCtnt>본 데이터에 대한 모든 저작권리는 국립수목원 또는 원저작자에게 있습니다.</cprtCtnt><detailYn>Y</detailYn><familyKorNm>국화과</familyKorNm><familyNm>Asteraceae</familyNm><frstRgstnDtm> </frstRgstnDtm><genusKorNm>금불초속</genusKorNm><genusNm>Inula</genusNm><imgUrl>http://www.nature.go.kr/fileUpload/plants/basic/Compositae/Inula/9831/1.JPG</imgUrl><lastUpdtDtm>2020-02-24 14:09:05</lastUpdtDtm><notRcmmGnrlNm>좁은잎금불초,가는잎금불초</notRcmmGnrlNm><plantGnrlNm>가는금불초</plantGnrlNm><plantPilbkNo>27350</plantPilbkNo><plantSpecsScnm>Inula linariifolia Turcz.</plantSpecsScnm><snnmScnm>Inula britannica subsp. linariaefolia (Turcz.) Kitam.</snnmScnm></item></items><numOfRows>10</numOfRows><pageNo>1</pageNo><totalCount>4500</totalCount></body></response>\n"
          ]
        }
      ],
      "source": [
        "import urllib.request\n",
        "\n",
        "url = 'http://openapi.nature.go.kr/openapi/service/rest/PlantService/plntIlstrSearch'\n",
        "sk_param = \"servicekey=공공데이터 키\"\n",
        "query_in = input(\"검색 질의:\")\n",
        "query_param = \"query=\"+urllib.parse.quote(query_in) # utf-8로 인코딩\n",
        "st_param = \"st=1\"\n",
        "query_str = url +'?'+sk_param+\"&\"+st_param+\"&\"+query_param\n",
        "\n",
        "print(query_str)\n",
        "\n",
        "request = urllib.request.Request(query_str) #서비스 요청에 사용할 개체를 생성\n",
        "\n",
        "response = urllib.request.urlopen(request)\n",
        "res = response.read().decode('utf-8')\n",
        "print(res)"
      ]
    },
    {
      "cell_type": "code",
      "source": [
        "from bs4 import BeautifulSoup \n",
        "# bs4안에 있는 BeautifulSoup를 사용한다.\n",
        "# passing 방법이 다르다/ xml은 BeautifulSoup 라이브러리를 가지고 사용\n",
        "xmlsoup = BeautifulSoup(res,'html.parser')\n",
        "items = xmlsoup.find_all('item') \n",
        "for item in items:\n",
        "  #print(item)\n",
        "  print(\"과국명: \", item.familykornm.get_text()) \n",
        "  print(\"과명: \", item.familynm.get_text())\n",
        "  print(\"속국명: \", item.genuskornm.get_text())\n",
        "  print(\"속명: \", item.genusnm.get_text())\n",
        "  print(\"비추천명: \", item.notrcmmgnrlnm.get_text())\n",
        "  print(\"국명: \", item.plantgnrlnm.get_text())\n",
        "  print(\"도감번호: \", item.plantpilbkno.get_text())\n",
        "  print(\"========================================================================\")"
      ],
      "metadata": {
        "colab": {
          "base_uri": "https://localhost:8080/"
        },
        "id": "GzXdAK_9XaXH",
        "outputId": "029cbbf5-8e0f-4a4e-e14f-999f9d83da23"
      },
      "execution_count": 5,
      "outputs": [
        {
          "output_type": "stream",
          "name": "stdout",
          "text": [
            "과국명:  가래과\n",
            "과명:  Potamogetonaceae\n",
            "속국명:  가래속\n",
            "속명:  Potamogeton\n",
            "비추천명:  좀가래\n",
            "국명:  가는가래\n",
            "도감번호:  31460\n",
            "========================================================================\n",
            "과국명:  콩과\n",
            "과명:  Fabaceae\n",
            "속국명:  나비나물속\n",
            "속명:  Vicia\n",
            "비추천명:   \n",
            "국명:  가는갈퀴\n",
            "도감번호:  37747\n",
            "========================================================================\n",
            "과국명:  벼과\n",
            "과명:  Poaceae\n",
            "속국명:  갯보리속\n",
            "속명:  Elymus\n",
            "비추천명:  가는잎털개밀,가는잎개밀\n",
            "국명:  가는개밀\n",
            "도감번호:  25312\n",
            "========================================================================\n",
            "과국명:  곡정초과\n",
            "과명:  Eriocaulaceae\n",
            "속국명:  곡정초속\n",
            "속명:  Eriocaulon\n",
            "비추천명:  가는잎별수염풀,개수염,가는잎고위까람,강아지수염,가는곡정초,가는잎곡정초\n",
            "국명:  가는개수염\n",
            "도감번호:  34589\n",
            "========================================================================\n",
            "과국명:  마디풀과\n",
            "과명:  Polygonaceae\n",
            "속국명:  여뀌속\n",
            "속명:  Persicaria\n",
            "비추천명:  붉은대동여뀌\n",
            "국명:  가는개여뀌\n",
            "도감번호:  35998\n",
            "========================================================================\n",
            "과국명:  명아주과\n",
            "과명:  Chenopodiaceae\n",
            "속국명:  갯는쟁이속\n",
            "속명:  Atriplex\n",
            "비추천명:  가는갯능쟁이,좁은잎갯는쟁이\n",
            "국명:  가는갯는쟁이\n",
            "도감번호:  41770\n",
            "========================================================================\n",
            "과국명:  꿀풀과\n",
            "과명:  Lamiaceae\n",
            "속국명:  골무꽃속\n",
            "속명:  Scutellaria\n",
            "비추천명:  레게리고무꽃,가는잎골무꽃,레켈리골무꽃\n",
            "국명:  가는골무꽃\n",
            "도감번호:  32627\n",
            "========================================================================\n",
            "과국명:  양귀비과\n",
            "과명:  Papaveraceae\n",
            "속국명:  현호색속\n",
            "속명:  Corydalis\n",
            "비추천명:   \n",
            "국명:  가는괴불주머니\n",
            "도감번호:  36403\n",
            "========================================================================\n",
            "과국명:  국화과\n",
            "과명:  Asteraceae\n",
            "속국명:  금불초속\n",
            "속명:  Inula\n",
            "비추천명:  좁은잎금불초,가는잎금불초\n",
            "국명:  가는금불초\n",
            "도감번호:  27350\n",
            "========================================================================\n",
            "과국명:  국화과\n",
            "과명:  Asteraceae\n",
            "속국명:  금불초속\n",
            "속명:  Inula\n",
            "비추천명:  좁은잎금불초,가는잎금불초\n",
            "국명:  가는금불초\n",
            "도감번호:  27350\n",
            "========================================================================\n"
          ]
        }
      ]
    }
  ]
}