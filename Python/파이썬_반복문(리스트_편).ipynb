{
  "nbformat": 4,
  "nbformat_minor": 0,
  "metadata": {
    "colab": {
      "name": "파이썬- 반복문(리스트 편).ipynb",
      "provenance": [],
      "authorship_tag": "ABX9TyNfpRU5SiewD2ug8o96jskx",
      "include_colab_link": true
    },
    "kernelspec": {
      "name": "python3",
      "display_name": "Python 3"
    },
    "language_info": {
      "name": "python"
    }
  },
  "cells": [
    {
      "cell_type": "markdown",
      "metadata": {
        "id": "view-in-github",
        "colab_type": "text"
      },
      "source": [
        "<a href=\"https://colab.research.google.com/github/hyunjung930/sesac-web/blob/main/%ED%8C%8C%EC%9D%B4%EC%8D%AC_%EB%B0%98%EB%B3%B5%EB%AC%B8(%EB%A6%AC%EC%8A%A4%ED%8A%B8_%ED%8E%B8).ipynb\" target=\"_parent\"><img src=\"https://colab.research.google.com/assets/colab-badge.svg\" alt=\"Open In Colab\"/></a>"
      ]
    },
    {
      "cell_type": "markdown",
      "source": [
        "# for 문"
      ],
      "metadata": {
        "id": "5BK32H1X4RWY"
      }
    },
    {
      "cell_type": "code",
      "source": [
        "for i in range(10):\n",
        " print(i, end = ' ')"
      ],
      "metadata": {
        "colab": {
          "base_uri": "https://localhost:8080/"
        },
        "id": "p2Bk_z8q4Tyk",
        "outputId": "2dff01e0-cfb0-4e95-c76e-f1d4f89b6fd4"
      },
      "execution_count": 4,
      "outputs": [
        {
          "output_type": "stream",
          "name": "stdout",
          "text": [
            "0 1 2 3 4 5 6 7 8 9 "
          ]
        }
      ]
    },
    {
      "cell_type": "code",
      "source": [
        "ls = [3,4,8,9]\n",
        "for i in ls:  # in 뒤에는 컬렉션\n",
        "    print(i, end = ' ')"
      ],
      "metadata": {
        "colab": {
          "base_uri": "https://localhost:8080/"
        },
        "id": "38pYo5Di4xj0",
        "outputId": "152f3e70-5369-4ebe-d8b4-3e8ad403b04c"
      },
      "execution_count": 6,
      "outputs": [
        {
          "output_type": "stream",
          "name": "stdout",
          "text": [
            "3 4 8 9 "
          ]
        }
      ]
    },
    {
      "cell_type": "code",
      "source": [
        "input =\"홍길동\""
      ],
      "metadata": {
        "id": "7Xpcu9Yi5zdr"
      },
      "execution_count": 7,
      "outputs": []
    },
    {
      "cell_type": "code",
      "source": [
        "ls = ['홍길동','강감찬','고길동','음냐뤼']\n",
        "name = input (\"검색할 회원: \")\n",
        "if name in ls:\n",
        "  print(\"존재합니다.\")\n",
        "else:\n",
        "  print(\"없는 회원입니다.\")"
      ],
      "metadata": {
        "colab": {
          "base_uri": "https://localhost:8080/"
        },
        "id": "MOCWDkrO52yh",
        "outputId": "a7880a53-5f5f-4382-8503-3fca2c267205"
      },
      "execution_count": 1,
      "outputs": [
        {
          "output_type": "stream",
          "name": "stdout",
          "text": [
            "검색할 회원: 강감찬\n",
            "존재합니다.\n"
          ]
        }
      ]
    },
    {
      "cell_type": "markdown",
      "source": [
        "# 간단한 연습 문제\n",
        "\n",
        " 10명의 회원 이름을 입력받아 출력하시오."
      ],
      "metadata": {
        "id": "lTyDU94y6tR4"
      }
    },
    {
      "cell_type": "code",
      "source": [
        "member_names=[]\n",
        "for i in range(10):\n",
        "  name = input(f\"{i+1}이름: \")  # 문자열 앞에 f로 표현하고 {} 사용하면 1번째, 2번째로 출력\n",
        "  member_names.append(name)\n",
        "print(member_names)"
      ],
      "metadata": {
        "colab": {
          "base_uri": "https://localhost:8080/"
        },
        "id": "FA11n6V260iw",
        "outputId": "dd9a9354-1351-41d1-d529-1c8f0f6fac3e"
      },
      "execution_count": 3,
      "outputs": [
        {
          "output_type": "stream",
          "name": "stdout",
          "text": [
            "1이름: 부현정\n",
            "2이름: 최현정\n",
            "3이름: 독고현정\n",
            "4이름: 선우현정\n",
            "5이름: 김현정\n",
            "6이름: 박현정\n",
            "7이름: 이현정\n",
            "8이름: 양현정\n",
            "9이름: 현정\n",
            "10이름: 제갈현정\n",
            "['부현정', '최현정', '독고현정', '선우현정', '김현정', '박현정', '이현정', '양현정', '현정', '제갈현정']\n"
          ]
        }
      ]
    },
    {
      "cell_type": "markdown",
      "source": [
        "# 국어, 영어, 수학 점수를 입력받아 평균을 구하여 출력하시오.\n",
        " 단, 점수는 리스트에 보관"
      ],
      "metadata": {
        "id": "7lGguA4Y7uJD"
      }
    },
    {
      "cell_type": "code",
      "source": [
        "subjects = (\"국어\",\"영어\", \"수학\")\n",
        "scores = []#점수를 기억할 컬렉션 생성\n",
        "for i in range(len(subjects)): # 반복 (3과목)\n",
        "  score = int(input(f\"{subjects[i]} 점수 입력: \" )) # 점수입력\n",
        "  scores.append(score) # 컬렉션에 보관\n",
        "print((scores[0] + scores[1] + scores[2])/3) # 평균 출력"
      ],
      "metadata": {
        "colab": {
          "base_uri": "https://localhost:8080/"
        },
        "id": "OZCzm58D7x2z",
        "outputId": "552565a6-7b79-420e-a7fa-b06331324101"
      },
      "execution_count": 13,
      "outputs": [
        {
          "output_type": "stream",
          "name": "stdout",
          "text": [
            "국어 점수 입력: 100\n",
            "영어 점수 입력: 80\n",
            "수학 점수 입력: 70\n",
            "83.33333333333333\n"
          ]
        }
      ]
    }
  ]
}
