{
  "nbformat": 4,
  "nbformat_minor": 0,
  "metadata": {
    "colab": {
      "name": "통계데이터분석-Preview.ipynb",
      "provenance": [],
      "collapsed_sections": [],
      "authorship_tag": "ABX9TyM2zlXn7mVqxQtms7gQftPM",
      "include_colab_link": true
    },
    "kernelspec": {
      "name": "python3",
      "display_name": "Python 3"
    },
    "language_info": {
      "name": "python"
    }
  },
  "cells": [
    {
      "cell_type": "markdown",
      "metadata": {
        "id": "view-in-github",
        "colab_type": "text"
      },
      "source": [
        "<a href=\"https://colab.research.google.com/github/hyunjung930/sesac-web/blob/main/%ED%86%B5%EA%B3%84%EB%8D%B0%EC%9D%B4%ED%84%B0%EB%B6%84%EC%84%9D_Preview.ipynb\" target=\"_parent\"><img src=\"https://colab.research.google.com/assets/colab-badge.svg\" alt=\"Open In Colab\"/></a>"
      ]
    },
    {
      "cell_type": "markdown",
      "source": [
        "# 데이터터 분석에서서 자주 사용하는 문법 리뷰"
      ],
      "metadata": {
        "id": "vuzNtyPcoAJ_"
      }
    },
    {
      "cell_type": "markdown",
      "source": [
        "벡터"
      ],
      "metadata": {
        "id": "4aQa-R4lUDpI"
      }
    },
    {
      "cell_type": "markdown",
      "source": [
        "행렬"
      ],
      "metadata": {
        "id": "jzxGnEYSUjNz"
      }
    },
    {
      "cell_type": "code",
      "source": [
        "import numpy as np\n",
        "a =np.array([[1,2],[2,3]])\n",
        "b =np.array([[5],[8]])\n",
        "ar = np.linalg.inv(a) #역행렬(Inverse of a matrix)\n",
        "answer = ar@b\n",
        "answer"
      ],
      "metadata": {
        "colab": {
          "base_uri": "https://localhost:8080/"
        },
        "id": "-nLormneVoHe",
        "outputId": "fa066b60-01c6-4566-9749-45de59c23d76"
      },
      "execution_count": 3,
      "outputs": [
        {
          "output_type": "execute_result",
          "data": {
            "text/plain": [
              "array([[1.],\n",
              "       [2.]])"
            ]
          },
          "metadata": {},
          "execution_count": 3
        }
      ]
    },
    {
      "cell_type": "markdown",
      "source": [
        "통계"
      ],
      "metadata": {
        "id": "tVnW_Ik0Ujer"
      }
    },
    {
      "cell_type": "code",
      "source": [
        "heights = np.random.normal(174,10,size=10000)\n",
        "import pandas as pd\n",
        "hs = pd.Series(heights.round())\n",
        "hs.value_counts()"
      ],
      "metadata": {
        "colab": {
          "base_uri": "https://localhost:8080/"
        },
        "id": "EQFjHTdaXZzZ",
        "outputId": "8766d560-546a-44e3-9b45-85e50827fb63"
      },
      "execution_count": 4,
      "outputs": [
        {
          "output_type": "execute_result",
          "data": {
            "text/plain": [
              "173.0    416\n",
              "175.0    416\n",
              "178.0    412\n",
              "177.0    403\n",
              "172.0    394\n",
              "        ... \n",
              "141.0      1\n",
              "207.0      1\n",
              "136.0      1\n",
              "133.0      1\n",
              "209.0      1\n",
              "Length: 73, dtype: int64"
            ]
          },
          "metadata": {},
          "execution_count": 4
        }
      ]
    },
    {
      "cell_type": "code",
      "source": [
        "import matplotlib.pyplot as plt\n",
        "plt.hist(heights,bins = 100)\n",
        "plt.show()"
      ],
      "metadata": {
        "colab": {
          "base_uri": "https://localhost:8080/",
          "height": 265
        },
        "id": "DqdgbZdsX4MZ",
        "outputId": "8481348f-4fb5-45a3-a954-080b7191e26a"
      },
      "execution_count": 5,
      "outputs": [
        {
          "output_type": "display_data",
          "data": {
            "image/png": "[encoded data removed]",
            "text/plain": [
              "<Figure size 432x288 with 1 Axes>"
            ]
          },
          "metadata": {
            "needs_background": "light"
          }
        }
      ]
    },
    {
      "cell_type": "markdown",
      "source": [
        "확률"
      ],
      "metadata": {
        "id": "nkSiiKBDUjsV"
      }
    },
    {
      "cell_type": "markdown",
      "source": [
        "- 1~6까지 쓰여진 6면체의 주사위가 있다.(공평하지 않은 주사위)\n",
        "\n",
        "1이 나올 확률이 1/6\n",
        "\n",
        "2가 나올 확률이 1/12\n",
        "\n",
        "3이 나올 확률이 1/12\n",
        "\n",
        "4가 나올 확률이 1/3\n",
        "\n",
        "5가 나올 확률이 1/6\n",
        "\n",
        "6이 나올 확률이 1/6\n",
        "\n",
        "- 주사위를 100번 던지는 실험을 해 보시오.\n",
        "\n",
        "\n",
        "발생한 수가     0,1이면 주사위 1\n",
        "\n",
        "발생한 수가       2이면 주사위 2\n",
        "\n",
        "발생한 수가       3이면 주사위 3\n",
        "\n",
        "발생한 수가 4,5,6,7이면 주사위 4\n",
        "\n",
        "발생한 수가     8,9이면 주사위 5\n",
        "\n",
        "발생한 수가   10,11이면 주사위 6\n"
      ],
      "metadata": {
        "id": "4GNb99UoYmCx"
      }
    },
    {
      "cell_type": "code",
      "source": [
        "data = np.random.randint(0,12,1000) #0부터 11까지 1000개를 만든다.\n",
        "cnts = np.zeros(6)\n",
        "for tv in data:\n",
        "  if tv == 0 or tv ==1:\n",
        "    cnts[0]+=1\n",
        "  elif tv ==2:\n",
        "    cnts[1]+=1\n",
        "  elif tv ==3:\n",
        "    cnts[2]+=1\n",
        "  elif tv ==2:\n",
        "    cnts[1]+=1\n",
        "  elif tv >=4 and tv <=7:\n",
        "    cnts[3]+=1\n",
        "  elif tv==8 or tv ==9:\n",
        "    cnts[4] +=1\n",
        "  else:\n",
        "    cnts[5]+=1\n",
        "cnts"
      ],
      "metadata": {
        "colab": {
          "base_uri": "https://localhost:8080/"
        },
        "id": "nt4lUN-lYlCp",
        "outputId": "d60a3f6a-7faa-4f87-fe2a-7610738fb213"
      },
      "execution_count": 6,
      "outputs": [
        {
          "output_type": "execute_result",
          "data": {
            "text/plain": [
              "array([156.,  75.,  82., 341., 181., 165.])"
            ]
          },
          "metadata": {},
          "execution_count": 6
        }
      ]
    },
    {
      "cell_type": "markdown",
      "source": [
        "가설과 추론"
      ],
      "metadata": {
        "id": "NQ6f3lXNUj5J"
      }
    },
    {
      "cell_type": "markdown",
      "source": [
        "현재는 2029년 Covid 이후에 전 세계에 새로운 전염병이 창권하였다.\n",
        "\n",
        "그 이름도 무서운 eh\n",
        "\n",
        "초기 감염률 0.001\n",
        "\n",
        "sessac-medical에서 신약을 개발하여 발표하였는데\n",
        "\n",
        "양성인지 음성인지 판별하였을때 정확도가 99%라고 한다.\n",
        "\n",
        "해당 테스터는 유의미한 테스터인지 판별하시오."
      ],
      "metadata": {
        "id": "XqP2nb3Kbs-7"
      }
    },
    {
      "cell_type": "markdown",
      "source": [
        "선형회귀"
      ],
      "metadata": {
        "id": "gtUgDsYCZwGd"
      }
    },
    {
      "cell_type": "code",
      "execution_count": 7,
      "metadata": {
        "colab": {
          "base_uri": "https://localhost:8080/",
          "height": 295
        },
        "id": "FOAoInT0T-xG",
        "outputId": "3383a319-bf29-4b30-a93f-800f1ed2174f"
      },
      "outputs": [
        {
          "output_type": "display_data",
          "data": {
            "image/png": "[encoded data removed]",
            "text/plain": [
              "<Figure size 432x288 with 1 Axes>"
            ]
          },
          "metadata": {
            "needs_background": "light"
          }
        }
      ],
      "source": [
        "temperature = [25.2,27.4,22.9,26.2,29.5,33.1,30.4,36.1,34.3,29.1]\n",
        "sales = [236500,357500,203500,365200,446600,574200,453200,675400,598400,463100]\n",
        "dict_data = {\"temp\":temperature,\"sales\":sales}\n",
        "df_sales = pd.DataFrame(dict_data,columns=[\"temp\",\"sales\"])\n",
        "df_sales.plot.scatter(x='temp', y='sales',grid=True, title =\"check\")\n",
        "plt.show()"
      ]
    },
    {
      "cell_type": "code",
      "source": [
        "sales2 = np.array(sales)/10000\n",
        "dict_data2 = {\"temp\":temperature,\"sales2\":sales2}\n",
        "df_sales2 = pd.DataFrame(dict_data2,columns=[\"temp\",\"sales2\"])\n",
        "plt.figure(figsize =(6,6))\n",
        "plt.plot(temperature,sales2,'o')\n",
        "plt.xlim(0,80) #0에서 80사이\n",
        "plt.ylim(0,80)\n",
        "plt.title(\"sales2\")\n",
        "plt.show()"
      ],
      "metadata": {
        "colab": {
          "base_uri": "https://localhost:8080/",
          "height": 390
        },
        "id": "o4gvGYTQhv3y",
        "outputId": "e66fa3c7-da2c-4a55-e5df-3421e5d8fd74"
      },
      "execution_count": 8,
      "outputs": [
        {
          "output_type": "display_data",
          "data": {
            "image/png": "[encoded data removed]",
            "text/plain": [
              "<Figure size 432x432 with 1 Axes>"
            ]
          },
          "metadata": {
            "needs_background": "light"
          }
        }
      ]
    },
    {
      "cell_type": "markdown",
      "source": [
        "y = ax + b\n",
        "\n",
        "y = wx +b :머신러닝에서 표현하는 방식\n",
        "\n",
        "w: 가중치- 독립변수 x가 결과 y에 영향을 주는 정도\n",
        "\n",
        "b: 편향 - 주어진 인자 외에 결과 y에 영향을 주는 정도\n",
        "\n",
        "y = 3x - 5 (eh)\n",
        "\n",
        "y = 4x - 2 (eh2)\n",
        "\n",
        "y = 5x - 3 (s c)"
      ],
      "metadata": {
        "id": "8cgtVkLyio1t"
      }
    },
    {
      "cell_type": "code",
      "source": [
        "sales2 = np.array(sales)/10000\n",
        "dict_data2 = {\"temp\":temperature,\"sales2\":sales2}\n",
        "df_sales2 = pd.DataFrame(dict_data2,columns=[\"temp\",\"sales2\"])\n",
        "plt.figure(figsize =(6,6))\n",
        "plt.plot(temperature,sales2,'o')\n",
        "plt.plot([0,80],[3*0-5, 3*80-5],'-',label ='y=3x-5') \n",
        "plt.plot([0,80],[4*0-2, 4*80-5],'-',label ='y=4x-2') \n",
        "plt.plot([0,80],[5*0-3, 5*80-5],'-',label ='y=5x-3') \n",
        "plt.plot([0,80],[4*0-5, 4*80-5],'-',label ='y=4x-5') \n",
        "plt.plot([0,80],[3.8*0-55, 4*80-55],'-',label ='y=3.4x-55') \n",
        "plt.xlim(0,80)\n",
        "plt.ylim(0,80)\n",
        "plt.title(\"sales2\")\n",
        "plt.show()"
      ],
      "metadata": {
        "colab": {
          "base_uri": "https://localhost:8080/",
          "height": 390
        },
        "id": "nsyXDhr-iKQQ",
        "outputId": "b54c52ea-792d-4832-bac9-8f39033475e8"
      },
      "execution_count": 9,
      "outputs": [
        {
          "output_type": "display_data",
          "data": {
            "image/png": "[encoded data removed]",
            "text/plain": [
              "<Figure size 432x432 with 1 Axes>"
            ]
          },
          "metadata": {
            "needs_background": "light"
          }
        }
      ]
    },
    {
      "cell_type": "code",
      "source": [
        "es1 = 0\n",
        "es2 = 0\n",
        "es3 = 0\n",
        "es4 = 0\n",
        "es5 = 0\n",
        "for i, temp in enumerate(temperature):\n",
        "  yp1 = 3*temp - 5 #예측값\n",
        "  yp2 = 4*temp - 2 #예측값\n",
        "  yp3 = 5*temp - 3 #예측값\n",
        "  yp4 = 4*temp - 5 #예측값\n",
        "  yp5 = 3.4*temp - 55 #예측값\n",
        "  y = sales2[i]\n",
        "  es1 += abs(yp1-y)\n",
        "  es2 += abs(yp2-y)\n",
        "  es3 += abs(yp3-y)\n",
        "  es4 += abs(yp4-y)\n",
        "  es5 += abs(yp5-y)\n",
        "print(f\"{es1:.2f},{es2:.2f},{es3:.2f},{es4:.2f},{es5:.2f}\")"
      ],
      "metadata": {
        "colab": {
          "base_uri": "https://localhost:8080/"
        },
        "id": "mBkJ3_XQlzUE",
        "outputId": "ff1d1cc7-33d9-4f04-98c8-5db7d9387872"
      },
      "execution_count": 13,
      "outputs": [
        {
          "output_type": "stream",
          "name": "stdout",
          "text": [
            "395.24,719.44,1003.64,689.44,22.54\n"
          ]
        }
      ]
    },
    {
      "cell_type": "code",
      "source": [
        "es1 = 0\n",
        "es2 = 0\n",
        "es3 = 0\n",
        "es4 = 0\n",
        "es5 = 0\n",
        "for i, temp in enumerate(temperature):\n",
        "  yp1 = 3*temp - 5 #예측값\n",
        "  yp2 = 4*temp - 2 #예측값\n",
        "  yp3 = 5*temp - 3 #예측값\n",
        "  yp4 = 4*temp - 5 #예측값\n",
        "  yp5 = 3.4*temp - 55 #예측값\n",
        "  y = sales2[i]\n",
        "  es1 += (yp1-y)**2\n",
        "  es2 += (yp2-y)**2\n",
        "  es3 += (yp3-y)**2\n",
        "  es4 += (yp4-y)**2\n",
        "  es5 += (yp5-y)**2\n",
        "print(f\"{es1:09.2f}\\n{es2:09.2f}\\n{es3:09.2f}\\n{es4:09.2f}\\n{es5:09.2f}\")"
      ],
      "metadata": {
        "colab": {
          "base_uri": "https://localhost:8080/"
        },
        "id": "hfJnBTo-oXYs",
        "outputId": "20c83495-b9f0-44d8-d640-f59438d4cbea"
      },
      "execution_count": 12,
      "outputs": [
        {
          "output_type": "stream",
          "name": "stdout",
          "text": [
            "015739.03\n",
            "051850.94\n",
            "101110.49\n",
            "047624.30\n",
            "000085.97\n"
          ]
        }
      ]
    },
    {
      "cell_type": "code",
      "source": [
        "es1 = 0\n",
        "es2 = 0\n",
        "es3 = 0\n",
        "es4 = 0\n",
        "es5 = 0\n",
        "for i, temp in enumerate(temperature):\n",
        "  yp1 = 3*temp - 5 #예측값\n",
        "  yp2 = 4*temp - 2 #예측값\n",
        "  yp3 = 5*temp - 3 #예측값\n",
        "  yp4 = 4*temp - 5 #예측값\n",
        "  yp5 = 3.4*temp - 55 #예측값\n",
        "  y = sales2[i]\n",
        "  es1 += (yp1-y)**2\n",
        "  es2 += (yp2-y)**2\n",
        "  es3 += (yp3-y)**2\n",
        "  es4 += (yp4-y)**2\n",
        "  es5 += (yp5-y)**2\n",
        "print(f\"{es1:09.2f}\\n{es2:09.2f}\\n{es3:09.2f}\\n{es4:09.2f}\\n{es5:09.2f}\")"
      ],
      "metadata": {
        "id": "HrMklJqMoZJX"
      },
      "execution_count": null,
      "outputs": []
    },
    {
      "cell_type": "markdown",
      "source": [
        "로지스틱회귀"
      ],
      "metadata": {
        "id": "Oo1N4L_Bmyy4"
      }
    },
    {
      "cell_type": "code",
      "source": [
        "import math\n",
        "def sigmoid(x): #logistic function or sigmoid function\n",
        "    return math.exp(x)/(1+math.exp(x))\n",
        "\n",
        "xs = [i/10 for i in range(-100,100,1)]\n",
        "ys = [sigmoid(x) for x in xs]\n",
        "plt.plot(xs,ys,'r-.')\n",
        "plt.axvline(x=0,color='k')\n",
        "plt.title(\"sigmoid function\")\n",
        "plt.grid(True)\n",
        "plt.show()"
      ],
      "metadata": {
        "id": "uJdas91NpJRT",
        "colab": {
          "base_uri": "https://localhost:8080/",
          "height": 281
        },
        "outputId": "32742d17-aa65-4fcf-d7ca-4b134c9b08c2"
      },
      "execution_count": 14,
      "outputs": [
        {
          "output_type": "display_data",
          "data": {
            "image/png": "[encoded data removed]",
            "text/plain": [
              "<Figure size 432x288 with 1 Axes>"
            ]
          },
          "metadata": {
            "needs_background": "light"
          }
        }
      ]
    },
    {
      "cell_type": "markdown",
      "source": [
        "KNN"
      ],
      "metadata": {
        "id": "ToMkxJizohf3"
      }
    },
    {
      "cell_type": "code",
      "source": [
        "temperature = [25.2, 27.4, 22.9, 26.2, 29.5, 33.1, 30.4, 36.1, 34.3, 29.1]\n",
        "sales = [236500,357500,203500, 365200,446600,574200,453200,675400,598400,463100]\n",
        "dict_data = {\"temp\":temperature,\"sales\":sales}\n",
        "df_sales = pd.DataFrame(dict_data,columns=[\"temp\",\"sales\"])\n",
        "df_sales.plot.scatter(x='temp',y=\"sales\",grid=True,title=\"umnyari\")"
      ],
      "metadata": {
        "colab": {
          "base_uri": "https://localhost:8080/",
          "height": 312
        },
        "id": "LNPZw8mEogAq",
        "outputId": "e423c41e-6813-439a-83fa-0d32b30efc46"
      },
      "execution_count": 15,
      "outputs": [
        {
          "output_type": "execute_result",
          "data": {
            "text/plain": [
              "<matplotlib.axes._subplots.AxesSubplot at 0x7f0337475b10>"
            ]
          },
          "metadata": {},
          "execution_count": 15
        },
        {
          "output_type": "display_data",
          "data": {
            "image/png": "[encoded data removed]",
            "text/plain": [
              "<Figure size 432x288 with 1 Axes>"
            ]
          },
          "metadata": {
            "needs_background": "light"
          }
        }
      ]
    },
    {
      "cell_type": "code",
      "source": [
        "temps = np.array([temp/10 for temp in range(-100,500,1)])\n",
        "sales = [3.4*temp-55+np.random.randint(np.random.randint(-12,-7),np.random.randint(3,8)) for temp in temps]\n",
        "plt.plot(temps,sales,'.')\n",
        "plt.show()"
      ],
      "metadata": {
        "colab": {
          "base_uri": "https://localhost:8080/",
          "height": 265
        },
        "id": "EGqCGypAonOB",
        "outputId": "17a546ec-dc1f-478b-e854-3a8818c4404a"
      },
      "execution_count": 16,
      "outputs": [
        {
          "output_type": "display_data",
          "data": {
            "image/png": "[encoded data removed]",
            "text/plain": [
              "<Figure size 432x288 with 1 Axes>"
            ]
          },
          "metadata": {
            "needs_background": "light"
          }
        }
      ]
    },
    {
      "cell_type": "code",
      "source": [
        "temp = 28\n",
        "neighbors = [27.8, 27.9, 28, 28.1,28.2]\n",
        "n_sales =np.zeros(5)\n",
        "for j,neighbor in enumerate(neighbors):\n",
        "  for i,stemp in enumerate(temps):\n",
        "    if neighbor == stemp:\n",
        "      n_sales[j] = sales[i]\n",
        "n_sales.mean()"
      ],
      "metadata": {
        "colab": {
          "base_uri": "https://localhost:8080/"
        },
        "id": "iboGoH_loncf",
        "outputId": "398b35d7-2516-4f62-aa28-6e14272506c5"
      },
      "execution_count": 17,
      "outputs": [
        {
          "output_type": "execute_result",
          "data": {
            "text/plain": [
              "37.4"
            ]
          },
          "metadata": {},
          "execution_count": 17
        }
      ]
    },
    {
      "cell_type": "code",
      "source": [
        "heights = np.random.normal(174,10,size=10000) #평균이 174, 표준편차가 10에 해당하는 정규 분포 데이터 10000개를 만들어 주세요.\n",
        "heights.mean(),heights.std()\n",
        "\n",
        "heights2 = heights-heights.mean()\n",
        "heights2.mean(),heights2.std()\n",
        "\n",
        "height3 = heights2/heights2.std()\n",
        "height3.mean(),height3.std()"
      ],
      "metadata": {
        "colab": {
          "base_uri": "https://localhost:8080/"
        },
        "id": "0HoubnhBoqkN",
        "outputId": "dd777365-5b03-4e78-d77d-6b7c2ccda992"
      },
      "execution_count": 18,
      "outputs": [
        {
          "output_type": "execute_result",
          "data": {
            "text/plain": [
              "(-1.874411736935144e-15, 1.0)"
            ]
          },
          "metadata": {},
          "execution_count": 18
        }
      ]
    },
    {
      "cell_type": "markdown",
      "source": [
        "KMeans\n",
        "\n",
        "의사결정트리\n",
        "\n",
        "퍼셉트론\n",
        "\n",
        "TFIDF"
      ],
      "metadata": {
        "id": "Gl50Mb9sotkI"
      }
    }
  ]
}
