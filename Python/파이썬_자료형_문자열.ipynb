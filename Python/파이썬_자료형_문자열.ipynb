{
  "nbformat": 4,
  "nbformat_minor": 0,
  "metadata": {
    "colab": {
      "name": "파이썬-자료형-문자열.ipynb",
      "provenance": [],
      "authorship_tag": "ABX9TyN/iyG83xof/CctOVcaMLQl",
      "include_colab_link": true
    },
    "kernelspec": {
      "name": "python3",
      "display_name": "Python 3"
    },
    "language_info": {
      "name": "python"
    }
  },
  "cells": [
    {
      "cell_type": "markdown",
      "metadata": {
        "id": "view-in-github",
        "colab_type": "text"
      },
      "source": [
        "<a href=\"https://colab.research.google.com/github/hyunjung930/sesac-web/blob/main/%ED%8C%8C%EC%9D%B4%EC%8D%AC_%EC%9E%90%EB%A3%8C%ED%98%95_%EB%AC%B8%EC%9E%90%EC%97%B4.ipynb\" target=\"_parent\"><img src=\"https://colab.research.google.com/assets/colab-badge.svg\" alt=\"Open In Colab\"/></a>"
      ]
    },
    {
      "cell_type": "markdown",
      "source": [
        "# 문자열 기본 표현"
      ],
      "metadata": {
        "id": "aQJBvUFzc2g3"
      }
    },
    {
      "cell_type": "code",
      "source": [
        "print('abc')\n",
        "print(\"ABC\")\n",
        "print(\"\"\"안녕하세요.\"\"\")"
      ],
      "metadata": {
        "colab": {
          "base_uri": "https://localhost:8080/"
        },
        "id": "tqTrOiW-c5dC",
        "outputId": "1969e224-6f1b-4dc3-c7f1-84f7965511cf"
      },
      "execution_count": 3,
      "outputs": [
        {
          "output_type": "stream",
          "name": "stdout",
          "text": [
            "abc\n",
            "ABC\n",
            "안녕하세요.\n"
          ]
        }
      ]
    },
    {
      "cell_type": "markdown",
      "source": [
        "# 이스케이프 문자"
      ],
      "metadata": {
        "id": "DPEkWvaqdShV"
      }
    },
    {
      "cell_type": "code",
      "source": [
        "print('\\t하이') # \\n 들여쓰기\n",
        "print('우리는 \\t 야호 \\n 하하하')"
      ],
      "metadata": {
        "colab": {
          "base_uri": "https://localhost:8080/"
        },
        "id": "jErzb2Yzc9ZS",
        "outputId": "a10b9b99-b11a-4ccc-ae6e-b1d1715ce180"
      },
      "execution_count": 4,
      "outputs": [
        {
          "output_type": "stream",
          "name": "stdout",
          "text": [
            "\t하이\n",
            "우리는 \t 야호 \n",
            " 하하하\n"
          ]
        }
      ]
    },
    {
      "cell_type": "code",
      "source": [
        "print('I\\'m a boy.')"
      ],
      "metadata": {
        "colab": {
          "base_uri": "https://localhost:8080/"
        },
        "id": "FzkUQUr2dlfQ",
        "outputId": "1c474887-34f3-4c86-d166-3ea5273d567b"
      },
      "execution_count": 6,
      "outputs": [
        {
          "output_type": "stream",
          "name": "stdout",
          "text": [
            "I'm a boy.\n"
          ]
        }
      ]
    },
    {
      "cell_type": "code",
      "source": [
        "print(\"I'm a boy.\")"
      ],
      "metadata": {
        "colab": {
          "base_uri": "https://localhost:8080/"
        },
        "id": "OjbUr1DtdwUu",
        "outputId": "f9d023ec-dd86-4c48-8b4b-795926ab43f9"
      },
      "execution_count": 7,
      "outputs": [
        {
          "output_type": "stream",
          "name": "stdout",
          "text": [
            "I'm a boy.\n"
          ]
        }
      ]
    },
    {
      "cell_type": "code",
      "source": [
        "print(\"그가 \\\"안녕\\\"이라고 말했다.\")"
      ],
      "metadata": {
        "colab": {
          "base_uri": "https://localhost:8080/"
        },
        "id": "ningrEqEd3d-",
        "outputId": "694d68dc-2447-45dc-e2f2-6f34e6be44e1"
      },
      "execution_count": 8,
      "outputs": [
        {
          "output_type": "stream",
          "name": "stdout",
          "text": [
            "그가 \"안녕\"이라고 말했다.\n"
          ]
        }
      ]
    },
    {
      "cell_type": "code",
      "source": [
        "print('그가 \"안녕\"이라고 말했다.')"
      ],
      "metadata": {
        "colab": {
          "base_uri": "https://localhost:8080/"
        },
        "id": "nePyWC99d-xD",
        "outputId": "01f1124a-5923-498b-aaa2-6a0b36354d29"
      },
      "execution_count": 9,
      "outputs": [
        {
          "output_type": "stream",
          "name": "stdout",
          "text": [
            "그가 \"안녕\"이라고 말했다.\n"
          ]
        }
      ]
    },
    {
      "cell_type": "markdown",
      "source": [
        "# 인용문"
      ],
      "metadata": {
        "id": "gLiw9UO2eKgQ"
      }
    },
    {
      "cell_type": "code",
      "source": [
        "print(\"===\")\n",
        "azale2 = \"\"\"\\\n",
        "나 보기가 역겨워\n",
        "가실 때에는\n",
        "말없이 고이 보내\n",
        "드리오리다.\\\n",
        "\"\"\"\n",
        "print(azale2)\n",
        "print(\"===\")"
      ],
      "metadata": {
        "colab": {
          "base_uri": "https://localhost:8080/"
        },
        "id": "MbmsURP7efqo",
        "outputId": "b41c12bc-ce15-403a-c6ac-5c5d600b79a8"
      },
      "execution_count": 13,
      "outputs": [
        {
          "output_type": "stream",
          "name": "stdout",
          "text": [
            "===\n",
            "나 보기가 역겨워\n",
            "가실 때에는\n",
            "말없이 고이 보내\n",
            "드리오리다.\n",
            "===\n"
          ]
        }
      ]
    },
    {
      "cell_type": "markdown",
      "source": [
        "# 문자코드"
      ],
      "metadata": {
        "id": "kf3N3PgFfczv"
      }
    },
    {
      "cell_type": "code",
      "source": [
        "print(\"a:\",ord('a'),\"A:\",ord('A'),\"0:\",ord('0')) #'a': 0110 0001 'A': 0101 0001 '0':0011 0001"
      ],
      "metadata": {
        "colab": {
          "base_uri": "https://localhost:8080/"
        },
        "id": "69cqJmifffMi",
        "outputId": "5ae868ce-c846-44c9-9c1e-d700bfd61432"
      },
      "execution_count": 15,
      "outputs": [
        {
          "output_type": "stream",
          "name": "stdout",
          "text": [
            "a: 97 A: 65 0: 48\n"
          ]
        }
      ]
    },
    {
      "cell_type": "code",
      "source": [
        "print(chr(97),chr(65),chr(48)) #ord의 역함수"
      ],
      "metadata": {
        "colab": {
          "base_uri": "https://localhost:8080/"
        },
        "id": "QzGH__gLgULi",
        "outputId": "363255cb-c93f-4b73-c32e-ef02117d62be"
      },
      "execution_count": 16,
      "outputs": [
        {
          "output_type": "stream",
          "name": "stdout",
          "text": [
            "a A 0\n"
          ]
        }
      ]
    }
  ]
}
