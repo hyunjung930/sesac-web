{
  "nbformat": 4,
  "nbformat_minor": 0,
  "metadata": {
    "colab": {
      "name": "통계데이터분석-통계.ipynb",
      "provenance": [],
      "authorship_tag": "ABX9TyPyAzojOmp2FNt/hKK7dGK3",
      "include_colab_link": true
    },
    "kernelspec": {
      "name": "python3",
      "display_name": "Python 3"
    },
    "language_info": {
      "name": "python"
    }
  },
  "cells": [
    {
      "cell_type": "markdown",
      "metadata": {
        "id": "view-in-github",
        "colab_type": "text"
      },
      "source": [
        "<a href=\"https://colab.research.google.com/github/hyunjung930/sesac-web/blob/main/%ED%86%B5%EA%B3%84%EB%8D%B0%EC%9D%B4%ED%84%B0%EB%B6%84%EC%84%9D_%ED%86%B5%EA%B3%84.ipynb\" target=\"_parent\"><img src=\"https://colab.research.google.com/assets/colab-badge.svg\" alt=\"Open In Colab\"/></a>"
      ]
    },
    {
      "cell_type": "markdown",
      "source": [
        "들어가기에 앞서"
      ],
      "metadata": {
        "id": "WVtO35R8q9Yo"
      }
    },
    {
      "cell_type": "markdown",
      "source": [
        "들여쓰기"
      ],
      "metadata": {
        "id": "7mi0qK6cseAd"
      }
    },
    {
      "cell_type": "code",
      "execution_count": null,
      "metadata": {
        "colab": {
          "base_uri": "https://localhost:8080/"
        },
        "id": "qkE37Afrq5OE",
        "outputId": "ceef23ed-5f0c-408f-e0a6-a8f9dd5114d3"
      },
      "outputs": [
        {
          "output_type": "stream",
          "name": "stdout",
          "text": [
            "0 1 2 3 4 5 6 7 8 9 "
          ]
        }
      ],
      "source": [
        "#C언어 예 : 들여쓰기는 문법 사항이 아니다.\n",
        "# i = 0\n",
        "# while (i<10)  // i가 10보다 작다면\n",
        "#{\n",
        "#printf(\"%d\",i)   // i값을 출력\n",
        "# i +=1    // i를 증가\n",
        "#}\n",
        "i =0\n",
        "while i<10:\n",
        "  print(i, end=' ')\n",
        "  i+=1"
      ]
    },
    {
      "cell_type": "code",
      "source": [
        "import sys\n",
        "sys.path.append('/content/sample_data/')"
      ],
      "metadata": {
        "id": "2KXX5E1zukdS"
      },
      "execution_count": null,
      "outputs": []
    },
    {
      "cell_type": "code",
      "source": [
        "import demo\n",
        "demo.print_n(3,7)"
      ],
      "metadata": {
        "colab": {
          "base_uri": "https://localhost:8080/"
        },
        "id": "i6DSSKrjuqmF",
        "outputId": "01052fe1-ab11-4f3c-c9d8-8a0022b2c242"
      },
      "execution_count": null,
      "outputs": [
        {
          "output_type": "stream",
          "name": "stdout",
          "text": [
            "3 3 3 3 3 3 3 3 "
          ]
        }
      ]
    },
    {
      "cell_type": "code",
      "source": [
        "import demo as d #'as'를 사용하여 d로 명명\n",
        "d.print_n(3,7)"
      ],
      "metadata": {
        "colab": {
          "base_uri": "https://localhost:8080/"
        },
        "id": "Us6LttWNvI-B",
        "outputId": "b1cfd7d7-110f-41b5-d658-db57ecbe5731"
      },
      "execution_count": null,
      "outputs": [
        {
          "output_type": "stream",
          "name": "stdout",
          "text": [
            "3 3 3 3 3 3 3 3 "
          ]
        }
      ]
    },
    {
      "cell_type": "code",
      "source": [
        "from demo import print_n #*은 쓰는거 권장하지 않음....\n",
        "print_n(3,7)"
      ],
      "metadata": {
        "colab": {
          "base_uri": "https://localhost:8080/"
        },
        "id": "xIpERU5svcAn",
        "outputId": "41aba23e-7fdd-4081-cbed-95eee41e4527"
      },
      "execution_count": null,
      "outputs": [
        {
          "output_type": "stream",
          "name": "stdout",
          "text": [
            "3 3 3 3 3 3 3 3 "
          ]
        }
      ]
    },
    {
      "cell_type": "code",
      "source": [
        "#def print_n(i, n=1):\n",
        "#  for _ in range(n+1): \n",
        "#'_' : 특별히 함수를 사용하지 않을 때 사용\n",
        "#    print(i, end=' ')"
      ],
      "metadata": {
        "id": "F4RDL9kkwKja"
      },
      "execution_count": null,
      "outputs": []
    },
    {
      "cell_type": "markdown",
      "source": [
        "함수"
      ],
      "metadata": {
        "id": "GzzcARJQwS4-"
      }
    },
    {
      "cell_type": "code",
      "source": [
        "#함수 정의\n",
        "#def 함수명(입력매개변수목록):\n",
        "#    수행할 구문\n",
        "def print_k(i,k=1):\n",
        "  \"\"\"\n",
        "  인용문 문법을 이용해서 한 줄 이상의 주석을 다는 것을 선호\n",
        "\n",
        "  함수명: print_k\n",
        "  입력매개변수목록: i,k\n",
        "    i:출력할 인자\n",
        "    k:출력할 횟수, 디폴트 값:1\n",
        "  반환: 없음\n",
        "  \"\"\"\n",
        "  for _ in range(k):\n",
        "   print(i, end=\",\")\n",
        "  print()"
      ],
      "metadata": {
        "id": "wodS6U7WwTq9"
      },
      "execution_count": null,
      "outputs": []
    },
    {
      "cell_type": "code",
      "source": [
        "def apply_to_one(f):\n",
        "  \"\"\"\n",
        "  함수명: apply_to_one\n",
        "  입력매개변수목록: f\n",
        "    f:알고리즘(최소 한 개의 입력 인자를 갖는)\n",
        "  반환 f(1)\n",
        "  \"\"\"\n",
        "  return f(1) #입력인자 f를 함수처럼 호출"
      ],
      "metadata": {
        "id": "UcnXECYzxkUC"
      },
      "execution_count": null,
      "outputs": []
    },
    {
      "cell_type": "code",
      "source": [
        "re = apply_to_one(print_k)\n",
        "print(re)"
      ],
      "metadata": {
        "colab": {
          "base_uri": "https://localhost:8080/"
        },
        "id": "8w34YKWryNRN",
        "outputId": "5018dee5-4d77-4e21-c5b5-ef9c1b3c3261"
      },
      "execution_count": null,
      "outputs": [
        {
          "output_type": "stream",
          "name": "stdout",
          "text": [
            "1,\n",
            "None\n"
          ]
        }
      ]
    },
    {
      "cell_type": "code",
      "source": [
        "def foo1(a):\n",
        "  print(\"foo 수행 중...\")\n",
        "  return str(a)"
      ],
      "metadata": {
        "id": "s29mFAPAyf8U"
      },
      "execution_count": 101,
      "outputs": []
    },
    {
      "cell_type": "code",
      "source": [
        "re = apply_to_one(foo1) #의도적으로 인자를 전달 할 수 있다. \n",
        "print(re)"
      ],
      "metadata": {
        "colab": {
          "base_uri": "https://localhost:8080/"
        },
        "id": "4sgrnQhCyjrE",
        "outputId": "b163163b-3221-433c-ce47-e8e5444b8aa9"
      },
      "execution_count": 102,
      "outputs": [
        {
          "output_type": "stream",
          "name": "stdout",
          "text": [
            "foo 수행 중...\n",
            "1\n"
          ]
        }
      ]
    },
    {
      "cell_type": "code",
      "source": [
        "def foo(a):\n",
        "  \"\"\"\n",
        "  전달받은 값을 10으로 나누었을 때 몫을 반환하는 함수\n",
        "  \"\"\"\n",
        "  return a//10"
      ],
      "metadata": {
        "id": "q6H2s-RuWCAg"
      },
      "execution_count": 103,
      "outputs": []
    },
    {
      "cell_type": "code",
      "source": [
        "\"\"\"\n",
        "lambda : 익명의 함수(간단한 계산식에 대부분 사용)\n",
        "lambda x: x+2\n",
        "위 코드는 아래 코드와 같은 역할을 수행한다.\n",
        "def foo(x):\n",
        "  return x+2\n",
        "\"\"\"\n",
        "re = apply_to_one(lambda x:x*2)\n",
        "print(re)"
      ],
      "metadata": {
        "colab": {
          "base_uri": "https://localhost:8080/"
        },
        "id": "qsQLVhDdy-7Y",
        "outputId": "1c4317d4-48f6-44e7-ceb7-d2c3ed42a9a2"
      },
      "execution_count": null,
      "outputs": [
        {
          "output_type": "stream",
          "name": "stdout",
          "text": [
            "2\n"
          ]
        }
      ]
    },
    {
      "cell_type": "markdown",
      "source": [
        "문자열"
      ],
      "metadata": {
        "id": "MiWXU5uoztNK"
      }
    },
    {
      "cell_type": "code",
      "source": [
        "print(\"a\\tb\\n\\c\\\\hello\")\n",
        "# 역슬러시 2개: 역슬러시 1개로 표현\n",
        "# \\t : 탭을 의미\n"
      ],
      "metadata": {
        "colab": {
          "base_uri": "https://localhost:8080/"
        },
        "id": "3_nvT7HozuQz",
        "outputId": "408e4f4e-8638-4e15-be66-0b9c7201b4d4"
      },
      "execution_count": null,
      "outputs": [
        {
          "output_type": "stream",
          "name": "stdout",
          "text": [
            "a\tb\n",
            "\\c\\hello\n"
          ]
        }
      ]
    },
    {
      "cell_type": "code",
      "source": [
        "i = int(input(\"첫 번째 수:\")) #\n",
        "j = int(input(\"두 번째 수:\"))\n",
        "re = i + j\n",
        "print(re)"
      ],
      "metadata": {
        "colab": {
          "base_uri": "https://localhost:8080/"
        },
        "id": "Ita10mdd0GaW",
        "outputId": "5898cb6a-2bc2-4a15-af00-2496c4609cde"
      },
      "execution_count": null,
      "outputs": [
        {
          "output_type": "stream",
          "name": "stdout",
          "text": [
            "첫 번째 수:3\n",
            "두 번째 수:4\n",
            "7\n"
          ]
        }
      ]
    },
    {
      "cell_type": "code",
      "source": [
        "#문자열 뒤에 멤버메소드\n",
        "i = 23\n",
        "j = 34\n",
        "\"{0:03d}, {1:04d}\".format(i,j)"
      ],
      "metadata": {
        "colab": {
          "base_uri": "https://localhost:8080/",
          "height": 35
        },
        "id": "ivgXcPEp0nVL",
        "outputId": "0ce920b2-6f6e-4cb3-a8d6-b936d6fa388a"
      },
      "execution_count": null,
      "outputs": [
        {
          "output_type": "execute_result",
          "data": {
            "application/vnd.google.colaboratory.intrinsic+json": {
              "type": "string"
            },
            "text/plain": [
              "'023, 0034'"
            ]
          },
          "metadata": {},
          "execution_count": 28
        }
      ]
    },
    {
      "cell_type": "code",
      "source": [
        "f\"{i:03d} {j:04d}\" #'i:03d' : 출력할 때 3칸 차지하고 빈칸은 0으로 채워주세요 "
      ],
      "metadata": {
        "colab": {
          "base_uri": "https://localhost:8080/",
          "height": 35
        },
        "id": "LO8mJK8v0sgC",
        "outputId": "fab26b7e-65ea-4f33-dfcd-03bb3c245b1d"
      },
      "execution_count": null,
      "outputs": [
        {
          "output_type": "execute_result",
          "data": {
            "application/vnd.google.colaboratory.intrinsic+json": {
              "type": "string"
            },
            "text/plain": [
              "'023 0034'"
            ]
          },
          "metadata": {},
          "execution_count": 29
        }
      ]
    },
    {
      "cell_type": "code",
      "source": [
        "pre=\"cap\"\n",
        "ext=\".png\"\n",
        "for cnt in range(1,20):\n",
        "  print(f\"{pre}{cnt}{ext}\")"
      ],
      "metadata": {
        "colab": {
          "base_uri": "https://localhost:8080/"
        },
        "id": "bXTkR1r_1bnA",
        "outputId": "52abf6a0-6eea-4d73-e106-ac536d9e2f76"
      },
      "execution_count": null,
      "outputs": [
        {
          "output_type": "stream",
          "name": "stdout",
          "text": [
            "cap1.png\n",
            "cap2.png\n",
            "cap3.png\n",
            "cap4.png\n",
            "cap5.png\n",
            "cap6.png\n",
            "cap7.png\n",
            "cap8.png\n",
            "cap9.png\n",
            "cap10.png\n",
            "cap11.png\n",
            "cap12.png\n",
            "cap13.png\n",
            "cap14.png\n",
            "cap15.png\n",
            "cap16.png\n",
            "cap17.png\n",
            "cap18.png\n",
            "cap19.png\n"
          ]
        }
      ]
    },
    {
      "cell_type": "markdown",
      "source": [
        "예외처리"
      ],
      "metadata": {
        "id": "M29T4Tik19rs"
      }
    },
    {
      "cell_type": "code",
      "source": [
        "try:\n",
        "  i = int(input(\"첫번째 수:\"))\n",
        "except:\n",
        "  print(\"정수가 아닌 수를 입력하여 1로 처리합니다.\")\n",
        "  i =1\n",
        "try:\n",
        "  j = int(input(\"두번째 수:\"))\n",
        "except:\n",
        "  print(\"정수가 아닌 수를 입력하여 1로 처리합니다.\")\n",
        "  j=1\n",
        "re = i+j\n",
        "print(f\"두 수의 합은 {re}\")"
      ],
      "metadata": {
        "colab": {
          "base_uri": "https://localhost:8080/"
        },
        "id": "qs6wv7j41_H8",
        "outputId": "8a037e1f-fba9-43e0-e05b-c6a23cc0bda0"
      },
      "execution_count": null,
      "outputs": [
        {
          "output_type": "stream",
          "name": "stdout",
          "text": [
            "첫번째 수:a\n",
            "정수가 아닌 수를 입력하여 1로 처리합니다.\n",
            "두번째 수:3\n",
            "두 수의 합은 4\n"
          ]
        }
      ]
    },
    {
      "cell_type": "markdown",
      "source": [
        "리스트, 튜플, 딕셔너리, 디폴트 딕셔너리, 집합"
      ],
      "metadata": {
        "id": "T2Y4Pz-X6jVh"
      }
    },
    {
      "cell_type": "code",
      "source": [
        "x = [1,2,3,4,5,6,7,8,9,10] #리스트\n",
        "print(\"길이:\", len(x))\n",
        "print(\"합계:\", sum(x))"
      ],
      "metadata": {
        "colab": {
          "base_uri": "https://localhost:8080/"
        },
        "id": "rQpaZfIE6l_0",
        "outputId": "c99d12d6-7b01-451c-f2e4-59bef47bef22"
      },
      "execution_count": 33,
      "outputs": [
        {
          "output_type": "stream",
          "name": "stdout",
          "text": [
            "길이: 10\n",
            "합계: 55\n"
          ]
        }
      ]
    },
    {
      "cell_type": "code",
      "source": [
        "for i in range(len(x)):\n",
        "  print(x[i], end=',') #인덱스 연산으로 원소에 접근\n",
        "print()"
      ],
      "metadata": {
        "colab": {
          "base_uri": "https://localhost:8080/"
        },
        "id": "bGzcbWJ27Eaq",
        "outputId": "b2417032-19be-414c-fa10-da434d7901f3"
      },
      "execution_count": 35,
      "outputs": [
        {
          "output_type": "stream",
          "name": "stdout",
          "text": [
            "1,2,3,4,5,6,7,8,9,10,\n"
          ]
        }
      ]
    },
    {
      "cell_type": "code",
      "source": [
        "for i in range(len(x)):\n",
        "  x[i] = i * i #리스트는 인덱스 연산을 = 좌항에 표현하여 값을 변경할 수 있다.\n",
        "\n",
        "for i in range(len(x)):\n",
        "  print(x[i], end=',') #인덱스 연산으로 원소에 접근\n",
        "print()"
      ],
      "metadata": {
        "id": "sq0q1cox7W1m"
      },
      "execution_count": null,
      "outputs": []
    },
    {
      "cell_type": "code",
      "source": [
        "print(x)\n",
        "print(\"1:\",x [2:4])\n",
        "print(\"2:\",x [:4])\n",
        "print(\"3:\",x [2:])\n",
        "print(\"4:\",x [:])\n",
        "print(\"5:\",x [-1])\n",
        "print(\"6:\",x [2:-1])"
      ],
      "metadata": {
        "colab": {
          "base_uri": "https://localhost:8080/"
        },
        "id": "e_6sNqCv7__W",
        "outputId": "1933da19-b9dc-40da-e750-969cc5a1fe0f"
      },
      "execution_count": 36,
      "outputs": [
        {
          "output_type": "stream",
          "name": "stdout",
          "text": [
            "[1, 2, 3, 4, 5, 6, 7, 8, 9, 10]\n",
            "1: [3, 4]\n",
            "2: [1, 2, 3, 4]\n",
            "3: [3, 4, 5, 6, 7, 8, 9, 10]\n",
            "4: [1, 2, 3, 4, 5, 6, 7, 8, 9, 10]\n",
            "5: 10\n",
            "6: [3, 4, 5, 6, 7, 8, 9]\n"
          ]
        }
      ]
    },
    {
      "cell_type": "code",
      "source": [
        "for i in range(20):\n",
        "  if i in x:\n",
        "    print(f\"{i}는 리스트에 있습니다.\")\n",
        "  else:\n",
        "    print(f\"{i}는 없습니다.\")"
      ],
      "metadata": {
        "id": "OfFjEPiS8VYH"
      },
      "execution_count": null,
      "outputs": []
    },
    {
      "cell_type": "code",
      "source": [
        "ls = [3,4,5]\n",
        "_,b,_ = ls\n",
        "print(f\"b:{b}\")"
      ],
      "metadata": {
        "colab": {
          "base_uri": "https://localhost:8080/"
        },
        "id": "HQ7ohZUv87n2",
        "outputId": "2d161343-6ddf-44c5-fd98-78ddd3d3d239"
      },
      "execution_count": 38,
      "outputs": [
        {
          "output_type": "stream",
          "name": "stdout",
          "text": [
            "b:4\n"
          ]
        }
      ]
    },
    {
      "cell_type": "code",
      "source": [
        "def getcal(ls):\n",
        "  sum =0\n",
        "  for i in range(len(ls)):\n",
        "    sum += ls[i]\n",
        "  aver = sum/len(ls)\n",
        "  return [sum,aver]\n"
      ],
      "metadata": {
        "id": "mmu6ONZk9Kty"
      },
      "execution_count": 53,
      "outputs": []
    },
    {
      "cell_type": "code",
      "source": [
        "x = [3,4,8,1,9]\n",
        "_,aver = getcal(x)\n",
        "print(\"평균 : \",aver)"
      ],
      "metadata": {
        "colab": {
          "base_uri": "https://localhost:8080/"
        },
        "id": "m75se4ii9mRR",
        "outputId": "5184702c-f77f-465b-f79d-f1dd0fa62dd1"
      },
      "execution_count": 54,
      "outputs": [
        {
          "output_type": "stream",
          "name": "stdout",
          "text": [
            "평균 :  5.0\n"
          ]
        }
      ]
    },
    {
      "cell_type": "code",
      "source": [
        "x= (1,2,3,4,5) #튜플\n",
        "for i in range(len(x)):\n",
        "  print(x[i],end =\",\")\n",
        "print()"
      ],
      "metadata": {
        "colab": {
          "base_uri": "https://localhost:8080/"
        },
        "id": "9J3fYtlo94X8",
        "outputId": "b67570cb-9408-449b-d385-32e2f6f0751b"
      },
      "execution_count": 45,
      "outputs": [
        {
          "output_type": "stream",
          "name": "stdout",
          "text": [
            "1,2,3,4,5,\n"
          ]
        }
      ]
    },
    {
      "cell_type": "code",
      "source": [
        "try:\n",
        "  for i in range(len(x)):\n",
        "    x[i] = i*i #튜플은 원소의 값을 바꿀 수가 없다.(i-value 로 사용할 수 없다.)\n",
        "except:\n",
        "  print(\"예외발생\")"
      ],
      "metadata": {
        "colab": {
          "base_uri": "https://localhost:8080/"
        },
        "id": "fCU5-Ph--OUn",
        "outputId": "46d8d10f-d6da-4a39-b62c-b8379124bead"
      },
      "execution_count": 44,
      "outputs": [
        {
          "output_type": "stream",
          "name": "stdout",
          "text": [
            "예외발생\n"
          ]
        }
      ]
    },
    {
      "cell_type": "code",
      "source": [
        "x = 1,2,3,4\n",
        "print(type(x))"
      ],
      "metadata": {
        "colab": {
          "base_uri": "https://localhost:8080/"
        },
        "id": "ofckq5Pv-jDY",
        "outputId": "09a8d1a8-9a08-4fc4-9a4a-350380531cdd"
      },
      "execution_count": 47,
      "outputs": [
        {
          "output_type": "stream",
          "name": "stdout",
          "text": [
            "<class 'tuple'>\n"
          ]
        }
      ]
    },
    {
      "cell_type": "code",
      "source": [
        "def getcal2(ls):\n",
        "  sum =0\n",
        "  for i in range(len(ls)):\n",
        "    sum += ls[i]\n",
        "  aver = sum/len(ls)\n",
        "  return sum,aver\n"
      ],
      "metadata": {
        "id": "OnxjAVrV-0Xr"
      },
      "execution_count": 50,
      "outputs": []
    },
    {
      "cell_type": "code",
      "source": [
        "re = getcal2([1,2,3,4])\n",
        "print(type(re))"
      ],
      "metadata": {
        "colab": {
          "base_uri": "https://localhost:8080/"
        },
        "id": "E2CSJswP-3AW",
        "outputId": "fb6e4667-a89d-4ee3-8b54-2ec0d8cc7d7f"
      },
      "execution_count": 51,
      "outputs": [
        {
          "output_type": "stream",
          "name": "stdout",
          "text": [
            "<class 'tuple'>\n"
          ]
        }
      ]
    },
    {
      "cell_type": "code",
      "source": [
        "re = getcal2([1,2,3,4])\n",
        "print(type(re))\n",
        "s, aver = re\n",
        "print(f\"합계:{x} 평균:{aver}\")"
      ],
      "metadata": {
        "colab": {
          "base_uri": "https://localhost:8080/"
        },
        "id": "Ki5Qh64d_I2W",
        "outputId": "4d558451-7e93-40be-e1e5-7a0da28e4d90"
      },
      "execution_count": 56,
      "outputs": [
        {
          "output_type": "stream",
          "name": "stdout",
          "text": [
            "<class 'tuple'>\n",
            "합계:[3, 4, 8, 1, 9] 평균:2.5\n"
          ]
        }
      ]
    },
    {
      "cell_type": "code",
      "source": [
        "mem_dic = {}\n",
        "try:\n",
        "  mem_dic[0] +=1\n",
        "except:\n",
        "  print(\"예외발생\")\n",
        "mem_dic2 = {\"홍길동\":[90,84,88],\n",
        "            \"강감찬\":[80,75,45]}\n",
        "print(mem_dic2[\"홍길동\"])\n",
        "my_attr = {\"이름\":\"홍길동\",\n",
        "           \"나이\": 23,\n",
        "           \"키\": 180,\n",
        "           \"몸무게\":70}\n",
        "print(f'{my_attr[\"이름\"]}:{my_attr[\"키\"]}')"
      ],
      "metadata": {
        "colab": {
          "base_uri": "https://localhost:8080/"
        },
        "id": "2s7DaqES_tqM",
        "outputId": "537219cb-b9e4-4dde-f103-806bf83ec0ff"
      },
      "execution_count": 59,
      "outputs": [
        {
          "output_type": "stream",
          "name": "stdout",
          "text": [
            "예외발생\n",
            "[90, 84, 88]\n",
            "홍길동:180\n"
          ]
        }
      ]
    },
    {
      "cell_type": "code",
      "source": [
        "from collections import defaultdict #모듈\n",
        "word_counts = defaultdict(int)\n",
        "try:\n",
        "  word_counts[0]+=1\n",
        "  print(\"나 살아있어요.\")\n",
        "except:\n",
        "  print(\"예외 발생\")"
      ],
      "metadata": {
        "colab": {
          "base_uri": "https://localhost:8080/"
        },
        "id": "7JrMWeZnBPCr",
        "outputId": "96450ef6-d2ab-4fec-d07d-fa5e55b4e74f"
      },
      "execution_count": 60,
      "outputs": [
        {
          "output_type": "stream",
          "name": "stdout",
          "text": [
            "나 살아있어요.\n"
          ]
        }
      ]
    },
    {
      "cell_type": "code",
      "source": [
        "s = set() #집합(내부적으로 이진 탐색 트리 구조와 유사하여 빠른 검색이 가능, 같은 값 보관 안함)\n",
        "s.add(1)#원소:1\n",
        "print(len(s))\n",
        "s.add(3)#원소:1,3\n",
        "print(len(s))\n",
        "s.add(3)#원소:1,3\n",
        "print(len(x)) "
      ],
      "metadata": {
        "colab": {
          "base_uri": "https://localhost:8080/"
        },
        "id": "OGdbQGTzDb9i",
        "outputId": "39689b59-d02f-450e-911e-9b51d12da3ad"
      },
      "execution_count": 61,
      "outputs": [
        {
          "output_type": "stream",
          "name": "stdout",
          "text": [
            "1\n",
            "2\n",
            "5\n"
          ]
        }
      ]
    },
    {
      "cell_type": "code",
      "source": [
        "x=[5,3,6,7,8]\n",
        "sx = sorted(x)\n",
        "print(sx)\n",
        "print(x)\n",
        "x.sort()\n",
        "print(x)"
      ],
      "metadata": {
        "colab": {
          "base_uri": "https://localhost:8080/"
        },
        "id": "Xwq3bJndHKas",
        "outputId": "b084d2c3-c9d2-4bd7-db82-6546c05e9437"
      },
      "execution_count": 64,
      "outputs": [
        {
          "output_type": "stream",
          "name": "stdout",
          "text": [
            "[3, 5, 6, 7, 8]\n",
            "[5, 3, 6, 7, 8]\n",
            "[3, 5, 6, 7, 8]\n"
          ]
        }
      ]
    },
    {
      "cell_type": "code",
      "source": [
        "zeros = [0 for _ in range(10)]\n",
        "print(zeros)\n",
        "\n",
        "zeros2 = []\n",
        "for _ in range(10):\n",
        "  zeros2.append(0)\n",
        "print(zeros2)"
      ],
      "metadata": {
        "colab": {
          "base_uri": "https://localhost:8080/"
        },
        "id": "i5WdBRkXId0c",
        "outputId": "7a8d5d48-5a89-4a77-a062-7d148acd00b8"
      },
      "execution_count": 65,
      "outputs": [
        {
          "output_type": "stream",
          "name": "stdout",
          "text": [
            "[0, 0, 0, 0, 0, 0, 0, 0, 0, 0]\n",
            "[0, 0, 0, 0, 0, 0, 0, 0, 0, 0]\n"
          ]
        }
      ]
    },
    {
      "cell_type": "code",
      "source": [
        "evens = [x for x in range(10) if x%2==0]\n",
        "print(evens)\n",
        "\n",
        "evens2=[]\n",
        "for x in range(10):\n",
        "  if x%2 ==0:\n",
        "    evens2.append(x)\n",
        "print(evens2)"
      ],
      "metadata": {
        "colab": {
          "base_uri": "https://localhost:8080/"
        },
        "id": "FegSPUHDIvqd",
        "outputId": "d9570f0b-8079-475b-806d-a842f78b912e"
      },
      "execution_count": 66,
      "outputs": [
        {
          "output_type": "stream",
          "name": "stdout",
          "text": [
            "[0, 2, 4, 6, 8]\n",
            "[0, 2, 4, 6, 8]\n"
          ]
        }
      ]
    },
    {
      "cell_type": "code",
      "source": [
        "def fibonacci(n):\n",
        "  if n<=0:\n",
        "    return 0\n",
        "  if n==1 or n==2:\n",
        "    return 1\n",
        "  return fibonacci(n-1) +fibonacci(n-2)\n",
        "#단위 테스트\n",
        "print(\"fibonacci(1):\", fibonacci(1))\n",
        "print(\"fibonacci(2):\", fibonacci(2))\n",
        "print(\"fibonacci(3):\", fibonacci(3))"
      ],
      "metadata": {
        "colab": {
          "base_uri": "https://localhost:8080/"
        },
        "id": "DMAbcI4jJxTf",
        "outputId": "48215402-610c-4e89-8656-96c07703b7b4"
      },
      "execution_count": 71,
      "outputs": [
        {
          "output_type": "stream",
          "name": "stdout",
          "text": [
            "fibonacci(1): 1\n",
            "fibonacci(2): 1\n",
            "fibonacci(3): 2\n"
          ]
        }
      ]
    },
    {
      "cell_type": "code",
      "source": [
        "def fibonacci2(n):\n",
        "  if n<=0:\n",
        "    return 0\n",
        "  if n==1 or n==2:\n",
        "    return 1\n",
        "  return fibonacci2(n-1) + fibonacci2(n-2)\n",
        "#단위 테스트\n",
        "assert fibonacci2(1) ==1, \"오류\"\n",
        "assert fibonacci2(2) ==1, \"오류\"\n",
        "assert fibonacci2(3) ==2, \"오류\"\n",
        "assert fibonacci2(4) ==3, \"오류\"\n",
        "assert fibonacci2(5) ==5, \"오류\""
      ],
      "metadata": {
        "id": "XwDbsjZUKTKU"
      },
      "execution_count": 70,
      "outputs": []
    },
    {
      "cell_type": "code",
      "source": [
        "def mygen(ls):\n",
        "  cnt =1\n",
        "  for item in ls:\n",
        "    yield cnt,item\n",
        "    cnt+=1"
      ],
      "metadata": {
        "id": "FddPJ8CeKTVe"
      },
      "execution_count": 78,
      "outputs": []
    },
    {
      "cell_type": "code",
      "source": [
        "for i,e in mygen(['a','b','c']):\n",
        "  print(i,e)"
      ],
      "metadata": {
        "colab": {
          "base_uri": "https://localhost:8080/"
        },
        "id": "V39DxmfELK1t",
        "outputId": "8df53e34-d214-42fa-92db-b076ec775e76"
      },
      "execution_count": 76,
      "outputs": [
        {
          "output_type": "stream",
          "name": "stdout",
          "text": [
            "1 a\n",
            "1 b\n",
            "1 c\n"
          ]
        }
      ]
    },
    {
      "cell_type": "code",
      "source": [
        "for i,e in enumerate(['a','b','c']):\n",
        "  print(i,e)"
      ],
      "metadata": {
        "colab": {
          "base_uri": "https://localhost:8080/"
        },
        "id": "a0ZJ0Ig-LWNP",
        "outputId": "64d82db5-6e5e-42e7-890e-8348ecfa9486"
      },
      "execution_count": 77,
      "outputs": [
        {
          "output_type": "stream",
          "name": "stdout",
          "text": [
            "0 a\n",
            "1 b\n",
            "2 c\n"
          ]
        }
      ]
    },
    {
      "cell_type": "code",
      "source": [
        "ls1 = [1,2,3,4,5]\n",
        "ls2 =['a','b','c','d','e']\n",
        "for e1,e2 in zip(ls1,ls2):\n",
        "  print(e1,e2)\n",
        "print(\"=========\")\n",
        "for i,e in enumerate(ls1):\n",
        "  print(e,ls2[i])"
      ],
      "metadata": {
        "colab": {
          "base_uri": "https://localhost:8080/"
        },
        "id": "kLTFEo51MEOm",
        "outputId": "a3776be3-7eac-44ff-e944-556076da9616"
      },
      "execution_count": 80,
      "outputs": [
        {
          "output_type": "stream",
          "name": "stdout",
          "text": [
            "1 a\n",
            "2 b\n",
            "3 c\n",
            "4 d\n",
            "5 e\n",
            "=========\n",
            "1 a\n",
            "2 b\n",
            "3 c\n",
            "4 d\n",
            "5 e\n"
          ]
        }
      ]
    },
    {
      "cell_type": "code",
      "source": [
        "def add(a:int, b:int)-> int:\n",
        "  return a+b"
      ],
      "metadata": {
        "id": "zFF0o2zHNnVK"
      },
      "execution_count": 81,
      "outputs": []
    },
    {
      "cell_type": "code",
      "source": [
        "add(2,3)"
      ],
      "metadata": {
        "colab": {
          "base_uri": "https://localhost:8080/"
        },
        "id": "Nm_EZX_KNr71",
        "outputId": "9a66a6c3-6154-49d1-931f-eb4b078fdb72"
      },
      "execution_count": 82,
      "outputs": [
        {
          "output_type": "execute_result",
          "data": {
            "text/plain": [
              "5"
            ]
          },
          "metadata": {},
          "execution_count": 82
        }
      ]
    },
    {
      "cell_type": "code",
      "source": [
        "src =[18,23,54,67,99]\n",
        "dst1 = [foo(n) for n in src]\n",
        "print(dst1)"
      ],
      "metadata": {
        "colab": {
          "base_uri": "https://localhost:8080/"
        },
        "id": "0VYdk3EuVGmr",
        "outputId": "8ea4408f-d864-49eb-b1ab-511e6da039af"
      },
      "execution_count": 96,
      "outputs": [
        {
          "output_type": "stream",
          "name": "stdout",
          "text": [
            "foo 수행 중...\n",
            "foo 수행 중...\n",
            "foo 수행 중...\n",
            "foo 수행 중...\n",
            "foo 수행 중...\n",
            "['18', '23', '54', '67', '99']\n"
          ]
        }
      ]
    },
    {
      "cell_type": "code",
      "source": [
        "mo = map(foo,src)\n",
        "ls = list(mo)\n",
        "print(ls)"
      ],
      "metadata": {
        "colab": {
          "base_uri": "https://localhost:8080/"
        },
        "id": "h6KP_-LHVYol",
        "outputId": "2cc5a76a-91c4-4ef3-daef-ec51e00d31ad"
      },
      "execution_count": 98,
      "outputs": [
        {
          "output_type": "stream",
          "name": "stdout",
          "text": [
            "foo 수행 중...\n",
            "foo 수행 중...\n",
            "foo 수행 중...\n",
            "foo 수행 중...\n",
            "foo 수행 중...\n",
            "['18', '23', '54', '67', '99']\n"
          ]
        }
      ]
    },
    {
      "cell_type": "code",
      "source": [
        "ls =list(map(foo,src))\n",
        "print(ls)"
      ],
      "metadata": {
        "colab": {
          "base_uri": "https://localhost:8080/"
        },
        "id": "LCTA8b9nVtR1",
        "outputId": "2329a782-46e9-443f-956e-2be5e5593bee"
      },
      "execution_count": 99,
      "outputs": [
        {
          "output_type": "stream",
          "name": "stdout",
          "text": [
            "foo 수행 중...\n",
            "foo 수행 중...\n",
            "foo 수행 중...\n",
            "foo 수행 중...\n",
            "foo 수행 중...\n",
            "['18', '23', '54', '67', '99']\n"
          ]
        }
      ]
    },
    {
      "cell_type": "markdown",
      "source": [
        "# 통계\n",
        "평균, 중간값, 사분위값, 최빈값, 분산, 표준편차, 공분산, 상관관계\n"
      ],
      "metadata": {
        "id": "6jUmiO_Tsq9z"
      }
    },
    {
      "cell_type": "code",
      "source": [
        "import numpy as np\n",
        "#친구의 수\n",
        "num_friends = np.array([100.0,49,41,40,25,21,21,19,19,18,18,16,15,15,15,15,14,14,13,13,13,13,12,12,11,10,10,10,10,10,10,10,10,10,10,10,10,10,10,10,9,9,9,9,9,9,9,9,9,9,9,9,9,9,9,9,9,9,8,8,8,8,8,8,8,8,8,8,8,8,8,7,7,7,7,7,7,7,7,7,7,7,7,7,7,7,6,6,6,6,6,6,6,6,6,6,6,6,6,6,6,6,6,6,6,6,6,6,5,5,5,5,5,5,5,5,5,5,5,5,5,5,5,5,5,4,4,4,4,4,4,4,4,4,4,4,4,4,4,4,4,4,4,4,4,3,3,3,3,3,3,3,3,3,3,3,3,3,3,3,3,3,3,3,3,2,2,2,2,2,2,2,2,2,2,2,2,2,2,2,2,2,1,1,1,1,1,1,1,1,1,1,1,1,1,1,1,1,1,1,1,1,1,1])\n",
        "#웹서핑 소요 시간(분)\n",
        "daily_minutes = np.array([1,68.77,51.25,52.08,38.36,44.54,57.13,51.4,41.42,31.22,34.76,54.01,38.79,47.59,49.1,27.66,41.03,36.73,48.65,28.12,46.62,35.57,32.98,35,26.07,23.77,39.73,40.57,31.65,31.21,36.32,20.45,21.93,26.02,27.34,23.49,46.94,30.5,33.8,24.23,21.4,27.94,32.24,40.57,25.07,19.42,22.39,18.42,46.96,23.72,26.41,26.97,36.76,40.32,35.02,29.47,30.2,31,38.11,38.18,36.31,21.03,30.86,36.07,28.66,29.08,37.28,15.28,24.17,22.31,30.17,25.53,19.85,35.37,44.6,17.23,13.47,26.33,35.02,32.09,24.81,19.33,28.77,24.26,31.98,25.73,24.86,16.28,34.51,15.23,39.72,40.8,26.06,35.76,34.76,16.13,44.04,18.03,19.65,32.62,35.59,39.43,14.18,35.24,40.13,41.82,35.45,36.07,43.67,24.61,20.9,21.9,18.79,27.61,27.21,26.61,29.77,20.59,27.53,13.82,33.2,25,33.1,36.65,18.63,14.87,22.2,36.81,25.53,24.62,26.25,18.21,28.08,19.42,29.79,32.8,35.99,28.32,27.79,35.88,29.06,36.28,14.1,36.63,37.49,26.9,18.58,38.48,24.48,18.95,33.55,14.24,29.04,32.51,25.63,22.22,19,32.73,15.16,13.9,27.2,32.01,29.27,33,13.74,20.42,27.32,18.23,35.35,28.48,9.08,24.62,20.12,35.26,19.92,31.02,16.49,12.16,30.7,31.22,34.65,13.13,27.51,33.2,31.57,14.1,33.42,17.44,10.12,24.42,9.82,23.39,30.93,15.03,21.67,31.09,33.29,22.61,26.89,23.48,8.38,27.81,32.35,23.84])\n"
      ],
      "metadata": {
        "id": "5b9VHtz8Oh3J"
      },
      "execution_count": 4,
      "outputs": []
    },
    {
      "cell_type": "code",
      "source": [
        "import matplotlib.pyplot as plt\n"
      ],
      "metadata": {
        "id": "t4ob3e7TQUl9"
      },
      "execution_count": 5,
      "outputs": []
    },
    {
      "cell_type": "code",
      "source": [
        "plt.plot(num_friends,\"bo\")\n",
        "plt.xlabel(\"index\")\n",
        "plt.ylabel(\"num of friends\")\n",
        "plt.title(\"number of friends\")\n",
        "plt.show()"
      ],
      "metadata": {
        "colab": {
          "base_uri": "https://localhost:8080/",
          "height": 295
        },
        "id": "RBiluKe-QZoO",
        "outputId": "9f598dee-a103-4f94-f7e1-32098af59db2"
      },
      "execution_count": 6,
      "outputs": [
        {
          "output_type": "display_data",
          "data": {
            "image/png": "[encoded data removed]",
            "text/plain": [
              "<Figure size 432x288 with 1 Axes>"
            ]
          },
          "metadata": {
            "needs_background": "light"
          }
        }
      ]
    },
    {
      "cell_type": "code",
      "source": [
        "plt.plot(daily_minutes,\"ro\")\n",
        "plt.xlabel(\"index\")\n",
        "\n",
        "plt.ylabel(\"min of web\")\n",
        "plt.title(\"minute of web\")\n",
        "plt.show()"
      ],
      "metadata": {
        "colab": {
          "base_uri": "https://localhost:8080/",
          "height": 295
        },
        "id": "mT1vaca5QxMq",
        "outputId": "36c91dcf-1f1e-44ea-c90e-5f42d0c425d4"
      },
      "execution_count": 7,
      "outputs": [
        {
          "output_type": "display_data",
          "data": {
            "image/png": "[encoded data removed]",
            "text/plain": [
              "<Figure size 432x288 with 1 Axes>"
            ]
          },
          "metadata": {
            "needs_background": "light"
          }
        }
      ]
    },
    {
      "cell_type": "code",
      "source": [
        "plt.plot(num_friends,\"bo\")\n",
        "plt.xlabel(\"index\")\n",
        "plt.ylabel(\"num of friends and min of web\")\n",
        "plt.plot(daily_minutes,\"ro\")\n",
        "plt.title(\"number of friends and minutes of web\")\n",
        "plt.show()"
      ],
      "metadata": {
        "colab": {
          "base_uri": "https://localhost:8080/",
          "height": 295
        },
        "id": "DNpjMvCfROIU",
        "outputId": "5273a5b6-89fe-45c7-99fb-9852be826a44"
      },
      "execution_count": 8,
      "outputs": [
        {
          "output_type": "display_data",
          "data": {
            "image/png": "[encoded data removed]",
            "text/plain": [
              "<Figure size 432x288 with 1 Axes>"
            ]
          },
          "metadata": {
            "needs_background": "light"
          }
        }
      ]
    },
    {
      "cell_type": "code",
      "source": [
        "import pandas as pd\n"
      ],
      "metadata": {
        "id": "ibtui41IWEoK"
      },
      "execution_count": 9,
      "outputs": []
    },
    {
      "cell_type": "code",
      "source": [
        "friends_se = pd.Series(num_friends)\n",
        "fvc = friends_se.value_counts()\n",
        "plt.bar(fvc.index,fvc.values)\n",
        "plt.show()"
      ],
      "metadata": {
        "colab": {
          "base_uri": "https://localhost:8080/",
          "height": 265
        },
        "id": "yjJ5cZ-aWHcH",
        "outputId": "4c0bf38e-d56d-404d-bcc5-4c279adbf5cc"
      },
      "execution_count": 10,
      "outputs": [
        {
          "output_type": "display_data",
          "data": {
            "image/png": "[encoded data removed]",
            "text/plain": [
              "<Figure size 432x288 with 1 Axes>"
            ]
          },
          "metadata": {
            "needs_background": "light"
          }
        }
      ]
    },
    {
      "cell_type": "code",
      "source": [
        "friends_se = pd.Series(num_friends)\n",
        "fvc = friends_se.value_counts()\n",
        "fvc_ind_str = [str(int(fc)) for fc in fvc.index]\n",
        "plt.bar(fvc_ind_str,fvc.values)\n",
        "plt.grid(True)\n",
        "plt.show()"
      ],
      "metadata": {
        "colab": {
          "base_uri": "https://localhost:8080/",
          "height": 265
        },
        "id": "1Kakrs1xWcL_",
        "outputId": "f51f5585-256f-473b-af24-ede7169ea532"
      },
      "execution_count": 107,
      "outputs": [
        {
          "output_type": "display_data",
          "data": {
            "image/png": "[encoded data removed]",
            "text/plain": [
              "<Figure size 432x288 with 1 Axes>"
            ]
          },
          "metadata": {
            "needs_background": "light"
          }
        }
      ]
    },
    {
      "cell_type": "code",
      "source": [
        "print(\"친구 수 ==================\")\n",
        "print(\"평균:\", num_friends.mean())\n",
        "print(\"중간값:\",np.median(num_friends))\n",
        "print(\"분산:\",num_friends.var())\n",
        "print(\"표준편차:\",num_friends.std())\n",
        "print(\"1/4 분위:\",np.quantile(num_friends,0.25))\n",
        "print(\"1/2 분위:\",np.quantile(num_friends,0.5))\n",
        "print(\"3/4 분위:\",np.quantile(num_friends,0.75))\n",
        "from scipy.stats import mode\n",
        "mf = mode(num_friends)\n",
        "print(f\"최빈값:{mf[0]} 빈도수: {mf[1]}\")"
      ],
      "metadata": {
        "colab": {
          "base_uri": "https://localhost:8080/"
        },
        "id": "hZHPr_jUXNX5",
        "outputId": "c613a029-68bb-4122-d6b4-4ce5a2d88d25"
      },
      "execution_count": 110,
      "outputs": [
        {
          "output_type": "stream",
          "name": "stdout",
          "text": [
            "친구 수 ==================\n",
            "평균: 7.333333333333333\n",
            "중간값: 6.0\n",
            "분산: 81.14379084967321\n",
            "표준편차: 9.007984838446012\n",
            "1/4 분위: 3.0\n",
            "1/2 분위: 6.0\n",
            "3/4 분위: 9.0\n",
            "최빈값:[1.] 빈도수: [22]\n"
          ]
        }
      ]
    },
    {
      "cell_type": "markdown",
      "source": [
        "![image.png](data:image/png;base64,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)![image.png]\n"
      ],
      "metadata": {
        "id": "q0sgk8GCYrVr"
      }
    },
    {
      "cell_type": "code",
      "source": [
        "#공분산\n",
        "def cov(x,y):\n",
        "  dx = x-x.mean()\n",
        "  dy = y-y.mean()\n",
        "  return np.dot(dx,dy)/(len(x)-1)"
      ],
      "metadata": {
        "id": "DpsBngkfYrrG"
      },
      "execution_count": 112,
      "outputs": []
    },
    {
      "cell_type": "code",
      "source": [
        "print(\"공분산(친구수, 웹서핑시간(분)):\",cov(num_friends,daily_minutes))"
      ],
      "metadata": {
        "colab": {
          "base_uri": "https://localhost:8080/"
        },
        "id": "vCOq1brnZH8l",
        "outputId": "1ddf8cc2-8095-415e-e221-f3c760272fe1"
      },
      "execution_count": 113,
      "outputs": [
        {
          "output_type": "stream",
          "name": "stdout",
          "text": [
            "공분산(친구수, 웹서핑시간(분)): 22.425435139573057\n"
          ]
        }
      ]
    },
    {
      "cell_type": "code",
      "source": [
        "np.cov(num_friends,daily_minutes)"
      ],
      "metadata": {
        "colab": {
          "base_uri": "https://localhost:8080/"
        },
        "id": "jzs68MH3ZUYA",
        "outputId": "3a7b0e0d-b101-484d-c9d6-a95e423ea2c4"
      },
      "execution_count": 114,
      "outputs": [
        {
          "output_type": "execute_result",
          "data": {
            "text/plain": [
              "array([[ 81.54351396,  22.42543514],\n",
              "       [ 22.42543514, 100.78589895]])"
            ]
          },
          "metadata": {},
          "execution_count": 114
        }
      ]
    },
    {
      "cell_type": "code",
      "source": [
        "print(\"0:\",cov(num_friends,num_friends))\n",
        "print(\"1:\",cov(num_friends,daily_minutes))\n",
        "print(\"2:\",cov(daily_minutes,num_friends))\n",
        "print(\"3:\",cov(daily_minutes,daily_minutes))"
      ],
      "metadata": {
        "colab": {
          "base_uri": "https://localhost:8080/"
        },
        "id": "4KdUl47AZYUS",
        "outputId": "aa91f4d8-3927-476c-af2a-d9aec12b45f0"
      },
      "execution_count": 115,
      "outputs": [
        {
          "output_type": "stream",
          "name": "stdout",
          "text": [
            "0: 81.54351395730706\n",
            "1: 22.425435139573057\n",
            "2: 22.425435139573057\n",
            "3: 100.78589895440932\n"
          ]
        }
      ]
    },
    {
      "cell_type": "markdown",
      "source": [
        "![image.png](data:image/png;base64,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)"
      ],
      "metadata": {
        "id": "0jlvH7UhaA8H"
      }
    },
    {
      "cell_type": "code",
      "source": [
        "def correlation(x,y):\n",
        "  std_x =x.std()\n",
        "  std_y = y.std()\n",
        "  if std_x>0 and std_y>0:\n",
        "    return cov(x,y)/std_x/std_y\n",
        "  else:\n",
        "    return 0"
      ],
      "metadata": {
        "id": "pt_Akgr9aBlB"
      },
      "execution_count": 116,
      "outputs": []
    },
    {
      "cell_type": "code",
      "source": [
        "print(\"친구 수와 웹서핑시간(분)의 상관관계:\", correlation(num_friends,daily_minutes))"
      ],
      "metadata": {
        "colab": {
          "base_uri": "https://localhost:8080/"
        },
        "id": "2Cu2VuuQaTuJ",
        "outputId": "1ea77298-788a-4e2a-bcc7-6c1933d953c4"
      },
      "execution_count": 119,
      "outputs": [
        {
          "output_type": "stream",
          "name": "stdout",
          "text": [
            "친구 수와 웹서핑시간(분)의 상관관계: 0.24858814299318005\n"
          ]
        }
      ]
    },
    {
      "cell_type": "code",
      "source": [
        "cv = correlation(num_friends,daily_minutes)\n",
        "plt.figure(figsize=(4,4))\n",
        "plt.plot(num_friends, daily_minutes,\".\")\n",
        "plt.plot([0,100],[0,100*cv])\n",
        "plt.xlabel(\"num of friends\")\n",
        "plt.ylabel(\"min of web\")\n",
        "plt.xlim(0,110)\n",
        "plt.ylim(0,110)\n",
        "plt.show()"
      ],
      "metadata": {
        "colab": {
          "base_uri": "https://localhost:8080/",
          "height": 279
        },
        "id": "uOsJo-_scRD4",
        "outputId": "a7cf2be8-f1d1-4e27-c091-045019e9142a"
      },
      "execution_count": 122,
      "outputs": [
        {
          "output_type": "display_data",
          "data": {
            "image/png": "[encoded data removed]",
            "text/plain": [
              "<Figure size 288x288 with 1 Axes>"
            ]
          },
          "metadata": {
            "needs_background": "light"
          }
        }
      ]
    },
    {
      "cell_type": "code",
      "source": [
        "num_friends2 = num_friends[1:]\n",
        "daily_minutes2 = daily_minutes[1:]"
      ],
      "metadata": {
        "id": "L_Fo8nJSdDmk"
      },
      "execution_count": 123,
      "outputs": []
    },
    {
      "cell_type": "code",
      "source": [
        "cv2 = correlation(num_friends2,daily_minutes2)\n",
        "plt.figure(figsize=(4,4))\n",
        "plt.plot(num_friends2, daily_minutes2,\".\",label='num_fr,daily_min')\n",
        "plt.plot([0,100],[0,100*cv2],label='corr')\n",
        "plt.xlabel(\"num of friends\")\n",
        "plt.ylabel(\"min of web\")\n",
        "plt.xlim(0,110)\n",
        "plt.ylim(0,110)\n",
        "plt.legend()\n",
        "plt.show()\n",
        "print(cv2)"
      ],
      "metadata": {
        "colab": {
          "base_uri": "https://localhost:8080/",
          "height": 297
        },
        "id": "9ECLdeqSdPrZ",
        "outputId": "ebe4ada0-9301-485f-90f1-e0dd480ba015"
      },
      "execution_count": 127,
      "outputs": [
        {
          "output_type": "display_data",
          "data": {
            "image/png": "[encoded data removed]",
            "text/plain": [
              "<Figure size 288x288 with 1 Axes>"
            ]
          },
          "metadata": {
            "needs_background": "light"
          }
        },
        {
          "output_type": "stream",
          "name": "stdout",
          "text": [
            "0.5765192076634241\n"
          ]
        }
      ]
    },
    {
      "cell_type": "code",
      "source": [
        "plt.figure(figsize=(4,4))\n",
        "plt.plot(num_friends, daily_minutes,\"ro\",label='original')\n",
        "plt.plot(num_friends2, daily_minutes2,\"b.\",label='filtering')\n",
        "plt.plot([0,100],[0,100*cv],\"r-\",label='original corr')\n",
        "plt.plot([0,100],[0,100*cv2],\"b-\",label='filtering corr')\n",
        "plt.xlabel(\"num of friends\")\n",
        "plt.ylabel(\"min of web\")\n",
        "plt.xlim(0,110)\n",
        "plt.ylim(0,110)\n",
        "plt.legend()\n",
        "plt.show()"
      ],
      "metadata": {
        "colab": {
          "base_uri": "https://localhost:8080/",
          "height": 279
        },
        "id": "KX1213oaweh7",
        "outputId": "b508bd21-81b1-4597-bae8-d97d2b6d3138"
      },
      "execution_count": 131,
      "outputs": [
        {
          "output_type": "display_data",
          "data": {
            "image/png": "[encoded data removed]",
            "text/plain": [
              "<Figure size 288x288 with 1 Axes>"
            ]
          },
          "metadata": {
            "needs_background": "light"
          }
        }
      ]
    },
    {
      "cell_type": "markdown",
      "source": [
        "경사하강법과 선형회귀 -  로지스틱 회귀\n",
        "\n",
        "KNN - 정규분포, 표준정규분포, rescale\n",
        "\n",
        "KMeans\n",
        "\n",
        "퍼셉트론 - 활성화함수의 필요성"
      ],
      "metadata": {
        "id": "CJhfnHlIbzTG"
      }
    }
  ]
}
