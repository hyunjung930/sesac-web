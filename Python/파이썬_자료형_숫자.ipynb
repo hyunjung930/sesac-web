{
  "nbformat": 4,
  "nbformat_minor": 0,
  "metadata": {
    "colab": {
      "name": "파이썬-자료형-숫자.ipynb",
      "provenance": [],
      "authorship_tag": "ABX9TyOPpyUEjb3Oaj48yw2KiuEF",
      "include_colab_link": true
    },
    "kernelspec": {
      "name": "python3",
      "display_name": "Python 3"
    },
    "language_info": {
      "name": "python"
    }
  },
  "cells": [
    {
      "cell_type": "markdown",
      "metadata": {
        "id": "view-in-github",
        "colab_type": "text"
      },
      "source": [
        "<a href=\"https://colab.research.google.com/github/hyunjung930/sesac-web/blob/main/%ED%8C%8C%EC%9D%B4%EC%8D%AC_%EC%9E%90%EB%A3%8C%ED%98%95_%EC%88%AB%EC%9E%90.ipynb\" target=\"_parent\"><img src=\"https://colab.research.google.com/assets/colab-badge.svg\" alt=\"Open In Colab\"/></a>"
      ]
    },
    {
      "cell_type": "markdown",
      "source": [
        "# 정수"
      ],
      "metadata": {
        "id": "bI_rueYfYfzA"
      }
    },
    {
      "cell_type": "code",
      "source": [
        "print(12, 0o12, 0x12) #12: 십진수, 0o:8진수, 0x12:16진수"
      ],
      "metadata": {
        "colab": {
          "base_uri": "https://localhost:8080/"
        },
        "id": "t6r_-4BvYiAQ",
        "outputId": "174eaf73-b2b4-458d-f70a-dd769ed37fdf"
      },
      "execution_count": 2,
      "outputs": [
        {
          "output_type": "stream",
          "name": "stdout",
          "text": [
            "12 10 18\n"
          ]
        }
      ]
    },
    {
      "cell_type": "code",
      "source": [
        "print(type(12), type(0o12), type(0x12))"
      ],
      "metadata": {
        "colab": {
          "base_uri": "https://localhost:8080/"
        },
        "id": "17A1vpXYY2d-",
        "outputId": "17329e86-04d9-477b-cf4b-dd438101e575"
      },
      "execution_count": 3,
      "outputs": [
        {
          "output_type": "stream",
          "name": "stdout",
          "text": [
            "<class 'int'> <class 'int'> <class 'int'>\n"
          ]
        }
      ]
    },
    {
      "cell_type": "code",
      "source": [
        ""
      ],
      "metadata": {
        "id": "C_7lhLtcbR88"
      },
      "execution_count": null,
      "outputs": []
    },
    {
      "cell_type": "markdown",
      "source": [
        "# 실수"
      ],
      "metadata": {
        "id": "x0Q2LxbfZEQd"
      }
    },
    {
      "cell_type": "code",
      "source": [
        "print(3.14, 1.234e6) #3.14부동 소수점 표기, 1.234e6 : 지수표현"
      ],
      "metadata": {
        "colab": {
          "base_uri": "https://localhost:8080/"
        },
        "id": "Ra6M3ZzXZIXC",
        "outputId": "81b74a02-0da8-467a-b56b-d92b138736b0"
      },
      "execution_count": 4,
      "outputs": [
        {
          "output_type": "stream",
          "name": "stdout",
          "text": [
            "3.14 1234000.0\n"
          ]
        }
      ]
    },
    {
      "cell_type": "code",
      "source": [
        "print(type(3.14),type(1.234e6))"
      ],
      "metadata": {
        "colab": {
          "base_uri": "https://localhost:8080/"
        },
        "id": "HuIIfvGnZaWL",
        "outputId": "7219c584-9ecb-4856-973f-2e3a6e834c73"
      },
      "execution_count": 5,
      "outputs": [
        {
          "output_type": "stream",
          "name": "stdout",
          "text": [
            "<class 'float'> <class 'float'>\n"
          ]
        }
      ]
    },
    {
      "cell_type": "markdown",
      "source": [
        "# 수와 관계있는 연산"
      ],
      "metadata": {
        "id": "ofg9xDq0aJp0"
      }
    },
    {
      "cell_type": "code",
      "source": [
        "print(\"8+3 = \", 8+3)\n",
        "print(\"8-3 = \", 8-3)\n",
        "print(\"8*3 = \", 8*3)\n",
        "print(\"8/3 = \", 8/3)"
      ],
      "metadata": {
        "colab": {
          "base_uri": "https://localhost:8080/"
        },
        "id": "LLJvQorxaNL1",
        "outputId": "4cc8f9b9-58e5-414c-e75b-f5480ab1acf7"
      },
      "execution_count": 6,
      "outputs": [
        {
          "output_type": "stream",
          "name": "stdout",
          "text": [
            "8+3 =  11\n",
            "8-3 =  5\n",
            "8*3 =  24\n",
            "8/3 =  2.6666666666666665\n"
          ]
        }
      ]
    },
    {
      "cell_type": "code",
      "source": [
        "print(\"8//5=\",8//5) #나머지\n",
        "print(\"8%5=\", 8%5) #나머지"
      ],
      "metadata": {
        "colab": {
          "base_uri": "https://localhost:8080/"
        },
        "id": "PGZQ5fEBajXv",
        "outputId": "6be30e13-0359-45eb-eeef-dd5aa5b34ada"
      },
      "execution_count": 7,
      "outputs": [
        {
          "output_type": "stream",
          "name": "stdout",
          "text": [
            "8//5= 1\n",
            "8%5= 3\n"
          ]
        }
      ]
    },
    {
      "cell_type": "code",
      "source": [
        "i = 0\n",
        "i = (i+1)%5\n",
        "print(i)\n",
        "i = (i+1)%5\n",
        "print(i)\n",
        "i = (i+1)%5\n",
        "print(i)\n",
        "i = (i+1)%5\n",
        "print(i)\n",
        "i = (i+1)%5\n",
        "print(i)\n",
        "i = (i+1)%5\n",
        "print(i)\n",
        "i = (i+1)%5\n",
        "print(i)\n",
        "i = (i+1)%5\n",
        "print(i)\n",
        "#로테이션 목적으로 사용"
      ],
      "metadata": {
        "colab": {
          "base_uri": "https://localhost:8080/"
        },
        "id": "pxM3L7aGayyT",
        "outputId": "63b4c79b-dad6-4bb0-dd7c-456d13522b26"
      },
      "execution_count": 11,
      "outputs": [
        {
          "output_type": "stream",
          "name": "stdout",
          "text": [
            "1\n",
            "2\n",
            "3\n",
            "4\n",
            "0\n",
            "1\n",
            "2\n",
            "3\n"
          ]
        }
      ]
    },
    {
      "cell_type": "markdown",
      "source": [
        "# 복소수"
      ],
      "metadata": {
        "id": "oz71IMZ6baU7"
      }
    },
    {
      "cell_type": "code",
      "source": [
        "print(2+3j)"
      ],
      "metadata": {
        "colab": {
          "base_uri": "https://localhost:8080/"
        },
        "id": "zA27DCIcb2i-",
        "outputId": "90f88950-c865-4a9c-e715-0103150e3976"
      },
      "execution_count": 12,
      "outputs": [
        {
          "output_type": "stream",
          "name": "stdout",
          "text": [
            "(2+3j)\n"
          ]
        }
      ]
    },
    {
      "cell_type": "code",
      "source": [
        "cv=2+3j\n",
        "print(\"실수부: \",cv.real, \"허수부\",cv.imag)"
      ],
      "metadata": {
        "colab": {
          "base_uri": "https://localhost:8080/"
        },
        "id": "b44WsQjXcEgW",
        "outputId": "7e7bc162-6b54-4683-c340-942014f2c5c4"
      },
      "execution_count": 13,
      "outputs": [
        {
          "output_type": "stream",
          "name": "stdout",
          "text": [
            "실수부:  2.0 허수부 3.0\n"
          ]
        }
      ]
    }
  ]
}
