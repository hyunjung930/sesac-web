{
  "nbformat": 4,
  "nbformat_minor": 0,
  "metadata": {
    "colab": {
      "name": "파이썬- 함수(만들기).ipynb",
      "provenance": [],
      "authorship_tag": "ABX9TyOt3xCpWolXaXYwSbdl4/e6",
      "include_colab_link": true
    },
    "kernelspec": {
      "name": "python3",
      "display_name": "Python 3"
    },
    "language_info": {
      "name": "python"
    }
  },
  "cells": [
    {
      "cell_type": "markdown",
      "metadata": {
        "id": "view-in-github",
        "colab_type": "text"
      },
      "source": [
        "<a href=\"https://colab.research.google.com/github/hyunjung930/sesac-web/blob/main/%ED%8C%8C%EC%9D%B4%EC%8D%AC_%ED%95%A8%EC%88%98(%EB%A7%8C%EB%93%A4%EA%B8%B0).ipynb\" target=\"_parent\"><img src=\"https://colab.research.google.com/assets/colab-badge.svg\" alt=\"Open In Colab\"/></a>"
      ]
    },
    {
      "cell_type": "markdown",
      "source": [
        "# 함수\n",
        " : 자주 사용하는 알고리즘에 이름을 부여하여 만든 로직 혹은 코드 블록\n",
        "\n",
        "- 로직 이름, 입력 매개변수 목록(생략o), 수행할 코드, 반환 값(생략 o)으로 구성\n",
        "\n",
        "- 함수를 만드는 것을 함수 정의\n",
        "\n",
        "- 함수를 사용하는 것을 함수 호출\n"
      ],
      "metadata": {
        "id": "lbcUDiRMwGIX"
      }
    },
    {
      "cell_type": "code",
      "source": [
        "#함수 이름 : foo\n",
        "# 입력 매개변수: 2개(a,b)\n",
        "#수행 코드는 두개의 인자를 출력한 후 곱한 값을 반환\n",
        "# 반환값: a*b\n",
        "def foo(a,b):\n",
        "  print(f\"a:{a} b:{b}\")\n",
        "  return a*b"
      ],
      "metadata": {
        "id": "GOlaxInDwqRw"
      },
      "execution_count": 1,
      "outputs": []
    },
    {
      "cell_type": "code",
      "source": [
        "re = foo(2,3) # 함수 호출(반환 값을 re에 대입)\n",
        "print(f\"결과: {re}\")\n",
        "foo(3,4) # 함수 호출(반환 값을 무시)"
      ],
      "metadata": {
        "colab": {
          "base_uri": "https://localhost:8080/"
        },
        "id": "njRgEw7mxK_n",
        "outputId": "5089c490-25ca-4eb9-92f1-2e7743ab9b28"
      },
      "execution_count": 2,
      "outputs": [
        {
          "output_type": "stream",
          "name": "stdout",
          "text": [
            "a:2 b:3\n",
            "결과: 6\n",
            "a:3 b:4\n"
          ]
        },
        {
          "output_type": "execute_result",
          "data": {
            "text/plain": [
              "12"
            ]
          },
          "metadata": {},
          "execution_count": 2
        }
      ]
    },
    {
      "cell_type": "code",
      "source": [
        "def print_menu():\n",
        "  print(\"1: 데이터 추가\")\n",
        "  print(\"2: 데이터 삭제\")\n",
        "  print(\"3: 데이터 검색\")\n",
        "  print(\"4: 전체 데이터 확인\")\n",
        "  print(\"0: 종료\")"
      ],
      "metadata": {
        "id": "8-BJA-RpxsmD"
      },
      "execution_count": 3,
      "outputs": []
    },
    {
      "cell_type": "code",
      "source": [
        "def menu_select():\n",
        "  print_menu()\n",
        "  return int(input(\"메뉴 선택: \"))"
      ],
      "metadata": {
        "id": "_JoPjN99x4yI"
      },
      "execution_count": 4,
      "outputs": []
    },
    {
      "cell_type": "code",
      "source": [
        "while True:\n",
        "  key = menu_select()\n",
        "  if key==0:\n",
        "    break\n",
        "  if key == 1:\n",
        "    print(\"데이터 추가\")\n",
        "  elif key== 2:\n",
        "    print(\"데이터 삭제\")\n",
        "  elif key== 3:\n",
        "    print(\"데이터 검색\")\n",
        "  elif key== 4:\n",
        "    print(\"전체 데이터 확인\")\n",
        "  else:\n",
        "    print(\"잘못 선택하였습니다.\")"
      ],
      "metadata": {
        "id": "OzUBvo8KyB0A"
      },
      "execution_count": null,
      "outputs": []
    },
    {
      "cell_type": "markdown",
      "source": [
        "특정 범위의 수의 합계를 구하는 함수"
      ],
      "metadata": {
        "id": "lSVaHxRjzDg4"
      }
    },
    {
      "cell_type": "code",
      "source": [
        "def getsum(start,end):\n",
        "  s=0\n",
        "  for i in range(start,end +1):\n",
        "    s+=i\n",
        "  return s"
      ],
      "metadata": {
        "id": "WOW_j-52zGsZ"
      },
      "execution_count": 6,
      "outputs": []
    },
    {
      "cell_type": "code",
      "source": [
        "s = int(input(\"시작: \"))\n",
        "e = int(input(\"끝: \"))\n",
        "print(f\"{s}~{e} 합계 : {getsum(s,e)}\")\n",
        "\n",
        "print(f\"1~100 합계 : {getsum(1,100)}\")\n"
      ],
      "metadata": {
        "colab": {
          "base_uri": "https://localhost:8080/"
        },
        "id": "LfRjr5zhzVY4",
        "outputId": "5451a1cf-bff7-46a9-9681-72e16f667136"
      },
      "execution_count": 8,
      "outputs": [
        {
          "output_type": "stream",
          "name": "stdout",
          "text": [
            "시작: 3\n",
            "끝: 10\n",
            "3~10 합계 : 52\n",
            "1~100 합계 : 5050\n"
          ]
        }
      ]
    },
    {
      "cell_type": "code",
      "source": [
        "#re = getsum(1,2,3) 정의한 함수와 다르게 인자를 전달하고 있음 -Type Error\n",
        " #print(re)"
      ],
      "metadata": {
        "id": "HYmTnnMo0bRG"
      },
      "execution_count": null,
      "outputs": []
    },
    {
      "cell_type": "code",
      "source": [
        "print()\n",
        "print(1)\n",
        "print(1,2)\n",
        "print(1,2,end=' ')\n",
        "print()"
      ],
      "metadata": {
        "colab": {
          "base_uri": "https://localhost:8080/"
        },
        "id": "zttf75OB052L",
        "outputId": "3823d1fb-689a-4dcc-f7c9-40d4decd39a6"
      },
      "execution_count": 9,
      "outputs": [
        {
          "output_type": "stream",
          "name": "stdout",
          "text": [
            "\n",
            "1\n",
            "1 2\n",
            "1 2 \n"
          ]
        }
      ]
    },
    {
      "cell_type": "code",
      "source": [
        "def soo(a, temp=1, yahoo='a'):   #temp는 인자를 전달하지 않을 때 1을 디폴트 값으로, yahoo의 디폴트 값은'a'\n",
        "  print(a, temp, yahoo)"
      ],
      "metadata": {
        "id": "1PxSUPUY1Cuy"
      },
      "execution_count": 10,
      "outputs": []
    },
    {
      "cell_type": "code",
      "source": [
        "soo(1)\n",
        "soo(2,temp=2)\n",
        "soo(3,yahoo=7)\n",
        "soo(3, 4)\n",
        "soo(3,4,5)"
      ],
      "metadata": {
        "colab": {
          "base_uri": "https://localhost:8080/"
        },
        "id": "YERdMmbs1Lmw",
        "outputId": "b578d9df-f209-4d6c-e5eb-3544f0911353"
      },
      "execution_count": 11,
      "outputs": [
        {
          "output_type": "stream",
          "name": "stdout",
          "text": [
            "1 1 a\n",
            "2 2 a\n",
            "3 1 7\n",
            "3 4 a\n",
            "3 4 5\n"
          ]
        }
      ]
    },
    {
      "cell_type": "code",
      "source": [
        "def zoo(n=2, *values): # 값이 다른게 올 수도 있음(가변인자)\n",
        "  print(\"===\")\n",
        "  print(n)\n",
        "  for value in values:\n",
        "    print(value, end=' ')\n",
        "  print()"
      ],
      "metadata": {
        "id": "idHsZgpl1ypB"
      },
      "execution_count": 17,
      "outputs": []
    },
    {
      "cell_type": "code",
      "source": [
        "zoo()\n",
        "zoo(1)\n",
        "zoo(1,3)\n",
        "zoo(1,3,4,5)"
      ],
      "metadata": {
        "id": "jqxZQBlX2ARp"
      },
      "execution_count": null,
      "outputs": []
    },
    {
      "cell_type": "code",
      "source": [
        "name = input(\"이름: \")\n",
        "print(f\"이름: {name}\")"
      ],
      "metadata": {
        "colab": {
          "base_uri": "https://localhost:8080/"
        },
        "id": "nWuzF6xJ3ecm",
        "outputId": "f25119ab-7756-47a5-d98d-5179e810e82f"
      },
      "execution_count": 25,
      "outputs": [
        {
          "output_type": "stream",
          "name": "stdout",
          "text": [
            "이름: 제갈길동\n",
            "이름: 제갈길동\n"
          ]
        }
      ]
    },
    {
      "cell_type": "code",
      "source": [
        "def square(x):\n",
        "   return x*x"
      ],
      "metadata": {
        "id": "QEopDdvq3iJC"
      },
      "execution_count": 23,
      "outputs": []
    },
    {
      "cell_type": "code",
      "source": [
        "for i in range(1,5):\n",
        "  re = square(i)\n",
        "  print(f\"{i}의 제곱: {re}\")"
      ],
      "metadata": {
        "colab": {
          "base_uri": "https://localhost:8080/"
        },
        "id": "dzSejfKV3wNH",
        "outputId": "a70d02c7-4181-4ec1-906f-e4dc52296c32"
      },
      "execution_count": 24,
      "outputs": [
        {
          "output_type": "stream",
          "name": "stdout",
          "text": [
            "1의 제곱: 1\n",
            "2의 제곱: 4\n",
            "3의 제곱: 9\n",
            "4의 제곱: 16\n"
          ]
        }
      ]
    },
    {
      "cell_type": "code",
      "source": [
        "def find_nearest_sum(start,goal):  \n",
        "  s = 0\n",
        "  while s < goal:\n",
        "    s +=start\n",
        "    start+=1\n",
        "    if(start == 100):   #start값은 100을 넘을 수 없다.\n",
        "      return s\n",
        "  print(\"find!\")\n",
        "  return s"
      ],
      "metadata": {
        "id": "1k9FgQzU4Ig1"
      },
      "execution_count": 30,
      "outputs": []
    },
    {
      "cell_type": "code",
      "source": [
        "re = find_nearest_sum(1,2000)  \n",
        "print(re)\n",
        "re = find_nearest_sum(1,20000)  \n",
        "print(re)"
      ],
      "metadata": {
        "colab": {
          "base_uri": "https://localhost:8080/"
        },
        "id": "YiUzDFU24q3p",
        "outputId": "5629df6b-3675-4dc8-a732-c0b30fab52ba"
      },
      "execution_count": 33,
      "outputs": [
        {
          "output_type": "stream",
          "name": "stdout",
          "text": [
            "find!\n",
            "2016\n",
            "4950\n"
          ]
        }
      ]
    }
  ]
}
