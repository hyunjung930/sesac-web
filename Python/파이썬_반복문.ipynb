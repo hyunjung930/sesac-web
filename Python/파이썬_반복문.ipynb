{
  "nbformat": 4,
  "nbformat_minor": 0,
  "metadata": {
    "colab": {
      "name": "파이썬- 반복문",
      "provenance": [],
      "authorship_tag": "ABX9TyOHjVsJx1wzOQLOTbhuZpNy",
      "include_colab_link": true
    },
    "kernelspec": {
      "name": "python3",
      "display_name": "Python 3"
    },
    "language_info": {
      "name": "python"
    }
  },
  "cells": [
    {
      "cell_type": "markdown",
      "metadata": {
        "id": "view-in-github",
        "colab_type": "text"
      },
      "source": [
        "<a href=\"https://colab.research.google.com/github/hyunjung930/sesac-web/blob/main/%ED%8C%8C%EC%9D%B4%EC%8D%AC_%EB%B0%98%EB%B3%B5%EB%AC%B8.ipynb\" target=\"_parent\"><img src=\"https://colab.research.google.com/assets/colab-badge.svg\" alt=\"Open In Colab\"/></a>"
      ]
    },
    {
      "cell_type": "markdown",
      "source": [
        "# 튜플\n",
        "여러개의 원소로 구성한 자료구조(컬렉션)\n",
        "원소의 값을 변경할 수 없다."
      ],
      "metadata": {
        "id": "S1tYflArmIXC"
      }
    },
    {
      "cell_type": "code",
      "source": [
        "tup1 = (1,)\n",
        "tup2 = (1,'a')\n",
        "tup3 = (1,'abc',(2,3,'ab'))\n",
        "print(tup1)\n",
        "print(tup2)\n",
        "print(tup3)\n"
      ],
      "metadata": {
        "colab": {
          "base_uri": "https://localhost:8080/"
        },
        "id": "slV03pLNmOQD",
        "outputId": "db7eecc4-7fa3-4d76-f88f-3c786d570cfa"
      },
      "execution_count": null,
      "outputs": [
        {
          "output_type": "stream",
          "name": "stdout",
          "text": [
            "(1,)\n",
            "(1, 'a')\n",
            "(1, 'abc', (2, 3, 'ab'))\n"
          ]
        }
      ]
    },
    {
      "cell_type": "code",
      "source": [
        "tup1 =(1,2,3)\n",
        "print(tup1[0])\n",
        "print(tup1[1])\n",
        "print(tup1[2])"
      ],
      "metadata": {
        "colab": {
          "base_uri": "https://localhost:8080/"
        },
        "id": "b4BjUCXlm4lm",
        "outputId": "199f0b11-ee30-4230-b76d-604de1075ed3"
      },
      "execution_count": null,
      "outputs": [
        {
          "output_type": "stream",
          "name": "stdout",
          "text": [
            "1\n",
            "2\n",
            "3\n"
          ]
        }
      ]
    },
    {
      "cell_type": "code",
      "source": [
        "#tup1[0] =7 튜플은 원소의 값을 변경할 수 없다."
      ],
      "metadata": {
        "id": "a2LAbB2SnHeU"
      },
      "execution_count": null,
      "outputs": []
    },
    {
      "cell_type": "markdown",
      "source": [
        "# 리스트\n",
        "\n",
        "여러 개의 원소로 구성한 자료구조(컬렉션)\n",
        "튜플과 다르게 원소의 값을 변경할 수 있다."
      ],
      "metadata": {
        "id": "A-l71ddxnRqc"
      }
    },
    {
      "cell_type": "code",
      "source": [
        "ls1 = [1,2,3,4]\n",
        "print(ls1)"
      ],
      "metadata": {
        "colab": {
          "base_uri": "https://localhost:8080/"
        },
        "id": "ieoqxCg2nfxx",
        "outputId": "e4480e13-50e7-4c1f-dbf0-afb4e28676b8"
      },
      "execution_count": null,
      "outputs": [
        {
          "output_type": "stream",
          "name": "stdout",
          "text": [
            "[1, 2, 3, 4]\n"
          ]
        }
      ]
    },
    {
      "cell_type": "code",
      "source": [
        "ls2 = [1,2,3,'a',[1,2,3],(1,2,'a')]\n",
        "print(ls2)"
      ],
      "metadata": {
        "colab": {
          "base_uri": "https://localhost:8080/"
        },
        "id": "Jdpp--lxnm0J",
        "outputId": "e7d8b1db-6299-45fa-cff6-72723c03cbb2"
      },
      "execution_count": null,
      "outputs": [
        {
          "output_type": "stream",
          "name": "stdout",
          "text": [
            "[1, 2, 3, 'a', [1, 2, 3], (1, 2, 'a')]\n"
          ]
        }
      ]
    },
    {
      "cell_type": "code",
      "source": [
        "ls1=[1,2,3,4,5,'a','b']\n",
        "print(ls1[0])\n",
        "print(ls1[1])\n",
        "print(ls1[2])\n",
        "print(ls1[3])\n",
        "print(ls1[4])\n",
        "print(ls1[5])\n",
        "print(ls1[6])\n",
        "#print(ls1[7]) out of range, index error"
      ],
      "metadata": {
        "colab": {
          "base_uri": "https://localhost:8080/"
        },
        "id": "AluhFL9foraG",
        "outputId": "12803f3c-0a78-4727-844e-2c7925623c63"
      },
      "execution_count": null,
      "outputs": [
        {
          "output_type": "stream",
          "name": "stdout",
          "text": [
            "1\n",
            "2\n",
            "3\n",
            "4\n",
            "5\n",
            "a\n",
            "b\n"
          ]
        }
      ]
    },
    {
      "cell_type": "code",
      "source": [
        "s= \"abcdefg\"\n",
        "print(s[1:3])"
      ],
      "metadata": {
        "colab": {
          "base_uri": "https://localhost:8080/"
        },
        "id": "PSOICEKWowpZ",
        "outputId": "d9e86c1f-4dcd-4619-c158-1fff75142ef1"
      },
      "execution_count": null,
      "outputs": [
        {
          "output_type": "stream",
          "name": "stdout",
          "text": [
            "bc\n"
          ]
        }
      ]
    },
    {
      "cell_type": "code",
      "source": [
        "ls1=[1,2,3,'a','b']\n",
        "print(ls1[1:3]) #1~2\n",
        "print(ls1[:3])  #0~2\n",
        "print(ls1[1:])  #1~끝까지"
      ],
      "metadata": {
        "colab": {
          "base_uri": "https://localhost:8080/"
        },
        "id": "uzLpKq40o2xn",
        "outputId": "ee66e5bc-e780-4afe-f63e-601e39073678"
      },
      "execution_count": null,
      "outputs": [
        {
          "output_type": "stream",
          "name": "stdout",
          "text": [
            "[2, 3]\n",
            "[1, 2, 3]\n",
            "[2, 3, 'a', 'b']\n"
          ]
        }
      ]
    },
    {
      "cell_type": "code",
      "source": [
        "tup1 = (1,2,3)\n",
        "ls1 = [1,2,3]\n",
        "\n",
        "# tup1[0]=3 원소의 값을 변경할 수 없다.\n",
        "ls1[0]=3 # 리스트는 원소의 값을 변경 할 수 있다.\n",
        "print(ls1[0])"
      ],
      "metadata": {
        "colab": {
          "base_uri": "https://localhost:8080/"
        },
        "id": "rZOpcbZbpU7H",
        "outputId": "a2db5914-3cef-4f78-d214-7c5f7b84cb50"
      },
      "execution_count": null,
      "outputs": [
        {
          "output_type": "stream",
          "name": "stdout",
          "text": [
            "3\n"
          ]
        }
      ]
    },
    {
      "cell_type": "code",
      "source": [
        "ls1 = [1,2,3,4,5,6]\n",
        "print(ls1[-1])\n",
        "print(ls1[-2])\n",
        "print(ls1[-3])\n",
        "print(ls1[-4])\n",
        "print(ls1[-5])\n",
        "print(ls1[-6])"
      ],
      "metadata": {
        "colab": {
          "base_uri": "https://localhost:8080/"
        },
        "id": "LdzabMP1pulw",
        "outputId": "1af7369e-38e3-4702-d4ec-309c78656b10"
      },
      "execution_count": null,
      "outputs": [
        {
          "output_type": "stream",
          "name": "stdout",
          "text": [
            "6\n",
            "5\n",
            "4\n",
            "3\n",
            "2\n",
            "1\n"
          ]
        }
      ]
    },
    {
      "cell_type": "code",
      "source": [
        "ls1 = [[90,80,45],[88,95,64],[99,64,89]]\n",
        "print(ls1[0])\n",
        "print(ls1[0][2])\n"
      ],
      "metadata": {
        "colab": {
          "base_uri": "https://localhost:8080/"
        },
        "id": "ui2dDfoJqBur",
        "outputId": "e13074e8-3024-4d13-bea6-1a715249620e"
      },
      "execution_count": null,
      "outputs": [
        {
          "output_type": "stream",
          "name": "stdout",
          "text": [
            "[90, 80, 45]\n",
            "45\n"
          ]
        }
      ]
    },
    {
      "cell_type": "code",
      "source": [
        "ls1 = [1,2,3]\n",
        "ls2 = ['a','b','c']\n",
        "print(ls1+ls2)\n",
        "\n",
        "print(ls1)\n",
        "print(ls2)\n",
        "ls3 = ls1 +ls2\n",
        "print(ls3) # "
      ],
      "metadata": {
        "colab": {
          "base_uri": "https://localhost:8080/"
        },
        "id": "fNU10wtErUOc",
        "outputId": "622e5c8a-6400-49e9-e818-5ce7eb6eec1f"
      },
      "execution_count": null,
      "outputs": [
        {
          "output_type": "stream",
          "name": "stdout",
          "text": [
            "[1, 2, 3, 'a', 'b', 'c']\n",
            "[1, 2, 3]\n",
            "['a', 'b', 'c']\n",
            "[1, 2, 3, 'a', 'b', 'c']\n"
          ]
        }
      ]
    },
    {
      "cell_type": "code",
      "source": [
        "ls1 = [1,2,3]\n",
        "ls2 = ['a','b','c']\n",
        "print(ls1*3)\n",
        "s1 =\"홍길동\"\n",
        "print(s1*3)"
      ],
      "metadata": {
        "colab": {
          "base_uri": "https://localhost:8080/"
        },
        "id": "WhtuvO6Gr9Be",
        "outputId": "53e98fd4-fdb0-4c16-fe5c-68305094b429"
      },
      "execution_count": null,
      "outputs": [
        {
          "output_type": "stream",
          "name": "stdout",
          "text": [
            "[1, 2, 3, 1, 2, 3, 1, 2, 3]\n",
            "홍길동홍길동홍길동\n"
          ]
        }
      ]
    },
    {
      "cell_type": "code",
      "source": [
        "print(len('abcdefghijklmnopqrstyv'))\n",
        "print(len([1,2,3,4,5,6,6,7,8,10,'a','b']))"
      ],
      "metadata": {
        "colab": {
          "base_uri": "https://localhost:8080/"
        },
        "id": "e20ZX778sNYv",
        "outputId": "11e4e02a-51b2-4c13-9470-954c2fd85926"
      },
      "execution_count": null,
      "outputs": [
        {
          "output_type": "stream",
          "name": "stdout",
          "text": [
            "22\n",
            "12\n"
          ]
        }
      ]
    },
    {
      "cell_type": "code",
      "source": [
        "ls1 = list() # 빈 리스트 생성하기\n",
        "print(ls1)\n",
        "print(type(ls1))"
      ],
      "metadata": {
        "colab": {
          "base_uri": "https://localhost:8080/"
        },
        "id": "rV85fMvDtc2A",
        "outputId": "0e1cd250-ce95-4119-ed3d-a1c7b2ef62c7"
      },
      "execution_count": null,
      "outputs": [
        {
          "output_type": "stream",
          "name": "stdout",
          "text": [
            "[]\n",
            "<class 'list'>\n"
          ]
        }
      ]
    },
    {
      "cell_type": "code",
      "source": [
        "ls1.append(3)\n",
        "ls1.append(7)\n",
        "ls1.append(2)\n",
        "ls1.append(8)\n",
        "print(ls1)"
      ],
      "metadata": {
        "colab": {
          "base_uri": "https://localhost:8080/"
        },
        "id": "kos5wbEMtmwa",
        "outputId": "9bcc31a7-ad9b-4088-80ca-e2881dfd7cd9"
      },
      "execution_count": null,
      "outputs": [
        {
          "output_type": "stream",
          "name": "stdout",
          "text": [
            "[3, 7, 2, 8]\n"
          ]
        }
      ]
    },
    {
      "cell_type": "markdown",
      "source": [
        "리스트 - 원하는 위치에 보관"
      ],
      "metadata": {
        "id": "Tfvl0Usgt69l"
      }
    },
    {
      "cell_type": "code",
      "source": [
        "ls = [1,2,4,5,6,7]\n",
        "num = 3\n",
        "ls.insert(2,num)\n",
        "print(ls)"
      ],
      "metadata": {
        "colab": {
          "base_uri": "https://localhost:8080/"
        },
        "id": "kFgu2I00t8iA",
        "outputId": "672be28a-cdf8-4087-f8b1-dcfb55a766ac"
      },
      "execution_count": null,
      "outputs": [
        {
          "output_type": "stream",
          "name": "stdout",
          "text": [
            "[1, 2, 3, 4, 5, 6, 7]\n"
          ]
        }
      ]
    },
    {
      "cell_type": "markdown",
      "source": [
        "#리스트 병합"
      ],
      "metadata": {
        "id": "397uwDB4unBm"
      }
    },
    {
      "cell_type": "code",
      "source": [
        "ls1=[1,2,3]\n",
        "ls2=['a','b','c']\n",
        "print(ls1.extend(ls2)) #반환 값은 없다\n",
        "print(ls1) #ls1의 결과가 바뀐 것을 알 수 있다.\n",
        "print(ls2.extend(ls1))\n",
        "print(ls2)\n",
        "ls3=ls1+ls2\n",
        "print(ls3)"
      ],
      "metadata": {
        "id": "9AHfIs6gupvB"
      },
      "execution_count": null,
      "outputs": []
    },
    {
      "cell_type": "code",
      "source": [
        "ls1=[1,2,3]\n",
        "ls2 = ['a','b','c']\n",
        "print(ls1.extend(ls2))  # 반환 값은 겂음\n",
        "print(ls1) #ls1의 결과가 바뀐 것을 알 수 있음\n",
        "print(ls2)"
      ],
      "metadata": {
        "colab": {
          "base_uri": "https://localhost:8080/"
        },
        "id": "cClT68m-uv6D",
        "outputId": "f3b5028f-baa9-4098-a440-9ced4b6ccdef"
      },
      "execution_count": null,
      "outputs": [
        {
          "output_type": "stream",
          "name": "stdout",
          "text": [
            "None\n",
            "[1, 2, 3, 'a', 'b', 'c']\n",
            "['a', 'b', 'c']\n"
          ]
        }
      ]
    },
    {
      "cell_type": "markdown",
      "source": [
        "# 리스트-요소 제거하기"
      ],
      "metadata": {
        "id": "L-x6WeCM0Wvo"
      }
    },
    {
      "cell_type": "markdown",
      "source": [
        "append로 추가하고 pop으로 꺼내면 stack처럼 동작한다.\n"
      ],
      "metadata": {
        "id": "KgBhqypz01Fy"
      }
    },
    {
      "cell_type": "code",
      "source": [
        "ls1 = [1,2,3,4,5,6,7,8]\n",
        "print(ls1)\n",
        "re = ls1.pop()\n",
        "print(re)\n",
        "print(ls1)"
      ],
      "metadata": {
        "colab": {
          "base_uri": "https://localhost:8080/"
        },
        "id": "iNBuddCu0Z-f",
        "outputId": "ffc69c77-48ed-4368-ce74-96f38c5bc5ac"
      },
      "execution_count": null,
      "outputs": [
        {
          "output_type": "stream",
          "name": "stdout",
          "text": [
            "[1, 2, 3, 4, 5, 6, 7, 8]\n",
            "8\n",
            "[1, 2, 3, 4, 5, 6, 7]\n"
          ]
        }
      ]
    },
    {
      "cell_type": "code",
      "source": [
        "ls1 = [1,2,3,4,5,6,7,8]  # pop은 꺼낸다.\n",
        "print(ls1)\n",
        "re = ls1.pop(3)\n",
        "print(re)\n",
        "print(ls1)\n",
        "re = ls1.pop(3)\n",
        "print(re)\n",
        "print(ls1)"
      ],
      "metadata": {
        "colab": {
          "base_uri": "https://localhost:8080/"
        },
        "id": "iG5mQZSC07rJ",
        "outputId": "5a6de06a-9261-413e-8864-ef98020128e7"
      },
      "execution_count": null,
      "outputs": [
        {
          "output_type": "stream",
          "name": "stdout",
          "text": [
            "[1, 2, 3, 4, 5, 6, 7, 8]\n",
            "4\n",
            "[1, 2, 3, 5, 6, 7, 8]\n",
            "5\n",
            "[1, 2, 3, 6, 7, 8]\n"
          ]
        }
      ]
    },
    {
      "cell_type": "code",
      "source": [
        "ls1 = [1,2,3,4,5,6,7,8]\n",
        "print(ls1)\n",
        "del ls1[2]\n",
        "print(ls1)\n",
        "del ls1[2]\n",
        "print(ls1)\n",
        "del ls1[2]\n",
        "print(ls1)"
      ],
      "metadata": {
        "colab": {
          "base_uri": "https://localhost:8080/"
        },
        "id": "Pn4lsc6T1VSR",
        "outputId": "cfa309d8-68b1-45b3-bcfa-4694397e2603"
      },
      "execution_count": null,
      "outputs": [
        {
          "output_type": "stream",
          "name": "stdout",
          "text": [
            "[1, 2, 3, 4, 5, 6, 7, 8]\n",
            "[1, 2, 4, 5, 6, 7, 8]\n",
            "[1, 2, 5, 6, 7, 8]\n",
            "[1, 2, 6, 7, 8]\n"
          ]
        }
      ]
    },
    {
      "cell_type": "code",
      "source": [
        "ls1 = [1,2,3,4,5,6,7,8] # 범위 지정해서 지우기\n",
        "print(ls1)\n",
        "del ls1[2:]\n",
        "print(ls1)"
      ],
      "metadata": {
        "colab": {
          "base_uri": "https://localhost:8080/"
        },
        "id": "hZRFTsvJ1eTV",
        "outputId": "885022e4-1b6f-409c-bc00-771e8e068fd3"
      },
      "execution_count": null,
      "outputs": [
        {
          "output_type": "stream",
          "name": "stdout",
          "text": [
            "[1, 2, 3, 4, 5, 6, 7, 8]\n",
            "[1, 2]\n"
          ]
        }
      ]
    },
    {
      "cell_type": "code",
      "source": [
        "member_list = ['홍길동', '강감찬','을지문덕','고길동','김구','음냐뤼']\n",
        "\n",
        "print(member_list)\n",
        "name = input(\"지울 회원: \")\n",
        "member_list.remove(name)\n",
        "print(member_list)"
      ],
      "metadata": {
        "colab": {
          "base_uri": "https://localhost:8080/"
        },
        "id": "7JWmgVrW104U",
        "outputId": "3fc568b8-4d75-48a6-f486-b3a94b2a91a1"
      },
      "execution_count": null,
      "outputs": [
        {
          "output_type": "stream",
          "name": "stdout",
          "text": [
            "['홍길동', '강감찬', '을지문덕', '고길동', '김구', '음냐뤼']\n",
            "지울 회원: 음냐뤼\n",
            "['홍길동', '강감찬', '을지문덕', '고길동', '김구']\n"
          ]
        }
      ]
    },
    {
      "cell_type": "code",
      "source": [
        "member_list = ['홍길동', '강감찬','을지문덕','고길동','김구','음냐뤼']\n",
        "\n",
        "print(member_list)\n",
        "member_list.clear()\n",
        "print(member_list)"
      ],
      "metadata": {
        "colab": {
          "base_uri": "https://localhost:8080/"
        },
        "id": "kzfNjA8p2Z-C",
        "outputId": "4bf93874-9b72-4068-f54d-fabbdc315d36"
      },
      "execution_count": null,
      "outputs": [
        {
          "output_type": "stream",
          "name": "stdout",
          "text": [
            "['홍길동', '강감찬', '을지문덕', '고길동', '김구', '음냐뤼']\n",
            "[]\n"
          ]
        }
      ]
    },
    {
      "cell_type": "code",
      "source": [
        "s = \"나는 집에 간다. 그리고 나는 잠을 잔다.\"\n",
        "print(\"간다\" in s)\n"
      ],
      "metadata": {
        "colab": {
          "base_uri": "https://localhost:8080/"
        },
        "id": "_-Z97uKm3CcV",
        "outputId": "c0b57efc-9c4c-4463-cb8c-343fa162723f"
      },
      "execution_count": null,
      "outputs": [
        {
          "output_type": "stream",
          "name": "stdout",
          "text": [
            "True\n"
          ]
        }
      ]
    },
    {
      "cell_type": "code",
      "source": [
        "member_list = ['홍길동', '강감찬','을지문덕','고길동','김구','음냐뤼']\n",
        "name = input(\" 검색할 회원: \")\n",
        "if name in member_list:\n",
        "    print(\"존재합니다.\")\n",
        "else:\n",
        "    print(\"아직 회원이 아닙니다\")"
      ],
      "metadata": {
        "colab": {
          "base_uri": "https://localhost:8080/"
        },
        "id": "c9xP66PL3Vdh",
        "outputId": "b97fae8a-f72c-439e-94c2-82ab93a46a03"
      },
      "execution_count": null,
      "outputs": [
        {
          "output_type": "stream",
          "name": "stdout",
          "text": [
            " 검색할 회원: 고길동\n",
            "존재합니다.\n"
          ]
        }
      ]
    }
  ]
}
