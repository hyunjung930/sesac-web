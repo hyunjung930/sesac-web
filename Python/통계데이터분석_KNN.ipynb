{
  "nbformat": 4,
  "nbformat_minor": 0,
  "metadata": {
    "colab": {
      "name": "통계데이터분석-KNN.ipynb",
      "provenance": [],
      "authorship_tag": "ABX9TyNFPkTFECYId6u9PTA4OSaN",
      "include_colab_link": true
    },
    "kernelspec": {
      "name": "python3",
      "display_name": "Python 3"
    },
    "language_info": {
      "name": "python"
    }
  },
  "cells": [
    {
      "cell_type": "markdown",
      "metadata": {
        "id": "view-in-github",
        "colab_type": "text"
      },
      "source": [
        "<a href=\"https://colab.research.google.com/github/hyunjung930/sesac-web/blob/main/%ED%86%B5%EA%B3%84%EB%8D%B0%EC%9D%B4%ED%84%B0%EB%B6%84%EC%84%9D_KNN.ipynb\" target=\"_parent\"><img src=\"https://colab.research.google.com/assets/colab-badge.svg\" alt=\"Open In Colab\"/></a>"
      ]
    },
    {
      "cell_type": "markdown",
      "source": [
        "#KNN Regression(K-최근접 이웃 회귀)\n",
        ":  알고리즘은 주변의 가장 가까운 K개의 샘플을 통해 값을 예측하는 방식"
      ],
      "metadata": {
        "id": "LxD-7SGrlBKt"
      }
    },
    {
      "cell_type": "code",
      "execution_count": 80,
      "metadata": {
        "id": "f_YsoGzQktrt"
      },
      "outputs": [],
      "source": [
        " from sklearn.datasets import load_iris"
      ]
    },
    {
      "cell_type": "code",
      "source": [
        "# 우리가 사용할 데이터가 무엇인지 꼭 확인하자!\n",
        "iris_data = load_iris()\n",
        "iris_data\n",
        "# 4가지의 데이터  "
      ],
      "metadata": {
        "colab": {
          "base_uri": "https://localhost:8080/"
        },
        "id": "trcPXo-tlZ7z",
        "outputId": "854202d5-4d4a-4419-c80d-a800c1fd1dda"
      },
      "execution_count": 81,
      "outputs": [
        {
          "output_type": "execute_result",
          "data": {
            "text/plain": [
              "{'DESCR': '.. _iris_dataset:\\n\\nIris plants dataset\\n--------------------\\n\\n**Data Set Characteristics:**\\n\\n    :Number of Instances: 150 (50 in each of three classes)\\n    :Number of Attributes: 4 numeric, predictive attributes and the class\\n    :Attribute Information:\\n        - sepal length in cm\\n        - sepal width in cm\\n        - petal length in cm\\n        - petal width in cm\\n        - class:\\n                - Iris-Setosa\\n                - Iris-Versicolour\\n                - Iris-Virginica\\n                \\n    :Summary Statistics:\\n\\n    ============== ==== ==== ======= ===== ====================\\n                    Min  Max   Mean    SD   Class Correlation\\n    ============== ==== ==== ======= ===== ====================\\n    sepal length:   4.3  7.9   5.84   0.83    0.7826\\n    sepal width:    2.0  4.4   3.05   0.43   -0.4194\\n    petal length:   1.0  6.9   3.76   1.76    0.9490  (high!)\\n    petal width:    0.1  2.5   1.20   0.76    0.9565  (high!)\\n    ============== ==== ==== ======= ===== ====================\\n\\n    :Missing Attribute Values: None\\n    :Class Distribution: 33.3% for each of 3 classes.\\n    :Creator: R.A. Fisher\\n    :Donor: Michael Marshall (MARSHALL%PLU@io.arc.nasa.gov)\\n    :Date: July, 1988\\n\\nThe famous Iris database, first used by Sir R.A. Fisher. The dataset is taken\\nfrom Fisher\\'s paper. Note that it\\'s the same as in R, but not as in the UCI\\nMachine Learning Repository, which has two wrong data points.\\n\\nThis is perhaps the best known database to be found in the\\npattern recognition literature.  Fisher\\'s paper is a classic in the field and\\nis referenced frequently to this day.  (See Duda & Hart, for example.)  The\\ndata set contains 3 classes of 50 instances each, where each class refers to a\\ntype of iris plant.  One class is linearly separable from the other 2; the\\nlatter are NOT linearly separable from each other.\\n\\n.. topic:: References\\n\\n   - Fisher, R.A. \"The use of multiple measurements in taxonomic problems\"\\n     Annual Eugenics, 7, Part II, 179-188 (1936); also in \"Contributions to\\n     Mathematical Statistics\" (John Wiley, NY, 1950).\\n   - Duda, R.O., & Hart, P.E. (1973) Pattern Classification and Scene Analysis.\\n     (Q327.D83) John Wiley & Sons.  ISBN 0-471-22361-1.  See page 218.\\n   - Dasarathy, B.V. (1980) \"Nosing Around the Neighborhood: A New System\\n     Structure and Classification Rule for Recognition in Partially Exposed\\n     Environments\".  IEEE Transactions on Pattern Analysis and Machine\\n     Intelligence, Vol. PAMI-2, No. 1, 67-71.\\n   - Gates, G.W. (1972) \"The Reduced Nearest Neighbor Rule\".  IEEE Transactions\\n     on Information Theory, May 1972, 431-433.\\n   - See also: 1988 MLC Proceedings, 54-64.  Cheeseman et al\"s AUTOCLASS II\\n     conceptual clustering system finds 3 classes in the data.\\n   - Many, many more ...',\n",
              " 'data': array([[5.1, 3.5, 1.4, 0.2],\n",
              "        [4.9, 3. , 1.4, 0.2],\n",
              "        [4.7, 3.2, 1.3, 0.2],\n",
              "        [4.6, 3.1, 1.5, 0.2],\n",
              "        [5. , 3.6, 1.4, 0.2],\n",
              "        [5.4, 3.9, 1.7, 0.4],\n",
              "        [4.6, 3.4, 1.4, 0.3],\n",
              "        [5. , 3.4, 1.5, 0.2],\n",
              "        [4.4, 2.9, 1.4, 0.2],\n",
              "        [4.9, 3.1, 1.5, 0.1],\n",
              "        [5.4, 3.7, 1.5, 0.2],\n",
              "        [4.8, 3.4, 1.6, 0.2],\n",
              "        [4.8, 3. , 1.4, 0.1],\n",
              "        [4.3, 3. , 1.1, 0.1],\n",
              "        [5.8, 4. , 1.2, 0.2],\n",
              "        [5.7, 4.4, 1.5, 0.4],\n",
              "        [5.4, 3.9, 1.3, 0.4],\n",
              "        [5.1, 3.5, 1.4, 0.3],\n",
              "        [5.7, 3.8, 1.7, 0.3],\n",
              "        [5.1, 3.8, 1.5, 0.3],\n",
              "        [5.4, 3.4, 1.7, 0.2],\n",
              "        [5.1, 3.7, 1.5, 0.4],\n",
              "        [4.6, 3.6, 1. , 0.2],\n",
              "        [5.1, 3.3, 1.7, 0.5],\n",
              "        [4.8, 3.4, 1.9, 0.2],\n",
              "        [5. , 3. , 1.6, 0.2],\n",
              "        [5. , 3.4, 1.6, 0.4],\n",
              "        [5.2, 3.5, 1.5, 0.2],\n",
              "        [5.2, 3.4, 1.4, 0.2],\n",
              "        [4.7, 3.2, 1.6, 0.2],\n",
              "        [4.8, 3.1, 1.6, 0.2],\n",
              "        [5.4, 3.4, 1.5, 0.4],\n",
              "        [5.2, 4.1, 1.5, 0.1],\n",
              "        [5.5, 4.2, 1.4, 0.2],\n",
              "        [4.9, 3.1, 1.5, 0.2],\n",
              "        [5. , 3.2, 1.2, 0.2],\n",
              "        [5.5, 3.5, 1.3, 0.2],\n",
              "        [4.9, 3.6, 1.4, 0.1],\n",
              "        [4.4, 3. , 1.3, 0.2],\n",
              "        [5.1, 3.4, 1.5, 0.2],\n",
              "        [5. , 3.5, 1.3, 0.3],\n",
              "        [4.5, 2.3, 1.3, 0.3],\n",
              "        [4.4, 3.2, 1.3, 0.2],\n",
              "        [5. , 3.5, 1.6, 0.6],\n",
              "        [5.1, 3.8, 1.9, 0.4],\n",
              "        [4.8, 3. , 1.4, 0.3],\n",
              "        [5.1, 3.8, 1.6, 0.2],\n",
              "        [4.6, 3.2, 1.4, 0.2],\n",
              "        [5.3, 3.7, 1.5, 0.2],\n",
              "        [5. , 3.3, 1.4, 0.2],\n",
              "        [7. , 3.2, 4.7, 1.4],\n",
              "        [6.4, 3.2, 4.5, 1.5],\n",
              "        [6.9, 3.1, 4.9, 1.5],\n",
              "        [5.5, 2.3, 4. , 1.3],\n",
              "        [6.5, 2.8, 4.6, 1.5],\n",
              "        [5.7, 2.8, 4.5, 1.3],\n",
              "        [6.3, 3.3, 4.7, 1.6],\n",
              "        [4.9, 2.4, 3.3, 1. ],\n",
              "        [6.6, 2.9, 4.6, 1.3],\n",
              "        [5.2, 2.7, 3.9, 1.4],\n",
              "        [5. , 2. , 3.5, 1. ],\n",
              "        [5.9, 3. , 4.2, 1.5],\n",
              "        [6. , 2.2, 4. , 1. ],\n",
              "        [6.1, 2.9, 4.7, 1.4],\n",
              "        [5.6, 2.9, 3.6, 1.3],\n",
              "        [6.7, 3.1, 4.4, 1.4],\n",
              "        [5.6, 3. , 4.5, 1.5],\n",
              "        [5.8, 2.7, 4.1, 1. ],\n",
              "        [6.2, 2.2, 4.5, 1.5],\n",
              "        [5.6, 2.5, 3.9, 1.1],\n",
              "        [5.9, 3.2, 4.8, 1.8],\n",
              "        [6.1, 2.8, 4. , 1.3],\n",
              "        [6.3, 2.5, 4.9, 1.5],\n",
              "        [6.1, 2.8, 4.7, 1.2],\n",
              "        [6.4, 2.9, 4.3, 1.3],\n",
              "        [6.6, 3. , 4.4, 1.4],\n",
              "        [6.8, 2.8, 4.8, 1.4],\n",
              "        [6.7, 3. , 5. , 1.7],\n",
              "        [6. , 2.9, 4.5, 1.5],\n",
              "        [5.7, 2.6, 3.5, 1. ],\n",
              "        [5.5, 2.4, 3.8, 1.1],\n",
              "        [5.5, 2.4, 3.7, 1. ],\n",
              "        [5.8, 2.7, 3.9, 1.2],\n",
              "        [6. , 2.7, 5.1, 1.6],\n",
              "        [5.4, 3. , 4.5, 1.5],\n",
              "        [6. , 3.4, 4.5, 1.6],\n",
              "        [6.7, 3.1, 4.7, 1.5],\n",
              "        [6.3, 2.3, 4.4, 1.3],\n",
              "        [5.6, 3. , 4.1, 1.3],\n",
              "        [5.5, 2.5, 4. , 1.3],\n",
              "        [5.5, 2.6, 4.4, 1.2],\n",
              "        [6.1, 3. , 4.6, 1.4],\n",
              "        [5.8, 2.6, 4. , 1.2],\n",
              "        [5. , 2.3, 3.3, 1. ],\n",
              "        [5.6, 2.7, 4.2, 1.3],\n",
              "        [5.7, 3. , 4.2, 1.2],\n",
              "        [5.7, 2.9, 4.2, 1.3],\n",
              "        [6.2, 2.9, 4.3, 1.3],\n",
              "        [5.1, 2.5, 3. , 1.1],\n",
              "        [5.7, 2.8, 4.1, 1.3],\n",
              "        [6.3, 3.3, 6. , 2.5],\n",
              "        [5.8, 2.7, 5.1, 1.9],\n",
              "        [7.1, 3. , 5.9, 2.1],\n",
              "        [6.3, 2.9, 5.6, 1.8],\n",
              "        [6.5, 3. , 5.8, 2.2],\n",
              "        [7.6, 3. , 6.6, 2.1],\n",
              "        [4.9, 2.5, 4.5, 1.7],\n",
              "        [7.3, 2.9, 6.3, 1.8],\n",
              "        [6.7, 2.5, 5.8, 1.8],\n",
              "        [7.2, 3.6, 6.1, 2.5],\n",
              "        [6.5, 3.2, 5.1, 2. ],\n",
              "        [6.4, 2.7, 5.3, 1.9],\n",
              "        [6.8, 3. , 5.5, 2.1],\n",
              "        [5.7, 2.5, 5. , 2. ],\n",
              "        [5.8, 2.8, 5.1, 2.4],\n",
              "        [6.4, 3.2, 5.3, 2.3],\n",
              "        [6.5, 3. , 5.5, 1.8],\n",
              "        [7.7, 3.8, 6.7, 2.2],\n",
              "        [7.7, 2.6, 6.9, 2.3],\n",
              "        [6. , 2.2, 5. , 1.5],\n",
              "        [6.9, 3.2, 5.7, 2.3],\n",
              "        [5.6, 2.8, 4.9, 2. ],\n",
              "        [7.7, 2.8, 6.7, 2. ],\n",
              "        [6.3, 2.7, 4.9, 1.8],\n",
              "        [6.7, 3.3, 5.7, 2.1],\n",
              "        [7.2, 3.2, 6. , 1.8],\n",
              "        [6.2, 2.8, 4.8, 1.8],\n",
              "        [6.1, 3. , 4.9, 1.8],\n",
              "        [6.4, 2.8, 5.6, 2.1],\n",
              "        [7.2, 3. , 5.8, 1.6],\n",
              "        [7.4, 2.8, 6.1, 1.9],\n",
              "        [7.9, 3.8, 6.4, 2. ],\n",
              "        [6.4, 2.8, 5.6, 2.2],\n",
              "        [6.3, 2.8, 5.1, 1.5],\n",
              "        [6.1, 2.6, 5.6, 1.4],\n",
              "        [7.7, 3. , 6.1, 2.3],\n",
              "        [6.3, 3.4, 5.6, 2.4],\n",
              "        [6.4, 3.1, 5.5, 1.8],\n",
              "        [6. , 3. , 4.8, 1.8],\n",
              "        [6.9, 3.1, 5.4, 2.1],\n",
              "        [6.7, 3.1, 5.6, 2.4],\n",
              "        [6.9, 3.1, 5.1, 2.3],\n",
              "        [5.8, 2.7, 5.1, 1.9],\n",
              "        [6.8, 3.2, 5.9, 2.3],\n",
              "        [6.7, 3.3, 5.7, 2.5],\n",
              "        [6.7, 3. , 5.2, 2.3],\n",
              "        [6.3, 2.5, 5. , 1.9],\n",
              "        [6.5, 3. , 5.2, 2. ],\n",
              "        [6.2, 3.4, 5.4, 2.3],\n",
              "        [5.9, 3. , 5.1, 1.8]]),\n",
              " 'data_module': 'sklearn.datasets.data',\n",
              " 'feature_names': ['sepal length (cm)',\n",
              "  'sepal width (cm)',\n",
              "  'petal length (cm)',\n",
              "  'petal width (cm)'],\n",
              " 'filename': 'iris.csv',\n",
              " 'frame': None,\n",
              " 'target': array([0, 0, 0, 0, 0, 0, 0, 0, 0, 0, 0, 0, 0, 0, 0, 0, 0, 0, 0, 0, 0, 0,\n",
              "        0, 0, 0, 0, 0, 0, 0, 0, 0, 0, 0, 0, 0, 0, 0, 0, 0, 0, 0, 0, 0, 0,\n",
              "        0, 0, 0, 0, 0, 0, 1, 1, 1, 1, 1, 1, 1, 1, 1, 1, 1, 1, 1, 1, 1, 1,\n",
              "        1, 1, 1, 1, 1, 1, 1, 1, 1, 1, 1, 1, 1, 1, 1, 1, 1, 1, 1, 1, 1, 1,\n",
              "        1, 1, 1, 1, 1, 1, 1, 1, 1, 1, 1, 1, 2, 2, 2, 2, 2, 2, 2, 2, 2, 2,\n",
              "        2, 2, 2, 2, 2, 2, 2, 2, 2, 2, 2, 2, 2, 2, 2, 2, 2, 2, 2, 2, 2, 2,\n",
              "        2, 2, 2, 2, 2, 2, 2, 2, 2, 2, 2, 2, 2, 2, 2, 2, 2, 2]),\n",
              " 'target_names': array(['setosa', 'versicolor', 'virginica'], dtype='<U10')}"
            ]
          },
          "metadata": {},
          "execution_count": 81
        }
      ]
    },
    {
      "cell_type": "code",
      "source": [
        "data = iris_data['data']\n",
        "target  = iris_data['target']\n",
        "tnames = iris_data['target_names']\n",
        "for i,y in enumerate(target):\n",
        "  print(f'{i}:{tnames[y]}')"
      ],
      "metadata": {
        "colab": {
          "base_uri": "https://localhost:8080/"
        },
        "id": "uW1kciipl5E2",
        "outputId": "d610b537-68a6-41e5-ddba-3c2f52b9cb15"
      },
      "execution_count": 4,
      "outputs": [
        {
          "output_type": "stream",
          "name": "stdout",
          "text": [
            "0:setosa\n",
            "1:setosa\n",
            "2:setosa\n",
            "3:setosa\n",
            "4:setosa\n",
            "5:setosa\n",
            "6:setosa\n",
            "7:setosa\n",
            "8:setosa\n",
            "9:setosa\n",
            "10:setosa\n",
            "11:setosa\n",
            "12:setosa\n",
            "13:setosa\n",
            "14:setosa\n",
            "15:setosa\n",
            "16:setosa\n",
            "17:setosa\n",
            "18:setosa\n",
            "19:setosa\n",
            "20:setosa\n",
            "21:setosa\n",
            "22:setosa\n",
            "23:setosa\n",
            "24:setosa\n",
            "25:setosa\n",
            "26:setosa\n",
            "27:setosa\n",
            "28:setosa\n",
            "29:setosa\n",
            "30:setosa\n",
            "31:setosa\n",
            "32:setosa\n",
            "33:setosa\n",
            "34:setosa\n",
            "35:setosa\n",
            "36:setosa\n",
            "37:setosa\n",
            "38:setosa\n",
            "39:setosa\n",
            "40:setosa\n",
            "41:setosa\n",
            "42:setosa\n",
            "43:setosa\n",
            "44:setosa\n",
            "45:setosa\n",
            "46:setosa\n",
            "47:setosa\n",
            "48:setosa\n",
            "49:setosa\n",
            "50:versicolor\n",
            "51:versicolor\n",
            "52:versicolor\n",
            "53:versicolor\n",
            "54:versicolor\n",
            "55:versicolor\n",
            "56:versicolor\n",
            "57:versicolor\n",
            "58:versicolor\n",
            "59:versicolor\n",
            "60:versicolor\n",
            "61:versicolor\n",
            "62:versicolor\n",
            "63:versicolor\n",
            "64:versicolor\n",
            "65:versicolor\n",
            "66:versicolor\n",
            "67:versicolor\n",
            "68:versicolor\n",
            "69:versicolor\n",
            "70:versicolor\n",
            "71:versicolor\n",
            "72:versicolor\n",
            "73:versicolor\n",
            "74:versicolor\n",
            "75:versicolor\n",
            "76:versicolor\n",
            "77:versicolor\n",
            "78:versicolor\n",
            "79:versicolor\n",
            "80:versicolor\n",
            "81:versicolor\n",
            "82:versicolor\n",
            "83:versicolor\n",
            "84:versicolor\n",
            "85:versicolor\n",
            "86:versicolor\n",
            "87:versicolor\n",
            "88:versicolor\n",
            "89:versicolor\n",
            "90:versicolor\n",
            "91:versicolor\n",
            "92:versicolor\n",
            "93:versicolor\n",
            "94:versicolor\n",
            "95:versicolor\n",
            "96:versicolor\n",
            "97:versicolor\n",
            "98:versicolor\n",
            "99:versicolor\n",
            "100:virginica\n",
            "101:virginica\n",
            "102:virginica\n",
            "103:virginica\n",
            "104:virginica\n",
            "105:virginica\n",
            "106:virginica\n",
            "107:virginica\n",
            "108:virginica\n",
            "109:virginica\n",
            "110:virginica\n",
            "111:virginica\n",
            "112:virginica\n",
            "113:virginica\n",
            "114:virginica\n",
            "115:virginica\n",
            "116:virginica\n",
            "117:virginica\n",
            "118:virginica\n",
            "119:virginica\n",
            "120:virginica\n",
            "121:virginica\n",
            "122:virginica\n",
            "123:virginica\n",
            "124:virginica\n",
            "125:virginica\n",
            "126:virginica\n",
            "127:virginica\n",
            "128:virginica\n",
            "129:virginica\n",
            "130:virginica\n",
            "131:virginica\n",
            "132:virginica\n",
            "133:virginica\n",
            "134:virginica\n",
            "135:virginica\n",
            "136:virginica\n",
            "137:virginica\n",
            "138:virginica\n",
            "139:virginica\n",
            "140:virginica\n",
            "141:virginica\n",
            "142:virginica\n",
            "143:virginica\n",
            "144:virginica\n",
            "145:virginica\n",
            "146:virginica\n",
            "147:virginica\n",
            "148:virginica\n",
            "149:virginica\n"
          ]
        }
      ]
    },
    {
      "cell_type": "code",
      "source": [
        "sepal_lengths = data[:50,[0]] # setosa 품종의 sepal_length만 추출(독립변수로 사용하기 위해 2차원 배열)\n",
        "sepal_widths = data[:50,1] #setosa 품종의 sepal_width만 추출(종속변수로 사용하기 위해 1차원 배열)"
      ],
      "metadata": {
        "id": "N5ZVB3cKmg-t"
      },
      "execution_count": 5,
      "outputs": []
    },
    {
      "cell_type": "code",
      "source": [
        "import matplotlib.pyplot as plt\n",
        "plt.plot(sepal_lengths[:,0],sepal_widths,'ro',label='setosa')\n",
        "plt.xlabel('sepal-lenghts')\n",
        "plt.ylabel('sepal_widths')\n",
        "plt.yticks([0,max(sepal_widths)])\n",
        "plt.title('iris -setosa')\n",
        "plt.show()"
      ],
      "metadata": {
        "colab": {
          "base_uri": "https://localhost:8080/",
          "height": 295
        },
        "id": "VGVp3ITWm_lx",
        "outputId": "139e4463-5af2-4647-ec08-f08ea1e530b1"
      },
      "execution_count": 6,
      "outputs": [
        {
          "output_type": "display_data",
          "data": {
            "image/png": "[encoded data removed]",
            "text/plain": [
              "<Figure size 432x288 with 1 Axes>"
            ]
          },
          "metadata": {
            "needs_background": "light"
          }
        }
      ]
    },
    {
      "cell_type": "code",
      "source": [
        "train_xs = sepal_lengths[:len(sepal_lengths)*2//3]\n",
        "train_ys = sepal_widths[:len(sepal_widths)*2//3]\n",
        "test_xs = sepal_lengths[len(sepal_lengths)*2//3:]\n",
        "test_ys = sepal_widths[len(sepal_widths)*2//3:]\n",
        "print(f\"학습용 길이:{len(train_ys)} 테스트용 길이:{len(test_ys )}\")"
      ],
      "metadata": {
        "colab": {
          "base_uri": "https://localhost:8080/"
        },
        "id": "T5Lr8x5InvYc",
        "outputId": "cb25b8b9-3fe6-4750-8103-d2772ac665c1"
      },
      "execution_count": 7,
      "outputs": [
        {
          "output_type": "stream",
          "name": "stdout",
          "text": [
            "학습용 길이:33 테스트용 길이:17\n"
          ]
        }
      ]
    },
    {
      "cell_type": "markdown",
      "source": [
        "거리계산"
      ],
      "metadata": {
        "id": "OYRrZ5yACQ3H"
      }
    },
    {
      "cell_type": "code",
      "source": [
        "import numpy as np"
      ],
      "metadata": {
        "id": "vVYdhYqVCSME"
      },
      "execution_count": 8,
      "outputs": []
    },
    {
      "cell_type": "code",
      "source": [
        "def distance(x1,x2):\n",
        "  if isinstance(x1,int) and isinstance(x2,int): # 두개의 값이 모두 int 형식일 때\n",
        "   return np.abs(x2-x1) #차이의 절대값을 반환\n",
        "  if isinstance(x1,list) and isinstance(x2,list):\n",
        "    x1 = np.array(x1)\n",
        "    x2 = np.array(x2)\n",
        "  return sum((x1-x2)**2)**(1/2)"
      ],
      "metadata": {
        "id": "FboW8AmICUIP"
      },
      "execution_count": 12,
      "outputs": []
    },
    {
      "cell_type": "code",
      "source": [
        "na1 = np.array([1,2])\n",
        "na2 = np.array([4,6])\n",
        "distance(na1,na2) #assert로 거리 계산 확인하기"
      ],
      "metadata": {
        "colab": {
          "base_uri": "https://localhost:8080/"
        },
        "id": "P3aSVzxhC2px",
        "outputId": "f3d4d847-47f5-4b53-e824-dcd53c8bb9a4"
      },
      "execution_count": 14,
      "outputs": [
        {
          "output_type": "execute_result",
          "data": {
            "text/plain": [
              "5.0"
            ]
          },
          "metadata": {},
          "execution_count": 14
        }
      ]
    },
    {
      "cell_type": "markdown",
      "source": [
        "k개의 가까운 이웃을 찾아라"
      ],
      "metadata": {
        "id": "IwLIildtDj6K"
      }
    },
    {
      "cell_type": "code",
      "source": [
        "def find_k_nearest_neighbor(xs,ys,tx,k=5):\n",
        "  \"\"\"\n",
        "  입력 매개변수: xs,ys,tx,l\n",
        "  xs: 독립변수(학습데이터)\n",
        "  ys: 종속변수(학습데이터)\n",
        "  ts: 독립변수(예측에 사용할 신입)\n",
        "  k: 찾을 이웃 수\n",
        "  반환: k개의 이웃의 y의 평균값\n",
        "  \"\"\"\n",
        "  sarr =[]\n",
        "  for i,x in enumerate(xs):\n",
        "    dis = distance(x,tx)\n",
        "    sarr.append((dis,i)) #계산한 거리와 인덱스를 보관\n",
        "\n",
        "  sarr.sort(key = lambda x:x[0]) #dis 순으로 정렬\n",
        "\n",
        "  k = min(k,len(sarr)) #현재 학습 데이터 개수와 k 중에 최솟값을 k로 확정\n",
        "  neighbors = [x[1]for x in sarr[:k]] # 거리가 가까운 이웃 k개의 인덱스로 리스트 구성\n",
        "  return sum(ys[neighbors])/k #이웃의 평균 값을 반환"
      ],
      "metadata": {
        "id": "I1BvKnK9DjM2"
      },
      "execution_count": 27,
      "outputs": []
    },
    {
      "cell_type": "code",
      "source": [
        "def find_k_nearest_neighbors(xs,ys,t_xs,k=5):\n",
        "  return [find_k_nearest_neighbor(xs,ys,tx,k) for tx in t_xs]"
      ],
      "metadata": {
        "id": "PeLf0oIpJ0Wq"
      },
      "execution_count": 28,
      "outputs": []
    },
    {
      "cell_type": "code",
      "source": [
        "pred_val = find_k_nearest_neighbors(train_xs,train_ys,test_xs)\n",
        "pred_val"
      ],
      "metadata": {
        "colab": {
          "base_uri": "https://localhost:8080/"
        },
        "id": "F0mUerVKKAZC",
        "outputId": "413ff4f9-3f20-4f85-fad4-8c00fac8b5a9"
      },
      "execution_count": 29,
      "outputs": [
        {
          "output_type": "execute_result",
          "data": {
            "text/plain": [
              "[3.66,\n",
              " 3.22,\n",
              " 3.38,\n",
              " 3.66,\n",
              " 3.22,\n",
              " 3.2,\n",
              " 3.56,\n",
              " 3.38,\n",
              " 3.2399999999999998,\n",
              " 3.2,\n",
              " 3.38,\n",
              " 3.56,\n",
              " 3.22,\n",
              " 3.56,\n",
              " 3.3,\n",
              " 3.72,\n",
              " 3.38]"
            ]
          },
          "metadata": {},
          "execution_count": 29
        }
      ]
    },
    {
      "cell_type": "code",
      "source": [
        "plt.plot(pred_val,'ro', label='predict')\n",
        "plt.plot(test_ys,'b.',label='actual')\n",
        "plt.ylim(0,5)\n",
        "plt.legend()\n",
        "plt.xlabel(\"index\")\n",
        "plt.ylabel(\"sepal-width\")\n",
        "plt.title(\"iris-setosa\")\n",
        "plt.show()"
      ],
      "metadata": {
        "colab": {
          "base_uri": "https://localhost:8080/",
          "height": 295
        },
        "id": "dK9v8yA8LJ6s",
        "outputId": "e22c173f-57ee-4c06-8dd3-24ed2cd3e846"
      },
      "execution_count": 30,
      "outputs": [
        {
          "output_type": "display_data",
          "data": {
            "image/png": "[encoded data removed]",
            "text/plain": [
              "<Figure size 432x288 with 1 Axes>"
            ]
          },
          "metadata": {
            "needs_background": "light"
          }
        }
      ]
    },
    {
      "cell_type": "code",
      "source": [
        "print(np.mean(np.abs(pred_val-test_ys)/test_ys))"
      ],
      "metadata": {
        "colab": {
          "base_uri": "https://localhost:8080/"
        },
        "id": "30hlJFeRMfSm",
        "outputId": "41a35c84-b11e-4df9-b8c1-9dbbd7f136d4"
      },
      "execution_count": 31,
      "outputs": [
        {
          "output_type": "stream",
          "name": "stdout",
          "text": [
            "0.07213767474452305\n"
          ]
        }
      ]
    },
    {
      "cell_type": "code",
      "source": [
        "from sklearn.neighbors import KNeighborsRegressor"
      ],
      "metadata": {
        "id": "GlhbKM_qM8l0"
      },
      "execution_count": 32,
      "outputs": []
    },
    {
      "cell_type": "code",
      "source": [
        "knr_model = KNeighborsRegressor() #모델 개체 생성\n",
        "#n_neighbors=5 가 디폴트\n",
        "knr_model.fit(train_xs,train_ys) #학습하세요.\n",
        "pred_val2 = knr_model.predict(test_xs) #예측하세요."
      ],
      "metadata": {
        "id": "hQZxQwuHNEEb"
      },
      "execution_count": 38,
      "outputs": []
    },
    {
      "cell_type": "code",
      "source": [
        "plt.plot(pred_val,'ro', label='our function')\n",
        "plt.plot(pred_val2,'b.',label='KNeighborsRegressor')\n",
        "plt.ylim(0,5)\n",
        "plt.legend()\n",
        "plt.xlabel(\"index\")\n",
        "plt.ylabel(\"sepal-width\")\n",
        "plt.title(\"iris-setosa\")\n",
        "plt.show()"
      ],
      "metadata": {
        "colab": {
          "base_uri": "https://localhost:8080/",
          "height": 295
        },
        "id": "R4M7uS9hNaPL",
        "outputId": "338c0884-8a1a-4fc6-c959-2f77f803f400"
      },
      "execution_count": 39,
      "outputs": [
        {
          "output_type": "display_data",
          "data": {
            "image/png": "[encoded data removed]",
            "text/plain": [
              "<Figure size 432x288 with 1 Axes>"
            ]
          },
          "metadata": {
            "needs_background": "light"
          }
        }
      ]
    },
    {
      "cell_type": "code",
      "source": [
        "print(np.mean(np.abs(pred_val2-test_ys)/test_ys))"
      ],
      "metadata": {
        "colab": {
          "base_uri": "https://localhost:8080/"
        },
        "id": "jqnneuM8Odkb",
        "outputId": "8d0412bb-c33f-40ab-ac1f-cc8b00085830"
      },
      "execution_count": 40,
      "outputs": [
        {
          "output_type": "stream",
          "name": "stdout",
          "text": [
            "0.07322719531933776\n"
          ]
        }
      ]
    },
    {
      "cell_type": "code",
      "source": [
        "print(find_k_nearest_neighbors(train_xs,train_ys,[3.4]))\n",
        "print(find_k_nearest_neighbors(train_xs,train_ys,[6]))\n",
        "print(find_k_nearest_neighbors(train_xs,train_ys,[8]))\n",
        "print(find_k_nearest_neighbors(train_xs,train_ys,[80])) #표본을 벗어나는 값.."
      ],
      "metadata": {
        "colab": {
          "base_uri": "https://localhost:8080/"
        },
        "id": "OU2kC30cOqqk",
        "outputId": "54812391-cf89-437c-c217-ef8f32dadbe9"
      },
      "execution_count": 42,
      "outputs": [
        {
          "output_type": "stream",
          "name": "stdout",
          "text": [
            "[3.2]\n",
            "[3.9599999999999995]\n",
            "[3.9599999999999995]\n",
            "[3.9599999999999995]\n"
          ]
        }
      ]
    },
    {
      "cell_type": "markdown",
      "source": [
        "KNN에서 독립변수에 특성이 여러 개이고 특성에 따라 크기의 차이가 상당할 때"
      ],
      "metadata": {
        "id": "1vT2VMkAPjyR"
      }
    },
    {
      "cell_type": "code",
      "source": [
        "train_xs2 = np.array([[180,0.84],[190,0.89],[120,0.89],[150,0.49],[160,0.58],[170,0.65]])#[키, 몸무게]\n",
        "train_ys2 = np.array([32,33,24,26,30,31]) #[허리둘레]\n",
        "print(find_k_nearest_neighbor(train_xs2,train_ys2,[201,1.10],k=1))\n",
        "print(find_k_nearest_neighbor(train_xs2,train_ys2,[186,0.84],k=1))"
      ],
      "metadata": {
        "colab": {
          "base_uri": "https://localhost:8080/"
        },
        "id": "OFD2mKkHPofc",
        "outputId": "63ba1661-fba5-4ad6-d903-845e21902888"
      },
      "execution_count": 55,
      "outputs": [
        {
          "output_type": "stream",
          "name": "stdout",
          "text": [
            "33.0\n",
            "33.0\n"
          ]
        }
      ]
    },
    {
      "cell_type": "code",
      "source": [
        "distance([180,0.84],[186,0.84]),distance([190,0.89],[186,0.84])"
      ],
      "metadata": {
        "colab": {
          "base_uri": "https://localhost:8080/"
        },
        "id": "CySG7PJpSUP8",
        "outputId": "34732fb6-28de-403f-9ca1-fed82eabb950"
      },
      "execution_count": 57,
      "outputs": [
        {
          "output_type": "execute_result",
          "data": {
            "text/plain": [
              "(6.0, 4.000312487793923)"
            ]
          },
          "metadata": {},
          "execution_count": 57
        }
      ]
    },
    {
      "cell_type": "code",
      "source": [
        "plt.figure()\n",
        "plt.plot(train_xs2[:,0],train_xs2[:,1],'ro', label='sample')\n",
        "plt.plot([186],[0.84],'b^',label = \"test\")\n",
        "plt.legend()\n",
        "plt.xlim(0,210)\n",
        "plt.ylim(0,1.10)\n",
        "plt.show()"
      ],
      "metadata": {
        "colab": {
          "base_uri": "https://localhost:8080/",
          "height": 265
        },
        "id": "8bFDvkRuQ6_n",
        "outputId": "a8046280-5794-4951-97fa-a8fb403bb141"
      },
      "execution_count": 53,
      "outputs": [
        {
          "output_type": "display_data",
          "data": {
            "image/png": "[encoded data removed]",
            "text/plain": [
              "<Figure size 432x288 with 1 Axes>"
            ]
          },
          "metadata": {
            "needs_background": "light"
          }
        }
      ]
    },
    {
      "cell_type": "code",
      "source": [
        "#키\n",
        "heights = train_xs2[:,0]\n",
        "hm = heights.mean()\n",
        "hs = heights.std()\n",
        "heights2 = heights-hm #수평 이동\n",
        "heights3 = heights2/hs #표준편차만큼 비율 조절\n",
        "\n",
        "hm3 = heights3.mean()\n",
        "hs3 = heights3.std()\n",
        "hm3,hs3"
      ],
      "metadata": {
        "colab": {
          "base_uri": "https://localhost:8080/"
        },
        "id": "AVOzHpC3Q65Y",
        "outputId": "5a2d4f1a-d2b8-4053-e3f1-7ce4fe72596f"
      },
      "execution_count": 63,
      "outputs": [
        {
          "output_type": "execute_result",
          "data": {
            "text/plain": [
              "(3.978299171573478e-16, 1.0)"
            ]
          },
          "metadata": {},
          "execution_count": 63
        }
      ]
    },
    {
      "cell_type": "code",
      "source": [
        "#몸무게\n",
        "#스케일 조절\n",
        "weights = train_xs2[:,1]\n",
        "wm = weights.mean()\n",
        "ws = weights.std()\n",
        "\n",
        "weights2 = weights-wm #수평 이동\n",
        "weights3 = weights2/ws #표준편차만큼 비율 조절\n",
        "\n",
        "wm3 = weights3.mean()\n",
        "ws3 = weights3.std()\n",
        "wm3,ws3"
      ],
      "metadata": {
        "colab": {
          "base_uri": "https://localhost:8080/"
        },
        "id": "Re9CySt4WeWj",
        "outputId": "31537931-4b95-4bca-871c-15859848bfd8"
      },
      "execution_count": 75,
      "outputs": [
        {
          "output_type": "execute_result",
          "data": {
            "text/plain": [
              "(-1.0547118733938987e-15, 1.0)"
            ]
          },
          "metadata": {},
          "execution_count": 75
        }
      ]
    },
    {
      "cell_type": "code",
      "source": [
        "rescaled_train_xs = np.array([[heights3[i],w] for i,w in enumerate(weights3)])\n",
        "rescaled_train_xs\n",
        "#스케일의 단점 : 실질적인 데이터가 무엇인지 찾기 어렵다. "
      ],
      "metadata": {
        "colab": {
          "base_uri": "https://localhost:8080/"
        },
        "id": "kUdGYN76Xclw",
        "outputId": "8472f097-963e-40f3-a5d6-c89b4eec8f49"
      },
      "execution_count": 76,
      "outputs": [
        {
          "output_type": "execute_result",
          "data": {
            "text/plain": [
              "array([[ 0.80873608,  0.73901526],\n",
              "       [ 1.24986486,  1.05573609],\n",
              "       [-1.83803656,  1.05573609],\n",
              "       [-0.51465024, -1.47803052],\n",
              "       [-0.07352146, -0.90793304],\n",
              "       [ 0.36760731, -0.46452388]])"
            ]
          },
          "metadata": {},
          "execution_count": 76
        }
      ]
    },
    {
      "cell_type": "code",
      "source": [
        "h = 186\n",
        "w = 0.84\n",
        "w3 = (w-wm)/ws\n",
        "h3 = (h-hm)/hs\n",
        "h3,w3\n",
        "# 스케일을 조절한 값으로 거리 계산해야한다. "
      ],
      "metadata": {
        "colab": {
          "base_uri": "https://localhost:8080/"
        },
        "id": "2KadP4PCYMDJ",
        "outputId": "d33b0284-ed12-4fcc-9662-31cd4e92ba9f"
      },
      "execution_count": 77,
      "outputs": [
        {
          "output_type": "execute_result",
          "data": {
            "text/plain": [
              "(1.0734133482569597, 0.7390152621801355)"
            ]
          },
          "metadata": {},
          "execution_count": 77
        }
      ]
    },
    {
      "cell_type": "code",
      "source": [
        "print(find_k_nearest_neighbor(rescaled_train_xs,train_ys2,[h3,w3], k=1))"
      ],
      "metadata": {
        "colab": {
          "base_uri": "https://localhost:8080/"
        },
        "id": "7YF09vjFZDgw",
        "outputId": "78f53112-7bc6-4311-fdd6-cfe87f7679c5"
      },
      "execution_count": 78,
      "outputs": [
        {
          "output_type": "stream",
          "name": "stdout",
          "text": [
            "32.0\n"
          ]
        }
      ]
    },
    {
      "cell_type": "code",
      "source": [
        "plt.figure(figsize=(5,5))\n",
        "plt.plot(rescaled_train_xs[:,0],rescaled_train_xs[:,1],'ro',label='sample')\n",
        "plt.plot([h3], [w3], 'b^', label=\"test\")\n",
        "plt.legend()\n",
        "plt.xlim(-2,2)\n",
        "plt.ylim(-2,2)\n",
        "plt.show()"
      ],
      "metadata": {
        "colab": {
          "base_uri": "https://localhost:8080/",
          "height": 324
        },
        "id": "aj79r9zWZSpd",
        "outputId": "bab209c4-52e1-4cae-b921-d2b710e9240e"
      },
      "execution_count": 79,
      "outputs": [
        {
          "output_type": "display_data",
          "data": {
            "image/png": "[encoded data removed]",
            "text/plain": [
              "<Figure size 360x360 with 1 Axes>"
            ]
          },
          "metadata": {
            "needs_background": "light"
          }
        }
      ]
    },
    {
      "cell_type": "markdown",
      "source": [
        "선형 회귀 VS KNN 회귀\n",
        "\n",
        "회귀 모델 VS 분류 모델(KNN"
      ],
      "metadata": {
        "id": "v_bS48v3a01O"
      }
    }
  ]
}
