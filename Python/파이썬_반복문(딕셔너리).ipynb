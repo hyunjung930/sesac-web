{
  "nbformat": 4,
  "nbformat_minor": 0,
  "metadata": {
    "colab": {
      "name": "파이썬 - 반복문(딕셔너리).ipynb",
      "provenance": [],
      "authorship_tag": "ABX9TyOA3nD8mSPMhhXRQbXq+41R",
      "include_colab_link": true
    },
    "kernelspec": {
      "name": "python3",
      "display_name": "Python 3"
    },
    "language_info": {
      "name": "python"
    }
  },
  "cells": [
    {
      "cell_type": "markdown",
      "metadata": {
        "id": "view-in-github",
        "colab_type": "text"
      },
      "source": [
        "<a href=\"https://colab.research.google.com/github/hyunjung930/sesac-web/blob/main/%ED%8C%8C%EC%9D%B4%EC%8D%AC_%EB%B0%98%EB%B3%B5%EB%AC%B8(%EB%94%95%EC%85%94%EB%84%88%EB%A6%AC).ipynb\" target=\"_parent\"><img src=\"https://colab.research.google.com/assets/colab-badge.svg\" alt=\"Open In Colab\"/></a>"
      ]
    },
    {
      "cell_type": "markdown",
      "source": [
        "[]"
      ],
      "metadata": {
        "id": "l8ENxg9NCt2l"
      }
    },
    {
      "cell_type": "markdown",
      "source": [
        "# 딕셔너리\n",
        "\n",
        "키와 값을 쌍으로 갖는 요소를 보관하는 자료구조(컬렉션)"
      ],
      "metadata": {
        "id": "tn--JLYfCwK-"
      }
    },
    {
      "cell_type": "code",
      "source": [
        "member_states={\"홍길동\": 23,  # 키와 값 사이에 콜론으로 만든 것이 콜론이라고 한다.\n",
        "               \"강감찬\" : 17,\n",
        "               \"을지문덕\" : 87}\n",
        "print(member_states)"
      ],
      "metadata": {
        "colab": {
          "base_uri": "https://localhost:8080/"
        },
        "id": "VApy1hoRC150",
        "outputId": "3683dbaf-8f47-4339-9800-f282054b32c1"
      },
      "execution_count": null,
      "outputs": [
        {
          "output_type": "stream",
          "name": "stdout",
          "text": [
            "{'홍길동': 23, '강감찬': 17, '을지문덕': 87}\n"
          ]
        }
      ]
    },
    {
      "cell_type": "code",
      "source": [
        "print(member_states[\"홍길동\"])"
      ],
      "metadata": {
        "colab": {
          "base_uri": "https://localhost:8080/"
        },
        "id": "_c3SP9qVDPfu",
        "outputId": "ad5e9315-46ca-4267-c016-2964c7b06661"
      },
      "execution_count": null,
      "outputs": [
        {
          "output_type": "stream",
          "name": "stdout",
          "text": [
            "23\n"
          ]
        }
      ]
    },
    {
      "cell_type": "code",
      "source": [
        "subjects= (\"국어\", \"영어\", \"수학\")\n",
        "scores_dic = {}     # 같은 키의 값을 중복으로 못갖는다. \n",
        "for i in range(2):    # 중복 값이 없으면 딕셔너리 잘 쓸 수 있다.\n",
        "  name = input(f\"{i+1}번째 학생 이름: \")\n",
        "  scores=[]\n",
        "  for s in subjects:\n",
        "    score = int(input(f\"{s}:\"))\n",
        "    scores.append(score)\n",
        "  scores_dic[name] = scores   # 값 추가 or 변경 \n",
        "print(scores_dic)"
      ],
      "metadata": {
        "colab": {
          "base_uri": "https://localhost:8080/"
        },
        "id": "yKejuM2rDllp",
        "outputId": "b2fb2d63-df8c-4f8d-c009-dffefc58f58b"
      },
      "execution_count": null,
      "outputs": [
        {
          "output_type": "stream",
          "name": "stdout",
          "text": [
            "1번째 학생 이름: 독고현정\n",
            "국어:33\n",
            "영어:44\n",
            "수학:100\n",
            "2번째 학생 이름: 제갈현정\n",
            "국어:100\n",
            "영어:99\n",
            "수학:88\n",
            "{'독고현정': [33, 44, 100], '제갈현정': [100, 99, 88]}\n"
          ]
        }
      ]
    },
    {
      "cell_type": "code",
      "source": [
        "name = input(\"삭제할 학생: \")\n",
        "del scores_dic[name]\n",
        "print (scores_dic)"
      ],
      "metadata": {
        "colab": {
          "base_uri": "https://localhost:8080/"
        },
        "id": "EkJqA0VOFMat",
        "outputId": "ae41645d-32cb-40ef-a630-dfd5ca3dcc99"
      },
      "execution_count": null,
      "outputs": [
        {
          "output_type": "stream",
          "name": "stdout",
          "text": [
            "삭제할 학생: 독고현정\n",
            "{'제갈현정': [100, 99, 88]}\n"
          ]
        }
      ]
    },
    {
      "cell_type": "code",
      "source": [
        "eh_att_dic = {}\n",
        "eh_att_dic[\"title\"] = \"언제나 휴일\"\n",
        "eh_att_dic[\"url\"] = \"http://ehpub.co.kr\"\n",
        "eh_att_dic[\"desc\"] = \"어쩌구 저쩌구\"\n",
        "print(eh_att_dic)"
      ],
      "metadata": {
        "colab": {
          "base_uri": "https://localhost:8080/"
        },
        "id": "x46TbCnVFkLN",
        "outputId": "417c6852-b4c3-4431-c1b2-05cb438e4a79"
      },
      "execution_count": 7,
      "outputs": [
        {
          "output_type": "stream",
          "name": "stdout",
          "text": [
            "{'title': '언제나 휴일', 'url': 'http://ehpub.co.kr', 'desc': '어쩌구 저쩌구'}\n"
          ]
        }
      ]
    },
    {
      "cell_type": "code",
      "source": [
        "# print(eh_att_dic[\"score\"]) 존재하지 않는 키를 인덱스 연산으로 사용하면 KeyError 발생"
      ],
      "metadata": {
        "id": "CGpr3P7AGlZo"
      },
      "execution_count": null,
      "outputs": []
    },
    {
      "cell_type": "code",
      "source": [
        "if \"url\" in eh_att_dic:    # 실제 키가 있을 때 사용하세요,\n",
        "   print(f'존재합니다.{eh_att_dic[\"url\"]}')\n",
        "else:\n",
        "  print(f\"url 정보가 없습니다.\")"
      ],
      "metadata": {
        "colab": {
          "base_uri": "https://localhost:8080/"
        },
        "id": "sSImzs-MGKEB",
        "outputId": "c7b00c7c-cf34-478e-c9f5-dfa02ef34ff1"
      },
      "execution_count": 11,
      "outputs": [
        {
          "output_type": "stream",
          "name": "stdout",
          "text": [
            "존재합니다.http://ehpub.co.kr\n"
          ]
        }
      ]
    },
    {
      "cell_type": "code",
      "source": [
        "value = eh_att_dic.get(\"score\")\n",
        "if value == None:\n",
        "  print(\"score 정보가 없습니다.\")\n",
        "else:\n",
        "  print(f\"score:{value}\")"
      ],
      "metadata": {
        "colab": {
          "base_uri": "https://localhost:8080/"
        },
        "id": "9DJGNLZNG_71",
        "outputId": "779d0d3c-8eb9-478b-ac81-4e56c0ac0ddb"
      },
      "execution_count": 12,
      "outputs": [
        {
          "output_type": "stream",
          "name": "stdout",
          "text": [
            "score 정보가 없습니다.\n"
          ]
        }
      ]
    },
    {
      "cell_type": "code",
      "source": [
        "for attr in eh_att_dic:\n",
        "   print(f\"{attr}:{eh_att_dic[attr]}\")"
      ],
      "metadata": {
        "colab": {
          "base_uri": "https://localhost:8080/"
        },
        "id": "5cdK4ZdTH478",
        "outputId": "fbb68104-1403-400c-a9f3-4a468b12902a"
      },
      "execution_count": 13,
      "outputs": [
        {
          "output_type": "stream",
          "name": "stdout",
          "text": [
            "title:언제나 휴일\n",
            "url:http://ehpub.co.kr\n",
            "desc:어쩌구 저쩌구\n"
          ]
        }
      ]
    }
  ]
}
