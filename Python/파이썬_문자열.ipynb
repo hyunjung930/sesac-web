{
  "nbformat": 4,
  "nbformat_minor": 0,
  "metadata": {
    "colab": {
      "name": "파이썬- 문자열.ipynb",
      "provenance": [],
      "authorship_tag": "ABX9TyNesmVDezvKxffDZsBpXW1Y",
      "include_colab_link": true
    },
    "kernelspec": {
      "name": "python3",
      "display_name": "Python 3"
    },
    "language_info": {
      "name": "python"
    }
  },
  "cells": [
    {
      "cell_type": "markdown",
      "metadata": {
        "id": "view-in-github",
        "colab_type": "text"
      },
      "source": [
        "<a href=\"https://colab.research.google.com/github/hyunjung930/sesac-web/blob/main/%ED%8C%8C%EC%9D%B4%EC%8D%AC_%EB%AC%B8%EC%9E%90%EC%97%B4.ipynb\" target=\"_parent\"><img src=\"https://colab.research.google.com/assets/colab-badge.svg\" alt=\"Open In Colab\"/></a>"
      ]
    },
    {
      "cell_type": "code",
      "execution_count": 5,
      "metadata": {
        "id": "v6ppJyFT2yw5"
      },
      "outputs": [],
      "source": [
        "s1 =\"abcdefghijklmnopqrstuvwxyzABCDEFG\""
      ]
    },
    {
      "cell_type": "code",
      "source": [
        "len(s1) #길이"
      ],
      "metadata": {
        "colab": {
          "base_uri": "https://localhost:8080/"
        },
        "id": "yf7d8PH43FeY",
        "outputId": "6debfa51-837f-4eb4-d325-3bb608fe0c3f"
      },
      "execution_count": 6,
      "outputs": [
        {
          "output_type": "execute_result",
          "data": {
            "text/plain": [
              "33"
            ]
          },
          "metadata": {},
          "execution_count": 6
        }
      ]
    },
    {
      "cell_type": "code",
      "source": [
        "s1.upper()"
      ],
      "metadata": {
        "colab": {
          "base_uri": "https://localhost:8080/",
          "height": 35
        },
        "id": "nUkXdMgK3IVK",
        "outputId": "42494218-6503-49dc-c978-ba0350edb2ea"
      },
      "execution_count": 7,
      "outputs": [
        {
          "output_type": "execute_result",
          "data": {
            "application/vnd.google.colaboratory.intrinsic+json": {
              "type": "string"
            },
            "text/plain": [
              "'ABCDEFGHIJKLMNOPQRSTUVWXYZABCDEFG'"
            ]
          },
          "metadata": {},
          "execution_count": 7
        }
      ]
    },
    {
      "cell_type": "code",
      "source": [
        "s1"
      ],
      "metadata": {
        "colab": {
          "base_uri": "https://localhost:8080/",
          "height": 35
        },
        "id": "sZU4nFXY3hDc",
        "outputId": "857cb1ff-8002-4a5e-87c7-c58bc9580652"
      },
      "execution_count": 8,
      "outputs": [
        {
          "output_type": "execute_result",
          "data": {
            "application/vnd.google.colaboratory.intrinsic+json": {
              "type": "string"
            },
            "text/plain": [
              "'abcdefghijklmnopqrstuvwxyzABCDEFG'"
            ]
          },
          "metadata": {},
          "execution_count": 8
        }
      ]
    },
    {
      "cell_type": "code",
      "source": [
        "s1[16] # 16번째 글자 출력"
      ],
      "metadata": {
        "colab": {
          "base_uri": "https://localhost:8080/",
          "height": 35
        },
        "id": "8owXbnQT34KK",
        "outputId": "2f96a137-2735-4de6-9e0b-7728eabe746a"
      },
      "execution_count": 9,
      "outputs": [
        {
          "output_type": "execute_result",
          "data": {
            "application/vnd.google.colaboratory.intrinsic+json": {
              "type": "string"
            },
            "text/plain": [
              "'q'"
            ]
          },
          "metadata": {},
          "execution_count": 9
        }
      ]
    },
    {
      "cell_type": "code",
      "source": [
        "s1 = \"                abcde            \" # 공백 제거\n",
        "s1.strip()"
      ],
      "metadata": {
        "colab": {
          "base_uri": "https://localhost:8080/",
          "height": 35
        },
        "id": "b7eVLXxC4ni1",
        "outputId": "6de7a636-ab6d-4f65-b329-78ddf603ecb7"
      },
      "execution_count": 10,
      "outputs": [
        {
          "output_type": "execute_result",
          "data": {
            "application/vnd.google.colaboratory.intrinsic+json": {
              "type": "string"
            },
            "text/plain": [
              "'abcde'"
            ]
          },
          "metadata": {},
          "execution_count": 10
        }
      ]
    },
    {
      "cell_type": "code",
      "source": [
        "\"123  asd\".isalnum() ,\"12asdf3\".isalnum(),\"asdgf##123\".isalnum(),\"12asdas3ffff\".isalnum()\n",
        "#문자열이 알파벳 또는 숫자로만 구성되어 있는지 확인(T/F로 출력)\n"
      ],
      "metadata": {
        "colab": {
          "base_uri": "https://localhost:8080/"
        },
        "id": "IiyTrTyN49S_",
        "outputId": "6ef4bdb2-25c0-4af9-c0b1-1674ba64e3fa"
      },
      "execution_count": 17,
      "outputs": [
        {
          "output_type": "execute_result",
          "data": {
            "text/plain": [
              "(False, True, False, True)"
            ]
          },
          "metadata": {},
          "execution_count": 17
        }
      ]
    },
    {
      "cell_type": "code",
      "source": [
        "s1 =\"I am a boy. You are a girl. HolLobenus~\"\n",
        "s1.find(\"a \"),s1.rfind(\"a \") # find: a로 시작하는 단어 출력 rfind: a로 끝나는 단어 출력"
      ],
      "metadata": {
        "colab": {
          "base_uri": "https://localhost:8080/"
        },
        "id": "UPQVCuev6EL1",
        "outputId": "910839fa-8630-4863-8c91-bcfb51f18ad4"
      },
      "execution_count": 18,
      "outputs": [
        {
          "output_type": "execute_result",
          "data": {
            "text/plain": [
              "(5, 20)"
            ]
          },
          "metadata": {},
          "execution_count": 18
        }
      ]
    },
    {
      "cell_type": "code",
      "source": [
        "\"Hello\" in s1 # 부분 문자열이 있는지 찾아 출력"
      ],
      "metadata": {
        "colab": {
          "base_uri": "https://localhost:8080/"
        },
        "id": "V0IWXJNS6bHD",
        "outputId": "46fcc792-d3e2-440e-c89e-0c69db725478"
      },
      "execution_count": 19,
      "outputs": [
        {
          "output_type": "execute_result",
          "data": {
            "text/plain": [
              "False"
            ]
          },
          "metadata": {},
          "execution_count": 19
        }
      ]
    },
    {
      "cell_type": "code",
      "source": [
        "res = s1.split(' ') #문자열 자르기(List 형식으로 출력)\n",
        "res"
      ],
      "metadata": {
        "colab": {
          "base_uri": "https://localhost:8080/"
        },
        "id": "dLUEbRO866g2",
        "outputId": "1d0c738d-0ef4-42c4-cd54-8cfaa1aa3033"
      },
      "execution_count": 22,
      "outputs": [
        {
          "output_type": "execute_result",
          "data": {
            "text/plain": [
              "['I', 'am', 'a', 'boy.', 'You', 'are', 'a', 'girl.', 'HolLobenus~']"
            ]
          },
          "metadata": {},
          "execution_count": 22
        }
      ]
    }
  ]
}
