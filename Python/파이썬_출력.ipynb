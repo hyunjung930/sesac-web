{
  "nbformat": 4,
  "nbformat_minor": 0,
  "metadata": {
    "colab": {
      "name": "파이썬 - 출력.ipynb",
      "provenance": [],
      "authorship_tag": "ABX9TyPomLwkF3UPpCF83gZJ6OfM",
      "include_colab_link": true
    },
    "kernelspec": {
      "name": "python3",
      "display_name": "Python 3"
    },
    "language_info": {
      "name": "python"
    }
  },
  "cells": [
    {
      "cell_type": "markdown",
      "metadata": {
        "id": "view-in-github",
        "colab_type": "text"
      },
      "source": [
        "<a href=\"https://colab.research.google.com/github/hyunjung930/sesac-web/blob/main/%ED%8C%8C%EC%9D%B4%EC%8D%AC_%EC%B6%9C%EB%A0%A5.ipynb\" target=\"_parent\"><img src=\"https://colab.research.google.com/assets/colab-badge.svg\" alt=\"Open In Colab\"/></a>"
      ]
    },
    {
      "cell_type": "markdown",
      "source": [
        "# 출력기본"
      ],
      "metadata": {
        "id": "etGFwq_5yNZi"
      }
    },
    {
      "cell_type": "code",
      "source": [
        "print(12)\n",
        "print(12.3)\n",
        "print('hello')\n"
      ],
      "metadata": {
        "colab": {
          "base_uri": "https://localhost:8080/"
        },
        "id": "SMUVzq8RyQKf",
        "outputId": "22569164-fa18-4560-ba7c-a6cbd636c49f"
      },
      "execution_count": 1,
      "outputs": [
        {
          "output_type": "stream",
          "name": "stdout",
          "text": [
            "12\n",
            "12.3\n",
            "hello\n"
          ]
        }
      ]
    },
    {
      "cell_type": "code",
      "source": [
        "print(12,12.3,'hello')"
      ],
      "metadata": {
        "colab": {
          "base_uri": "https://localhost:8080/"
        },
        "id": "vEsHf7GvyYlJ",
        "outputId": "d90189a2-fe14-43e3-b7ff-609ac67faae5"
      },
      "execution_count": 2,
      "outputs": [
        {
          "output_type": "stream",
          "name": "stdout",
          "text": [
            "12 12.3 hello\n"
          ]
        }
      ]
    },
    {
      "cell_type": "markdown",
      "source": [
        "# format 사용"
      ],
      "metadata": {
        "id": "buWonU8-yf0q"
      }
    },
    {
      "cell_type": "code",
      "source": [
        "print(\"{0} abc {1} bbc {0} aaa {2} bbb {0}\".format('홍길동','강감찬','을지문덕'))"
      ],
      "metadata": {
        "colab": {
          "base_uri": "https://localhost:8080/"
        },
        "id": "NRmeKPi4yh5N",
        "outputId": "9b542a66-5afa-45cc-c548-18fc40612a58"
      },
      "execution_count": 4,
      "outputs": [
        {
          "output_type": "stream",
          "name": "stdout",
          "text": [
            "홍길동 abc 강감찬 bbc 홍길동 aaa 을지문덕 bbb 홍길동\n"
          ]
        }
      ]
    },
    {
      "cell_type": "code",
      "source": [
        "print(\"{0:3d}\".format(12)) #3d : 3칸 차지하여 10진수로 출력 \n",
        "print(\"{0:10d}\".format(12)) #10d: 10칸 차지하여 10진수로 출력"
      ],
      "metadata": {
        "colab": {
          "base_uri": "https://localhost:8080/"
        },
        "id": "k9p2BESQy72q",
        "outputId": "5b79f145-d5ca-49cf-dd89-2226ae9cbd35"
      },
      "execution_count": 6,
      "outputs": [
        {
          "output_type": "stream",
          "name": "stdout",
          "text": [
            " 12\n",
            "        12\n"
          ]
        }
      ]
    },
    {
      "cell_type": "code",
      "source": [
        "print(\"{0:010d}\".format(12))"
      ],
      "metadata": {
        "colab": {
          "base_uri": "https://localhost:8080/"
        },
        "id": "D0JcUOKjzvRU",
        "outputId": "49ecefa9-11d0-4454-ed01-115a1abf7d1a"
      },
      "execution_count": 7,
      "outputs": [
        {
          "output_type": "stream",
          "name": "stdout",
          "text": [
            "0000000012\n"
          ]
        }
      ]
    },
    {
      "cell_type": "code",
      "source": [
        "print(\"{0:+10d}\".format(-12)) #음수\n",
        "print(\"{0:+10d}\".format(12))  #양수"
      ],
      "metadata": {
        "colab": {
          "base_uri": "https://localhost:8080/"
        },
        "id": "TNJjJ7ouz7Vo",
        "outputId": "d4c9ba19-65e1-49fa-b6c2-71fd8e03ae7c"
      },
      "execution_count": 10,
      "outputs": [
        {
          "output_type": "stream",
          "name": "stdout",
          "text": [
            "       -12\n",
            "       +12\n"
          ]
        }
      ]
    },
    {
      "cell_type": "code",
      "source": [
        "print(\"{0:15.2f}\".format(3/2)) # 15는 폭 2f: 소수점 2자리까지 float타입으로 "
      ],
      "metadata": {
        "colab": {
          "base_uri": "https://localhost:8080/"
        },
        "id": "YnmK-QNb1fnY",
        "outputId": "7237c09f-f41b-472c-bd6b-b5c22068aef6"
      },
      "execution_count": 13,
      "outputs": [
        {
          "output_type": "stream",
          "name": "stdout",
          "text": [
            "           1.50\n"
          ]
        }
      ]
    },
    {
      "cell_type": "code",
      "source": [
        "print(\"{0:3o}{0:3d}{0:3x}\".format(12)) # 3o: 12라는 숫자를 8진수로 출력 3d:12라는 숫자를 10진수로 출력 3x: 12를 16진수"
      ],
      "metadata": {
        "colab": {
          "base_uri": "https://localhost:8080/"
        },
        "id": "Y2nSWcmj1uq0",
        "outputId": "b0a21fed-727d-48be-9fab-e39e06320361"
      },
      "execution_count": 14,
      "outputs": [
        {
          "output_type": "stream",
          "name": "stdout",
          "text": [
            " 14 12  c\n"
          ]
        }
      ]
    },
    {
      "cell_type": "markdown",
      "source": [
        "# f\"문자열\""
      ],
      "metadata": {
        "id": "FqIPZSnt0lBf"
      }
    },
    {
      "cell_type": "code",
      "source": [
        "num=23\n",
        "name=\"홍길동\"\n",
        "height = 15.3\n",
        "weight = 89\n",
        "print(f\"번호는 {num} 이름은{name} 키는 {height}  몸무게{weight}\")"
      ],
      "metadata": {
        "colab": {
          "base_uri": "https://localhost:8080/"
        },
        "id": "CXj9JMom0pe3",
        "outputId": "1fe0c6b4-cd89-455a-e8de-1f875ea856e2"
      },
      "execution_count": 12,
      "outputs": [
        {
          "output_type": "stream",
          "name": "stdout",
          "text": [
            "번호는 23 이름은홍길동 키는 15.3  몸무게89\n"
          ]
        }
      ]
    }
  ]
}
