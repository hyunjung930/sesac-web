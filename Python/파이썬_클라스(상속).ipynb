{
  "nbformat": 4,
  "nbformat_minor": 0,
  "metadata": {
    "colab": {
      "name": "파이썬 - 클라스(상속).ipynb",
      "provenance": [],
      "authorship_tag": "ABX9TyOwep749w9c0MvF7NT7jNs9",
      "include_colab_link": true
    },
    "kernelspec": {
      "name": "python3",
      "display_name": "Python 3"
    },
    "language_info": {
      "name": "python"
    }
  },
  "cells": [
    {
      "cell_type": "markdown",
      "metadata": {
        "id": "view-in-github",
        "colab_type": "text"
      },
      "source": [
        "<a href=\"https://colab.research.google.com/github/hyunjung930/sesac-web/blob/main/%ED%8C%8C%EC%9D%B4%EC%8D%AC_%ED%81%B4%EB%9D%BC%EC%8A%A4(%EC%83%81%EC%86%8D).ipynb\" target=\"_parent\"><img src=\"https://colab.research.google.com/assets/colab-badge.svg\" alt=\"Open In Colab\"/></a>"
      ]
    },
    {
      "cell_type": "markdown",
      "source": [
        "#상속(Ingeritance)\n",
        "\n",
        "기반 형식에 정의한 멤버는 파생 형식에 상속한다.\n",
        "\n",
        "예) 음악사 형식에 이름, 연주하다를 캡슐화하면\n",
        "    음악가에서 파생한 형식인 피아니스트는 자동으로 이름, 연주하다 멤버를 갖게 된다,.\n",
        "\n",
        "설계시 프로그램에 사용할 인스턴스들 중에 공통점을 찾아 여러 형식의 공통점을 기반 형식으로 정의하는 작업을 진행한다. 이를 일반화(Generalization)라 부른다."
      ],
      "metadata": {
        "id": "sPg1Dwg4iQ25"
      }
    },
    {
      "cell_type": "code",
      "source": [
        "class Man:\n",
        "  def __init__(self, name):\n",
        "    self.__name = name\n",
        "  def introduce(self):\n",
        "    print(\"my name is \", self.__name)"
      ],
      "metadata": {
        "id": "5g-0DFymizOs"
      },
      "execution_count": 8,
      "outputs": []
    },
    {
      "cell_type": "code",
      "source": [
        "m1 = Man(\"홍길동\")\n",
        "m1.introduce()"
      ],
      "metadata": {
        "colab": {
          "base_uri": "https://localhost:8080/"
        },
        "id": "518nxPh4jxe2",
        "outputId": "b550c927-7d96-48a4-e658-50c0bff4aba1"
      },
      "execution_count": 9,
      "outputs": [
        {
          "output_type": "stream",
          "name": "stdout",
          "text": [
            "my name is  홍길동\n"
          ]
        }
      ]
    },
    {
      "cell_type": "code",
      "source": [
        "class Student(Man):\n",
        "  def __init__(self, name, num):\n",
        "    super().__init__(name)\n",
        "    self.__num = num\n",
        "  def view(self):\n",
        "    self.introduce()\n",
        "    print(\"my number is \", self.__num)"
      ],
      "metadata": {
        "id": "qLNE9OByjxzo"
      },
      "execution_count": 12,
      "outputs": []
    },
    {
      "cell_type": "code",
      "source": [
        "s1=Student(\"좌길동\", 2)\n",
        "s1.view()\n",
        "s1.introduce()"
      ],
      "metadata": {
        "colab": {
          "base_uri": "https://localhost:8080/"
        },
        "id": "8EXk5NsZkogE",
        "outputId": "012d976e-6a3e-4ac0-dd61-c5af98848d24"
      },
      "execution_count": 13,
      "outputs": [
        {
          "output_type": "stream",
          "name": "stdout",
          "text": [
            "my name is  좌길동\n",
            "my number is  2\n",
            "my name is  좌길동\n"
          ]
        }
      ]
    },
    {
      "cell_type": "code",
      "source": [
        "if isinstance(s1,Man):\n",
        "  print(\"사람입니다\")\n",
        "else:\n",
        "  print(\"사람이 아닙니다.\")"
      ],
      "metadata": {
        "colab": {
          "base_uri": "https://localhost:8080/"
        },
        "id": "kmN8nkaolq0K",
        "outputId": "68b6dee6-8d39-4728-a75c-4fbad8afa162"
      },
      "execution_count": 15,
      "outputs": [
        {
          "output_type": "stream",
          "name": "stdout",
          "text": [
            "사람입니다\n"
          ]
        }
      ]
    }
  ]
}
