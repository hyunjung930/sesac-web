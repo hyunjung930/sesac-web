{
  "nbformat": 4,
  "nbformat_minor": 0,
  "metadata": {
    "colab": {
      "name": "파이썬- 시작하기",
      "provenance": [],
      "authorship_tag": "ABX9TyP/G5hZP7NT+8kNp+ah0He1",
      "include_colab_link": true
    },
    "kernelspec": {
      "name": "python3",
      "display_name": "Python 3"
    },
    "language_info": {
      "name": "python"
    }
  },
  "cells": [
    {
      "cell_type": "markdown",
      "metadata": {
        "id": "view-in-github",
        "colab_type": "text"
      },
      "source": [
        "<a href=\"https://colab.research.google.com/github/hyunjung930/sesac-web/blob/main/%ED%8C%8C%EC%9D%B4%EC%8D%AC_%EC%8B%9C%EC%9E%91%ED%95%98%EA%B8%B0.ipynb\" target=\"_parent\"><img src=\"https://colab.research.google.com/assets/colab-badge.svg\" alt=\"Open In Colab\"/></a>"
      ]
    },
    {
      "cell_type": "markdown",
      "source": [
        "계산기:)"
      ],
      "metadata": {
        "id": "B6GIjL2CP2ES"
      }
    },
    {
      "cell_type": "code",
      "execution_count": 1,
      "metadata": {
        "colab": {
          "base_uri": "https://localhost:8080/"
        },
        "id": "UgFRb6uFMDrJ",
        "outputId": "abdce523-38df-4afb-e5f8-ca1eab22b3dc"
      },
      "outputs": [
        {
          "output_type": "execute_result",
          "data": {
            "text/plain": [
              "13"
            ]
          },
          "metadata": {},
          "execution_count": 1
        }
      ],
      "source": [
        "11+2"
      ]
    },
    {
      "cell_type": "markdown",
      "source": [
        "이름"
      ],
      "metadata": {
        "id": "91opIX8nQkAx"
      }
    },
    {
      "cell_type": "code",
      "source": [
        "korea =90\n",
        "math = 80\n",
        "sum = korea + math\n",
        "sum"
      ],
      "metadata": {
        "colab": {
          "base_uri": "https://localhost:8080/"
        },
        "id": "P7Z2Ga1KQowT",
        "outputId": "448d852d-b7a2-404e-e4b9-b38e5efa3726"
      },
      "execution_count": 3,
      "outputs": [
        {
          "output_type": "execute_result",
          "data": {
            "text/plain": [
              "170"
            ]
          },
          "metadata": {},
          "execution_count": 3
        }
      ]
    },
    {
      "cell_type": "markdown",
      "source": [
        "#주석"
      ],
      "metadata": {
        "id": "Gx9rhnvdTFK5"
      }
    },
    {
      "cell_type": "code",
      "source": [
        "#주석\n",
        "a = 3 # 변수 a에 3 대입"
      ],
      "metadata": {
        "id": "APSS5m7YTJd3"
      },
      "execution_count": 4,
      "outputs": []
    },
    {
      "cell_type": "markdown",
      "source": [
        "출력문"
      ],
      "metadata": {
        "id": "nqFYXOEIXFWj"
      }
    },
    {
      "cell_type": "code",
      "source": [
        "print(12)\n",
        "print(\"흠냐뤼\")\n",
        "print(12,3,\"야호\")\n"
      ],
      "metadata": {
        "colab": {
          "base_uri": "https://localhost:8080/"
        },
        "id": "_Sc1dOgTXJmZ",
        "outputId": "62873566-ce41-44be-b4fe-74792208382a"
      },
      "execution_count": 6,
      "outputs": [
        {
          "output_type": "stream",
          "name": "stdout",
          "text": [
            "12\n",
            "흠냐뤼\n",
            "12 3 야호\n"
          ]
        }
      ]
    },
    {
      "cell_type": "code",
      "source": [
        "print(\"진달래꽃\")\n",
        "print(\"나 보기가 역거워\")"
      ],
      "metadata": {
        "id": "DnUJlW-5XfC7"
      },
      "execution_count": null,
      "outputs": []
    }
  ]
}
