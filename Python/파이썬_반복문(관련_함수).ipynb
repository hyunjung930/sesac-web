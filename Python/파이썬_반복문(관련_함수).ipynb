{
  "nbformat": 4,
  "nbformat_minor": 0,
  "metadata": {
    "colab": {
      "name": "파이썬 - 반복문(관련 함수).ipynb",
      "provenance": [],
      "authorship_tag": "ABX9TyOALRprEcbZ/3tcbl+uEZC/",
      "include_colab_link": true
    },
    "kernelspec": {
      "name": "python3",
      "display_name": "Python 3"
    },
    "language_info": {
      "name": "python"
    }
  },
  "cells": [
    {
      "cell_type": "markdown",
      "metadata": {
        "id": "view-in-github",
        "colab_type": "text"
      },
      "source": [
        "<a href=\"https://colab.research.google.com/github/hyunjung930/sesac-web/blob/main/%ED%8C%8C%EC%9D%B4%EC%8D%AC_%EB%B0%98%EB%B3%B5%EB%AC%B8(%EA%B4%80%EB%A0%A8_%ED%95%A8%EC%88%98).ipynb\" target=\"_parent\"><img src=\"https://colab.research.google.com/assets/colab-badge.svg\" alt=\"Open In Colab\"/></a>"
      ]
    },
    {
      "cell_type": "markdown",
      "source": [
        "# 리스트 관련 함수\n"
      ],
      "metadata": {
        "id": "rlkurBbxd47J"
      }
    },
    {
      "cell_type": "code",
      "source": [
        "ls =[10,98,11,23,45,77,6]\n",
        "print(\"최솟값:\",min(ls))\n",
        "print(\"최댓값:\",max(ls))\n",
        "print(\"합계:\",sum(ls))"
      ],
      "metadata": {
        "colab": {
          "base_uri": "https://localhost:8080/"
        },
        "id": "2gDdGmpFd8PA",
        "outputId": "4cc4c9b3-f843-45dc-ea65-0fb8f92a1cdc"
      },
      "execution_count": 1,
      "outputs": [
        {
          "output_type": "stream",
          "name": "stdout",
          "text": [
            "최솟값: 6\n",
            "최댓값: 98\n",
            "합계: 270\n"
          ]
        }
      ]
    },
    {
      "cell_type": "code",
      "source": [
        "ls.sort()\n",
        "print(ls)\n",
        "ls.reverse()\n",
        "print(ls)"
      ],
      "metadata": {
        "id": "KjRS0da7eBXz"
      },
      "execution_count": null,
      "outputs": []
    },
    {
      "cell_type": "code",
      "source": [
        "rls = reversed(ls)\n",
        "for elem in rls:\n",
        "  print(elem, end=' ')\n",
        "print()\n",
        "print(ls)"
      ],
      "metadata": {
        "id": "iF-MYc2YeCoj"
      },
      "execution_count": null,
      "outputs": []
    },
    {
      "cell_type": "code",
      "source": [
        "ls = [3,4,5,10,23,45,9]\n",
        "els = enumerate(ls)\n",
        "print(els)"
      ],
      "metadata": {
        "id": "Zz5S-TfweDlu"
      },
      "execution_count": null,
      "outputs": []
    },
    {
      "cell_type": "code",
      "source": [
        "print(list(els))"
      ],
      "metadata": {
        "id": "1aNAb0KmeFV3"
      },
      "execution_count": null,
      "outputs": []
    },
    {
      "cell_type": "code",
      "source": [
        "ls = [3,4,5,10,23,45,9]\n",
        "for index, elem in enumerate(ls):\n",
        "  print(f\"{index}:{elem}\")"
      ],
      "metadata": {
        "id": "1_qooX8VeF-X"
      },
      "execution_count": null,
      "outputs": []
    },
    {
      "cell_type": "markdown",
      "source": [
        "# 딕셔너리"
      ],
      "metadata": {
        "id": "Z-k_70HCeHx9"
      }
    },
    {
      "cell_type": "code",
      "source": [
        "ex_dict = {}\n",
        "ex_dict[\"홍길동\"]=78\n",
        "ex_dict[\"고길동\"]=88\n",
        "ex_dict[\"김길동\"]=76\n",
        "ex_dict[\"강길동\"]=79\n",
        "print(ex_dict)"
      ],
      "metadata": {
        "id": "ZcWxCE7peJRi"
      },
      "execution_count": null,
      "outputs": []
    },
    {
      "cell_type": "code",
      "source": [
        "print(ex_dict.items())"
      ],
      "metadata": {
        "id": "lotZgeT7eQFE"
      },
      "execution_count": null,
      "outputs": []
    },
    {
      "cell_type": "code",
      "source": [
        "for key, value in ex_dict.items():\n",
        "  print(f\"key:{key} value:{value}\")\n",
        "\n",
        "sdict = sorted(ex_dict)\n",
        "print(sdict)"
      ],
      "metadata": {
        "id": "2hPoXJRweRJy"
      },
      "execution_count": null,
      "outputs": []
    },
    {
      "cell_type": "markdown",
      "source": [
        "# 고급진 리스트 컴프리핸션\n",
        "\n",
        "1~100까지 정수로 구성한 리스트 만들기"
      ],
      "metadata": {
        "id": "YdEi0fMceTTQ"
      }
    },
    {
      "cell_type": "code",
      "source": [
        "ls=[]\n",
        "for i in range(1,100):\n",
        "  ls.append(i)\n",
        "print(ls)\n",
        "\n",
        "ls = [i for i in range(1,100)]\n",
        "print(ls)\n"
      ],
      "metadata": {
        "id": "OetHTWq-eUPa"
      },
      "execution_count": null,
      "outputs": []
    },
    {
      "cell_type": "markdown",
      "source": [
        "1에서 100사이의 3의 배수로 구성한 리스트 만들기"
      ],
      "metadata": {
        "id": "j0sW-lhpeZo4"
      }
    },
    {
      "cell_type": "code",
      "source": [
        "ls = []\n",
        "for i in range(1,100):\n",
        "  if i % 3 == 0:\n",
        "    ls.append(i)\n",
        "print(ls)\n",
        "\n",
        "ls = [i for i in range(1,100) if i%3==0]\n",
        "print(ls)"
      ],
      "metadata": {
        "id": "U_j-QftOeXxo"
      },
      "execution_count": null,
      "outputs": []
    }
  ]
}
