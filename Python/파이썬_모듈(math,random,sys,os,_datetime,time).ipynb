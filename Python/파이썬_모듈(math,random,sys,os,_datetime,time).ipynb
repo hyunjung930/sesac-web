{
  "nbformat": 4,
  "nbformat_minor": 0,
  "metadata": {
    "colab": {
      "name": "파이썬- 모듈(math,random,sys,os, datetime,time).ipynb",
      "provenance": [],
      "authorship_tag": "ABX9TyNz/Y3USbnODT+By3/ExnxS",
      "include_colab_link": true
    },
    "kernelspec": {
      "name": "python3",
      "display_name": "Python 3"
    },
    "language_info": {
      "name": "python"
    }
  },
  "cells": [
    {
      "cell_type": "markdown",
      "metadata": {
        "id": "view-in-github",
        "colab_type": "text"
      },
      "source": [
        "<a href=\"https://colab.research.google.com/github/hyunjung930/sesac-web/blob/main/%ED%8C%8C%EC%9D%B4%EC%8D%AC_%EB%AA%A8%EB%93%88(math%2Crandom%2Csys%2Cos%2C_datetime%2Ctime).ipynb\" target=\"_parent\"><img src=\"https://colab.research.google.com/assets/colab-badge.svg\" alt=\"Open In Colab\"/></a>"
      ]
    },
    {
      "cell_type": "markdown",
      "source": [
        "#math"
      ],
      "metadata": {
        "id": "T-DSn_EEL8Ck"
      }
    },
    {
      "cell_type": "code",
      "execution_count": 1,
      "metadata": {
        "id": "FPo-PssvJACx"
      },
      "outputs": [],
      "source": [
        "import math"
      ]
    },
    {
      "cell_type": "code",
      "source": [
        "print(f\"{math.sin(math.pi):.5f}\")\n",
        "print(f\"{math.cos(math.pi):.5f}\")\n",
        "print(f\"{math.tan(math.pi):.5f}\")\n",
        "print(f\"{math.ceil(math.pi):.5f}\") # 올림\n",
        "print(f\"{math.floor(math.pi):.5f}\") # 내림\n",
        "print(f\"{round(math.pi):.5f}\") # 반올림(함수로 있음)"
      ],
      "metadata": {
        "colab": {
          "base_uri": "https://localhost:8080/"
        },
        "id": "abW3jcWyJfIH",
        "outputId": "0f7450fb-8caf-406f-fde3-68ced8c2ac0f"
      },
      "execution_count": 6,
      "outputs": [
        {
          "output_type": "stream",
          "name": "stdout",
          "text": [
            "0.00000\n",
            "-1.00000\n",
            "-0.00000\n",
            "4.00000\n",
            "3.00000\n",
            "3.00000\n"
          ]
        }
      ]
    },
    {
      "cell_type": "code",
      "source": [
        "from math import sin,cos,tan # from 구문으로 "
      ],
      "metadata": {
        "id": "mI5UNXjvK8ty"
      },
      "execution_count": 7,
      "outputs": []
    },
    {
      "cell_type": "code",
      "source": [
        "print(f\"{sin(math.pi):.5f}\")\n",
        "print(f\"{cos(math.pi):.5f}\")\n",
        "print(f\"{tan(math.pi):.5f}\")\n",
        "print(f\"{math.ceil(math.pi):.5f}\") # 올림\n",
        "print(f\"{math.floor(math.pi):.5f}\") # 내림\n",
        "print(f\"{round(math.pi):.5f}\") # 반올림(함수로 있음)"
      ],
      "metadata": {
        "colab": {
          "base_uri": "https://localhost:8080/"
        },
        "id": "ysLYAC7ILA2j",
        "outputId": "5609de03-0511-496f-d3fd-65a7b9a89ee6"
      },
      "execution_count": 8,
      "outputs": [
        {
          "output_type": "stream",
          "name": "stdout",
          "text": [
            "0.00000\n",
            "-1.00000\n",
            "-0.00000\n",
            "4.00000\n",
            "3.00000\n",
            "3.00000\n"
          ]
        }
      ]
    },
    {
      "cell_type": "code",
      "source": [
        "import math as m # 축약"
      ],
      "metadata": {
        "id": "HqZfqvhsLWgJ"
      },
      "execution_count": 9,
      "outputs": []
    },
    {
      "cell_type": "code",
      "source": [
        "print(f\"{sin(m.pi):.5f}\")\n",
        "print(f\"{cos(m.pi):.5f}\")\n",
        "print(f\"{tan(m.pi):.5f}\")\n",
        "print(f\"{m.ceil(m.pi):.5f}\") # 올림\n",
        "print(f\"{m.floor(m.pi):.5f}\") # 내림\n",
        "print(f\"{round(m.pi):.5f}\") # 반올림(함수로 있음)"
      ],
      "metadata": {
        "colab": {
          "base_uri": "https://localhost:8080/"
        },
        "id": "FuoCiWLcLZPF",
        "outputId": "7610d71f-2e21-483f-acb6-d74579c26101"
      },
      "execution_count": 10,
      "outputs": [
        {
          "output_type": "stream",
          "name": "stdout",
          "text": [
            "0.00000\n",
            "-1.00000\n",
            "-0.00000\n",
            "4.00000\n",
            "3.00000\n",
            "3.00000\n"
          ]
        }
      ]
    },
    {
      "cell_type": "markdown",
      "source": [
        "#random"
      ],
      "metadata": {
        "id": "4XN35b1pL97j"
      }
    },
    {
      "cell_type": "code",
      "source": [
        "import random"
      ],
      "metadata": {
        "id": "OU6cpWCvMAsh"
      },
      "execution_count": 1,
      "outputs": []
    },
    {
      "cell_type": "markdown",
      "source": [
        "random.random() : 0~1사이의 랜덤한 값을 반환"
      ],
      "metadata": {
        "id": "8DBVm4qINXaO"
      }
    },
    {
      "cell_type": "code",
      "source": [
        "# 0~1까지의 수\n",
        "for i in range(100):\n",
        "  print(f\"{random.random():8.5f}\",end=' ')\n",
        "  if i%10 == 9:\n",
        "    print()"
      ],
      "metadata": {
        "colab": {
          "base_uri": "https://localhost:8080/"
        },
        "id": "nAPCWYc5MI2a",
        "outputId": "40854c12-ff06-428a-bc2b-476fa52a6161"
      },
      "execution_count": 2,
      "outputs": [
        {
          "output_type": "stream",
          "name": "stdout",
          "text": [
            " 0.37027  0.46876  0.77043  0.68428  0.91120  0.56104  0.57713  0.50482  0.85779  0.36379 \n",
            " 0.34308  0.09976  0.72517  0.06059  0.44710  0.47007  0.78124  0.31157  0.65050  0.20665 \n",
            " 0.25057  0.66701  0.84977  0.24935  0.38330  0.81255  0.44716  0.26113  0.20951  0.23131 \n",
            " 0.72925  0.72387  0.05850  0.42784  0.70030  0.58535  0.53876  0.23219  0.11741  0.01661 \n",
            " 0.71083  0.10896  0.72308  0.98963  0.90332  0.42298  0.16620  0.05883  0.05333  0.85724 \n",
            " 0.33751  0.78903  0.66475  0.59269  0.56385  0.67824  0.54515  0.06374  0.74930  0.76857 \n",
            " 0.27980  0.61740  0.42575  0.21734  0.08552  0.40310  0.60040  0.21423  0.86825  0.40732 \n",
            " 0.08848  0.26284  0.53667  0.84706  0.62660  0.27855  0.10461  0.95128  0.86075  0.70744 \n",
            " 0.39122  0.09117  0.29089  0.84803  0.08082  0.55603  0.49109  0.51779  0.67168  0.04478 \n",
            " 0.44334  0.30726  0.02324  0.92540  0.77370  0.51200  0.71023  0.30383  0.65648  0.84888 \n"
          ]
        }
      ]
    },
    {
      "cell_type": "markdown",
      "source": [
        "random.randrange(e: 정수): 0 ~ e-1사이의 정수 중에 랜덤한 값을 반환\n",
        "\n",
        "random.randrange(s: 정수, e: 정수): s ~ e-1사이의 정수 중에 랜덤한 값을 반환"
      ],
      "metadata": {
        "id": "r-kxKZ7mOGhK"
      }
    },
    {
      "cell_type": "code",
      "source": [
        "# 0~99사이의 수\n",
        "for i in range(100):\n",
        "  print(f\"{random.randrange(100):8.5f}\",end=' ') #8.5f는 8칸(공백포함)자리수\n",
        "  if i%10 == 9:\n",
        "    print()\n",
        "\n",
        "print(\"==========================================================================================\")\n",
        "for i in range(100):\n",
        "  print(f\"{random.randrange(10,20):8.5f}\",end=' ') #8.5f는 8칸(공백포함)자리수\n",
        "  if i%10 == 9:\n",
        "    print()"
      ],
      "metadata": {
        "colab": {
          "base_uri": "https://localhost:8080/"
        },
        "id": "l01HpsVjUpWL",
        "outputId": "7a68c15b-251f-4a6a-985f-f0731c824537"
      },
      "execution_count": 9,
      "outputs": [
        {
          "output_type": "stream",
          "name": "stdout",
          "text": [
            "64.00000 10.00000 72.00000 12.00000 25.00000 20.00000 84.00000 17.00000  6.00000 73.00000 \n",
            " 5.00000  4.00000 29.00000 70.00000 42.00000 49.00000  6.00000 57.00000 33.00000 73.00000 \n",
            "20.00000 99.00000 20.00000  8.00000 47.00000 94.00000 31.00000 37.00000 29.00000 42.00000 \n",
            "56.00000 19.00000  0.00000 84.00000 19.00000 80.00000  0.00000 31.00000 18.00000 69.00000 \n",
            "11.00000 38.00000  3.00000  1.00000  4.00000 79.00000 59.00000 63.00000 73.00000 71.00000 \n",
            " 1.00000 23.00000 51.00000 49.00000 57.00000 19.00000 94.00000 11.00000 74.00000  9.00000 \n",
            "64.00000 26.00000 92.00000 81.00000 19.00000 96.00000 61.00000 84.00000 76.00000 70.00000 \n",
            "55.00000 14.00000 24.00000 21.00000  6.00000  8.00000 70.00000 66.00000 75.00000 26.00000 \n",
            "53.00000 96.00000 17.00000 38.00000 29.00000 75.00000 77.00000 55.00000 13.00000 30.00000 \n",
            "91.00000 17.00000 88.00000  8.00000 63.00000  1.00000  9.00000  4.00000  4.00000 68.00000 \n",
            "==========================================================================================\n",
            "17.00000 11.00000 12.00000 19.00000 16.00000 18.00000 18.00000 12.00000 12.00000 14.00000 \n",
            "16.00000 12.00000 14.00000 15.00000 13.00000 19.00000 12.00000 12.00000 11.00000 16.00000 \n",
            "11.00000 17.00000 19.00000 16.00000 14.00000 16.00000 16.00000 12.00000 12.00000 14.00000 \n",
            "19.00000 19.00000 12.00000 18.00000 12.00000 10.00000 16.00000 16.00000 18.00000 19.00000 \n",
            "17.00000 14.00000 13.00000 10.00000 11.00000 15.00000 14.00000 18.00000 13.00000 17.00000 \n",
            "12.00000 14.00000 18.00000 11.00000 12.00000 14.00000 17.00000 12.00000 12.00000 18.00000 \n",
            "18.00000 10.00000 16.00000 14.00000 11.00000 18.00000 17.00000 15.00000 19.00000 10.00000 \n",
            "18.00000 18.00000 14.00000 11.00000 15.00000 10.00000 16.00000 13.00000 12.00000 19.00000 \n",
            "17.00000 16.00000 19.00000 10.00000 19.00000 10.00000 18.00000 12.00000 19.00000 19.00000 \n",
            "15.00000 13.00000 17.00000 13.00000 19.00000 10.00000 10.00000 11.00000 18.00000 18.00000 \n"
          ]
        }
      ]
    },
    {
      "cell_type": "markdown",
      "source": [
        "random.uniform(s,e): s-e 사이의 랜덥한 실수를 반환"
      ],
      "metadata": {
        "id": "UhqAeJIoUcO5"
      }
    },
    {
      "cell_type": "code",
      "source": [
        "for i in range(100):\n",
        "  print(f\"{random.uniform(10,20):8.5f}\",end=' ') #8.5f는 8칸(공백포함)자리수\n",
        "  if i%10 == 9:\n",
        "    print()\n"
      ],
      "metadata": {
        "colab": {
          "base_uri": "https://localhost:8080/"
        },
        "id": "qExcKICkNc4j",
        "outputId": "10fe204e-cb6a-4fe6-a0f5-80a4957ab54b"
      },
      "execution_count": 7,
      "outputs": [
        {
          "output_type": "stream",
          "name": "stdout",
          "text": [
            "76.00000  2.00000 88.00000 36.00000 47.00000 91.00000 73.00000 84.00000 16.00000 39.00000 \n",
            "58.00000 92.00000 55.00000 93.00000 80.00000 29.00000 26.00000  4.00000 88.00000 23.00000 \n",
            "38.00000  1.00000 12.00000 13.00000 75.00000  9.00000 71.00000 20.00000 38.00000 60.00000 \n",
            " 8.00000  2.00000  5.00000 32.00000  2.00000 38.00000 48.00000 73.00000 15.00000 75.00000 \n",
            "90.00000 18.00000 14.00000 99.00000 67.00000 65.00000 68.00000 72.00000 24.00000 91.00000 \n",
            "20.00000 94.00000 13.00000 41.00000 59.00000 26.00000 82.00000 47.00000 77.00000 12.00000 \n",
            "21.00000 70.00000 85.00000 47.00000  1.00000 77.00000 96.00000  4.00000  5.00000 23.00000 \n",
            "96.00000 47.00000 92.00000 82.00000 57.00000 15.00000  8.00000 29.00000 54.00000 94.00000 \n",
            "58.00000 62.00000 73.00000 39.00000 24.00000 42.00000 35.00000 38.00000 68.00000 21.00000 \n",
            " 5.00000 71.00000 67.00000 37.00000 95.00000 47.00000 57.00000  7.00000 80.00000 82.00000 \n",
            "==========================================================================================\n",
            "19.00000 15.00000 18.00000 10.00000 10.00000 11.00000 15.00000 13.00000 13.00000 15.00000 \n",
            "12.00000 15.00000 19.00000 11.00000 14.00000 15.00000 11.00000 16.00000 11.00000 13.00000 \n",
            "19.00000 10.00000 12.00000 10.00000 18.00000 17.00000 17.00000 17.00000 16.00000 12.00000 \n",
            "13.00000 17.00000 12.00000 12.00000 10.00000 12.00000 11.00000 17.00000 11.00000 12.00000 \n",
            "18.00000 17.00000 12.00000 15.00000 17.00000 13.00000 11.00000 15.00000 11.00000 16.00000 \n",
            "14.00000 16.00000 13.00000 19.00000 11.00000 18.00000 17.00000 12.00000 14.00000 11.00000 \n",
            "19.00000 16.00000 10.00000 10.00000 17.00000 13.00000 15.00000 16.00000 10.00000 12.00000 \n",
            "13.00000 13.00000 16.00000 18.00000 17.00000 10.00000 11.00000 15.00000 10.00000 16.00000 \n",
            "18.00000 18.00000 15.00000 11.00000 13.00000 17.00000 13.00000 15.00000 11.00000 11.00000 \n",
            "11.00000 16.00000 10.00000 13.00000 13.00000 17.00000 16.00000 17.00000 14.00000 13.00000 \n"
          ]
        }
      ]
    },
    {
      "cell_type": "markdown",
      "source": [
        "rando.shuffle(목록)-목록의 요소를 랜덤하게 섞어줍니다."
      ],
      "metadata": {
        "id": "Dd8l2LjEUNKH"
      }
    },
    {
      "cell_type": "code",
      "source": [
        "ls = [1,2,3,4,5,6,7,8,9]\n",
        "random.shuffle(ls)\n",
        "ls"
      ],
      "metadata": {
        "colab": {
          "base_uri": "https://localhost:8080/"
        },
        "id": "-KOnvRqfQOnI",
        "outputId": "fc2d7b9b-14d0-420f-db8a-2c5bac3ec389"
      },
      "execution_count": 8,
      "outputs": [
        {
          "output_type": "execute_result",
          "data": {
            "text/plain": [
              "[1, 9, 2, 7, 8, 4, 6, 5, 3]"
            ]
          },
          "metadata": {},
          "execution_count": 8
        }
      ]
    },
    {
      "cell_type": "markdown",
      "source": [
        "random.choice(목록) : 목록 요소 중에 랜덤하게 선택한다."
      ],
      "metadata": {
        "id": "19KY_5mjViD5"
      }
    },
    {
      "cell_type": "code",
      "source": [
        "for i in range(100):\n",
        "  print(f\"{random.choice(ls):8d}\",end =' ')\n",
        "  if i % 10 ==9:\n",
        "    print()"
      ],
      "metadata": {
        "colab": {
          "base_uri": "https://localhost:8080/"
        },
        "id": "9vv-P4e4UvYK",
        "outputId": "83839c5f-d5d3-466a-aaf3-02ce68b7b7e4"
      },
      "execution_count": 10,
      "outputs": [
        {
          "output_type": "stream",
          "name": "stdout",
          "text": [
            "       2        2        4        7        7        5        3        4        6        5 \n",
            "       4        7        2        9        8        9        9        5        6        4 \n",
            "       1        2        2        6        3        6        8        4        9        7 \n",
            "       4        7        3        5        1        3        1        7        6        2 \n",
            "       7        6        5        4        5        7        4        6        8        7 \n",
            "       7        7        1        3        3        6        1        9        6        6 \n",
            "       6        8        6        6        7        8        9        4        3        4 \n",
            "       7        1        7        3        8        2        9        1        1        2 \n",
            "       7        1        9        4        3        1        7        5        7        8 \n",
            "       8        1        6        8        9        2        2        9        7        4 \n"
          ]
        }
      ]
    },
    {
      "cell_type": "markdown",
      "source": [
        "random.sample(목록, k=개수): 목록 요소 중에 랜덤하게 k개를 선택한다.(샘플링)"
      ],
      "metadata": {
        "id": "vs3Zb0eoVsC5"
      }
    },
    {
      "cell_type": "code",
      "source": [
        "#  1~45까지의 숫자 중 6가지 숫자 출력\n",
        "ls = list(range(1,46)) \n",
        "print(ls)\n",
        "random.sample(ls, k = 6)"
      ],
      "metadata": {
        "colab": {
          "base_uri": "https://localhost:8080/"
        },
        "id": "mKheYnH2VD36",
        "outputId": "02e05936-c165-48ee-b65c-6a4edfd2d1cb"
      },
      "execution_count": 12,
      "outputs": [
        {
          "output_type": "stream",
          "name": "stdout",
          "text": [
            "[1, 2, 3, 4, 5, 6, 7, 8, 9, 10, 11, 12, 13, 14, 15, 16, 17, 18, 19, 20, 21, 22, 23, 24, 25, 26, 27, 28, 29, 30, 31, 32, 33, 34, 35, 36, 37, 38, 39, 40, 41, 42, 43, 44, 45]\n"
          ]
        },
        {
          "output_type": "execute_result",
          "data": {
            "text/plain": [
              "[41, 27, 3, 23, 32, 5]"
            ]
          },
          "metadata": {},
          "execution_count": 12
        }
      ]
    },
    {
      "cell_type": "code",
      "source": [
        "import sys\n",
        "sys.path"
      ],
      "metadata": {
        "colab": {
          "base_uri": "https://localhost:8080/"
        },
        "id": "C-7qAmb3V8nN",
        "outputId": "02800417-e1c3-4feb-a758-b3296ba9a575"
      },
      "execution_count": 13,
      "outputs": [
        {
          "output_type": "execute_result",
          "data": {
            "text/plain": [
              "['',\n",
              " '/content',\n",
              " '/env/python',\n",
              " '/usr/lib/python37.zip',\n",
              " '/usr/lib/python3.7',\n",
              " '/usr/lib/python3.7/lib-dynload',\n",
              " '/usr/local/lib/python3.7/dist-packages',\n",
              " '/usr/lib/python3/dist-packages',\n",
              " '/usr/local/lib/python3.7/dist-packages/IPython/extensions',\n",
              " '/root/.ipython']"
            ]
          },
          "metadata": {},
          "execution_count": 13
        }
      ]
    },
    {
      "cell_type": "code",
      "source": [
        "sys.argv"
      ],
      "metadata": {
        "colab": {
          "base_uri": "https://localhost:8080/"
        },
        "id": "cxsSDcVjWP4_",
        "outputId": "7e93aff0-a92b-4dd9-b5ca-53458163a9e8"
      },
      "execution_count": 14,
      "outputs": [
        {
          "output_type": "execute_result",
          "data": {
            "text/plain": [
              "['/usr/local/lib/python3.7/dist-packages/ipykernel_launcher.py',\n",
              " '-f',\n",
              " '/root/.local/share/jupyter/runtime/kernel-02f1dffb-e5ce-4582-a378-ef620ba56905.json']"
            ]
          },
          "metadata": {},
          "execution_count": 14
        }
      ]
    },
    {
      "cell_type": "code",
      "source": [
        "len(sys.argv)"
      ],
      "metadata": {
        "colab": {
          "base_uri": "https://localhost:8080/"
        },
        "id": "_VmNsXslW4lF",
        "outputId": "dd76cc8c-5941-4220-eb78-48dae508da3e"
      },
      "execution_count": 15,
      "outputs": [
        {
          "output_type": "execute_result",
          "data": {
            "text/plain": [
              "3"
            ]
          },
          "metadata": {},
          "execution_count": 15
        }
      ]
    },
    {
      "cell_type": "code",
      "source": [
        "import os\n",
        "os.name"
      ],
      "metadata": {
        "colab": {
          "base_uri": "https://localhost:8080/",
          "height": 35
        },
        "id": "a9r8n-nTXB1u",
        "outputId": "798ccf6b-1fff-439b-80c7-f552587c1045"
      },
      "execution_count": 16,
      "outputs": [
        {
          "output_type": "execute_result",
          "data": {
            "application/vnd.google.colaboratory.intrinsic+json": {
              "type": "string"
            },
            "text/plain": [
              "'posix'"
            ]
          },
          "metadata": {},
          "execution_count": 16
        }
      ]
    },
    {
      "cell_type": "code",
      "source": [
        "import datetime\n",
        "n = datetime.datetime.now()\n",
        "n.day"
      ],
      "metadata": {
        "colab": {
          "base_uri": "https://localhost:8080/"
        },
        "id": "Ac3ERt0VbjD-",
        "outputId": "d961f564-0b06-4e89-df13-98621c73774c"
      },
      "execution_count": 18,
      "outputs": [
        {
          "output_type": "execute_result",
          "data": {
            "text/plain": [
              "23"
            ]
          },
          "metadata": {},
          "execution_count": 18
        }
      ]
    },
    {
      "cell_type": "code",
      "source": [
        "# sleep: 프로그램을 잠시 멈추다.\n",
        "import time\n",
        "print(\"a\", end=' ')\n",
        "time.sleep(1)\n",
        "print(\"b\", end=' ')\n",
        "time.sleep(2)\n",
        "print(\"c\", end=' ')\n",
        "time.sleep(3)\n",
        "print(\"d\", end=' ')\n",
        "time.sleep(4)\n",
        "print(\"....\")\n"
      ],
      "metadata": {
        "colab": {
          "base_uri": "https://localhost:8080/"
        },
        "id": "fuRJHvwacRqi",
        "outputId": "1509c160-c25f-4204-fb71-41cf3f0a7214"
      },
      "execution_count": 20,
      "outputs": [
        {
          "output_type": "stream",
          "name": "stdout",
          "text": [
            "a b c d ....\n"
          ]
        }
      ]
    },
    {
      "cell_type": "code",
      "source": [
        "#시스템 성능 테스트를 위한 시간 측정\n",
        "s = time.time()\n",
        "i = 0\n",
        "for lc in range(10000):\n",
        "  for _ in range(10000):\n",
        "    i += 1\n",
        "  if (lc%1000 ==0):\n",
        "    print(\" .\",end = \" \")\n",
        "e = time.time()\n",
        "print(e-s)"
      ],
      "metadata": {
        "colab": {
          "base_uri": "https://localhost:8080/"
        },
        "id": "UPARaut-cz0O",
        "outputId": "c89cb182-217a-4940-9d96-c8a7da3338f5"
      },
      "execution_count": 21,
      "outputs": [
        {
          "output_type": "stream",
          "name": "stdout",
          "text": [
            " .  .  .  .  .  .  .  .  .  . 10.536917686462402\n"
          ]
        }
      ]
    },
    {
      "cell_type": "code",
      "source": [
        "from urllib import request\n",
        "\n",
        "html = request.urlopen('http://docs.python.org')\n",
        "print(html.read())"
      ],
      "metadata": {
        "colab": {
          "base_uri": "https://localhost:8080/"
        },
        "id": "ycz3YOvNdfOb",
        "outputId": "b5d4fc4f-dae5-419e-e9ce-664a6450087b"
      },
      "execution_count": 27,
      "outputs": [
        {
          "output_type": "stream",
          "name": "stdout",
          "text": [
            "b'\\n<!DOCTYPE html>\\n\\n<html>\\n  <head>\\n    <meta charset=\"utf-8\" />\\n    <meta name=\"viewport\" content=\"width=device-width, initial-scale=1.0\" /><title>3.10.2 Documentation</title><meta name=\"viewport\" content=\"width=device-width, initial-scale=1.0\">\\n    \\n    <link rel=\"stylesheet\" href=\"_static/pydoctheme.css?2022.1\" type=\"text/css\" />\\n    <link rel=\"stylesheet\" href=\"_static/pygments.css\" type=\"text/css\" />\\n    \\n    <script id=\"documentation_options\" data-url_root=\"./\" src=\"_static/documentation_options.js\"></script>\\n    <script src=\"_static/jquery.js\"></script>\\n    <script src=\"_static/underscore.js\"></script>\\n    <script src=\"_static/doctools.js\"></script>\\n    <script src=\"_static/language_data.js\"></script>\\n    \\n    <script src=\"_static/sidebar.js\"></script>\\n    \\n    <link rel=\"search\" type=\"application/opensearchdescription+xml\"\\n          title=\"Search within Python 3.10.2 documentation\"\\n          href=\"_static/opensearch.xml\"/>\\n    <link rel=\"author\" title=\"About these documents\" href=\"about.html\" />\\n    <link rel=\"index\" title=\"Index\" href=\"genindex.html\" />\\n    <link rel=\"search\" title=\"Search\" href=\"search.html\" />\\n    <link rel=\"copyright\" title=\"Copyright\" href=\"copyright.html\" />\\n    <link rel=\"canonical\" href=\"https://docs.python.org/3/index.html\" />\\n    \\n      \\n    \\n\\n    \\n    <style>\\n      @media only screen {\\n        table.full-width-table {\\n            width: 100%;\\n        }\\n      }\\n    </style>\\n<link rel=\"shortcut icon\" type=\"image/png\" href=\"_static/py.svg\" />\\n            <script type=\"text/javascript\" src=\"_static/copybutton.js\"></script>\\n            <script type=\"text/javascript\" src=\"_static/menu.js\"></script> \\n\\n  </head>\\n<body>\\n<div class=\"mobile-nav\">\\n    <input type=\"checkbox\" id=\"menuToggler\" class=\"toggler__input\" aria-controls=\"navigation\"\\n           aria-pressed=\"false\" aria-expanded=\"false\" role=\"button\" aria-label=\"Menu\" />\\n    <label for=\"menuToggler\" class=\"toggler__label\">\\n        <span></span>\\n    </label>\\n    <nav class=\"nav-content\" role=\"navigation\">\\n         <a href=\"https://www.python.org/\" class=\"nav-logo\">\\n             <img src=\"_static/py.svg\" alt=\"Logo\"/>\\n         </a>\\n        <div class=\"version_switcher_placeholder\"></div>\\n        <form role=\"search\" class=\"search\" action=\"search.html\" method=\"get\">\\n            <svg xmlns=\"http://www.w3.org/2000/svg\" width=\"20\" height=\"20\" viewBox=\"0 0 24 24\" class=\"search-icon\">\\n                <path fill-rule=\"nonzero\"\\n                        d=\"M15.5 14h-.79l-.28-.27a6.5 6.5 0 001.48-5.34c-.47-2.78-2.79-5-5.59-5.34a6.505 6.505 0 00-7.27 7.27c.34 2.8 2.56 5.12 5.34 5.59a6.5 6.5 0 005.34-1.48l.27.28v.79l4.25 4.25c.41.41 1.08.41 1.49 0 .41-.41.41-1.08 0-1.49L15.5 14zm-6 0C7.01 14 5 11.99 5 9.5S7.01 5 9.5 5 14 7.01 14 9.5 11.99 14 9.5 14z\" fill=\"#444\"></path>\\n            </svg>\\n            <input type=\"text\" name=\"q\" aria-label=\"Quick search\"/>\\n            <input type=\"submit\" value=\"Go\"/>\\n        </form>\\n    </nav>\\n    <div class=\"menu-wrapper\">\\n        <nav class=\"menu\" role=\"navigation\" aria-label=\"main navigation\">\\n            <div class=\"language_switcher_placeholder\"></div><h3>Download</h3>\\n<p><a href=\"download.html\">Download these documents</a></p>\\n<h3>Docs by version</h3>\\n<ul>\\n  <li><a href=\"https://docs.python.org/3.11/\">Python 3.11 (in development)</a></li>\\n<li><a href=\"https://docs.python.org/3.10/\">Python 3.10 (stable)</a></li>\\n<li><a href=\"https://docs.python.org/3.9/\">Python 3.9 (stable)</a></li>\\n<li><a href=\"https://docs.python.org/3.8/\">Python 3.8 (security-fixes)</a></li>\\n<li><a href=\"https://docs.python.org/3.7/\">Python 3.7 (security-fixes)</a></li>\\n<li><a href=\"https://docs.python.org/3.6/\">Python 3.6 (EOL)</a></li>\\n<li><a href=\"https://docs.python.org/3.5/\">Python 3.5 (EOL)</a></li>\\n<li><a href=\"https://docs.python.org/2.7/\">Python 2.7 (EOL)</a></li>\\n  <li><a href=\"https://www.python.org/doc/versions/\">All versions</a></li>\\n</ul>\\n\\n<h3>Other resources</h3>\\n<ul>\\n  \\n  <li><a href=\"https://www.python.org/dev/peps/\">PEP Index</a></li>\\n  <li><a href=\"https://wiki.python.org/moin/BeginnersGuide\">Beginner\\'s Guide</a></li>\\n  <li><a href=\"https://wiki.python.org/moin/PythonBooks\">Book List</a></li>\\n  <li><a href=\"https://www.python.org/doc/av/\">Audio/Visual Talks</a></li>\\n  <li><a href=\"https://devguide.python.org/\">Python Developer\\xe2\\x80\\x99s Guide</a></li>\\n</ul>\\n        </nav>\\n    </div>\\n</div>\\n\\n  \\n    <div class=\"related\" role=\"navigation\" aria-label=\"related navigation\">\\n      <h3>Navigation</h3>\\n      <ul>\\n        <li class=\"right\" style=\"margin-right: 10px\">\\n          <a href=\"genindex.html\" title=\"General Index\"\\n             accesskey=\"I\">index</a></li>\\n        <li class=\"right\" >\\n          <a href=\"py-modindex.html\" title=\"Python Module Index\"\\n             >modules</a> |</li>\\n\\n          <li><img src=\"_static/py.svg\" alt=\"python logo\" style=\"vertical-align: middle; margin-top: -1px\"/></li>\\n          <li><a href=\"https://www.python.org/\">Python</a> &#187;</li>\\n          <li class=\"switchers\">\\n            <div class=\"language_switcher_placeholder\"></div>\\n            <div class=\"version_switcher_placeholder\"></div>\\n          </li>\\n          <li>\\n              \\n          </li>\\n    <li id=\"cpython-language-and-version\">\\n      <a href=\"#\">3.10.2 Documentation</a> &#187;\\n    </li>\\n\\n        <li class=\"nav-item nav-item-this\"><a href=\"\"></a></li>\\n                <li class=\"right\">\\n                    \\n\\n    <div class=\"inline-search\" role=\"search\">\\n        <form class=\"inline-search\" action=\"search.html\" method=\"get\">\\n          <input placeholder=\"Quick search\" aria-label=\"Quick search\" type=\"text\" name=\"q\" />\\n          <input type=\"submit\" value=\"Go\" />\\n          <input type=\"hidden\" name=\"check_keywords\" value=\"yes\" />\\n          <input type=\"hidden\" name=\"area\" value=\"default\" />\\n        </form>\\n    </div>\\n                     |\\n                </li>\\n            \\n      </ul>\\n    </div>    \\n\\n    <div class=\"document\">\\n      <div class=\"documentwrapper\">\\n        <div class=\"bodywrapper\">\\n          <div class=\"body\" role=\"main\">\\n            \\n  <h1>Python 3.10.2 documentation</h1>\\n  <p>\\n  Welcome! This is the official documentation for Python 3.10.2.\\n  </p>\\n  <p><strong>Parts of the documentation:</strong></p>\\n  <table class=\"contentstable\" align=\"center\"><tr>\\n    <td width=\"50%\">\\n      <p class=\"biglink\"><a class=\"biglink\" href=\"whatsnew/3.10.html\">What\\'s new in Python 3.10?</a><br/>\\n        <span class=\"linkdescr\"> or <a href=\"whatsnew/index.html\">all \"What\\'s new\" documents</a> since 2.0</span></p>\\n      <p class=\"biglink\"><a class=\"biglink\" href=\"tutorial/index.html\">Tutorial</a><br/>\\n         <span class=\"linkdescr\">start here</span></p>\\n      <p class=\"biglink\"><a class=\"biglink\" href=\"library/index.html\">Library Reference</a><br/>\\n         <span class=\"linkdescr\">keep this under your pillow</span></p>\\n      <p class=\"biglink\"><a class=\"biglink\" href=\"reference/index.html\">Language Reference</a><br/>\\n         <span class=\"linkdescr\">describes syntax and language elements</span></p>\\n      <p class=\"biglink\"><a class=\"biglink\" href=\"using/index.html\">Python Setup and Usage</a><br/>\\n         <span class=\"linkdescr\">how to use Python on different platforms</span></p>\\n      <p class=\"biglink\"><a class=\"biglink\" href=\"howto/index.html\">Python HOWTOs</a><br/>\\n         <span class=\"linkdescr\">in-depth documents on specific topics</span></p>\\n    </td><td width=\"50%\">\\n      <p class=\"biglink\"><a class=\"biglink\" href=\"installing/index.html\">Installing Python Modules</a><br/>\\n         <span class=\"linkdescr\">installing from the Python Package Index &amp; other sources</span></p>\\n      <p class=\"biglink\"><a class=\"biglink\" href=\"distributing/index.html\">Distributing Python Modules</a><br/>\\n         <span class=\"linkdescr\">publishing modules for installation by others</span></p>\\n      <p class=\"biglink\"><a class=\"biglink\" href=\"extending/index.html\">Extending and Embedding</a><br/>\\n         <span class=\"linkdescr\">tutorial for C/C++ programmers</span></p>\\n      <p class=\"biglink\"><a class=\"biglink\" href=\"c-api/index.html\">Python/C API</a><br/>\\n         <span class=\"linkdescr\">reference for C/C++ programmers</span></p>\\n      <p class=\"biglink\"><a class=\"biglink\" href=\"faq/index.html\">FAQs</a><br/>\\n         <span class=\"linkdescr\">frequently asked questions (with answers!)</span></p>\\n    </td></tr>\\n  </table>\\n\\n  <p><strong>Indices and tables:</strong></p>\\n  <table class=\"contentstable\" align=\"center\"><tr>\\n    <td width=\"50%\">\\n      <p class=\"biglink\"><a class=\"biglink\" href=\"py-modindex.html\">Global Module Index</a><br/>\\n         <span class=\"linkdescr\">quick access to all modules</span></p>\\n      <p class=\"biglink\"><a class=\"biglink\" href=\"genindex.html\">General Index</a><br/>\\n         <span class=\"linkdescr\">all functions, classes, terms</span></p>\\n      <p class=\"biglink\"><a class=\"biglink\" href=\"glossary.html\">Glossary</a><br/>\\n         <span class=\"linkdescr\">the most important terms explained</span></p>\\n    </td><td width=\"50%\">\\n      <p class=\"biglink\"><a class=\"biglink\" href=\"search.html\">Search page</a><br/>\\n         <span class=\"linkdescr\">search this documentation</span></p>\\n      <p class=\"biglink\"><a class=\"biglink\" href=\"contents.html\">Complete Table of Contents</a><br/>\\n         <span class=\"linkdescr\">lists all sections and subsections</span></p>\\n    </td></tr>\\n  </table>\\n\\n  <p><strong>Meta information:</strong></p>\\n  <table class=\"contentstable\" align=\"center\"><tr>\\n    <td width=\"50%\">\\n      <p class=\"biglink\"><a class=\"biglink\" href=\"bugs.html\">Reporting bugs</a></p>\\n      <p class=\"biglink\"><a class=\"biglink\" href=\"https://devguide.python.org/docquality/#helping-with-documentation\">Contributing to Docs</a></p>\\n      <p class=\"biglink\"><a class=\"biglink\" href=\"about.html\">About the documentation</a></p>\\n    </td><td width=\"50%\">\\n      <p class=\"biglink\"><a class=\"biglink\" href=\"license.html\">History and License of Python</a></p>\\n      <p class=\"biglink\"><a class=\"biglink\" href=\"copyright.html\">Copyright</a></p>\\n    </td></tr>\\n  </table>\\n\\n            <div class=\"clearer\"></div>\\n          </div>\\n        </div>\\n      </div>\\n      <div class=\"sphinxsidebar\" role=\"navigation\" aria-label=\"main navigation\">\\n        <div class=\"sphinxsidebarwrapper\"><h3>Download</h3>\\n<p><a href=\"download.html\">Download these documents</a></p>\\n<h3>Docs by version</h3>\\n<ul>\\n  <li><a href=\"https://docs.python.org/3.11/\">Python 3.11 (in development)</a></li>\\n<li><a href=\"https://docs.python.org/3.10/\">Python 3.10 (stable)</a></li>\\n<li><a href=\"https://docs.python.org/3.9/\">Python 3.9 (stable)</a></li>\\n<li><a href=\"https://docs.python.org/3.8/\">Python 3.8 (security-fixes)</a></li>\\n<li><a href=\"https://docs.python.org/3.7/\">Python 3.7 (security-fixes)</a></li>\\n<li><a href=\"https://docs.python.org/3.6/\">Python 3.6 (EOL)</a></li>\\n<li><a href=\"https://docs.python.org/3.5/\">Python 3.5 (EOL)</a></li>\\n<li><a href=\"https://docs.python.org/2.7/\">Python 2.7 (EOL)</a></li>\\n  <li><a href=\"https://www.python.org/doc/versions/\">All versions</a></li>\\n</ul>\\n\\n<h3>Other resources</h3>\\n<ul>\\n  \\n  <li><a href=\"https://www.python.org/dev/peps/\">PEP Index</a></li>\\n  <li><a href=\"https://wiki.python.org/moin/BeginnersGuide\">Beginner\\'s Guide</a></li>\\n  <li><a href=\"https://wiki.python.org/moin/PythonBooks\">Book List</a></li>\\n  <li><a href=\"https://www.python.org/doc/av/\">Audio/Visual Talks</a></li>\\n  <li><a href=\"https://devguide.python.org/\">Python Developer\\xe2\\x80\\x99s Guide</a></li>\\n</ul>\\n        </div>\\n      </div>\\n      <div class=\"clearer\"></div>\\n    </div>  \\n    <div class=\"related\" role=\"navigation\" aria-label=\"related navigation\">\\n      <h3>Navigation</h3>\\n      <ul>\\n        <li class=\"right\" style=\"margin-right: 10px\">\\n          <a href=\"genindex.html\" title=\"General Index\"\\n             >index</a></li>\\n        <li class=\"right\" >\\n          <a href=\"py-modindex.html\" title=\"Python Module Index\"\\n             >modules</a> |</li>\\n\\n          <li><img src=\"_static/py.svg\" alt=\"python logo\" style=\"vertical-align: middle; margin-top: -1px\"/></li>\\n          <li><a href=\"https://www.python.org/\">Python</a> &#187;</li>\\n          <li class=\"switchers\">\\n            <div class=\"language_switcher_placeholder\"></div>\\n            <div class=\"version_switcher_placeholder\"></div>\\n          </li>\\n          <li>\\n              \\n          </li>\\n    <li id=\"cpython-language-and-version\">\\n      <a href=\"#\">3.10.2 Documentation</a> &#187;\\n    </li>\\n\\n        <li class=\"nav-item nav-item-this\"><a href=\"\"></a></li>\\n                <li class=\"right\">\\n                    \\n\\n    <div class=\"inline-search\" role=\"search\">\\n        <form class=\"inline-search\" action=\"search.html\" method=\"get\">\\n          <input placeholder=\"Quick search\" aria-label=\"Quick search\" type=\"text\" name=\"q\" />\\n          <input type=\"submit\" value=\"Go\" />\\n          <input type=\"hidden\" name=\"check_keywords\" value=\"yes\" />\\n          <input type=\"hidden\" name=\"area\" value=\"default\" />\\n        </form>\\n    </div>\\n                     |\\n                </li>\\n            \\n      </ul>\\n    </div>  \\n    <div class=\"footer\">\\n    &copy; <a href=\"copyright.html\">Copyright</a> 2001-2022, Python Software Foundation.\\n    <br />\\n    This page is licensed under the Python Software Foundation License Version 2.\\n    <br />\\n    Examples, recipes, and other code in the documentation are additionally licensed under the Zero Clause BSD License.\\n    <br />\\n    See <a href=\"/license.html\">History and License</a> for more information.<br />\\n    <br />\\n\\n    The Python Software Foundation is a non-profit corporation.\\n<a href=\"https://www.python.org/psf/donations/\">Please donate.</a>\\n<br />\\n    <br />\\n\\n    Last updated on Feb 22, 2022.\\n    <a href=\"/bugs.html\">Found a bug</a>?\\n    <br />\\n\\n    Created using <a href=\"https://www.sphinx-doc.org/\">Sphinx</a> 3.2.1.\\n    </div>\\n\\n    <script type=\"text/javascript\" src=\"_static/switchers.js\"></script>\\n  </body>\\n</html>'\n"
          ]
        }
      ]
    }
  ]
}
