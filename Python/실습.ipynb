{
  "nbformat": 4,
  "nbformat_minor": 0,
  "metadata": {
    "colab": {
      "name": "실습.ipynb",
      "provenance": [],
      "authorship_tag": "ABX9TyMvs5WYEJn8yR3YluEP7KKI",
      "include_colab_link": true
    },
    "kernelspec": {
      "name": "python3",
      "display_name": "Python 3"
    },
    "language_info": {
      "name": "python"
    }
  },
  "cells": [
    {
      "cell_type": "markdown",
      "metadata": {
        "id": "view-in-github",
        "colab_type": "text"
      },
      "source": [
        "<a href=\"https://colab.research.google.com/github/hyunjung930/sesac-web/blob/main/%EC%8B%A4%EC%8A%B5.ipynb\" target=\"_parent\"><img src=\"https://colab.research.google.com/assets/colab-badge.svg\" alt=\"Open In Colab\"/></a>"
      ]
    },
    {
      "cell_type": "code",
      "execution_count": 7,
      "metadata": {
        "colab": {
          "base_uri": "https://localhost:8080/"
        },
        "id": "ko8pnu3Bqln_",
        "outputId": "f1e25583-6cad-4f86-ef21-7a81905647c2"
      },
      "outputs": [
        {
          "output_type": "stream",
          "name": "stdout",
          "text": [
            "밑변: 5\n",
            "높이: 10\n",
            "넓이: 25.00\n"
          ]
        }
      ],
      "source": [
        "# 1. 사용자로부터 삼각형의 밑변과 높이를 입력받아 넓이를 출력하시오. 밑변과 높이는 실수를 입력할 수 있으며 넓이는 소수점 이하 2째 자리까지 출력하시오\n",
        "bottom = float(input(\"밑변: \"))\n",
        "height = float(input(\"높이: \"))\n",
        "print(f\"넓이: {(bottom*height/2):.2f}\")"
      ]
    },
    {
      "cell_type": "code",
      "source": [
        "# 2. 두 개의 정수를 입력받아 작은 수가 큰 수의 약수인지 아닌지를 출력하시오.\n",
        "# 두개의 정수 입력 받기\n",
        "a = int(input(\"정수 1: \"))\n",
        "b = int(input(\"정수 2: \")) \n",
        "\n",
        "# 두개의 정수 크기 비교하기 \n",
        "if a < b: \n",
        "  temp = a\n",
        "  a = b\n",
        "  b = temp\n",
        "# 약수 판단.\n",
        "if a % b == 0:\n",
        "   print(\"%d은(는) 약수입니다.\" %a)\n",
        "else:\n",
        "    print(\"약수가 아닙니다.\")"
      ],
      "metadata": {
        "colab": {
          "base_uri": "https://localhost:8080/"
        },
        "id": "4_fpbNQnqqno",
        "outputId": "81f71b98-2cfb-4e5d-c295-3fe94dd57102"
      },
      "execution_count": 17,
      "outputs": [
        {
          "output_type": "stream",
          "name": "stdout",
          "text": [
            "정수 1: 14\n",
            "정수 2: 7\n",
            "14은(는) 약수입니다.\n"
          ]
        }
      ]
    },
    {
      "cell_type": "markdown",
      "source": [
        "2번 해설"
      ],
      "metadata": {
        "id": "fs5VeKQ0Tfxw"
      }
    },
    {
      "cell_type": "code",
      "source": [
        "num1 = int(input(\"첫번째 정수: \"))\n",
        "num2 = int(input(\"두번째 정수: \"))\n",
        "if num1 > num2:\n",
        "  num1,num2 = num2,num1\n",
        "if num2 % num1 == 0:\n",
        "  print(\"약수\")\n",
        "else:\n",
        "  print(\"약수가 아닙니다.\")"
      ],
      "metadata": {
        "id": "UF429XZVTg8W"
      },
      "execution_count": null,
      "outputs": []
    },
    {
      "cell_type": "code",
      "source": [
        "# 3. 두 개의 정수를 입력받아 두 개의 정수 사이의 정수의 합계를 구하여 출력하시오.\n",
        "# 두개의 정수 입력 받기\n",
        "a = int(input(\"정수 1: \"))\n",
        "b = int(input(\"정수 2: \")) \n",
        "# 정수 사이의 값\n",
        "ls =[]\n",
        "if a == b:\n",
        "  print(\" 두 수의 사이가 없습니다.\")\n",
        "elif a > b:\n",
        "  for i in range (b + 1,a):\n",
        "     ls.append(i)\n",
        "elif a< b:\n",
        "  for i in range(a + 1,b):\n",
        "    ls.append(i)\n",
        "#합계 구하기\n",
        "sum = 0\n",
        "for i in range (0,len(ls)):\n",
        "  sum += ls[i]\n",
        "print(sum)"
      ],
      "metadata": {
        "colab": {
          "base_uri": "https://localhost:8080/"
        },
        "id": "ZY6UQNtdqqdx",
        "outputId": "5a00b29f-3a42-4418-eaf1-2f739840bc6e"
      },
      "execution_count": 20,
      "outputs": [
        {
          "output_type": "stream",
          "name": "stdout",
          "text": [
            "정수 1: 1\n",
            "정수 2: 2\n",
            "0\n"
          ]
        }
      ]
    },
    {
      "cell_type": "markdown",
      "source": [
        "3번 해설"
      ],
      "metadata": {
        "id": "257F_A2ST4v-"
      }
    },
    {
      "cell_type": "code",
      "source": [
        "num1 = int(input(\"첫번째 정수: \"))\n",
        "num2 = int(input(\"두번째 정수: \"))\n",
        "\n",
        "if num1 > num2:\n",
        "  num1,num2 = num2,num1\n",
        "s = 0\n",
        "for i in range(num1,num2 + 1):\n",
        "  s += i\n",
        "print(f\"{num1}~ {num2} 합계: {s}\")"
      ],
      "metadata": {
        "colab": {
          "base_uri": "https://localhost:8080/"
        },
        "id": "SuBrCJi0T5o5",
        "outputId": "40d994ca-8d09-4614-ceea-3a6a8305f7be"
      },
      "execution_count": 11,
      "outputs": [
        {
          "output_type": "stream",
          "name": "stdout",
          "text": [
            "첫번째 정수: 5\n",
            "두번째 정수: 1\n",
            "1~ 5 합계: 15\n"
          ]
        }
      ]
    },
    {
      "cell_type": "code",
      "source": [
        "# 4. n개의 정수를 입력받아 평균과 표준 편차를 구하시오.\n",
        "import math\n",
        "# 몇개를 받을 건지 입력\n",
        "n = int(input(\"개수입력 : \"))\n",
        "nums =[]\n",
        "# 평균 구하기\n",
        "for i in range (n):\n",
        "   num = int(input(f\"{i+1}번째 정수: \"))\n",
        "   nums.append(num)\n",
        "avg =sum(nums)/n\n",
        "\n",
        "#표준 편차\n",
        "asum = 0\n",
        "for num in nums:\n",
        "  asum += (avg-num)**2\n",
        "  var = asum/n\n",
        "  stdev = math.sqrt(var)\n",
        "print(\"평균: \",avg)\n",
        "print(\"표준편차: \",stdev)"
      ],
      "metadata": {
        "colab": {
          "base_uri": "https://localhost:8080/"
        },
        "id": "IF5AgOpfqqU5",
        "outputId": "e837a59d-2194-4d47-f633-2261f46b7637"
      },
      "execution_count": 1,
      "outputs": [
        {
          "output_type": "stream",
          "name": "stdout",
          "text": [
            "개수입력 : 2\n",
            "1번째 정수: 1\n",
            "2번째 정수: 2\n",
            "평균:  1.5\n",
            "표준편차:  0.5\n"
          ]
        }
      ]
    },
    {
      "cell_type": "markdown",
      "source": [
        "4번 해설"
      ],
      "metadata": {
        "id": "94R4EpbkUmnB"
      }
    },
    {
      "cell_type": "code",
      "source": [
        "import math\n",
        "n = int(input(\"입력할 개수:\"))\n",
        "nums=[]\n",
        "for i in range(n):\n",
        "  num = int(input(f\"{i+1}번째 정수:\"))\n",
        "  nums.append(num)\n",
        "avg = sum(nums)/n\n",
        "print(f\"평균:{avg}\")\n",
        "\n",
        "ss=0\n",
        "for elem in nums:\n",
        "  ss += (avg - elem)**2\n",
        "var = ss/n #분산\n",
        "stddev = math.sqrt(var) #표준편차\n",
        "print(f\"표준 편차:{stddev:.2f}\")"
      ],
      "metadata": {
        "colab": {
          "base_uri": "https://localhost:8080/"
        },
        "id": "qA6BjWNdUoxC",
        "outputId": "e8590ac5-bf44-4285-fe84-5c430b46b5a4"
      },
      "execution_count": 6,
      "outputs": [
        {
          "output_type": "stream",
          "name": "stdout",
          "text": [
            "입력할 개수:4\n",
            "1번째 정수:4\n",
            "2번째 정수:4\n",
            "3번째 정수:4\n",
            "4번째 정수:4\n",
            "평균:4.0\n",
            "표준 편차:0.00\n"
          ]
        }
      ]
    },
    {
      "cell_type": "code",
      "source": [
        "# 5. n명의 국어, 영어, 수학 점수를 입력받아 출력하시오.\n",
        "# n개 받기\n",
        "n = int(input(\"입력할 학생 수 : \"))\n",
        "subjects= (\"국어\", \"영어\", \"수학\")\n",
        "scores_dic = {}     # 같은 키의 값을 중복으로 못갖는다. \n",
        "for i in range(n):    # 중복 값이 없으면 딕셔너리 잘 쓸 수 있다.\n",
        "  name = input(f\"{i+1}번째 학생 이름: \")\n",
        "  scores=[]\n",
        "  for s in subjects:\n",
        "    score = int(input(f\"{s}:\"))\n",
        "    scores.append(score)\n",
        "  scores_dic[name] = scores   # 값 추가 or 변경 \n",
        "print(scores_dic)"
      ],
      "metadata": {
        "colab": {
          "base_uri": "https://localhost:8080/"
        },
        "id": "2PZaeRjbqqJn",
        "outputId": "92cd1311-8feb-45ae-da8d-c10bf2b913d0"
      },
      "execution_count": 5,
      "outputs": [
        {
          "output_type": "stream",
          "name": "stdout",
          "text": [
            "입력할 학생 수 : 2\n",
            "1번째 학생 이름: 고길동\n",
            "국어:33\n",
            "영어:33\n",
            "수학:33\n",
            "2번째 학생 이름: 제갈길동\n",
            "국어:44\n",
            "영어:44\n",
            "수학:44\n",
            "{'고길동': [33, 33, 33], '제갈길동': [44, 44, 44]}\n"
          ]
        }
      ]
    },
    {
      "cell_type": "markdown",
      "source": [
        "5번 해설"
      ],
      "metadata": {
        "id": "E06NssnvWrBc"
      }
    },
    {
      "cell_type": "code",
      "source": [
        "subjects = (\"국어\",\"영어\",\"수학\")\n",
        "n = int(input(\"입력할 학생 수:\"))\n",
        "m_dict=dict()\n",
        "for i in range(n):\n",
        "  name = input(f\"{i+1}번째 학생 이름:\")\n",
        "  scores =[]\n",
        "  for subject in subjects:\n",
        "    score = int(input(f\"{subject} 점수:\"))\n",
        "    scores.append(score)\n",
        "  m_dict[name] = scores\n",
        "print(m_dict)"
      ],
      "metadata": {
        "colab": {
          "base_uri": "https://localhost:8080/"
        },
        "id": "kmetT0gPWsOf",
        "outputId": "abb4f43b-05f4-48a1-bca4-fb4f6e7bc18d"
      },
      "execution_count": 4,
      "outputs": [
        {
          "output_type": "stream",
          "name": "stdout",
          "text": [
            "입력할 학생 수:2\n",
            "1번째 학생 이름:길동\n",
            "국어 점수:10\n",
            "영어 점수:20\n",
            "수학 점수:30\n",
            "2번째 학생 이름:제갈\n",
            "국어 점수:10\n",
            "영어 점수:20\n",
            "수학 점수:30\n",
            "{'길동': [10, 20, 30], '제갈': [10, 20, 30]}\n"
          ]
        }
      ]
    },
    {
      "cell_type": "code",
      "source": [
        "# 6. n명의 국어, 영어, 수학 점수를 입력받아 과목별 합계, 평균, 표준 편차를 출력하시오.\n",
        "subjects= (\"국어\", \"영어\", \"수학\")\n",
        "n = int(input(\"입력할 학생 수 : \"))\n",
        "\n",
        "scores =[]\n",
        "scores.append([]) #국어\n",
        "scores.append([]) #영어\n",
        "scores.append([]) #수학\n",
        "\n",
        "for i in range(n):\n",
        "  for si, subject in enumerate(subjects):\n",
        "    score = int(input(f\"{subject} 점수: \"))\n",
        "    scores[si].append(score)\n",
        "\n",
        "print(scores)"
      ],
      "metadata": {
        "id": "EPftmP6Rqw8q"
      },
      "execution_count": null,
      "outputs": []
    },
    {
      "cell_type": "markdown",
      "source": [
        "6번 해설"
      ],
      "metadata": {
        "id": "FcZx9IC3YRjO"
      }
    },
    {
      "cell_type": "code",
      "source": [
        "# 6. n명의 국어, 영어, 수학 점수를 입력받아 과목별 합계, 평균, 표준 편차를 출력하시오.\n",
        "import math\n",
        "subjects = (\"국어\",\"영어\",\"수학\")\n",
        "n = int(input(\"입력할 학생 수:\"))\n",
        "\n",
        "scores=[]\n",
        "scores.append([])#국어\n",
        "scores.append([])#영어\n",
        "scores.append([])#수학\n",
        "\n",
        "for i in range(n):\n",
        "  for si, subject in enumerate(subjects):\n",
        "    score = int(input(f\"{subject} 점수:\"))\n",
        "    scores[si].append(score)\n",
        "\n",
        "print(\"\\n\\n=========================\")\n",
        "\n",
        "for si , subject in enumerate(subjects):\n",
        "  avg = sum(scores[si])/len(scores[si])\n",
        "  print(f\"{subjects[si]} 합계: {sum(scores[si])}\") \n",
        "  print(f\"{subjects[si]} 평균: {avg:.2f}\")  \n",
        "  ss=0\n",
        "  for score in scores[si]:\n",
        "    ss += (avg - score)**2\n",
        "  var = ss/n #분산\n",
        "  stddev = math.sqrt(var) #표준편차\n",
        "  print(f\"{subjects[si]} 표준편차: {stddev:.2f}\")\n"
      ],
      "metadata": {
        "colab": {
          "base_uri": "https://localhost:8080/"
        },
        "id": "NtRg0aoIYT0o",
        "outputId": "edb20579-a640-4307-90c3-a3530c5d1b70"
      },
      "execution_count": 5,
      "outputs": [
        {
          "output_type": "stream",
          "name": "stdout",
          "text": [
            "입력할 학생 수:2\n",
            "국어 점수:10\n",
            "영어 점수:20\n",
            "수학 점수:30\n",
            "국어 점수:40\n",
            "영어 점수:50\n",
            "수학 점수:60\n",
            "\n",
            "\n",
            "=========================\n",
            "국어 합계: 50\n",
            "국어 평균: 25.00\n",
            "국어 표준편차: 15.00\n",
            "영어 합계: 70\n",
            "영어 평균: 35.00\n",
            "영어 표준편차: 15.00\n",
            "수학 합계: 90\n",
            "수학 평균: 45.00\n",
            "수학 표준편차: 15.00\n"
          ]
        }
      ]
    }
  ]
}
