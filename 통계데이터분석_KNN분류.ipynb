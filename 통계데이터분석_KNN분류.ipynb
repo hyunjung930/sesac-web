{
  "nbformat": 4,
  "nbformat_minor": 0,
  "metadata": {
    "colab": {
      "name": "통계데이터분석- KNN분류.ipynb",
      "provenance": [],
      "authorship_tag": "ABX9TyMicIPTSpjLEWPXyCBjKWiq",
      "include_colab_link": true
    },
    "kernelspec": {
      "name": "python3",
      "display_name": "Python 3"
    },
    "language_info": {
      "name": "python"
    }
  },
  "cells": [
    {
      "cell_type": "markdown",
      "metadata": {
        "id": "view-in-github",
        "colab_type": "text"
      },
      "source": [
        "<a href=\"https://colab.research.google.com/github/hyunjung930/sesac-web/blob/main/%ED%86%B5%EA%B3%84%EB%8D%B0%EC%9D%B4%ED%84%B0%EB%B6%84%EC%84%9D_KNN%EB%B6%84%EB%A5%98.ipynb\" target=\"_parent\"><img src=\"https://colab.research.google.com/assets/colab-badge.svg\" alt=\"Open In Colab\"/></a>"
      ]
    },
    {
      "cell_type": "markdown",
      "source": [
        "KNN 분류에 사용할 데이터 - 붓꽃 데이터"
      ],
      "metadata": {
        "id": "UuAk3lsom4ER"
      }
    },
    {
      "cell_type": "code",
      "execution_count": null,
      "metadata": {
        "id": "CbpyxBQFmxoE"
      },
      "outputs": [],
      "source": [
        "from sklearn.datasets import load_iris\n",
        "iris_data = load_iris()\n",
        "print(iris_data)"
      ]
    },
    {
      "cell_type": "code",
      "source": [
        "data = iris_data['data']\n",
        "data.shape # 특성의 갯수 ->4\n",
        "# 150개 X (setal-length,setal-width,pepal-length,pepal-width)"
      ],
      "metadata": {
        "colab": {
          "base_uri": "https://localhost:8080/"
        },
        "id": "lhP8ThEfnNi-",
        "outputId": "6724a221-3817-4690-cac1-cbaf479bfb36"
      },
      "execution_count": 11,
      "outputs": [
        {
          "output_type": "execute_result",
          "data": {
            "text/plain": [
              "(150, 4)"
            ]
          },
          "metadata": {},
          "execution_count": 11
        }
      ]
    },
    {
      "cell_type": "code",
      "source": [
        "target = iris_data['target']\n",
        "target.shape # 150개 ([0:50]=>, [50:100]=>1, [100:]=>2 )"
      ],
      "metadata": {
        "colab": {
          "base_uri": "https://localhost:8080/"
        },
        "id": "Y0xGaVnYnYks",
        "outputId": "e59d4970-6ed0-4b98-8abe-28e6bf0f1736"
      },
      "execution_count": 12,
      "outputs": [
        {
          "output_type": "execute_result",
          "data": {
            "text/plain": [
              "(150,)"
            ]
          },
          "metadata": {},
          "execution_count": 12
        }
      ]
    },
    {
      "cell_type": "code",
      "source": [
        "tname = iris_data['target_names']\n",
        "tname #타겟 네임이 0이면 setosa, 1이면 versinica"
      ],
      "metadata": {
        "colab": {
          "base_uri": "https://localhost:8080/"
        },
        "id": "6CV0w8wkngVJ",
        "outputId": "e3758a31-faeb-4e29-af47-451fb579ca79"
      },
      "execution_count": 13,
      "outputs": [
        {
          "output_type": "execute_result",
          "data": {
            "text/plain": [
              "array(['setosa', 'versicolor', 'virginica'], dtype='<U10')"
            ]
          },
          "metadata": {},
          "execution_count": 13
        }
      ]
    },
    {
      "cell_type": "code",
      "source": [
        "for i,t in enumerate(target):\n",
        "  print(f\"{i}:{tname[t]}\")"
      ],
      "metadata": {
        "id": "qjWRGMS1nt9P"
      },
      "execution_count": null,
      "outputs": []
    },
    {
      "cell_type": "code",
      "source": [
        "def distance(x1,x2):\n",
        "  return sum((x1-x2)**2)**(1/2)"
      ],
      "metadata": {
        "id": "LXk0dQY6o0f7"
      },
      "execution_count": 19,
      "outputs": []
    },
    {
      "cell_type": "code",
      "source": [
        "import numpy as np\n",
        "na1 = np.array([1,2])\n",
        "na2 = np.array([5,5])\n",
        "print(distance(na1,na2))"
      ],
      "metadata": {
        "colab": {
          "base_uri": "https://localhost:8080/"
        },
        "id": "7c5uKDQpo9yU",
        "outputId": "8fa15d3f-24de-46e2-e967-9b4b3c1b8a4a"
      },
      "execution_count": 20,
      "outputs": [
        {
          "output_type": "stream",
          "name": "stdout",
          "text": [
            "5.0\n"
          ]
        }
      ]
    },
    {
      "cell_type": "code",
      "source": [
        "def find_k_nearest_neighbor_c(xs,ys,tx,k=5):\n",
        "  sarr = []\n",
        "  for i,x in enumerate(xs):\n",
        "    dis = distance(x,tx)\n",
        "    sarr.append((dis,i)) #거리순으로 정렬한 이후에도 몇 번째 요소인지 기억하기 위해(dis,i)를 보관\n",
        "  sarr.sort(key = lambda x:x[0])\n",
        "  nd = {} #어떠한 클래스에 속하는지 분포를 파악해서 보관하기 위한 용도\n",
        "  for x in sarr[:k]: #k개의 가까운 이웃을 반복\n",
        "    neighbor = ys[x[1]] #x[0]은 거리 x[1]은 인덱스이므로 원하는 값은 ys[x[1]]\n",
        "    if neighbor in nd:\n",
        "      nd[neighbor] += 1\n",
        "    else:\n",
        "      nd[neighbor] = 0 \n",
        "  return max(nd,key=nd.get) #가장 많이 나온 클래스를 반환  "
      ],
      "metadata": {
        "id": "WXb8MBVgo-IE"
      },
      "execution_count": 36,
      "outputs": []
    },
    {
      "cell_type": "code",
      "source": [
        "def find_k_nearset_neighbors_c(xs,ys,t_xs,k=5):\n",
        "  return np.array([find_k_nearest_neighbor_c(xs,ys,tx,k) for tx in t_xs])"
      ],
      "metadata": {
        "id": "m2SkL52Vo-oC"
      },
      "execution_count": 37,
      "outputs": []
    },
    {
      "cell_type": "code",
      "source": [
        "data.shape, target.shape"
      ],
      "metadata": {
        "colab": {
          "base_uri": "https://localhost:8080/"
        },
        "id": "f3k8NLfsrwzw",
        "outputId": "d83fe096-4cd9-4947-8306-b855a9ec4f78"
      },
      "execution_count": 23,
      "outputs": [
        {
          "output_type": "execute_result",
          "data": {
            "text/plain": [
              "((150, 4), (150,))"
            ]
          },
          "metadata": {},
          "execution_count": 23
        }
      ]
    },
    {
      "cell_type": "code",
      "source": [
        "from sklearn.model_selection import train_test_split\n",
        "train_xs, test_xs, train_ys, test_ys = train_test_split(data,target) #학습데이터와 테스트 데이터로 분리\n",
        "train_xs.shape, test_xs.shape,train_ys.shape, test_ys.shape"
      ],
      "metadata": {
        "colab": {
          "base_uri": "https://localhost:8080/"
        },
        "id": "gGRJ9mQZr1HS",
        "outputId": "1c9c20de-0225-4407-a3da-47ad6c60c0a0"
      },
      "execution_count": 25,
      "outputs": [
        {
          "output_type": "execute_result",
          "data": {
            "text/plain": [
              "((112, 4), (38, 4), (112,), (38,))"
            ]
          },
          "metadata": {},
          "execution_count": 25
        }
      ]
    },
    {
      "cell_type": "code",
      "source": [
        "pred_val = find_k_nearset_neighbors_c(train_xs,train_ys,test_xs) # 학습 후 예측하시오."
      ],
      "metadata": {
        "id": "mWilxvnSsKy7"
      },
      "execution_count": 38,
      "outputs": []
    },
    {
      "cell_type": "code",
      "source": [
        "print(f\"예측결과: {pred_val}\")\n",
        "print(f\"실제결과: {test_ys}\")"
      ],
      "metadata": {
        "colab": {
          "base_uri": "https://localhost:8080/"
        },
        "id": "K1DXztfCsWm4",
        "outputId": "744fd4d7-c80c-49d1-b373-7caf1bcfc23b"
      },
      "execution_count": 39,
      "outputs": [
        {
          "output_type": "stream",
          "name": "stdout",
          "text": [
            "예측결과: [1 1 2 1 0 2 0 1 1 0 2 2 2 1 1 0 0 1 0 0 2 2 0 1 2 1 0 1 1 0 2 0 2 1 0 2 0\n",
            " 2]\n",
            "실제결과: [1 1 2 1 0 2 0 1 1 0 1 2 2 1 1 0 0 1 0 0 2 2 0 1 2 1 0 1 1 0 2 0 2 1 0 2 0\n",
            " 2]\n"
          ]
        }
      ]
    },
    {
      "cell_type": "code",
      "source": [
        "import matplotlib.pyplot as plt"
      ],
      "metadata": {
        "id": "o6ti2V3Ox_Eb"
      },
      "execution_count": 40,
      "outputs": []
    },
    {
      "cell_type": "code",
      "source": [
        "plt.plot(pred_val,'ro',label='predict')\n",
        "plt.plot(test_ys,'b.',label='actual')\n",
        "plt.xlabel(\"test index\")\n",
        "plt.ylabel(\"classes\")\n",
        "plt.legend()\n",
        "plt.show()"
      ],
      "metadata": {
        "colab": {
          "base_uri": "https://localhost:8080/",
          "height": 279
        },
        "id": "3rVTFECcyBE5",
        "outputId": "92c575fa-1274-4df8-c0a7-c6f87865b3e1"
      },
      "execution_count": 41,
      "outputs": [
        {
          "output_type": "display_data",
          "data": {
            "image/png": "[encoded data removed]",
            "text/plain": [
              "<Figure size 432x288 with 1 Axes>"
            ]
          },
          "metadata": {
            "needs_background": "light"
          }
        }
      ]
    },
    {
      "cell_type": "code",
      "source": [
        "def evaluate(actual_ys,predict_ys):\n",
        "  correct_cnt = 0\n",
        "  for i,y in enumerate(actual_ys):\n",
        "    if predict_ys[i] == y:\n",
        "      correct_cnt +=1\n",
        "    return correct_cnt/len(actual_ys)"
      ],
      "metadata": {
        "id": "o-3PBd-BzSQ1"
      },
      "execution_count": 42,
      "outputs": []
    },
    {
      "cell_type": "code",
      "source": [
        "print(evaluate(test_ys,pred_val))"
      ],
      "metadata": {
        "colab": {
          "base_uri": "https://localhost:8080/"
        },
        "id": "fsr0MpLGznNe",
        "outputId": "af21bd74-cbcb-43a9-e6cb-de678521d626"
      },
      "execution_count": 43,
      "outputs": [
        {
          "output_type": "stream",
          "name": "stdout",
          "text": [
            "0.02631578947368421\n"
          ]
        }
      ]
    },
    {
      "cell_type": "markdown",
      "source": [
        "ML 개체 사용(사이킷 런의 KNN 분류 모델)"
      ],
      "metadata": {
        "id": "xhQWldphz9Sj"
      }
    },
    {
      "cell_type": "code",
      "source": [
        "from sklearn.neighbors import KNeighborsClassifier\n",
        "knc_model = KNeighborsClassifier() #모델 개체 생성\n",
        "knc_model.fit(train_xs,train_ys) #학습\n",
        "pred_val2 = knc_model.predict(test_xs) #예측하시오"
      ],
      "metadata": {
        "id": "7q3Tj7bO0K6X"
      },
      "execution_count": 46,
      "outputs": []
    },
    {
      "cell_type": "code",
      "source": [
        "print(f\"예측결과 :{pred_val}\")\n",
        "print(f\"예측결과2 :{pred_val2}\")\n",
        "print(f\"실제결과 :{test_ys}\")"
      ],
      "metadata": {
        "colab": {
          "base_uri": "https://localhost:8080/"
        },
        "id": "xkgaDvo70cxa",
        "outputId": "c86e1bff-190c-4b48-fc29-0cbe25a3d029"
      },
      "execution_count": 48,
      "outputs": [
        {
          "output_type": "stream",
          "name": "stdout",
          "text": [
            "예측결과 :[1 1 2 1 0 2 0 1 1 0 2 2 2 1 1 0 0 1 0 0 2 2 0 1 2 1 0 1 1 0 2 0 2 1 0 2 0\n",
            " 2]\n",
            "예측결과2 :[1 1 2 1 0 2 0 1 1 0 2 2 2 1 1 0 0 1 0 0 2 2 0 1 2 1 0 1 1 0 2 0 2 1 0 2 0\n",
            " 2]\n",
            "실제결과 :[1 1 2 1 0 2 0 1 1 0 1 2 2 1 1 0 0 1 0 0 2 2 0 1 2 1 0 1 1 0 2 0 2 1 0 2 0\n",
            " 2]\n"
          ]
        }
      ]
    },
    {
      "cell_type": "code",
      "source": [
        "plt.plot(pred_val,'ro',label='predict')\n",
        "plt.plot(pred_val2,'g*',label='predict2')\n",
        "plt.plot(test_ys,'b.',label='actual')\n",
        "plt.xlabel(\"test index\")\n",
        "plt.ylabel(\"classes\")\n",
        "plt.legend(loc = (0.6,0.6))\n",
        "plt.show()"
      ],
      "metadata": {
        "colab": {
          "base_uri": "https://localhost:8080/",
          "height": 279
        },
        "id": "6xdoiMZQ1NfC",
        "outputId": "bb00e839-5ff0-46c1-d3e2-b9df9c3de63a"
      },
      "execution_count": 52,
      "outputs": [
        {
          "output_type": "display_data",
          "data": {
            "image/png": "[encoded data removed]",
            "text/plain": [
              "<Figure size 432x288 with 1 Axes>"
            ]
          },
          "metadata": {
            "needs_background": "light"
          }
        }
      ]
    },
    {
      "cell_type": "code",
      "source": [
        "print(evaluate(test_ys,pred_val2))"
      ],
      "metadata": {
        "colab": {
          "base_uri": "https://localhost:8080/"
        },
        "id": "fi7KAQlj2ilq",
        "outputId": "d8f75074-8bca-4fa9-efce-3a718ae2e930"
      },
      "execution_count": 53,
      "outputs": [
        {
          "output_type": "stream",
          "name": "stdout",
          "text": [
            "0.02631578947368421\n"
          ]
        }
      ]
    }
  ]
}