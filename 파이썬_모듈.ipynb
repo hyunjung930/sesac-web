{
  "nbformat": 4,
  "nbformat_minor": 0,
  "metadata": {
    "colab": {
      "name": "파이썬-모듈.ipynb",
      "provenance": [],
      "collapsed_sections": [],
      "mount_file_id": "1LQj8qEMvsEUa1F16P3JGXL6ltvN-tI60",
      "authorship_tag": "ABX9TyPLu3jRemZgeAj5laS+vW6c",
      "include_colab_link": true
    },
    "kernelspec": {
      "name": "python3",
      "display_name": "Python 3"
    },
    "language_info": {
      "name": "python"
    }
  },
  "cells": [
    {
      "cell_type": "markdown",
      "metadata": {
        "id": "view-in-github",
        "colab_type": "text"
      },
      "source": [
        "<a href=\"https://colab.research.google.com/github/hyunjung930/sesac-web/blob/main/%ED%8C%8C%EC%9D%B4%EC%8D%AC_%EB%AA%A8%EB%93%88.ipynb\" target=\"_parent\"><img src=\"https://colab.research.google.com/assets/colab-badge.svg\" alt=\"Open In Colab\"/></a>"
      ]
    },
    {
      "cell_type": "markdown",
      "source": [
        "#모듈\n",
        "\n",
        "관련있는 형식이나 기능을 모아서 정의한 코드 집합\n",
        "\n",
        "파이썬에서는 하나의 파이썬 파일(.py)로 정의\n",
        "\n",
        "\n",
        "\n",
        "\n",
        "*   표준 모듈 \n",
        "  : 파이썬을 설치하면 기본적으로 사용 가능한 모듈\n",
        "\n",
        "*   외부 모듈\n",
        "  :별도의 설치를 해야 사용 가능한 모듈\n",
        "\n",
        "*   사용자 정의 모듈\n",
        "  :개발자(파이썬 사용자)가 직접 정의한 모듈\n",
        "\n",
        "\n"
      ],
      "metadata": {
        "id": "QSJuuFYW5M9n"
      }
    },
    {
      "cell_type": "markdown",
      "source": [
        "# 패키지\n",
        "\n",
        "배포의 단위\n",
        "\n",
        "파이썬에서는 파이썬 파일들을 포함하는 폴더\n"
      ],
      "metadata": {
        "id": "6UQLe6V35fKo"
      }
    },
    {
      "cell_type": "markdown",
      "source": [
        "#프레임워크\n",
        "\n",
        "비슷한 형태의 프로그램의 기본 구조와 골격을 정의해 놓은 것\n"
      ],
      "metadata": {
        "id": "JSea4Kpu5xpL"
      }
    },
    {
      "cell_type": "markdown",
      "source": [
        "#진입점(Entry Point)\n",
        "\n",
        "프로그램을 실행시켰을 때 시작하는 지점\n",
        "\n",
        "__name__에는 진입점이 무엇인지 알 수 있다."
      ],
      "metadata": {
        "id": "niPIkJ4A7vc-"
      }
    },
    {
      "cell_type": "markdown",
      "source": [
        "#모듈 사용하기\n"
      ],
      "metadata": {
        "id": "jeaFSxmSGfOi"
      }
    },
    {
      "cell_type": "code",
      "source": [
        "import sys\n",
        "\n",
        "sys.path.append('/content/drive/MyDrive/module')\n",
        "sys.path # 상대경로로 환경변수 설정해줌.(파일명에 쉽게 접근하기 위해서 사용)"
      ],
      "metadata": {
        "colab": {
          "base_uri": "https://localhost:8080/"
        },
        "id": "L9elkwZl9qm8",
        "outputId": "f5e82ec8-c600-4413-fcfa-af1b30189534"
      },
      "execution_count": 1,
      "outputs": [
        {
          "output_type": "execute_result",
          "data": {
            "text/plain": [
              "['',\n",
              " '/content',\n",
              " '/env/python',\n",
              " '/usr/lib/python37.zip',\n",
              " '/usr/lib/python3.7',\n",
              " '/usr/lib/python3.7/lib-dynload',\n",
              " '/usr/local/lib/python3.7/dist-packages',\n",
              " '/usr/lib/python3/dist-packages',\n",
              " '/usr/local/lib/python3.7/dist-packages/IPython/extensions',\n",
              " '/root/.ipython',\n",
              " '/content/drive/MyDrive/module']"
            ]
          },
          "metadata": {},
          "execution_count": 1
        }
      ]
    },
    {
      "cell_type": "code",
      "source": [
        "import dummy"
      ],
      "metadata": {
        "id": "INdP99FR-UXj"
      },
      "execution_count": 2,
      "outputs": []
    },
    {
      "cell_type": "code",
      "source": [
        "dummy.print_n(\"Hello\",3) # dummy안에 있는 내용 쓸 수 있다. "
      ],
      "metadata": {
        "colab": {
          "base_uri": "https://localhost:8080/"
        },
        "id": "lXz9mgBt-Wuh",
        "outputId": "2a78073d-e0a6-440f-a3b1-201470c897dd"
      },
      "execution_count": 3,
      "outputs": [
        {
          "output_type": "stream",
          "name": "stdout",
          "text": [
            "1 s\n",
            "2 s\n",
            "3 s\n"
          ]
        }
      ]
    },
    {
      "cell_type": "code",
      "source": [
        "dummy.print_list([1,2,3])"
      ],
      "metadata": {
        "colab": {
          "base_uri": "https://localhost:8080/"
        },
        "id": "KTi7nGIT-co8",
        "outputId": "0514635d-3b5b-4853-ab7f-f423190649c2"
      },
      "execution_count": 4,
      "outputs": [
        {
          "output_type": "stream",
          "name": "stdout",
          "text": [
            "1 : 1\n",
            "2 : 2\n",
            "3 : 3\n"
          ]
        }
      ]
    },
    {
      "cell_type": "markdown",
      "source": [
        "#모듈에 있는 이름을 직접 사용하기\n",
        "\n",
        "from 모듈이름 import"
      ],
      "metadata": {
        "id": "Li2X8OpAGiwW"
      }
    },
    {
      "cell_type": "code",
      "source": [
        "# 위에 이름이 길어 축약형 사용 \n",
        "from dummy import print_n,print_list"
      ],
      "metadata": {
        "id": "Knv9u8ncAFda"
      },
      "execution_count": 5,
      "outputs": []
    },
    {
      "cell_type": "code",
      "source": [
        "print_n(\"yahoo\",3) # hoo로 축약하여 사용"
      ],
      "metadata": {
        "colab": {
          "base_uri": "https://localhost:8080/"
        },
        "id": "qpogbmrFALOm",
        "outputId": "ab618799-7acd-4e4c-dd78-acea7b253e9d"
      },
      "execution_count": 6,
      "outputs": [
        {
          "output_type": "stream",
          "name": "stdout",
          "text": [
            "1 s\n",
            "2 s\n",
            "3 s\n"
          ]
        }
      ]
    },
    {
      "cell_type": "code",
      "source": [
        "print_list([1,2,3])"
      ],
      "metadata": {
        "colab": {
          "base_uri": "https://localhost:8080/"
        },
        "id": "A9zCPtHJAb-2",
        "outputId": "79dd0d9c-06c2-4797-e57e-a9ccc5fae9e4"
      },
      "execution_count": 7,
      "outputs": [
        {
          "output_type": "stream",
          "name": "stdout",
          "text": [
            "1 : 1\n",
            "2 : 2\n",
            "3 : 3\n"
          ]
        }
      ]
    },
    {
      "cell_type": "markdown",
      "source": [
        "from 모듈이름 import*\n",
        "\n",
        "모듈에 있는 모든 이름을 직접 사용할 수 있다.\n",
        "\n",
        "하지만 다른 모듈에 같은 이름이 있을 때 모호할 수 있으니 권장하지 않음"
      ],
      "metadata": {
        "id": "gLSTJzpYGpDY"
      }
    },
    {
      "cell_type": "code",
      "source": [
        "from dummy import * # 모든 것의 이름을 직접 사용하겠다."
      ],
      "metadata": {
        "id": "ykwm4Pt2Ainz"
      },
      "execution_count": 8,
      "outputs": []
    },
    {
      "cell_type": "code",
      "source": [
        "print_n(\"yahoo\",3)"
      ],
      "metadata": {
        "colab": {
          "base_uri": "https://localhost:8080/"
        },
        "id": "wfGO2jYoApic",
        "outputId": "8f062f51-661b-4296-9b8c-c58102946a37"
      },
      "execution_count": 9,
      "outputs": [
        {
          "output_type": "stream",
          "name": "stdout",
          "text": [
            "1 s\n",
            "2 s\n",
            "3 s\n"
          ]
        }
      ]
    },
    {
      "cell_type": "code",
      "source": [
        "if __name__ == \"__main__\": # 현재 파일의 main이 진입점일 때 수행하시오.\n",
        "  print_n(\"Hello\",3)\n",
        "  print_list([1,2,3])"
      ],
      "metadata": {
        "colab": {
          "base_uri": "https://localhost:8080/"
        },
        "id": "CaUwK1LVA3yo",
        "outputId": "a06b31ea-7217-476e-87fd-856f04b84ff7"
      },
      "execution_count": 10,
      "outputs": [
        {
          "output_type": "stream",
          "name": "stdout",
          "text": [
            "1 s\n",
            "2 s\n",
            "3 s\n",
            "1 : 1\n",
            "2 : 2\n",
            "3 : 3\n"
          ]
        }
      ]
    },
    {
      "cell_type": "code",
      "source": [
        "import dummy as dm # as는 닉네임 dm이라는 dummy를 줄였다.\n",
        "dm.print_n(\"yahoo\",3)"
      ],
      "metadata": {
        "colab": {
          "base_uri": "https://localhost:8080/"
        },
        "id": "QWTAQCCtBsDE",
        "outputId": "c1656496-3962-4a0f-dc95-e1c50ce3250b"
      },
      "execution_count": 11,
      "outputs": [
        {
          "output_type": "stream",
          "name": "stdout",
          "text": [
            "1 s\n",
            "2 s\n",
            "3 s\n"
          ]
        }
      ]
    },
    {
      "cell_type": "code",
      "source": [
        "if __name__ == \"__main__\": # 현재 파일의 main이 진입점일 때 수행하시오.\n",
        "  print_n(\"Hello\",3)\n",
        "  print_list([1,2,3])"
      ],
      "metadata": {
        "colab": {
          "base_uri": "https://localhost:8080/"
        },
        "id": "wmwAE21gBwy1",
        "outputId": "6d5e7520-3fa3-483f-c003-8fce0780761e"
      },
      "execution_count": 12,
      "outputs": [
        {
          "output_type": "stream",
          "name": "stdout",
          "text": [
            "1 s\n",
            "2 s\n",
            "3 s\n",
            "1 : 1\n",
            "2 : 2\n",
            "3 : 3\n"
          ]
        }
      ]
    },
    {
      "cell_type": "code",
      "source": [
        "import dummy2 as d2 "
      ],
      "metadata": {
        "colab": {
          "base_uri": "https://localhost:8080/"
        },
        "id": "a3PMjweVHqOF",
        "outputId": "cef2fced-7e8f-4ffb-e1fa-704f97a4c210"
      },
      "execution_count": 13,
      "outputs": [
        {
          "output_type": "stream",
          "name": "stdout",
          "text": [
            "1:Hello\n",
            "2:Hello\n",
            "3:Hello\n"
          ]
        }
      ]
    },
    {
      "cell_type": "code",
      "source": [
        "d2.dprint('hello',3)"
      ],
      "metadata": {
        "colab": {
          "base_uri": "https://localhost:8080/"
        },
        "id": "i8VjQUpsIwVw",
        "outputId": "7ec3c091-871b-47dd-a4b8-e1de311e8f3f"
      },
      "execution_count": 14,
      "outputs": [
        {
          "output_type": "stream",
          "name": "stdout",
          "text": [
            "1:hello\n",
            "2:hello\n",
            "3:hello\n"
          ]
        }
      ]
    }
  ]
}