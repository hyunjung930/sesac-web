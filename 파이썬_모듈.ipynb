{
  "nbformat": 4,
  "nbformat_minor": 0,
  "metadata": {
    "colab": {
      "name": "파이썬-모듈.ipynb",
      "provenance": [],
      "authorship_tag": "ABX9TyNR4i9lkW8/PFItqvSjsHQw",
      "include_colab_link": true
    },
    "kernelspec": {
      "name": "python3",
      "display_name": "Python 3"
    },
    "language_info": {
      "name": "python"
    }
  },
  "cells": [
    {
      "cell_type": "markdown",
      "metadata": {
        "id": "view-in-github",
        "colab_type": "text"
      },
      "source": [
        "<a href=\"https://colab.research.google.com/github/hyunjung930/sesac-web/blob/main/%ED%8C%8C%EC%9D%B4%EC%8D%AC_%EB%AA%A8%EB%93%88.ipynb\" target=\"_parent\"><img src=\"https://colab.research.google.com/assets/colab-badge.svg\" alt=\"Open In Colab\"/></a>"
      ]
    },
    {
      "cell_type": "markdown",
      "source": [
        "#모듈\n",
        "\n",
        "관련있는 형식이나 기능을 모아서 정의한 코드 집합\n",
        "\n",
        "파이썬에서는 하나의 파이썬 파일(.py)로 정의\n",
        "\n",
        "\n",
        "\n",
        "\n",
        "*   표준 모듈 \n",
        "  : 파이썬을 설치하면 기본적으로 사용 가능한 모듈\n",
        "\n",
        "*   외부 모듈\n",
        "  :별도의 설치를 해야 사용 가능한 모듈\n",
        "\n",
        "*   사용자 정의 모듈\n",
        "  :개발자(파이썬 사용자)가 직접 정의한 모듈\n",
        "\n",
        "\n"
      ],
      "metadata": {
        "id": "QSJuuFYW5M9n"
      }
    },
    {
      "cell_type": "markdown",
      "source": [
        "# 패키지\n",
        "\n",
        "배포의 단위\n",
        "\n",
        "파이썬에서는 파이썬 파일들을 포함하는 폴더\n"
      ],
      "metadata": {
        "id": "6UQLe6V35fKo"
      }
    },
    {
      "cell_type": "markdown",
      "source": [
        "#프레임워크\n",
        "\n",
        "비슷한 형태의 프로그램의 기본 구조와 골격을 정의해 놓은 것\n"
      ],
      "metadata": {
        "id": "JSea4Kpu5xpL"
      }
    }
  ]
}