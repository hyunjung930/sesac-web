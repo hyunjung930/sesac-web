{
  "nbformat": 4,
  "nbformat_minor": 0,
  "metadata": {
    "colab": {
      "name": "파이썬 - 조건문- if.ipynb",
      "provenance": [],
      "authorship_tag": "ABX9TyM4sxKZr0k/jZhF3NtT9pU7",
      "include_colab_link": true
    },
    "kernelspec": {
      "name": "python3",
      "display_name": "Python 3"
    },
    "language_info": {
      "name": "python"
    }
  },
  "cells": [
    {
      "cell_type": "markdown",
      "metadata": {
        "id": "view-in-github",
        "colab_type": "text"
      },
      "source": [
        "<a href=\"https://colab.research.google.com/github/hyunjung930/sesac-web/blob/main/%ED%8C%8C%EC%9D%B4%EC%8D%AC_%EC%A1%B0%EA%B1%B4%EB%AC%B8_if.ipynb\" target=\"_parent\"><img src=\"https://colab.research.google.com/assets/colab-badge.svg\" alt=\"Open In Colab\"/></a>"
      ]
    },
    {
      "cell_type": "markdown",
      "source": [
        "#조건문 if\n",
        "- if expression:\n",
        "....statement\n",
        "expression이 참일 때 statement 수행\n"
      ],
      "metadata": {
        "id": "-BKx0pZqgGa3"
      }
    },
    {
      "cell_type": "code",
      "source": [
        "num1 = int(input(\"국어점수: \"))\n",
        "if num1>=90:\n",
        "  print(\"A\") # 조건이 참일 때 수행하는 구문\n",
        "  print(\"Good\")\n",
        "print(\"끝~\")"
      ],
      "metadata": {
        "colab": {
          "base_uri": "https://localhost:8080/"
        },
        "id": "toJJbBYng2aZ",
        "outputId": "55b8cbae-5973-4e01-e67f-d1c8d967dc64"
      },
      "execution_count": 4,
      "outputs": [
        {
          "output_type": "stream",
          "name": "stdout",
          "text": [
            "국어점수: 85\n",
            "끝~\n"
          ]
        }
      ]
    },
    {
      "cell_type": "code",
      "source": [
        "import datetime"
      ],
      "metadata": {
        "id": "GBT71JPziZ4k"
      },
      "execution_count": 6,
      "outputs": []
    },
    {
      "cell_type": "code",
      "source": [
        "now = datetime.datetime.now()\n",
        "if now.hour>12:\n",
        " print('오후입니다.')\n",
        "print(now.hour)"
      ],
      "metadata": {
        "colab": {
          "base_uri": "https://localhost:8080/"
        },
        "id": "-Depce6Wi5Ps",
        "outputId": "a4a99e36-1152-4f41-80cc-7ec17a96f724"
      },
      "execution_count": 8,
      "outputs": [
        {
          "output_type": "stream",
          "name": "stdout",
          "text": [
            "6\n"
          ]
        }
      ]
    },
    {
      "cell_type": "code",
      "source": [
        "now = datetime.datetime.now()\n",
        "if (now.month==1)or(now.month==2)or(now.month==12):\n",
        " print('겨울')\n",
        "if (now.month==3)or(now.month==4)or(now.month==5):\n",
        " print('봄')\n",
        "if (now.month==6)or(now.month==7)or(now.month==8):\n",
        " print('여름')\n",
        "if (now.month==9)or(now.month==10)or(now.month==11):\n",
        " print('가을')"
      ],
      "metadata": {
        "colab": {
          "base_uri": "https://localhost:8080/"
        },
        "id": "MLionucikIlh",
        "outputId": "71a5e7ed-07c5-4482-c496-a9fe2827a0f9"
      },
      "execution_count": 10,
      "outputs": [
        {
          "output_type": "stream",
          "name": "stdout",
          "text": [
            "겨울\n"
          ]
        }
      ]
    }
  ]
}