{
  "nbformat": 4,
  "nbformat_minor": 0,
  "metadata": {
    "colab": {
      "name": "파이썬 - 반복문(관련 함수).ipynb",
      "provenance": [],
      "authorship_tag": "ABX9TyMFgPIhFYUaJKhr9uu56c7T",
      "include_colab_link": true
    },
    "kernelspec": {
      "name": "python3",
      "display_name": "Python 3"
    },
    "language_info": {
      "name": "python"
    }
  },
  "cells": [
    {
      "cell_type": "markdown",
      "metadata": {
        "id": "view-in-github",
        "colab_type": "text"
      },
      "source": [
        "<a href=\"https://colab.research.google.com/github/hyunjung930/sesac-web/blob/main/%ED%8C%8C%EC%9D%B4%EC%8D%AC_%EB%B0%98%EB%B3%B5%EB%AC%B8(%EA%B4%80%EB%A0%A8_%ED%95%A8%EC%88%98).ipynb\" target=\"_parent\"><img src=\"https://colab.research.google.com/assets/colab-badge.svg\" alt=\"Open In Colab\"/></a>"
      ]
    },
    {
      "cell_type": "markdown",
      "source": [
        "# 리스트 관련 함수"
      ],
      "metadata": {
        "id": "NKS8RKYJP-i7"
      }
    },
    {
      "cell_type": "code",
      "source": [
        "ls = [10, 98, 11, 23, 45, 77, 6]\n",
        "print(\"최솟값:\", min(ls))\n",
        "print(\"최대값:\", max(ls))\n",
        "print(\"합계: \", sum(ls))"
      ],
      "metadata": {
        "colab": {
          "base_uri": "https://localhost:8080/"
        },
        "id": "q6d0GWmkQBpY",
        "outputId": "37441e94-3f99-4e23-9f8a-d47e8cec7ca6"
      },
      "execution_count": 5,
      "outputs": [
        {
          "output_type": "stream",
          "name": "stdout",
          "text": [
            "최솟값: 6\n",
            "최대값: 98\n",
            "합계:  270\n"
          ]
        }
      ]
    },
    {
      "cell_type": "code",
      "source": [
        "ls.sort()\n",
        "print(ls)\n",
        "ls.reverse()\n",
        "print(ls)"
      ],
      "metadata": {
        "colab": {
          "base_uri": "https://localhost:8080/"
        },
        "id": "OqOjz5PDQaEY",
        "outputId": "43a86160-927e-4a26-d267-fc63d01e68da"
      },
      "execution_count": 6,
      "outputs": [
        {
          "output_type": "stream",
          "name": "stdout",
          "text": [
            "[6, 10, 11, 23, 45, 77, 98]\n",
            "[98, 77, 45, 23, 11, 10, 6]\n"
          ]
        }
      ]
    },
    {
      "cell_type": "code",
      "source": [
        "rls = reversed(ls)  # 변환 시킨것을 반환시켜줌\n",
        "for elem in rls:\n",
        "   print(elem, end =' ')\n",
        "print()\n",
        "print(ls)"
      ],
      "metadata": {
        "colab": {
          "base_uri": "https://localhost:8080/"
        },
        "id": "XnOLiyP2QuLF",
        "outputId": "6a4bb969-36d2-4a3b-fa97-2aa356ded719"
      },
      "execution_count": 8,
      "outputs": [
        {
          "output_type": "stream",
          "name": "stdout",
          "text": [
            "6 10 11 23 45 77 98 \n",
            "[98, 77, 45, 23, 11, 10, 6]\n"
          ]
        }
      ]
    },
    {
      "cell_type": "code",
      "source": [
        "ls = [3,4,5,10,23,45,9]\n",
        "els = enumerate(ls)\n",
        "print(els)"
      ],
      "metadata": {
        "colab": {
          "base_uri": "https://localhost:8080/"
        },
        "id": "9Nw3eHNaRWt0",
        "outputId": "093a005a-4ec1-427f-855e-c7775d1e22e9"
      },
      "execution_count": 9,
      "outputs": [
        {
          "output_type": "stream",
          "name": "stdout",
          "text": [
            "<enumerate object at 0x7f979d196e60>\n"
          ]
        }
      ]
    },
    {
      "cell_type": "code",
      "source": [
        "print(list(els))"
      ],
      "metadata": {
        "colab": {
          "base_uri": "https://localhost:8080/"
        },
        "id": "QzOfyu0vRnJm",
        "outputId": "7b12edc3-1b53-4ade-df81-a54a0fbb287a"
      },
      "execution_count": 10,
      "outputs": [
        {
          "output_type": "stream",
          "name": "stdout",
          "text": [
            "[(0, 3), (1, 4), (2, 5), (3, 10), (4, 23), (5, 45), (6, 9)]\n"
          ]
        }
      ]
    },
    {
      "cell_type": "code",
      "source": [
        "ls = [3,4,5,10,23,45,9]  # 리스트의 요소를 반복할 떄 인덱스가 몇번째인지 확이해야 하는 경우 enumerate 사용\n",
        "for index, elem in enumerate(ls):\n",
        "  print(f\"{index}:{elem}\")"
      ],
      "metadata": {
        "colab": {
          "base_uri": "https://localhost:8080/"
        },
        "id": "o17BOhz1Rw29",
        "outputId": "d61493b3-193f-4c23-9452-1754382ec55b"
      },
      "execution_count": 11,
      "outputs": [
        {
          "output_type": "stream",
          "name": "stdout",
          "text": [
            "0:3\n",
            "1:4\n",
            "2:5\n",
            "3:10\n",
            "4:23\n",
            "5:45\n",
            "6:9\n"
          ]
        }
      ]
    },
    {
      "cell_type": "markdown",
      "source": [
        "# 딕셔너리"
      ],
      "metadata": {
        "id": "RxKJKwUDSJ4W"
      }
    },
    {
      "cell_type": "code",
      "source": [
        "ex_dict = {}\n",
        "ex_dict[\"홍길동\"] = 78\n",
        "ex_dict[\"감길동\"] = 78\n",
        "ex_dict[\"고길동\"] = 78\n",
        "ex_dict[\"제갈길동\"] = 78\n",
        "print(ex_dict)"
      ],
      "metadata": {
        "colab": {
          "base_uri": "https://localhost:8080/"
        },
        "id": "zpGvIl20SLli",
        "outputId": "e8272c4b-d01e-4780-eb5d-a6335fa9918d"
      },
      "execution_count": 12,
      "outputs": [
        {
          "output_type": "stream",
          "name": "stdout",
          "text": [
            "{'홍길동': 78, '감길동': 78, '고길동': 78, '제갈길동': 78}\n"
          ]
        }
      ]
    },
    {
      "cell_type": "code",
      "source": [
        "print(ex_dict.items())"
      ],
      "metadata": {
        "colab": {
          "base_uri": "https://localhost:8080/"
        },
        "id": "nGL47xM2Sdlm",
        "outputId": "a5383f1a-6ef3-4e7c-c7c7-8106e24109bb"
      },
      "execution_count": 13,
      "outputs": [
        {
          "output_type": "stream",
          "name": "stdout",
          "text": [
            "dict_items([('홍길동', 78), ('감길동', 78), ('고길동', 78), ('제갈길동', 78)])\n"
          ]
        }
      ]
    },
    {
      "cell_type": "code",
      "source": [
        "for key, value in ex_dict.items():\n",
        " print(f\"key:{key} value:{value}\")"
      ],
      "metadata": {
        "colab": {
          "base_uri": "https://localhost:8080/"
        },
        "id": "DR6B964ASqwS",
        "outputId": "e02f1c58-14a8-4568-84b5-ddc3d8a82dd4"
      },
      "execution_count": 14,
      "outputs": [
        {
          "output_type": "stream",
          "name": "stdout",
          "text": [
            "key:홍길동 value:78\n",
            "key:감길동 value:78\n",
            "key:고길동 value:78\n",
            "key:제갈길동 value:78\n"
          ]
        }
      ]
    },
    {
      "cell_type": "code",
      "source": [
        "sdict = sorted(ex_dict)\n",
        "print(sdict)"
      ],
      "metadata": {
        "colab": {
          "base_uri": "https://localhost:8080/"
        },
        "id": "50CEq-VtS2Am",
        "outputId": "28b58dee-40a6-4451-edea-b4a733711d4b"
      },
      "execution_count": 15,
      "outputs": [
        {
          "output_type": "stream",
          "name": "stdout",
          "text": [
            "['감길동', '고길동', '제갈길동', '홍길동']\n"
          ]
        }
      ]
    }
  ]
}