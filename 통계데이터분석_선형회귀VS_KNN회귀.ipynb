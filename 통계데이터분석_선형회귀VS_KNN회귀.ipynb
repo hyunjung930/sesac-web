{
  "nbformat": 4,
  "nbformat_minor": 0,
  "metadata": {
    "colab": {
      "name": "통계데이터분석-선형회귀VS KNN회귀",
      "provenance": [],
      "authorship_tag": "ABX9TyMD6qyHeOrhphtuT1Pe6ZNT",
      "include_colab_link": true
    },
    "kernelspec": {
      "name": "python3",
      "display_name": "Python 3"
    },
    "language_info": {
      "name": "python"
    }
  },
  "cells": [
    {
      "cell_type": "markdown",
      "metadata": {
        "id": "view-in-github",
        "colab_type": "text"
      },
      "source": [
        "<a href=\"https://colab.research.google.com/github/hyunjung930/sesac-web/blob/main/%ED%86%B5%EA%B3%84%EB%8D%B0%EC%9D%B4%ED%84%B0%EB%B6%84%EC%84%9D_%EC%84%A0%ED%98%95%ED%9A%8C%EA%B7%80VS_KNN%ED%9A%8C%EA%B7%80.ipynb\" target=\"_parent\"><img src=\"https://colab.research.google.com/assets/colab-badge.svg\" alt=\"Open In Colab\"/></a>"
      ]
    },
    {
      "cell_type": "markdown",
      "source": [
        "선형회귀VS KNN회귀"
      ],
      "metadata": {
        "id": "JuWR-XmVKtA9"
      }
    },
    {
      "cell_type": "code",
      "source": [
        "import numpy as np\n",
        "n=1000\n",
        "heights = np.random.normal(172,8,n)"
      ],
      "metadata": {
        "id": "9CxLobMeKua1"
      },
      "execution_count": 4,
      "outputs": []
    },
    {
      "cell_type": "code",
      "source": [
        "heights2 =[height//5 for height in heights]\n",
        "import pandas as pd\n",
        "se = pd.Series(heights2)\n",
        "svc= se.value_counts()"
      ],
      "metadata": {
        "id": "13N8oFEIK2JA"
      },
      "execution_count": 10,
      "outputs": []
    },
    {
      "cell_type": "code",
      "source": [
        "import matplotlib.pyplot as plt\n",
        "plt.bar(svc.index,svc.values)\n",
        "plt.show()"
      ],
      "metadata": {
        "colab": {
          "base_uri": "https://localhost:8080/",
          "height": 265
        },
        "id": "MW-RyKBpK5Di",
        "outputId": "9269ffb7-19fa-42da-d242-c0ca5e5a40b0"
      },
      "execution_count": 11,
      "outputs": [
        {
          "output_type": "display_data",
          "data": {
            "image/png": "[encoded data removed]",
            "text/plain": [
              "<Figure size 432x288 with 1 Axes>"
            ]
          },
          "metadata": {
            "needs_background": "light"
          }
        }
      ]
    },
    {
      "cell_type": "code",
      "source": [
        "bmi = np.random.normal(21,1,n)\n",
        "weights = bmi*(heights**2)/10000 #bmi = w/(txt), t의 단위는 m"
      ],
      "metadata": {
        "id": "nIw8vjSAMLG4"
      },
      "execution_count": 13,
      "outputs": []
    },
    {
      "cell_type": "code",
      "source": [
        "plt.figure(figsize=(10,5))\n",
        "plt.plot(heights,weights,'.')\n",
        "plt.xlabel(\"height\")\n",
        "plt.ylabel(\"weight\")\n",
        "plt.xlim(0,220)\n",
        "plt.ylim(0,110)\n",
        "plt.grid(True)\n",
        "plt.show()"
      ],
      "metadata": {
        "colab": {
          "base_uri": "https://localhost:8080/",
          "height": 334
        },
        "id": "XcBCDpx_M0ce",
        "outputId": "42983cf0-8ed8-48ae-a23c-e1aa12be0ad0"
      },
      "execution_count": 19,
      "outputs": [
        {
          "output_type": "display_data",
          "data": {
            "image/png": "[encoded data removed]",
            "text/plain": [
              "<Figure size 720x360 with 1 Axes>"
            ]
          },
          "metadata": {
            "needs_background": "light"
          }
        }
      ]
    },
    {
      "cell_type": "code",
      "source": [
        "#xs = [[weight] for weight in weights]\n",
        "xs =weights.reshape(-1,1) #독립변수는 여러 특성으로 구성할 수 있어서 ML 모델에서는 2차원 배열 형태로 학습 데이터를 입력받음\n",
        "xs.shape"
      ],
      "metadata": {
        "colab": {
          "base_uri": "https://localhost:8080/"
        },
        "id": "kSm_GEs4OiOo",
        "outputId": "65096ef5-34df-4f18-c3ba-6a0fd64b03b0"
      },
      "execution_count": 34,
      "outputs": [
        {
          "output_type": "execute_result",
          "data": {
            "text/plain": [
              "(1000, 1)"
            ]
          },
          "metadata": {},
          "execution_count": 34
        }
      ]
    },
    {
      "cell_type": "code",
      "source": [
        "ys = heights #종속변수는 한개이며 ML모델에서 1차원 배열 형태로 학습 데이터를 입력받음\n",
        "ys.shape"
      ],
      "metadata": {
        "colab": {
          "base_uri": "https://localhost:8080/"
        },
        "id": "209Nl2dzOzSx",
        "outputId": "b89425c2-d86e-4ef2-d4e0-d82a5c9d5edf"
      },
      "execution_count": 35,
      "outputs": [
        {
          "output_type": "execute_result",
          "data": {
            "text/plain": [
              "(1000,)"
            ]
          },
          "metadata": {},
          "execution_count": 35
        }
      ]
    },
    {
      "cell_type": "code",
      "source": [
        "from sklearn.linear_model import LinearRegression\n",
        "lr_model = LinearRegression() #모델 개체 생성\n",
        "lr_model.fit(xs,ys) #학습\n",
        "lr_model.coef_, lr_model.intercept_ #가중치, 편향"
      ],
      "metadata": {
        "colab": {
          "base_uri": "https://localhost:8080/"
        },
        "id": "ziqstZ0EPLXD",
        "outputId": "f8b3537a-9a61-40e7-8aae-869c89385a4e"
      },
      "execution_count": 24,
      "outputs": [
        {
          "output_type": "execute_result",
          "data": {
            "text/plain": [
              "(array([1.09469384]), 103.84516404914123)"
            ]
          },
          "metadata": {},
          "execution_count": 24
        }
      ]
    },
    {
      "cell_type": "code",
      "source": [
        "txs = np.array([[50],[60],[67],[70],[94]])"
      ],
      "metadata": {
        "id": "yZiQN1HkQE94"
      },
      "execution_count": 27,
      "outputs": []
    },
    {
      "cell_type": "code",
      "source": [
        "pred_val1 = lr_model.predict(txs) #예측하시오.\n",
        "pred_val1"
      ],
      "metadata": {
        "colab": {
          "base_uri": "https://localhost:8080/"
        },
        "id": "sdwu2zi7QmR7",
        "outputId": "371de137-87ce-43e8-a140-2f6224598ac3"
      },
      "execution_count": 28,
      "outputs": [
        {
          "output_type": "execute_result",
          "data": {
            "text/plain": [
              "array([158.57985622, 169.52679465, 177.18965156, 180.47373309,\n",
              "       206.74638533])"
            ]
          },
          "metadata": {},
          "execution_count": 28
        }
      ]
    },
    {
      "cell_type": "code",
      "source": [
        "from sklearn.model_selection import train_test_split\n",
        "train_xs,test_xs,train_ys,test_ys = train_test_split(xs,ys,train_size=0.8)\n",
        "train_xs.shape, test_xs.shape,train_ys.shape,test_ys.shape"
      ],
      "metadata": {
        "colab": {
          "base_uri": "https://localhost:8080/"
        },
        "id": "pxx0W1ZYRsWq",
        "outputId": "72ed46ac-5d42-43c2-cbce-5fb798758384"
      },
      "execution_count": 39,
      "outputs": [
        {
          "output_type": "execute_result",
          "data": {
            "text/plain": [
              "((800, 1), (200, 1), (800,), (200,))"
            ]
          },
          "metadata": {},
          "execution_count": 39
        }
      ]
    },
    {
      "cell_type": "code",
      "source": [
        "lr_model = LinearRegression() #모델 개체 생성\n",
        "lr_model.fit(xs,ys)\n",
        "train_score = lr_model.score(train_xs,train_ys) #평가하시오.\n",
        "test_score = lr_model.score(test_xs,test_ys) #평가하시오.\n",
        "train_score,test_score"
      ],
      "metadata": {
        "colab": {
          "base_uri": "https://localhost:8080/"
        },
        "id": "bOL0aT1zSTCc",
        "outputId": "939c3839-9d06-46ec-f2c8-7e93d6378e2a"
      },
      "execution_count": 40,
      "outputs": [
        {
          "output_type": "execute_result",
          "data": {
            "text/plain": [
              "(0.7896401634807699, 0.8101422823048724)"
            ]
          },
          "metadata": {},
          "execution_count": 40
        }
      ]
    },
    {
      "cell_type": "markdown",
      "source": [
        "![image.png](data:image/png;base64,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)"
      ],
      "metadata": {
        "id": "Ki8b978NXMcG"
      }
    },
    {
      "cell_type": "markdown",
      "source": [
        "SSR에 사용한 값은 평균과 예측값"
      ],
      "metadata": {
        "id": "A8B6FHurXNBQ"
      }
    },
    {
      "cell_type": "code",
      "source": [
        "from sklearn.neighbors import KNeighborsRegressor\n",
        "knr_model = KNeighborsRegressor() # 모델 개체 생성\n",
        "knr_model.fit(xs,ys) #학습\n",
        "pred_val2 =knr_model.predict(txs) #예측하시오.\n",
        "pred_val2"
      ],
      "metadata": {
        "colab": {
          "base_uri": "https://localhost:8080/"
        },
        "id": "1_SYFlZkW_Rv",
        "outputId": "24da9854-3b4b-4917-d65a-133c8e686b14"
      },
      "execution_count": 41,
      "outputs": [
        {
          "output_type": "execute_result",
          "data": {
            "text/plain": [
              "array([160.57199274, 167.6723863 , 177.06912016, 178.08036612,\n",
              "       194.55344896])"
            ]
          },
          "metadata": {},
          "execution_count": 41
        }
      ]
    },
    {
      "cell_type": "code",
      "source": [
        "lr_model = LinearRegression() #모델 개체 생성\n",
        "lr_model.fit(xs,ys) #학습\n",
        "train_score = lr_model.score(train_xs,train_ys) #평가하시오.\n",
        "test_score = lr_model.score(test_xs,test_ys) #평가하시오.\n",
        "train_score,test_score"
      ],
      "metadata": {
        "colab": {
          "base_uri": "https://localhost:8080/"
        },
        "id": "OPii5l9yYehQ",
        "outputId": "d6ee8084-8e97-4004-b413-3aad79367552"
      },
      "execution_count": 54,
      "outputs": [
        {
          "output_type": "execute_result",
          "data": {
            "text/plain": [
              "(0.7896401634807699, 0.8101422823048724)"
            ]
          },
          "metadata": {},
          "execution_count": 54
        }
      ]
    },
    {
      "cell_type": "code",
      "source": [
        "from sklearn.neighbors import KNeighborsRegressor\n",
        "knr_model = KNeighborsRegressor() #모델 개체 생성\n",
        "knr_model.fit(xs, ys) #학습\n",
        "train_score = knr_model.score(train_xs,train_ys) #평가하시오.\n",
        "test_score = knr_model.score(test_xs,test_ys) #평가하시오.\n",
        "train_score, test_score"
      ],
      "metadata": {
        "colab": {
          "base_uri": "https://localhost:8080/"
        },
        "id": "klLVx6GkXkF5",
        "outputId": "d7264396-9c9e-44db-c463-5ed092292aac"
      },
      "execution_count": 55,
      "outputs": [
        {
          "output_type": "execute_result",
          "data": {
            "text/plain": [
              "(0.8330935765070254, 0.8500390734288845)"
            ]
          },
          "metadata": {},
          "execution_count": 55
        }
      ]
    },
    {
      "cell_type": "markdown",
      "source": [
        "Knn에서 주의할 점"
      ],
      "metadata": {
        "id": "c7t3DpD3YssT"
      }
    },
    {
      "cell_type": "code",
      "source": [
        "pv1 = lr_model.predict([[35],[82],[85],[90],[100],[108],[120],[130]])\n",
        "pv2 = knr_model.predict([[35],[82],[85],[90],[100],[108],[120],[130]])\n",
        "pv1,pv2"
      ],
      "metadata": {
        "colab": {
          "base_uri": "https://localhost:8080/"
        },
        "id": "czWlUuW-YxJX",
        "outputId": "af63cc79-f48a-45fa-bba2-9437a2d5d311"
      },
      "execution_count": 56,
      "outputs": [
        {
          "output_type": "execute_result",
          "data": {
            "text/plain": [
              "(array([142.15944857, 193.61005921, 196.89414074, 202.36760996,\n",
              "        213.31454839, 222.07209914, 235.20842526, 246.15536369]),\n",
              " array([152.69924923, 192.05449821, 194.15713206, 194.55344896,\n",
              "        194.55344896, 194.55344896, 194.55344896, 194.55344896]))"
            ]
          },
          "metadata": {},
          "execution_count": 56
        }
      ]
    },
    {
      "cell_type": "code",
      "source": [
        "weights.max()"
      ],
      "metadata": {
        "colab": {
          "base_uri": "https://localhost:8080/"
        },
        "id": "Jw9HVHhTZ_nN",
        "outputId": "d2fe6c5c-994b-4af0-fa53-608ddb0ecc67"
      },
      "execution_count": 48,
      "outputs": [
        {
          "output_type": "execute_result",
          "data": {
            "text/plain": [
              "88.91137884162033"
            ]
          },
          "metadata": {},
          "execution_count": 48
        }
      ]
    },
    {
      "cell_type": "code",
      "source": [
        "plt.figure(figsize=(10,5))\n",
        "plt.plot(heights,weights,'.')\n",
        "plt.plot([141.54,194.43,197.81,203.44,214.69,223.69,237.20,248.45],[35,82,85,90,100,108,120,130],'bo',label='lr')\n",
        "plt.plot([157.05,190.43,190.83,190.83,190.38,190.38,190.38,190.38],[35,82,85,90,100,108,120,130],'r^',label='knr')\n",
        "plt.xlabel(\"height\")\n",
        "plt.ylabel(\"weight\")\n",
        "plt.xlim(0,250)\n",
        "plt.ylim(0,135)\n",
        "plt.grid(True)\n",
        "plt.legend()\n",
        "plt.show()"
      ],
      "metadata": {
        "colab": {
          "base_uri": "https://localhost:8080/",
          "height": 334
        },
        "id": "JXVtejTAabml",
        "outputId": "dc980359-f416-45a5-8310-ed930bbad39a"
      },
      "execution_count": 57,
      "outputs": [
        {
          "output_type": "display_data",
          "data": {
            "image/png": "[encoded data removed]",
            "text/plain": [
              "<Figure size 720x360 with 1 Axes>"
            ]
          },
          "metadata": {
            "needs_background": "light"
          }
        }
      ]
    }
  ]
}