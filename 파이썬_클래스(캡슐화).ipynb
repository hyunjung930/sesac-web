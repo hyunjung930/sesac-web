{
  "nbformat": 4,
  "nbformat_minor": 0,
  "metadata": {
    "colab": {
      "name": "파이썬 -클래스(캡슐화).ipynb",
      "provenance": [],
      "authorship_tag": "ABX9TyNC45L0sL1vH6zyFG7cpuZ4",
      "include_colab_link": true
    },
    "kernelspec": {
      "name": "python3",
      "display_name": "Python 3"
    },
    "language_info": {
      "name": "python"
    }
  },
  "cells": [
    {
      "cell_type": "markdown",
      "metadata": {
        "id": "view-in-github",
        "colab_type": "text"
      },
      "source": [
        "<a href=\"https://colab.research.google.com/github/hyunjung930/sesac-web/blob/main/%ED%8C%8C%EC%9D%B4%EC%8D%AC_%ED%81%B4%EB%9E%98%EC%8A%A4(%EC%BA%A1%EC%8A%90%ED%99%94).ipynb\" target=\"_parent\"><img src=\"https://colab.research.google.com/assets/colab-badge.svg\" alt=\"Open In Colab\"/></a>"
      ]
    },
    {
      "cell_type": "markdown",
      "source": [
        "# 구조체 캡슐화\n",
        "\n",
        "데이터를 멤버로 구성하는 캡슐화\n",
        "\n",
        "절차식 언어에서 캡슐화하는 방법(멤버 데이터만 멤버로 구성)"
      ],
      "metadata": {
        "id": "Tea7PjxvRGp0"
      }
    },
    {
      "cell_type": "code",
      "execution_count": 1,
      "metadata": {
        "id": "H9LKU8yeI8Pd"
      },
      "outputs": [],
      "source": [
        "from dataclasses import dataclass\n",
        "@dataclass\n",
        "class Product:\n",
        "  weight: int = None # weight:형식이름 \n",
        "  price: int = None"
      ]
    },
    {
      "cell_type": "code",
      "source": [
        "pen = Product()\n",
        "pen.weight = 100\n",
        "pen.price = 1000\n",
        "print(\"무게:\", pen.weight, \"가격:\", pen.price )"
      ],
      "metadata": {
        "colab": {
          "base_uri": "https://localhost:8080/"
        },
        "id": "R77eXPn3RjJN",
        "outputId": "2547740f-f8c3-4e78-d57b-70f49db9cfd7"
      },
      "execution_count": 3,
      "outputs": [
        {
          "output_type": "stream",
          "name": "stdout",
          "text": [
            "무게: 100 가격: 1000\n"
          ]
        }
      ]
    },
    {
      "cell_type": "markdown",
      "source": [
        "#클래스 캡슐화\n",
        "\n",
        "멤버 데이터와 멤버 메서드를 캡슐화 할 수 있다.\n",
        "\n",
        "OOPL에서 캡슐화 하는 방법"
      ],
      "metadata": {
        "id": "pD7NhNRBSvX3"
      }
    },
    {
      "cell_type": "code",
      "source": [
        "class Student:\n",
        "  def __init__(self,num,name): # __init__ : 함수가 만들어질 때 수행하는 함수 \n",
        "    self.num = num\n",
        "    self.name = name\n",
        "    self.iq=0\n",
        "  def introduce(self):\n",
        "    print(f\"번호는 {self.num}, 이름은 {self.name} 비밀인데 아이큐는 {self.iq}\")\n",
        "  def study(self):\n",
        "    self.iq += 1\n",
        "    print(f\"{self.name}공부합니다. 끄적끄적\")"
      ],
      "metadata": {
        "id": "yCuAwHaDS5km"
      },
      "execution_count": 8,
      "outputs": []
    },
    {
      "cell_type": "code",
      "source": [
        "s1 = Student(1,\"홍길동\") # 멤버이름__은 접근 불가\n",
        "s1.introduce()\n",
        "s1.study()\n",
        "s1.study()\n",
        "s1.study()\n",
        "s1.introduce()"
      ],
      "metadata": {
        "colab": {
          "base_uri": "https://localhost:8080/"
        },
        "id": "deKsJ4PNT-1S",
        "outputId": "82bef7e8-9f83-4f48-9664-83fd87681dd4"
      },
      "execution_count": 10,
      "outputs": [
        {
          "output_type": "stream",
          "name": "stdout",
          "text": [
            "번호는 1, 이름은 홍길동 비밀인데 아이큐는 0\n",
            "홍길동공부합니다. 끄적끄적\n",
            "홍길동공부합니다. 끄적끄적\n",
            "홍길동공부합니다. 끄적끄적\n",
            "번호는 1, 이름은 홍길동 비밀인데 아이큐는 3\n"
          ]
        }
      ]
    },
    {
      "cell_type": "markdown",
      "source": [
        "#정보 은닉\n",
        "\n",
        "캡슐화 과정에서 특정 멤버의 가시성을 차단하는 방법\n",
        "\n",
        "사용하는 곳에서 직접 사용하지 못하며 형식 내부에서만 사용하게 하는 기법\n",
        "\n",
        "데이터 신뢰성을 높이는 방법으로 사용한다. "
      ],
      "metadata": {
        "id": "OvJm1J5_U6q5"
      }
    },
    {
      "cell_type": "code",
      "source": [
        "# 시나리오 S:\n",
        "#  학생이 연속으로 5회 공부하면 아이큐가 1 올라간다.\n",
        "class Student:\n",
        "  def __init__(self,name):\n",
        "    self.name = name\n",
        "    self.iq = 100\n",
        "    self.__scnt = 0 #연속으로 공부한 횟수\n",
        "  def study(self):\n",
        "    self.__scnt +=1\n",
        "    if self.__scnt == 5:\n",
        "      self.iq +=1\n",
        "      self.__scnt =0\n",
        "  def introduce(self):\n",
        "    print(f\"이름은 {self.name} 비밀인데 아이큐는 {self.iq}  정말 비밀인데 scnt: {self.__scnt}\")"
      ],
      "metadata": {
        "id": "69PKnSLzVnZ6"
      },
      "execution_count": 21,
      "outputs": []
    },
    {
      "cell_type": "code",
      "source": [
        "s1 = Student(\"제갈길동\") # 멤버이름__은 접근 불가\n",
        "s1.introduce()\n",
        "s1.study()\n",
        "s1.study()\n",
        "s1.study()\n",
        "s1.study()\n",
        "s1.study()\n",
        "#print(s1.iq) 정보 은닉한 멤버에 접근 할 수 없다.\n",
        "s1.introduce()"
      ],
      "metadata": {
        "colab": {
          "base_uri": "https://localhost:8080/"
        },
        "id": "79c5SGdpWx1v",
        "outputId": "650ee544-af79-4f94-cc3b-920fec6bf044"
      },
      "execution_count": 22,
      "outputs": [
        {
          "output_type": "stream",
          "name": "stdout",
          "text": [
            "이름은 제갈길동 비밀인데 아이큐는 100  정말 비밀인데 scnt: 0\n",
            "이름은 제갈길동 비밀인데 아이큐는 101  정말 비밀인데 scnt: 0\n"
          ]
        }
      ]
    },
    {
      "cell_type": "markdown",
      "source": [
        "# 특별한 멤버 - 생성자, 소멸자\n",
        "\n",
        "개체를 생성할 때 생성자(__init__)를 호출한다.\n",
        "\n",
        "해당 개체를 소멸하는 것은 가비지 수집기가 알아서 수행한다.\n",
        "(c,c++ 에서는 개발자가 직접 소멸시켜야 하는 부담이 있다. )"
      ],
      "metadata": {
        "id": "jSaKCn1FX9QW"
      }
    },
    {
      "cell_type": "code",
      "source": [
        "# 시나리오 S:   # 비쥬얼 스튜디오 코드로 진행 \n",
        "#  학생이 연속으로 5회 공부하면 아이큐가 1 올라간다.\n",
        "#  해당 개체를 수거해 간다. \n",
        "class Student:\n",
        "  def __init__(self):\n",
        "    print(\"__init__\")\n",
        "  def __del__(self):\n",
        "    print(\"__del__\")"
      ],
      "metadata": {
        "id": "CZbZPcGVYBkt"
      },
      "execution_count": 27,
      "outputs": []
    },
    {
      "cell_type": "code",
      "source": [
        "print(\"==1==\")\n",
        "s1 = Student()\n",
        "print(\"==2==\")\n",
        "s2 = Student()\n",
        "print(\"==3==\")\n",
        "exit(0)"
      ],
      "metadata": {
        "colab": {
          "base_uri": "https://localhost:8080/"
        },
        "id": "nVacwN9qYW5T",
        "outputId": "73088650-f468-42b4-e29b-26b1ca665ab9"
      },
      "execution_count": 28,
      "outputs": [
        {
          "output_type": "stream",
          "name": "stdout",
          "text": [
            "==1==\n",
            "__init__\n",
            "==2==\n",
            "__init__\n",
            "==3==\n"
          ]
        }
      ]
    },
    {
      "cell_type": "markdown",
      "source": [
        "# 데이터 신뢰성을 높이는 멤버 - 설정자, 접근자\n",
        "\n",
        "멤버 필드의 가시성을 차단하고 필요하면 설정자와 접근자를 제공하자.\n",
        "\n",
        "설정자 - 멤버 필드에 값을 설정하는 메서드, set__멤버필드명\n",
        "\n",
        "접근자 - 멤버 필드에 값을 확인하는 메서드, get__멤버필드명"
      ],
      "metadata": {
        "id": "2N3JORdZafXh"
      }
    },
    {
      "cell_type": "code",
      "source": [
        "class Student:\n",
        "  def __init__(self,name,num): # 생성자 메서드\n",
        "    self.__name = name\n",
        "    self.__num = num\n",
        "    self.__korea = 0\n",
        "    self.__eng = 0\n",
        "    self.__math =0\n",
        "  def get_name(self): # get_name: 접근자\n",
        "    return self.__name\n",
        "  def get_num(self):\n",
        "    return self.__num\n",
        "  def set_korea(self,score):\n",
        "    self.__korea = score\n",
        "  def set_eng(self,score):\n",
        "    self.__eng = score\n",
        "  def set_math(self,score):\n",
        "    self.__math = score\n",
        "  def get_korea(self):\n",
        "    return self.__korea\n",
        "  def get_eng(self):\n",
        "    return self.__name\n",
        "  def get_math(self):\n",
        "    return self.__math\n",
        "  def tostr(self):\n",
        "    return f\"이름 : {self.__name} 번호 : {self.__num} 국어 : {self.__korea} 영어 : {self.__eng} 수학 : {self.__math}\"\n"
      ],
      "metadata": {
        "id": "MgJuD461bBuP"
      },
      "execution_count": 1,
      "outputs": []
    },
    {
      "cell_type": "code",
      "source": [
        "s1 = Student(\"홍길동\",3)\n",
        "print(s1.tostr())\n",
        "s1.set_korea(90)\n",
        "s1.set_eng(100)\n",
        "s1.set_math(89)\n",
        "print(s1.tostr())"
      ],
      "metadata": {
        "colab": {
          "base_uri": "https://localhost:8080/"
        },
        "id": "sHJby7adfl6s",
        "outputId": "6a2d40e9-d9f7-4adf-df47-88620f83f05a"
      },
      "execution_count": 2,
      "outputs": [
        {
          "output_type": "stream",
          "name": "stdout",
          "text": [
            "이름 : 홍길동 번호 : 3 국어 : 0 영어 : 0 수학 : 0\n",
            "이름 : 홍길동 번호 : 3 국어 : 90 영어 : 100 수학 : 89\n"
          ]
        }
      ]
    }
  ]
}